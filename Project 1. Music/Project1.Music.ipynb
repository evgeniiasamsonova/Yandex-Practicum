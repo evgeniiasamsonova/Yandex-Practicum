{
 "cells": [
  {
   "cell_type": "markdown",
   "metadata": {
    "id": "E0vqbgi9ay0H"
   },
   "source": [
    "# Яндекс.Музыка"
   ]
  },
  {
   "cell_type": "markdown",
   "metadata": {
    "id": "VUC88oWjTJw2"
   },
   "source": [
    "Сравнение Москвы и Петербурга окружено мифами. Например:\n",
    " * Москва — мегаполис, подчинённый жёсткому ритму рабочей недели;\n",
    " * Петербург — культурная столица, со своими вкусами.\n",
    "\n",
    "На данных Яндекс.Музыки вы сравните поведение пользователей двух столиц.\n",
    "\n",
    "**Цель исследования** — проверьте три гипотезы:\n",
    "1. Активность пользователей зависит от дня недели. Причём в Москве и Петербурге это проявляется по-разному.\n",
    "2. В понедельник утром в Москве преобладают одни жанры, а в Петербурге — другие. Так же и вечером пятницы преобладают разные жанры — в зависимости от города. \n",
    "3. Москва и Петербург предпочитают разные жанры музыки. В Москве чаще слушают поп-музыку, в Петербурге — русский рэп.\n",
    "\n",
    "**Ход исследования**\n",
    "\n",
    "Данные о поведении пользователей вы получите из файла `yandex_music_project.csv`. О качестве данных ничего не известно. Поэтому перед проверкой гипотез понадобится обзор данных. \n",
    "\n",
    "Вы проверите данные на ошибки и оцените их влияние на исследование. Затем, на этапе предобработки вы поищете возможность исправить самые критичные ошибки данных.\n",
    " \n",
    "Таким образом, исследование пройдёт в три этапа:\n",
    " 1. Обзор данных.\n",
    " 2. Предобработка данных.\n",
    " 3. Проверка гипотез.\n",
    "\n"
   ]
  },
  {
   "cell_type": "markdown",
   "metadata": {
    "id": "Ml1hmfXC_Zcs"
   },
   "source": [
    "## Обзор данных\n",
    "\n",
    "Составьте первое представление о данных Яндекс.Музыки.\n",
    "\n",
    "\n"
   ]
  },
  {
   "cell_type": "markdown",
   "metadata": {
    "id": "57eAOGIz_Zcs"
   },
   "source": [
    "Основной инструмент аналитика — `pandas`. Импортируйте эту библиотеку."
   ]
  },
  {
   "cell_type": "code",
   "execution_count": 2,
   "metadata": {
    "id": "AXN7PHPN_Zcs"
   },
   "outputs": [],
   "source": [
    "import pandas as pd"
   ]
  },
  {
   "cell_type": "code",
   "execution_count": 3,
   "metadata": {
    "id": "fFVu7vqh_Zct"
   },
   "outputs": [
    {
     "ename": "FileNotFoundError",
     "evalue": "[Errno 2] No such file or directory: '/datasets/yandex_music_project.csv'",
     "output_type": "error",
     "traceback": [
      "\u001b[0;31m---------------------------------------------------------------------------\u001b[0m",
      "\u001b[0;31mFileNotFoundError\u001b[0m                         Traceback (most recent call last)",
      "\u001b[0;32m/var/folders/s4/z75wck4x6x3cgvs1n81nzckw0000gn/T/ipykernel_87354/4240126058.py\u001b[0m in \u001b[0;36m<module>\u001b[0;34m\u001b[0m\n\u001b[1;32m      1\u001b[0m \u001b[0;32mimport\u001b[0m \u001b[0mpandas\u001b[0m \u001b[0;32mas\u001b[0m \u001b[0mpd\u001b[0m\u001b[0;34m\u001b[0m\u001b[0;34m\u001b[0m\u001b[0m\n\u001b[0;32m----> 2\u001b[0;31m \u001b[0mdf\u001b[0m \u001b[0;34m=\u001b[0m \u001b[0mpd\u001b[0m\u001b[0;34m.\u001b[0m\u001b[0mread_csv\u001b[0m\u001b[0;34m(\u001b[0m\u001b[0;34m'/datasets/yandex_music_project.csv'\u001b[0m\u001b[0;34m)\u001b[0m\u001b[0;31m# чтение файла с данными и сохранение в df\u001b[0m\u001b[0;34m\u001b[0m\u001b[0;34m\u001b[0m\u001b[0m\n\u001b[0m",
      "\u001b[0;32m/opt/anaconda3/lib/python3.9/site-packages/pandas/util/_decorators.py\u001b[0m in \u001b[0;36mwrapper\u001b[0;34m(*args, **kwargs)\u001b[0m\n\u001b[1;32m    309\u001b[0m                     \u001b[0mstacklevel\u001b[0m\u001b[0;34m=\u001b[0m\u001b[0mstacklevel\u001b[0m\u001b[0;34m,\u001b[0m\u001b[0;34m\u001b[0m\u001b[0;34m\u001b[0m\u001b[0m\n\u001b[1;32m    310\u001b[0m                 )\n\u001b[0;32m--> 311\u001b[0;31m             \u001b[0;32mreturn\u001b[0m \u001b[0mfunc\u001b[0m\u001b[0;34m(\u001b[0m\u001b[0;34m*\u001b[0m\u001b[0margs\u001b[0m\u001b[0;34m,\u001b[0m \u001b[0;34m**\u001b[0m\u001b[0mkwargs\u001b[0m\u001b[0;34m)\u001b[0m\u001b[0;34m\u001b[0m\u001b[0;34m\u001b[0m\u001b[0m\n\u001b[0m\u001b[1;32m    312\u001b[0m \u001b[0;34m\u001b[0m\u001b[0m\n\u001b[1;32m    313\u001b[0m         \u001b[0;32mreturn\u001b[0m \u001b[0mwrapper\u001b[0m\u001b[0;34m\u001b[0m\u001b[0;34m\u001b[0m\u001b[0m\n",
      "\u001b[0;32m/opt/anaconda3/lib/python3.9/site-packages/pandas/io/parsers/readers.py\u001b[0m in \u001b[0;36mread_csv\u001b[0;34m(filepath_or_buffer, sep, delimiter, header, names, index_col, usecols, squeeze, prefix, mangle_dupe_cols, dtype, engine, converters, true_values, false_values, skipinitialspace, skiprows, skipfooter, nrows, na_values, keep_default_na, na_filter, verbose, skip_blank_lines, parse_dates, infer_datetime_format, keep_date_col, date_parser, dayfirst, cache_dates, iterator, chunksize, compression, thousands, decimal, lineterminator, quotechar, quoting, doublequote, escapechar, comment, encoding, encoding_errors, dialect, error_bad_lines, warn_bad_lines, on_bad_lines, delim_whitespace, low_memory, memory_map, float_precision, storage_options)\u001b[0m\n\u001b[1;32m    584\u001b[0m     \u001b[0mkwds\u001b[0m\u001b[0;34m.\u001b[0m\u001b[0mupdate\u001b[0m\u001b[0;34m(\u001b[0m\u001b[0mkwds_defaults\u001b[0m\u001b[0;34m)\u001b[0m\u001b[0;34m\u001b[0m\u001b[0;34m\u001b[0m\u001b[0m\n\u001b[1;32m    585\u001b[0m \u001b[0;34m\u001b[0m\u001b[0m\n\u001b[0;32m--> 586\u001b[0;31m     \u001b[0;32mreturn\u001b[0m \u001b[0m_read\u001b[0m\u001b[0;34m(\u001b[0m\u001b[0mfilepath_or_buffer\u001b[0m\u001b[0;34m,\u001b[0m \u001b[0mkwds\u001b[0m\u001b[0;34m)\u001b[0m\u001b[0;34m\u001b[0m\u001b[0;34m\u001b[0m\u001b[0m\n\u001b[0m\u001b[1;32m    587\u001b[0m \u001b[0;34m\u001b[0m\u001b[0m\n\u001b[1;32m    588\u001b[0m \u001b[0;34m\u001b[0m\u001b[0m\n",
      "\u001b[0;32m/opt/anaconda3/lib/python3.9/site-packages/pandas/io/parsers/readers.py\u001b[0m in \u001b[0;36m_read\u001b[0;34m(filepath_or_buffer, kwds)\u001b[0m\n\u001b[1;32m    480\u001b[0m \u001b[0;34m\u001b[0m\u001b[0m\n\u001b[1;32m    481\u001b[0m     \u001b[0;31m# Create the parser.\u001b[0m\u001b[0;34m\u001b[0m\u001b[0;34m\u001b[0m\u001b[0m\n\u001b[0;32m--> 482\u001b[0;31m     \u001b[0mparser\u001b[0m \u001b[0;34m=\u001b[0m \u001b[0mTextFileReader\u001b[0m\u001b[0;34m(\u001b[0m\u001b[0mfilepath_or_buffer\u001b[0m\u001b[0;34m,\u001b[0m \u001b[0;34m**\u001b[0m\u001b[0mkwds\u001b[0m\u001b[0;34m)\u001b[0m\u001b[0;34m\u001b[0m\u001b[0;34m\u001b[0m\u001b[0m\n\u001b[0m\u001b[1;32m    483\u001b[0m \u001b[0;34m\u001b[0m\u001b[0m\n\u001b[1;32m    484\u001b[0m     \u001b[0;32mif\u001b[0m \u001b[0mchunksize\u001b[0m \u001b[0;32mor\u001b[0m \u001b[0miterator\u001b[0m\u001b[0;34m:\u001b[0m\u001b[0;34m\u001b[0m\u001b[0;34m\u001b[0m\u001b[0m\n",
      "\u001b[0;32m/opt/anaconda3/lib/python3.9/site-packages/pandas/io/parsers/readers.py\u001b[0m in \u001b[0;36m__init__\u001b[0;34m(self, f, engine, **kwds)\u001b[0m\n\u001b[1;32m    809\u001b[0m             \u001b[0mself\u001b[0m\u001b[0;34m.\u001b[0m\u001b[0moptions\u001b[0m\u001b[0;34m[\u001b[0m\u001b[0;34m\"has_index_names\"\u001b[0m\u001b[0;34m]\u001b[0m \u001b[0;34m=\u001b[0m \u001b[0mkwds\u001b[0m\u001b[0;34m[\u001b[0m\u001b[0;34m\"has_index_names\"\u001b[0m\u001b[0;34m]\u001b[0m\u001b[0;34m\u001b[0m\u001b[0;34m\u001b[0m\u001b[0m\n\u001b[1;32m    810\u001b[0m \u001b[0;34m\u001b[0m\u001b[0m\n\u001b[0;32m--> 811\u001b[0;31m         \u001b[0mself\u001b[0m\u001b[0;34m.\u001b[0m\u001b[0m_engine\u001b[0m \u001b[0;34m=\u001b[0m \u001b[0mself\u001b[0m\u001b[0;34m.\u001b[0m\u001b[0m_make_engine\u001b[0m\u001b[0;34m(\u001b[0m\u001b[0mself\u001b[0m\u001b[0;34m.\u001b[0m\u001b[0mengine\u001b[0m\u001b[0;34m)\u001b[0m\u001b[0;34m\u001b[0m\u001b[0;34m\u001b[0m\u001b[0m\n\u001b[0m\u001b[1;32m    812\u001b[0m \u001b[0;34m\u001b[0m\u001b[0m\n\u001b[1;32m    813\u001b[0m     \u001b[0;32mdef\u001b[0m \u001b[0mclose\u001b[0m\u001b[0;34m(\u001b[0m\u001b[0mself\u001b[0m\u001b[0;34m)\u001b[0m\u001b[0;34m:\u001b[0m\u001b[0;34m\u001b[0m\u001b[0;34m\u001b[0m\u001b[0m\n",
      "\u001b[0;32m/opt/anaconda3/lib/python3.9/site-packages/pandas/io/parsers/readers.py\u001b[0m in \u001b[0;36m_make_engine\u001b[0;34m(self, engine)\u001b[0m\n\u001b[1;32m   1038\u001b[0m             )\n\u001b[1;32m   1039\u001b[0m         \u001b[0;31m# error: Too many arguments for \"ParserBase\"\u001b[0m\u001b[0;34m\u001b[0m\u001b[0;34m\u001b[0m\u001b[0m\n\u001b[0;32m-> 1040\u001b[0;31m         \u001b[0;32mreturn\u001b[0m \u001b[0mmapping\u001b[0m\u001b[0;34m[\u001b[0m\u001b[0mengine\u001b[0m\u001b[0;34m]\u001b[0m\u001b[0;34m(\u001b[0m\u001b[0mself\u001b[0m\u001b[0;34m.\u001b[0m\u001b[0mf\u001b[0m\u001b[0;34m,\u001b[0m \u001b[0;34m**\u001b[0m\u001b[0mself\u001b[0m\u001b[0;34m.\u001b[0m\u001b[0moptions\u001b[0m\u001b[0;34m)\u001b[0m  \u001b[0;31m# type: ignore[call-arg]\u001b[0m\u001b[0;34m\u001b[0m\u001b[0;34m\u001b[0m\u001b[0m\n\u001b[0m\u001b[1;32m   1041\u001b[0m \u001b[0;34m\u001b[0m\u001b[0m\n\u001b[1;32m   1042\u001b[0m     \u001b[0;32mdef\u001b[0m \u001b[0m_failover_to_python\u001b[0m\u001b[0;34m(\u001b[0m\u001b[0mself\u001b[0m\u001b[0;34m)\u001b[0m\u001b[0;34m:\u001b[0m\u001b[0;34m\u001b[0m\u001b[0;34m\u001b[0m\u001b[0m\n",
      "\u001b[0;32m/opt/anaconda3/lib/python3.9/site-packages/pandas/io/parsers/c_parser_wrapper.py\u001b[0m in \u001b[0;36m__init__\u001b[0;34m(self, src, **kwds)\u001b[0m\n\u001b[1;32m     49\u001b[0m \u001b[0;34m\u001b[0m\u001b[0m\n\u001b[1;32m     50\u001b[0m         \u001b[0;31m# open handles\u001b[0m\u001b[0;34m\u001b[0m\u001b[0;34m\u001b[0m\u001b[0m\n\u001b[0;32m---> 51\u001b[0;31m         \u001b[0mself\u001b[0m\u001b[0;34m.\u001b[0m\u001b[0m_open_handles\u001b[0m\u001b[0;34m(\u001b[0m\u001b[0msrc\u001b[0m\u001b[0;34m,\u001b[0m \u001b[0mkwds\u001b[0m\u001b[0;34m)\u001b[0m\u001b[0;34m\u001b[0m\u001b[0;34m\u001b[0m\u001b[0m\n\u001b[0m\u001b[1;32m     52\u001b[0m         \u001b[0;32massert\u001b[0m \u001b[0mself\u001b[0m\u001b[0;34m.\u001b[0m\u001b[0mhandles\u001b[0m \u001b[0;32mis\u001b[0m \u001b[0;32mnot\u001b[0m \u001b[0;32mNone\u001b[0m\u001b[0;34m\u001b[0m\u001b[0;34m\u001b[0m\u001b[0m\n\u001b[1;32m     53\u001b[0m \u001b[0;34m\u001b[0m\u001b[0m\n",
      "\u001b[0;32m/opt/anaconda3/lib/python3.9/site-packages/pandas/io/parsers/base_parser.py\u001b[0m in \u001b[0;36m_open_handles\u001b[0;34m(self, src, kwds)\u001b[0m\n\u001b[1;32m    220\u001b[0m         \u001b[0mLet\u001b[0m \u001b[0mthe\u001b[0m \u001b[0mreaders\u001b[0m \u001b[0mopen\u001b[0m \u001b[0mIOHandles\u001b[0m \u001b[0mafter\u001b[0m \u001b[0mthey\u001b[0m \u001b[0mare\u001b[0m \u001b[0mdone\u001b[0m \u001b[0;32mwith\u001b[0m \u001b[0mtheir\u001b[0m \u001b[0mpotential\u001b[0m \u001b[0mraises\u001b[0m\u001b[0;34m.\u001b[0m\u001b[0;34m\u001b[0m\u001b[0;34m\u001b[0m\u001b[0m\n\u001b[1;32m    221\u001b[0m         \"\"\"\n\u001b[0;32m--> 222\u001b[0;31m         self.handles = get_handle(\n\u001b[0m\u001b[1;32m    223\u001b[0m             \u001b[0msrc\u001b[0m\u001b[0;34m,\u001b[0m\u001b[0;34m\u001b[0m\u001b[0;34m\u001b[0m\u001b[0m\n\u001b[1;32m    224\u001b[0m             \u001b[0;34m\"r\"\u001b[0m\u001b[0;34m,\u001b[0m\u001b[0;34m\u001b[0m\u001b[0;34m\u001b[0m\u001b[0m\n",
      "\u001b[0;32m/opt/anaconda3/lib/python3.9/site-packages/pandas/io/common.py\u001b[0m in \u001b[0;36mget_handle\u001b[0;34m(path_or_buf, mode, encoding, compression, memory_map, is_text, errors, storage_options)\u001b[0m\n\u001b[1;32m    700\u001b[0m         \u001b[0;32mif\u001b[0m \u001b[0mioargs\u001b[0m\u001b[0;34m.\u001b[0m\u001b[0mencoding\u001b[0m \u001b[0;32mand\u001b[0m \u001b[0;34m\"b\"\u001b[0m \u001b[0;32mnot\u001b[0m \u001b[0;32min\u001b[0m \u001b[0mioargs\u001b[0m\u001b[0;34m.\u001b[0m\u001b[0mmode\u001b[0m\u001b[0;34m:\u001b[0m\u001b[0;34m\u001b[0m\u001b[0;34m\u001b[0m\u001b[0m\n\u001b[1;32m    701\u001b[0m             \u001b[0;31m# Encoding\u001b[0m\u001b[0;34m\u001b[0m\u001b[0;34m\u001b[0m\u001b[0m\n\u001b[0;32m--> 702\u001b[0;31m             handle = open(\n\u001b[0m\u001b[1;32m    703\u001b[0m                 \u001b[0mhandle\u001b[0m\u001b[0;34m,\u001b[0m\u001b[0;34m\u001b[0m\u001b[0;34m\u001b[0m\u001b[0m\n\u001b[1;32m    704\u001b[0m                 \u001b[0mioargs\u001b[0m\u001b[0;34m.\u001b[0m\u001b[0mmode\u001b[0m\u001b[0;34m,\u001b[0m\u001b[0;34m\u001b[0m\u001b[0;34m\u001b[0m\u001b[0m\n",
      "\u001b[0;31mFileNotFoundError\u001b[0m: [Errno 2] No such file or directory: '/datasets/yandex_music_project.csv'"
     ]
    }
   ],
   "source": [
    "import pandas as pd\n",
    "df = pd.read_csv('/datasets/yandex_music_project.csv')"
   ]
  },
  {
   "cell_type": "markdown",
   "metadata": {
    "id": "rDoOMd3uTqnZ"
   },
   "source": [
    "Выведите на экран первые десять строк таблицы:"
   ]
  },
  {
   "cell_type": "code",
   "execution_count": null,
   "metadata": {
    "id": "oWTVX3gW_Zct"
   },
   "outputs": [],
   "source": [
    "df.head(10)"
   ]
  },
  {
   "cell_type": "markdown",
   "metadata": {},
   "source": [
    "Получение информации о таблице:\n"
   ]
  },
  {
   "cell_type": "code",
   "execution_count": 4,
   "metadata": {
    "id": "DSf2kIb-_Zct"
   },
   "outputs": [
    {
     "name": "stdout",
     "output_type": "stream",
     "text": [
      "<class 'pandas.core.frame.DataFrame'>\n",
      "RangeIndex: 65079 entries, 0 to 65078\n",
      "Data columns (total 7 columns):\n",
      "  userID    65079 non-null object\n",
      "Track       63848 non-null object\n",
      "artist      57876 non-null object\n",
      "genre       63881 non-null object\n",
      "  City      65079 non-null object\n",
      "time        65079 non-null object\n",
      "Day         65079 non-null object\n",
      "dtypes: object(7)\n",
      "memory usage: 3.5+ MB\n"
     ]
    }
   ],
   "source": [
    "df.info()"
   ]
  },
  {
   "cell_type": "markdown",
   "metadata": {
    "id": "TaQ2Iwbr_Zct"
   },
   "source": [
    "Итак, в таблице семь столбцов. Тип данных во всех столбцах — `object`.\n",
    "\n",
    "Согласно документации к данным:\n",
    "* `userID` — идентификатор пользователя;\n",
    "* `Track` — название трека;  \n",
    "* `artist` — имя исполнителя;\n",
    "* `genre` — название жанра;\n",
    "* `City` — город пользователя;\n",
    "* `time` — время начала прослушивания;\n",
    "* `Day` — день недели.\n",
    "\n",
    "В названиях колонок видны три нарушения стиля:\n",
    "1. Строчные буквы сочетаются с прописными.\n",
    "2. Встречаются пробелы.\n",
    "3. Найдите ещё одну проблему в названии колонок и опишите её в этом пункте. `В первом столбце 'userID' не применяется змеиный регистр.`\n",
    "\n",
    "\n",
    "\n",
    "Количество значений в столбцах различается. Значит, в данных есть пропущенные значения.\n"
   ]
  },
  {
   "cell_type": "markdown",
   "metadata": {
    "id": "MCB6-dXG_Zct"
   },
   "source": [
    "**Выводы**\n",
    "\n",
    "В каждой строке таблицы — данные о прослушанном треке. Часть колонок описывает саму композицию: название, исполнителя и жанр. Остальные данные рассказывают о пользователе: из какого он города, когда он слушал музыку. \n",
    "\n",
    "Предварительно можно утверждать, что, данных достаточно для проверки гипотез. Но встречаются пропуски в данных, а в названиях колонок — расхождения с хорошим стилем.\n",
    "\n",
    "Чтобы двигаться дальше, нужно устранить проблемы в данных."
   ]
  },
  {
   "cell_type": "markdown",
   "metadata": {
    "id": "SjYF6Ub9_Zct"
   },
   "source": [
    "## Предобработка данных\n",
    "Исправьте стиль в заголовках столбцов, исключите пропуски. Затем проверьте данные на дубликаты."
   ]
  },
  {
   "cell_type": "markdown",
   "metadata": {
    "id": "dIaKXr29_Zct"
   },
   "source": [
    "### Стиль заголовков\n",
    "Выведите на экран названия столбцов:"
   ]
  },
  {
   "cell_type": "code",
   "execution_count": 5,
   "metadata": {
    "id": "oKOTdF_Q_Zct"
   },
   "outputs": [
    {
     "data": {
      "text/plain": [
       "Index(['  userID', 'Track', 'artist', 'genre', '  City  ', 'time', 'Day'], dtype='object')"
      ]
     },
     "execution_count": 5,
     "metadata": {},
     "output_type": "execute_result"
    }
   ],
   "source": [
    "df.columns"
   ]
  },
  {
   "cell_type": "code",
   "execution_count": 6,
   "metadata": {
    "id": "ISlFqs5y_Zct"
   },
   "outputs": [],
   "source": [
    "df = df.rename(columns={'  userID':'user_id','Track':'track','  City  ':'city','Day':'day'})# переименование столбцов"
   ]
  },
  {
   "cell_type": "markdown",
   "metadata": {
    "id": "1dqbh00J_Zct"
   },
   "source": [
    "Проверьте результат. Для этого ещё раз выведите на экран названия столбцов:"
   ]
  },
  {
   "cell_type": "code",
   "execution_count": 7,
   "metadata": {
    "id": "d4NOAmTW_Zct"
   },
   "outputs": [
    {
     "data": {
      "text/plain": [
       "Index(['user_id', 'track', 'artist', 'genre', 'city', 'time', 'day'], dtype='object')"
      ]
     },
     "metadata": {},
     "output_type": "display_data"
    }
   ],
   "source": [
    "display(df.columns)"
   ]
  },
  {
   "cell_type": "markdown",
   "metadata": {
    "id": "5ISfbcfY_Zct"
   },
   "source": [
    "### Пропущенные значения"
   ]
  },
  {
   "cell_type": "code",
   "execution_count": 8,
   "metadata": {
    "id": "RskX29qr_Zct"
   },
   "outputs": [
    {
     "data": {
      "text/plain": [
       "user_id       0\n",
       "track      1231\n",
       "artist     7203\n",
       "genre      1198\n",
       "city          0\n",
       "time          0\n",
       "day           0\n",
       "dtype: int64"
      ]
     },
     "metadata": {},
     "output_type": "display_data"
    }
   ],
   "source": [
    "df = df.rename(columns={'  userID':'user_id','Track':'track','  City  ':'city','Day':'day'})\n",
    "missing_items = df.isna().sum()\n",
    "display(missing_items)# подсчёт пропусков"
   ]
  },
  {
   "cell_type": "markdown",
   "metadata": {
    "id": "qubhgnlO_Zct"
   },
   "source": [
    "Не все пропущенные значения влияют на исследование. Так в `track` и `artist` пропуски не важны для вашей работы. Достаточно заменить их явными обозначениями.\n",
    "\n",
    "Но пропуски в `genre` могут помешать сравнению музыкальных вкусов в Москве и Санкт-Петербурге. На практике было бы правильно установить причину пропусков и восстановить данные. Такой возможности нет в учебном проекте. Придётся:\n",
    "* заполнить и эти пропуски явными обозначениями,\n",
    "* оценить, насколько они повредят расчётам. "
   ]
  },
  {
   "cell_type": "markdown",
   "metadata": {
    "id": "fSv2laPA_Zct"
   },
   "source": [
    "Замените пропущенные значения в столбцах `track`, `artist` и `genre` на строку `'unknown'`. Для этого создайте список `columns_to_replace`, переберите его элементы циклом `for` и для каждого столбца выполните замену пропущенных значений:"
   ]
  },
  {
   "cell_type": "code",
   "execution_count": 9,
   "metadata": {
    "id": "KplB5qWs_Zct"
   },
   "outputs": [],
   "source": [
    "columns_to_replace = ['track','artist','genre']\n",
    "for column in columns_to_replace:\n",
    "    df[column]=df[column].fillna('unknown')\n",
    "    \n",
    "# перебор названий столбцов в цикле и замена пропущенных значений на 'unknown'"
   ]
  },
  {
   "cell_type": "markdown",
   "metadata": {
    "id": "Ilsm-MZo_Zct"
   },
   "source": [
    "Убедитесь, что в таблице не осталось пропусков. Для этого ещё раз посчитайте пропущенные значения."
   ]
  },
  {
   "cell_type": "code",
   "execution_count": 10,
   "metadata": {
    "id": "Tq4nYRX4_Zct"
   },
   "outputs": [
    {
     "data": {
      "text/plain": [
       "user_id    0\n",
       "track      0\n",
       "artist     0\n",
       "genre      0\n",
       "city       0\n",
       "time       0\n",
       "day        0\n",
       "dtype: int64"
      ]
     },
     "metadata": {},
     "output_type": "display_data"
    }
   ],
   "source": [
    "missing_items = df.isna().sum()\n",
    "display(missing_items)# подсчёт пропусков"
   ]
  },
  {
   "cell_type": "markdown",
   "metadata": {
    "id": "BWKRtBJ3_Zct"
   },
   "source": [
    "### Дубликаты\n",
    "Посчитайте явные дубликаты в таблице одной командой:"
   ]
  },
  {
   "cell_type": "code",
   "execution_count": 11,
   "metadata": {
    "id": "36eES_S0_Zct"
   },
   "outputs": [
    {
     "data": {
      "text/plain": [
       "3826"
      ]
     },
     "metadata": {},
     "output_type": "display_data"
    }
   ],
   "source": [
    "duplicated_df = df.duplicated().sum()# подсчёт явных дубликатов\n",
    "display(duplicated_df)\n"
   ]
  },
  {
   "cell_type": "markdown",
   "metadata": {
    "id": "Ot25h6XR_Zct"
   },
   "source": [
    "Вызовите специальный метод `pandas`, чтобы удалить явные дубликаты:"
   ]
  },
  {
   "cell_type": "code",
   "execution_count": 12,
   "metadata": {
    "id": "exFHq6tt_Zct"
   },
   "outputs": [
    {
     "data": {
      "text/html": [
       "<div>\n",
       "<style scoped>\n",
       "    .dataframe tbody tr th:only-of-type {\n",
       "        vertical-align: middle;\n",
       "    }\n",
       "\n",
       "    .dataframe tbody tr th {\n",
       "        vertical-align: top;\n",
       "    }\n",
       "\n",
       "    .dataframe thead th {\n",
       "        text-align: right;\n",
       "    }\n",
       "</style>\n",
       "<table border=\"1\" class=\"dataframe\">\n",
       "  <thead>\n",
       "    <tr style=\"text-align: right;\">\n",
       "      <th></th>\n",
       "      <th>user_id</th>\n",
       "      <th>track</th>\n",
       "      <th>artist</th>\n",
       "      <th>genre</th>\n",
       "      <th>city</th>\n",
       "      <th>time</th>\n",
       "      <th>day</th>\n",
       "    </tr>\n",
       "  </thead>\n",
       "  <tbody>\n",
       "    <tr>\n",
       "      <td>0</td>\n",
       "      <td>FFB692EC</td>\n",
       "      <td>Kamigata To Boots</td>\n",
       "      <td>The Mass Missile</td>\n",
       "      <td>rock</td>\n",
       "      <td>Saint-Petersburg</td>\n",
       "      <td>20:28:33</td>\n",
       "      <td>Wednesday</td>\n",
       "    </tr>\n",
       "    <tr>\n",
       "      <td>1</td>\n",
       "      <td>55204538</td>\n",
       "      <td>Delayed Because of Accident</td>\n",
       "      <td>Andreas Rönnberg</td>\n",
       "      <td>rock</td>\n",
       "      <td>Moscow</td>\n",
       "      <td>14:07:09</td>\n",
       "      <td>Friday</td>\n",
       "    </tr>\n",
       "    <tr>\n",
       "      <td>2</td>\n",
       "      <td>20EC38</td>\n",
       "      <td>Funiculì funiculà</td>\n",
       "      <td>Mario Lanza</td>\n",
       "      <td>pop</td>\n",
       "      <td>Saint-Petersburg</td>\n",
       "      <td>20:58:07</td>\n",
       "      <td>Wednesday</td>\n",
       "    </tr>\n",
       "    <tr>\n",
       "      <td>3</td>\n",
       "      <td>A3DD03C9</td>\n",
       "      <td>Dragons in the Sunset</td>\n",
       "      <td>Fire + Ice</td>\n",
       "      <td>folk</td>\n",
       "      <td>Saint-Petersburg</td>\n",
       "      <td>08:37:09</td>\n",
       "      <td>Monday</td>\n",
       "    </tr>\n",
       "    <tr>\n",
       "      <td>4</td>\n",
       "      <td>E2DC1FAE</td>\n",
       "      <td>Soul People</td>\n",
       "      <td>Space Echo</td>\n",
       "      <td>dance</td>\n",
       "      <td>Moscow</td>\n",
       "      <td>08:34:34</td>\n",
       "      <td>Monday</td>\n",
       "    </tr>\n",
       "    <tr>\n",
       "      <td>...</td>\n",
       "      <td>...</td>\n",
       "      <td>...</td>\n",
       "      <td>...</td>\n",
       "      <td>...</td>\n",
       "      <td>...</td>\n",
       "      <td>...</td>\n",
       "      <td>...</td>\n",
       "    </tr>\n",
       "    <tr>\n",
       "      <td>61248</td>\n",
       "      <td>729CBB09</td>\n",
       "      <td>My Name</td>\n",
       "      <td>McLean</td>\n",
       "      <td>rnb</td>\n",
       "      <td>Moscow</td>\n",
       "      <td>13:32:28</td>\n",
       "      <td>Wednesday</td>\n",
       "    </tr>\n",
       "    <tr>\n",
       "      <td>61249</td>\n",
       "      <td>D08D4A55</td>\n",
       "      <td>Maybe One Day (feat. Black Spade)</td>\n",
       "      <td>Blu &amp; Exile</td>\n",
       "      <td>hip</td>\n",
       "      <td>Saint-Petersburg</td>\n",
       "      <td>10:00:00</td>\n",
       "      <td>Monday</td>\n",
       "    </tr>\n",
       "    <tr>\n",
       "      <td>61250</td>\n",
       "      <td>C5E3A0D5</td>\n",
       "      <td>Jalopiina</td>\n",
       "      <td>unknown</td>\n",
       "      <td>industrial</td>\n",
       "      <td>Moscow</td>\n",
       "      <td>20:09:26</td>\n",
       "      <td>Friday</td>\n",
       "    </tr>\n",
       "    <tr>\n",
       "      <td>61251</td>\n",
       "      <td>321D0506</td>\n",
       "      <td>Freight Train</td>\n",
       "      <td>Chas McDevitt</td>\n",
       "      <td>rock</td>\n",
       "      <td>Moscow</td>\n",
       "      <td>21:43:59</td>\n",
       "      <td>Friday</td>\n",
       "    </tr>\n",
       "    <tr>\n",
       "      <td>61252</td>\n",
       "      <td>3A64EF84</td>\n",
       "      <td>Tell Me Sweet Little Lies</td>\n",
       "      <td>Monica Lopez</td>\n",
       "      <td>country</td>\n",
       "      <td>Moscow</td>\n",
       "      <td>21:59:46</td>\n",
       "      <td>Friday</td>\n",
       "    </tr>\n",
       "  </tbody>\n",
       "</table>\n",
       "<p>61253 rows × 7 columns</p>\n",
       "</div>"
      ],
      "text/plain": [
       "        user_id                              track            artist  \\\n",
       "0      FFB692EC                  Kamigata To Boots  The Mass Missile   \n",
       "1      55204538        Delayed Because of Accident  Andreas Rönnberg   \n",
       "2        20EC38                  Funiculì funiculà       Mario Lanza   \n",
       "3      A3DD03C9              Dragons in the Sunset        Fire + Ice   \n",
       "4      E2DC1FAE                        Soul People        Space Echo   \n",
       "...         ...                                ...               ...   \n",
       "61248  729CBB09                            My Name            McLean   \n",
       "61249  D08D4A55  Maybe One Day (feat. Black Spade)       Blu & Exile   \n",
       "61250  C5E3A0D5                          Jalopiina           unknown   \n",
       "61251  321D0506                      Freight Train     Chas McDevitt   \n",
       "61252  3A64EF84          Tell Me Sweet Little Lies      Monica Lopez   \n",
       "\n",
       "            genre              city      time        day  \n",
       "0            rock  Saint-Petersburg  20:28:33  Wednesday  \n",
       "1            rock            Moscow  14:07:09     Friday  \n",
       "2             pop  Saint-Petersburg  20:58:07  Wednesday  \n",
       "3            folk  Saint-Petersburg  08:37:09     Monday  \n",
       "4           dance            Moscow  08:34:34     Monday  \n",
       "...           ...               ...       ...        ...  \n",
       "61248         rnb            Moscow  13:32:28  Wednesday  \n",
       "61249         hip  Saint-Petersburg  10:00:00     Monday  \n",
       "61250  industrial            Moscow  20:09:26     Friday  \n",
       "61251        rock            Moscow  21:43:59     Friday  \n",
       "61252     country            Moscow  21:59:46     Friday  \n",
       "\n",
       "[61253 rows x 7 columns]"
      ]
     },
     "metadata": {},
     "output_type": "display_data"
    }
   ],
   "source": [
    "df = df.drop_duplicates().reset_index(drop=True)\n",
    "display(df)"
   ]
  },
  {
   "cell_type": "markdown",
   "metadata": {
    "id": "Im2YwBEG_Zct"
   },
   "source": [
    "Ещё раз посчитайте явные дубликаты в таблице — убедитесь, что полностью от них избавились:"
   ]
  },
  {
   "cell_type": "code",
   "execution_count": 13,
   "metadata": {
    "id": "-8PuNWQ0_Zct"
   },
   "outputs": [
    {
     "data": {
      "text/plain": [
       "0"
      ]
     },
     "metadata": {},
     "output_type": "display_data"
    }
   ],
   "source": [
    "missing_items = df.isna().sum()\n",
    "df = df.drop_duplicates().reset_index(drop=True)\n",
    "duplicated_df = df.duplicated().sum()\n",
    "display(duplicated_df)\n",
    "\n",
    "# проверка на отсутствие дубликатов"
   ]
  },
  {
   "cell_type": "markdown",
   "metadata": {
    "id": "QlFBsxAr_Zct"
   },
   "source": [
    "Теперь избавьтесь от неявных дубликатов в колонке `genre`. Например, название одного и того же жанра может быть записано немного по-разному. Такие ошибки тоже повлияют на результат исследования."
   ]
  },
  {
   "cell_type": "markdown",
   "metadata": {
    "id": "eSjWwsOh_Zct"
   },
   "source": [
    "Выведите на экран список уникальных названий жанров, отсортированный в алфавитном порядке. Для этого:\n",
    "* извлеките нужный столбец датафрейма, \n",
    "* примените к нему метод сортировки,\n",
    "* для отсортированного столбца вызовите метод, который вернёт уникальные значения из столбца."
   ]
  },
  {
   "cell_type": "code",
   "execution_count": 14,
   "metadata": {
    "id": "JIUcqzZN_Zct"
   },
   "outputs": [
    {
     "data": {
      "text/plain": [
       "array(['acid', 'acoustic', 'action', 'adult', 'africa', 'afrikaans',\n",
       "       'alternative', 'alternativepunk', 'ambient', 'americana',\n",
       "       'animated', 'anime', 'arabesk', 'arabic', 'arena',\n",
       "       'argentinetango', 'art', 'audiobook', 'author', 'avantgarde',\n",
       "       'axé', 'baile', 'balkan', 'beats', 'bigroom', 'black', 'bluegrass',\n",
       "       'blues', 'bollywood', 'bossa', 'brazilian', 'breakbeat', 'breaks',\n",
       "       'broadway', 'cantautori', 'cantopop', 'canzone', 'caribbean',\n",
       "       'caucasian', 'celtic', 'chamber', 'chanson', 'children', 'chill',\n",
       "       'chinese', 'choral', 'christian', 'christmas', 'classical',\n",
       "       'classicmetal', 'club', 'colombian', 'comedy', 'conjazz',\n",
       "       'contemporary', 'country', 'cuban', 'dance', 'dancehall',\n",
       "       'dancepop', 'dark', 'death', 'deep', 'deutschrock', 'deutschspr',\n",
       "       'dirty', 'disco', 'dnb', 'documentary', 'downbeat', 'downtempo',\n",
       "       'drum', 'dub', 'dubstep', 'eastern', 'easy', 'electronic',\n",
       "       'electropop', 'emo', 'entehno', 'epicmetal', 'estrada', 'ethnic',\n",
       "       'eurofolk', 'european', 'experimental', 'extrememetal', 'fado',\n",
       "       'fairytail', 'film', 'fitness', 'flamenco', 'folk', 'folklore',\n",
       "       'folkmetal', 'folkrock', 'folktronica', 'forró', 'frankreich',\n",
       "       'französisch', 'french', 'funk', 'future', 'gangsta', 'garage',\n",
       "       'german', 'ghazal', 'gitarre', 'glitch', 'gospel', 'gothic',\n",
       "       'grime', 'grunge', 'gypsy', 'handsup', \"hard'n'heavy\", 'hardcore',\n",
       "       'hardstyle', 'hardtechno', 'hip', 'hip-hop', 'hiphop',\n",
       "       'historisch', 'holiday', 'hop', 'horror', 'house', 'hymn', 'idm',\n",
       "       'independent', 'indian', 'indie', 'indipop', 'industrial',\n",
       "       'inspirational', 'instrumental', 'international', 'irish', 'jam',\n",
       "       'japanese', 'jazz', 'jewish', 'jpop', 'jungle', 'k-pop',\n",
       "       'karadeniz', 'karaoke', 'kayokyoku', 'korean', 'laiko', 'latin',\n",
       "       'latino', 'leftfield', 'local', 'lounge', 'loungeelectronic',\n",
       "       'lovers', 'malaysian', 'mandopop', 'marschmusik', 'meditative',\n",
       "       'mediterranean', 'melodic', 'metal', 'metalcore', 'mexican',\n",
       "       'middle', 'minimal', 'miscellaneous', 'modern', 'mood', 'mpb',\n",
       "       'muslim', 'native', 'neoklassik', 'neue', 'new', 'newage',\n",
       "       'newwave', 'nu', 'nujazz', 'numetal', 'oceania', 'old', 'opera',\n",
       "       'orchestral', 'other', 'piano', 'podcasts', 'pop', 'popdance',\n",
       "       'popelectronic', 'popeurodance', 'poprussian', 'post',\n",
       "       'posthardcore', 'postrock', 'power', 'progmetal', 'progressive',\n",
       "       'psychedelic', 'punjabi', 'punk', 'quebecois', 'ragga', 'ram',\n",
       "       'rancheras', 'rap', 'rave', 'reggae', 'reggaeton', 'regional',\n",
       "       'relax', 'religious', 'retro', 'rhythm', 'rnb', 'rnr', 'rock',\n",
       "       'rockabilly', 'rockalternative', 'rockindie', 'rockother',\n",
       "       'romance', 'roots', 'ruspop', 'rusrap', 'rusrock', 'russian',\n",
       "       'salsa', 'samba', 'scenic', 'schlager', 'self', 'sertanejo',\n",
       "       'shanson', 'shoegazing', 'showtunes', 'singer', 'ska', 'skarock',\n",
       "       'slow', 'smooth', 'soft', 'soul', 'soulful', 'sound', 'soundtrack',\n",
       "       'southern', 'specialty', 'speech', 'spiritual', 'sport',\n",
       "       'stonerrock', 'surf', 'swing', 'synthpop', 'synthrock',\n",
       "       'sängerportrait', 'tango', 'tanzorchester', 'taraftar', 'tatar',\n",
       "       'tech', 'techno', 'teen', 'thrash', 'top', 'traditional',\n",
       "       'tradjazz', 'trance', 'tribal', 'trip', 'triphop', 'tropical',\n",
       "       'türk', 'türkçe', 'ukrrock', 'unknown', 'urban', 'uzbek',\n",
       "       'variété', 'vi', 'videogame', 'vocal', 'western', 'world',\n",
       "       'worldbeat', 'ïîï', 'электроника'], dtype=object)"
      ]
     },
     "execution_count": 14,
     "metadata": {},
     "output_type": "execute_result"
    }
   ],
   "source": [
    "df['genre'].sort_values().unique()\n",
    "\n",
    "# Просмотр уникальных названий жанров"
   ]
  },
  {
   "cell_type": "code",
   "execution_count": 15,
   "metadata": {
    "id": "ErNDkmns_Zct"
   },
   "outputs": [],
   "source": [
    "def replace_wrong_genres(wrong_genres,correct_genre):\n",
    "     for wrong_genre in wrong_genres:\n",
    "        df['genre'] = df['genre'].replace(wrong_genres,correct_genre)\n",
    "# Функция для замены неявных дубликатов"
   ]
  },
  {
   "cell_type": "markdown",
   "metadata": {
    "id": "aDoBJxbA_Zct"
   },
   "source": [
    "Вызовите `replace_wrong_genres()` и передайте ей такие аргументы, чтобы она устранила неявные дубликаты: вместо `hip`, `hop` и `hip-hop` в таблице должно быть значение `hiphop`:"
   ]
  },
  {
   "cell_type": "code",
   "execution_count": 16,
   "metadata": {
    "id": "YN5i2hpmSo09"
   },
   "outputs": [],
   "source": [
    "replace_wrong_genres(['hip','hop','hip-hop'],'hiphop')\n",
    "replace_wrong_genres('электроника','electronic')\n",
    "# Устранение неявных дубликатов"
   ]
  },
  {
   "cell_type": "markdown",
   "metadata": {
    "id": "zQKF16_RG15m"
   },
   "source": [
    "Проверьте, что заменили неправильные названия:\n",
    "\n",
    "*   hip\n",
    "*   hop\n",
    "*   hip-hop\n",
    "\n",
    "Выведите отсортированный список уникальных значений столбца `genre`:"
   ]
  },
  {
   "cell_type": "code",
   "execution_count": 17,
   "metadata": {
    "id": "wvixALnFG15m"
   },
   "outputs": [
    {
     "ename": "NameError",
     "evalue": "name 'duplicates_hiphop' is not defined",
     "output_type": "error",
     "traceback": [
      "\u001b[0;31m---------------------------------------------------------------------------\u001b[0m",
      "\u001b[0;31mNameError\u001b[0m                                 Traceback (most recent call last)",
      "\u001b[0;32m<ipython-input-17-75713ee182d2>\u001b[0m in \u001b[0;36m<module>\u001b[0;34m\u001b[0m\n\u001b[0;32m----> 1\u001b[0;31m \u001b[0mreplace_wrong_genres\u001b[0m\u001b[0;34m(\u001b[0m\u001b[0mduplicates_hiphop\u001b[0m\u001b[0;34m,\u001b[0m\u001b[0mright_hiphop\u001b[0m\u001b[0;34m)\u001b[0m\u001b[0;34m\u001b[0m\u001b[0;34m\u001b[0m\u001b[0m\n\u001b[0m\u001b[1;32m      2\u001b[0m \u001b[0mreplace_wrong_genres\u001b[0m\u001b[0;34m(\u001b[0m\u001b[0mduplicates_electronic\u001b[0m\u001b[0;34m,\u001b[0m\u001b[0mright_electronic\u001b[0m\u001b[0;34m)\u001b[0m\u001b[0;34m\u001b[0m\u001b[0;34m\u001b[0m\u001b[0m\n\u001b[1;32m      3\u001b[0m \u001b[0mdf_genre_series\u001b[0m \u001b[0;34m=\u001b[0m \u001b[0mdf\u001b[0m\u001b[0;34m.\u001b[0m\u001b[0mloc\u001b[0m\u001b[0;34m[\u001b[0m\u001b[0;34m:\u001b[0m\u001b[0;34m,\u001b[0m\u001b[0;34m'genre'\u001b[0m\u001b[0;34m]\u001b[0m\u001b[0;34m\u001b[0m\u001b[0;34m\u001b[0m\u001b[0m\n\u001b[1;32m      4\u001b[0m \u001b[0mdf_sorted_unique_genres\u001b[0m \u001b[0;34m=\u001b[0m \u001b[0mdf_genre_series\u001b[0m\u001b[0;34m.\u001b[0m\u001b[0msort_values\u001b[0m\u001b[0;34m(\u001b[0m\u001b[0;34m)\u001b[0m\u001b[0;34m.\u001b[0m\u001b[0munique\u001b[0m\u001b[0;34m(\u001b[0m\u001b[0;34m)\u001b[0m\u001b[0;34m\u001b[0m\u001b[0;34m\u001b[0m\u001b[0m\n\u001b[1;32m      5\u001b[0m \u001b[0mdisplay\u001b[0m\u001b[0;34m(\u001b[0m\u001b[0mdf_sorted_unique_genres\u001b[0m\u001b[0;34m)\u001b[0m\u001b[0;34m\u001b[0m\u001b[0;34m\u001b[0m\u001b[0m\n",
      "\u001b[0;31mNameError\u001b[0m: name 'duplicates_hiphop' is not defined"
     ]
    }
   ],
   "source": [
    "replace_wrong_genres(duplicates_hiphop,right_hiphop)\n",
    "replace_wrong_genres(duplicates_electronic,right_electronic)\n",
    "df_genre_series = df.loc[:,'genre']\n",
    "df_sorted_unique_genres = df_genre_series.sort_values().unique()\n",
    "display(df_sorted_unique_genres)\n"
   ]
  },
  {
   "cell_type": "markdown",
   "metadata": {
    "id": "jz6a9-7HQUDd"
   },
   "source": [
    "**Выводы**\n",
    "\n",
    "Предобработка обнаружила три проблемы в данных:\n",
    "\n",
    "- нарушения в стиле заголовков,\n",
    "- пропущенные значения,\n",
    "- дубликаты — явные и неявные.\n",
    "\n",
    "Вы исправили заголовки, чтобы упростить работу с таблицей. Без дубликатов исследование станет более точным.\n",
    "\n",
    "Пропущенные значения вы заменили на `'unknown'`. Ещё предстоит увидеть, не повредят ли исследованию пропуски в колонке `genre`.\n",
    "\n",
    "Теперь можно перейти к проверке гипотез. "
   ]
  },
  {
   "cell_type": "markdown",
   "metadata": {
    "id": "WttZHXH0SqKk"
   },
   "source": [
    "## Проверка гипотез"
   ]
  },
  {
   "cell_type": "markdown",
   "metadata": {
    "id": "Im936VVi_Zcu"
   },
   "source": [
    "### Сравнение поведения пользователей двух столиц"
   ]
  },
  {
   "cell_type": "markdown",
   "metadata": {
    "id": "nwt_MuaL_Zcu"
   },
   "source": [
    "Первая гипотеза утверждает, что пользователи по-разному слушают музыку в Москве и Санкт-Петербурге. Проверьте это предположение по данным о трёх днях недели — понедельнике, среде и пятнице. Для этого:\n",
    "\n",
    "* Разделите пользователей Москвы и Санкт-Петербурга\n",
    "* Сравните, сколько треков послушала каждая группа пользователей в понедельник, среду и пятницу.\n"
   ]
  },
  {
   "cell_type": "markdown",
   "metadata": {
    "id": "8Dw_YMmT_Zcu"
   },
   "source": [
    "Для тренировки сначала выполните каждый из расчётов по отдельности. \n",
    "\n",
    "Оцените активность пользователей в каждом городе. Сгруппируйте данные по городу и посчитайте прослушивания в каждой группе.\n",
    "\n"
   ]
  },
  {
   "cell_type": "code",
   "execution_count": 18,
   "metadata": {
    "id": "0_Qs96oh_Zcu"
   },
   "outputs": [
    {
     "data": {
      "text/plain": [
       "city\n",
       "Moscow              42741\n",
       "Saint-Petersburg    18512\n",
       "Name: genre, dtype: int64"
      ]
     },
     "metadata": {},
     "output_type": "display_data"
    }
   ],
   "source": [
    "display(df.groupby('city')['genre'].count())\n",
    "# Подсчёт прослушиваний в каждом городе"
   ]
  },
  {
   "cell_type": "markdown",
   "metadata": {
    "id": "dzli3w8o_Zcu"
   },
   "source": [
    "В Москве прослушиваний больше, чем в Петербурге. Из этого не следует, что московские пользователи чаще слушают музыку. Просто самих пользователей в Москве больше.\n",
    "\n",
    "Теперь сгруппируйте данные по дню недели и подсчитайте прослушивания в понедельник, среду и пятницу. Учтите, что в данных есть информация только о прослушиваниях только за эти дни.\n"
   ]
  },
  {
   "cell_type": "code",
   "execution_count": 19,
   "metadata": {
    "id": "uZMKjiJz_Zcu"
   },
   "outputs": [
    {
     "data": {
      "text/plain": [
       "day\n",
       "Friday       21840\n",
       "Monday       21354\n",
       "Wednesday    18059\n",
       "Name: genre, dtype: int64"
      ]
     },
     "metadata": {},
     "output_type": "display_data"
    }
   ],
   "source": [
    "df_genre_series = df.loc[:,'genre']\n",
    "df_sorted_unique_genres = df_genre_series.sort_values().unique()\n",
    "\n",
    "df_days_series = df.loc[:,'day']\n",
    "df_sorted_unique_days = df_days_series.sort_values().unique()# Подсчёт прослушиваний в каждый из трёх дней\n",
    "display(df.groupby('day')['genre'].count())\n"
   ]
  },
  {
   "cell_type": "markdown",
   "metadata": {
    "id": "cC2tNrlL_Zcu"
   },
   "source": [
    "В среднем пользователи из двух городов менее активны по средам. Но картина может измениться, если рассмотреть каждый город в отдельности."
   ]
  },
  {
   "cell_type": "markdown",
   "metadata": {
    "id": "POzs8bGa_Zcu"
   },
   "source": [
    "Вы видели, как работает группировка по городу и по дням недели. Теперь напишите функцию, которая объединит два эти расчёта.\n",
    "\n",
    "Создайте функцию `number_tracks()`, которая посчитает прослушивания для заданного дня и города. Ей понадобятся два параметра:\n",
    "* день недели,\n",
    "* название города.\n",
    "\n",
    "В функции сохраните в переменную строки исходной таблицы, у которых значение:\n",
    "  * в колонке `day` равно параметру `day`,\n",
    "  * в колонке `city` равно параметру `city`.\n",
    "\n",
    "Для этого примените последовательную фильтрацию с логической индексацией.\n",
    "\n",
    "Затем посчитайте значения в столбце `user_id` получившейся таблицы. Результат сохраните в новую переменную. Верните эту переменную из функции."
   ]
  },
  {
   "cell_type": "code",
   "execution_count": 20,
   "metadata": {
    "id": "Nz3GdQB1_Zcu"
   },
   "outputs": [],
   "source": [
    "def number_tracks(day, city):\n",
    "    track_list = df[df['day'] == day] \n",
    "    track_list = track_list[track_list['city'] == city]\n",
    "    track_list_count = track_list['user_id'].count()\n",
    "    return track_list_count"
   ]
  },
  {
   "cell_type": "markdown",
   "metadata": {
    "id": "ytf7xFrFJQ2r"
   },
   "source": [
    "Вызовите `number_tracks()` шесть раз, меняя значение параметров — так, чтобы получить данные для каждого города в каждый из трёх дней."
   ]
  },
  {
   "cell_type": "code",
   "execution_count": 21,
   "metadata": {
    "id": "rJcRATNQ_Zcu"
   },
   "outputs": [
    {
     "data": {
      "text/plain": [
       "15740"
      ]
     },
     "execution_count": 21,
     "metadata": {},
     "output_type": "execute_result"
    }
   ],
   "source": [
    "number_tracks('Monday','Moscow')# количество прослушиваний в Москве по понедельникам"
   ]
  },
  {
   "cell_type": "code",
   "execution_count": 22,
   "metadata": {
    "id": "hq_ncZ5T_Zcu"
   },
   "outputs": [
    {
     "data": {
      "text/plain": [
       "5614"
      ]
     },
     "execution_count": 22,
     "metadata": {},
     "output_type": "execute_result"
    }
   ],
   "source": [
    "number_tracks('Monday','Saint-Petersburg')# количество прослушиваний в Санкт-Петербурге по понедельникам"
   ]
  },
  {
   "cell_type": "code",
   "execution_count": 23,
   "metadata": {
    "id": "_NTy2VPU_Zcu"
   },
   "outputs": [
    {
     "data": {
      "text/plain": [
       "11056"
      ]
     },
     "execution_count": 23,
     "metadata": {},
     "output_type": "execute_result"
    }
   ],
   "source": [
    "number_tracks('Wednesday','Moscow')# количество прослушиваний в Москве по средам"
   ]
  },
  {
   "cell_type": "code",
   "execution_count": 24,
   "metadata": {
    "id": "j2y3TAwo_Zcu"
   },
   "outputs": [
    {
     "data": {
      "text/plain": [
       "7003"
      ]
     },
     "execution_count": 24,
     "metadata": {},
     "output_type": "execute_result"
    }
   ],
   "source": [
    "number_tracks('Wednesday','Saint-Petersburg')# количество прослушиваний в Санкт-Петербурге по средам"
   ]
  },
  {
   "cell_type": "code",
   "execution_count": 25,
   "metadata": {
    "id": "vYDw5u_K_Zcu"
   },
   "outputs": [
    {
     "data": {
      "text/plain": [
       "15945"
      ]
     },
     "execution_count": 25,
     "metadata": {},
     "output_type": "execute_result"
    }
   ],
   "source": [
    "number_tracks('Friday','Moscow')# количество прослушиваний в Москве по пятницам"
   ]
  },
  {
   "cell_type": "code",
   "execution_count": 26,
   "metadata": {
    "id": "8_yzFtW3_Zcu"
   },
   "outputs": [
    {
     "data": {
      "text/plain": [
       "5895"
      ]
     },
     "execution_count": 26,
     "metadata": {},
     "output_type": "execute_result"
    }
   ],
   "source": [
    "number_tracks('Friday','Saint-Petersburg') #количество прослушиваний в Санкт-Петербурге по пятницам"
   ]
  },
  {
   "cell_type": "markdown",
   "metadata": {
    "id": "7QXffbO-_Zcu"
   },
   "source": [
    "Создайте c помощью конструктора `pd.DataFrame` таблицу, где\n",
    "* названия колонок — `['city', 'monday', 'wednesday', 'friday']`;\n",
    "* данные — результаты, которые вы получили с помощью `number_tracks`."
   ]
  },
  {
   "cell_type": "code",
   "execution_count": 27,
   "metadata": {
    "id": "APAcLpOr_Zcu"
   },
   "outputs": [
    {
     "data": {
      "text/html": [
       "<div>\n",
       "<style scoped>\n",
       "    .dataframe tbody tr th:only-of-type {\n",
       "        vertical-align: middle;\n",
       "    }\n",
       "\n",
       "    .dataframe tbody tr th {\n",
       "        vertical-align: top;\n",
       "    }\n",
       "\n",
       "    .dataframe thead th {\n",
       "        text-align: right;\n",
       "    }\n",
       "</style>\n",
       "<table border=\"1\" class=\"dataframe\">\n",
       "  <thead>\n",
       "    <tr style=\"text-align: right;\">\n",
       "      <th></th>\n",
       "      <th>city</th>\n",
       "      <th>monday</th>\n",
       "      <th>wednesday</th>\n",
       "      <th>friday</th>\n",
       "    </tr>\n",
       "  </thead>\n",
       "  <tbody>\n",
       "    <tr>\n",
       "      <td>0</td>\n",
       "      <td>Moscow</td>\n",
       "      <td>15740</td>\n",
       "      <td>11056</td>\n",
       "      <td>15945</td>\n",
       "    </tr>\n",
       "    <tr>\n",
       "      <td>1</td>\n",
       "      <td>Saint-Petersburg</td>\n",
       "      <td>5614</td>\n",
       "      <td>7003</td>\n",
       "      <td>5895</td>\n",
       "    </tr>\n",
       "  </tbody>\n",
       "</table>\n",
       "</div>"
      ],
      "text/plain": [
       "               city  monday  wednesday  friday\n",
       "0            Moscow   15740      11056   15945\n",
       "1  Saint-Petersburg    5614       7003    5895"
      ]
     },
     "metadata": {},
     "output_type": "display_data"
    }
   ],
   "source": [
    "city_day = [\n",
    "    ['Moscow',15740,11056,15945],\n",
    "    ['Saint-Petersburg',5614,7003,5895]\n",
    "]\n",
    "city_day_total = pd.DataFrame(data=city_day,columns=['city', 'monday', 'wednesday', 'friday'])\n",
    "display(city_day_total)# Таблица с результатами"
   ]
  },
  {
   "cell_type": "markdown",
   "metadata": {
    "id": "-EgPIHYu_Zcu"
   },
   "source": [
    "**Выводы**\n",
    "\n",
    "Данные показывают разницу поведения пользователей:\n",
    "\n",
    "- В Москве пик прослушиваний приходится на понедельник и пятницу, а в среду заметен спад.\n",
    "- В Петербурге, наоборот, больше слушают музыку по средам. Активность в понедельник и пятницу здесь почти в равной мере уступает среде.\n",
    "\n",
    "Значит, данные говорят в пользу первой гипотезы."
   ]
  },
  {
   "cell_type": "markdown",
   "metadata": {
    "id": "atZAxtq4_Zcu"
   },
   "source": [
    "### Музыка в начале и в конце недели"
   ]
  },
  {
   "cell_type": "markdown",
   "metadata": {
    "id": "eXrQqXFH_Zcu"
   },
   "source": [
    "Согласно второй гипотезе, утром в понедельник в Москве преобладают одни жанры, а в Петербурге — другие. Так же и вечером пятницы преобладают разные жанры — в зависимости от города."
   ]
  },
  {
   "cell_type": "markdown",
   "metadata": {
    "id": "S8UcW6Hw_Zcu"
   },
   "source": [
    "Сохраните таблицы с данными в две переменные:\n",
    "* по Москве — в `moscow_general`;\n",
    "* по Санкт-Петербургу — в `spb_general`."
   ]
  },
  {
   "cell_type": "code",
   "execution_count": 28,
   "metadata": {
    "id": "qeaFfM_P_Zcu"
   },
   "outputs": [
    {
     "data": {
      "text/html": [
       "<div>\n",
       "<style scoped>\n",
       "    .dataframe tbody tr th:only-of-type {\n",
       "        vertical-align: middle;\n",
       "    }\n",
       "\n",
       "    .dataframe tbody tr th {\n",
       "        vertical-align: top;\n",
       "    }\n",
       "\n",
       "    .dataframe thead th {\n",
       "        text-align: right;\n",
       "    }\n",
       "</style>\n",
       "<table border=\"1\" class=\"dataframe\">\n",
       "  <thead>\n",
       "    <tr style=\"text-align: right;\">\n",
       "      <th></th>\n",
       "      <th>user_id</th>\n",
       "      <th>track</th>\n",
       "      <th>artist</th>\n",
       "      <th>genre</th>\n",
       "      <th>city</th>\n",
       "      <th>time</th>\n",
       "      <th>day</th>\n",
       "    </tr>\n",
       "  </thead>\n",
       "  <tbody>\n",
       "    <tr>\n",
       "      <td>1</td>\n",
       "      <td>55204538</td>\n",
       "      <td>Delayed Because of Accident</td>\n",
       "      <td>Andreas Rönnberg</td>\n",
       "      <td>rock</td>\n",
       "      <td>Moscow</td>\n",
       "      <td>14:07:09</td>\n",
       "      <td>Friday</td>\n",
       "    </tr>\n",
       "    <tr>\n",
       "      <td>4</td>\n",
       "      <td>E2DC1FAE</td>\n",
       "      <td>Soul People</td>\n",
       "      <td>Space Echo</td>\n",
       "      <td>dance</td>\n",
       "      <td>Moscow</td>\n",
       "      <td>08:34:34</td>\n",
       "      <td>Monday</td>\n",
       "    </tr>\n",
       "    <tr>\n",
       "      <td>6</td>\n",
       "      <td>4CB90AA5</td>\n",
       "      <td>True</td>\n",
       "      <td>Roman Messer</td>\n",
       "      <td>dance</td>\n",
       "      <td>Moscow</td>\n",
       "      <td>13:00:07</td>\n",
       "      <td>Wednesday</td>\n",
       "    </tr>\n",
       "    <tr>\n",
       "      <td>7</td>\n",
       "      <td>F03E1C1F</td>\n",
       "      <td>Feeling This Way</td>\n",
       "      <td>Polina Griffith</td>\n",
       "      <td>dance</td>\n",
       "      <td>Moscow</td>\n",
       "      <td>20:47:49</td>\n",
       "      <td>Wednesday</td>\n",
       "    </tr>\n",
       "    <tr>\n",
       "      <td>8</td>\n",
       "      <td>8FA1D3BE</td>\n",
       "      <td>И вновь продолжается бой</td>\n",
       "      <td>unknown</td>\n",
       "      <td>ruspop</td>\n",
       "      <td>Moscow</td>\n",
       "      <td>09:17:40</td>\n",
       "      <td>Friday</td>\n",
       "    </tr>\n",
       "    <tr>\n",
       "      <td>...</td>\n",
       "      <td>...</td>\n",
       "      <td>...</td>\n",
       "      <td>...</td>\n",
       "      <td>...</td>\n",
       "      <td>...</td>\n",
       "      <td>...</td>\n",
       "      <td>...</td>\n",
       "    </tr>\n",
       "    <tr>\n",
       "      <td>61247</td>\n",
       "      <td>83A474E7</td>\n",
       "      <td>I Worship Only What You Bleed</td>\n",
       "      <td>The Black Dahlia Murder</td>\n",
       "      <td>extrememetal</td>\n",
       "      <td>Moscow</td>\n",
       "      <td>21:07:12</td>\n",
       "      <td>Monday</td>\n",
       "    </tr>\n",
       "    <tr>\n",
       "      <td>61248</td>\n",
       "      <td>729CBB09</td>\n",
       "      <td>My Name</td>\n",
       "      <td>McLean</td>\n",
       "      <td>rnb</td>\n",
       "      <td>Moscow</td>\n",
       "      <td>13:32:28</td>\n",
       "      <td>Wednesday</td>\n",
       "    </tr>\n",
       "    <tr>\n",
       "      <td>61250</td>\n",
       "      <td>C5E3A0D5</td>\n",
       "      <td>Jalopiina</td>\n",
       "      <td>unknown</td>\n",
       "      <td>industrial</td>\n",
       "      <td>Moscow</td>\n",
       "      <td>20:09:26</td>\n",
       "      <td>Friday</td>\n",
       "    </tr>\n",
       "    <tr>\n",
       "      <td>61251</td>\n",
       "      <td>321D0506</td>\n",
       "      <td>Freight Train</td>\n",
       "      <td>Chas McDevitt</td>\n",
       "      <td>rock</td>\n",
       "      <td>Moscow</td>\n",
       "      <td>21:43:59</td>\n",
       "      <td>Friday</td>\n",
       "    </tr>\n",
       "    <tr>\n",
       "      <td>61252</td>\n",
       "      <td>3A64EF84</td>\n",
       "      <td>Tell Me Sweet Little Lies</td>\n",
       "      <td>Monica Lopez</td>\n",
       "      <td>country</td>\n",
       "      <td>Moscow</td>\n",
       "      <td>21:59:46</td>\n",
       "      <td>Friday</td>\n",
       "    </tr>\n",
       "  </tbody>\n",
       "</table>\n",
       "<p>42741 rows × 7 columns</p>\n",
       "</div>"
      ],
      "text/plain": [
       "        user_id                          track                   artist  \\\n",
       "1      55204538    Delayed Because of Accident         Andreas Rönnberg   \n",
       "4      E2DC1FAE                    Soul People               Space Echo   \n",
       "6      4CB90AA5                           True             Roman Messer   \n",
       "7      F03E1C1F               Feeling This Way          Polina Griffith   \n",
       "8      8FA1D3BE       И вновь продолжается бой                  unknown   \n",
       "...         ...                            ...                      ...   \n",
       "61247  83A474E7  I Worship Only What You Bleed  The Black Dahlia Murder   \n",
       "61248  729CBB09                        My Name                   McLean   \n",
       "61250  C5E3A0D5                      Jalopiina                  unknown   \n",
       "61251  321D0506                  Freight Train            Chas McDevitt   \n",
       "61252  3A64EF84      Tell Me Sweet Little Lies             Monica Lopez   \n",
       "\n",
       "              genre    city      time        day  \n",
       "1              rock  Moscow  14:07:09     Friday  \n",
       "4             dance  Moscow  08:34:34     Monday  \n",
       "6             dance  Moscow  13:00:07  Wednesday  \n",
       "7             dance  Moscow  20:47:49  Wednesday  \n",
       "8            ruspop  Moscow  09:17:40     Friday  \n",
       "...             ...     ...       ...        ...  \n",
       "61247  extrememetal  Moscow  21:07:12     Monday  \n",
       "61248           rnb  Moscow  13:32:28  Wednesday  \n",
       "61250    industrial  Moscow  20:09:26     Friday  \n",
       "61251          rock  Moscow  21:43:59     Friday  \n",
       "61252       country  Moscow  21:59:46     Friday  \n",
       "\n",
       "[42741 rows x 7 columns]"
      ]
     },
     "metadata": {},
     "output_type": "display_data"
    }
   ],
   "source": [
    "moscow_general = df[df['city'] == 'Moscow']\n",
    "display(moscow_general)# получение таблицы moscow_general из тех строк таблицы df, \n",
    "# для которых значение в столбце 'city' равно 'Moscow'\n"
   ]
  },
  {
   "cell_type": "code",
   "execution_count": 29,
   "metadata": {
    "id": "ORaVRKto_Zcu"
   },
   "outputs": [
    {
     "data": {
      "text/html": [
       "<div>\n",
       "<style scoped>\n",
       "    .dataframe tbody tr th:only-of-type {\n",
       "        vertical-align: middle;\n",
       "    }\n",
       "\n",
       "    .dataframe tbody tr th {\n",
       "        vertical-align: top;\n",
       "    }\n",
       "\n",
       "    .dataframe thead th {\n",
       "        text-align: right;\n",
       "    }\n",
       "</style>\n",
       "<table border=\"1\" class=\"dataframe\">\n",
       "  <thead>\n",
       "    <tr style=\"text-align: right;\">\n",
       "      <th></th>\n",
       "      <th>user_id</th>\n",
       "      <th>track</th>\n",
       "      <th>artist</th>\n",
       "      <th>genre</th>\n",
       "      <th>city</th>\n",
       "      <th>time</th>\n",
       "      <th>day</th>\n",
       "    </tr>\n",
       "  </thead>\n",
       "  <tbody>\n",
       "    <tr>\n",
       "      <td>0</td>\n",
       "      <td>FFB692EC</td>\n",
       "      <td>Kamigata To Boots</td>\n",
       "      <td>The Mass Missile</td>\n",
       "      <td>rock</td>\n",
       "      <td>Saint-Petersburg</td>\n",
       "      <td>20:28:33</td>\n",
       "      <td>Wednesday</td>\n",
       "    </tr>\n",
       "    <tr>\n",
       "      <td>2</td>\n",
       "      <td>20EC38</td>\n",
       "      <td>Funiculì funiculà</td>\n",
       "      <td>Mario Lanza</td>\n",
       "      <td>pop</td>\n",
       "      <td>Saint-Petersburg</td>\n",
       "      <td>20:58:07</td>\n",
       "      <td>Wednesday</td>\n",
       "    </tr>\n",
       "    <tr>\n",
       "      <td>3</td>\n",
       "      <td>A3DD03C9</td>\n",
       "      <td>Dragons in the Sunset</td>\n",
       "      <td>Fire + Ice</td>\n",
       "      <td>folk</td>\n",
       "      <td>Saint-Petersburg</td>\n",
       "      <td>08:37:09</td>\n",
       "      <td>Monday</td>\n",
       "    </tr>\n",
       "    <tr>\n",
       "      <td>5</td>\n",
       "      <td>842029A1</td>\n",
       "      <td>Преданная</td>\n",
       "      <td>IMPERVTOR</td>\n",
       "      <td>rusrap</td>\n",
       "      <td>Saint-Petersburg</td>\n",
       "      <td>13:09:41</td>\n",
       "      <td>Friday</td>\n",
       "    </tr>\n",
       "    <tr>\n",
       "      <td>9</td>\n",
       "      <td>E772D5C0</td>\n",
       "      <td>Pessimist</td>\n",
       "      <td>unknown</td>\n",
       "      <td>dance</td>\n",
       "      <td>Saint-Petersburg</td>\n",
       "      <td>21:20:49</td>\n",
       "      <td>Wednesday</td>\n",
       "    </tr>\n",
       "    <tr>\n",
       "      <td>...</td>\n",
       "      <td>...</td>\n",
       "      <td>...</td>\n",
       "      <td>...</td>\n",
       "      <td>...</td>\n",
       "      <td>...</td>\n",
       "      <td>...</td>\n",
       "      <td>...</td>\n",
       "    </tr>\n",
       "    <tr>\n",
       "      <td>61239</td>\n",
       "      <td>D94F810B</td>\n",
       "      <td>Theme from the Walking Dead</td>\n",
       "      <td>Proyecto Halloween</td>\n",
       "      <td>film</td>\n",
       "      <td>Saint-Petersburg</td>\n",
       "      <td>21:14:40</td>\n",
       "      <td>Monday</td>\n",
       "    </tr>\n",
       "    <tr>\n",
       "      <td>61240</td>\n",
       "      <td>BC8EC5CF</td>\n",
       "      <td>Red Lips: Gta (Rover Rework)</td>\n",
       "      <td>Rover</td>\n",
       "      <td>electronic</td>\n",
       "      <td>Saint-Petersburg</td>\n",
       "      <td>21:06:50</td>\n",
       "      <td>Monday</td>\n",
       "    </tr>\n",
       "    <tr>\n",
       "      <td>61241</td>\n",
       "      <td>29E04611</td>\n",
       "      <td>Bre Petrunko</td>\n",
       "      <td>Perunika Trio</td>\n",
       "      <td>world</td>\n",
       "      <td>Saint-Petersburg</td>\n",
       "      <td>13:56:00</td>\n",
       "      <td>Monday</td>\n",
       "    </tr>\n",
       "    <tr>\n",
       "      <td>61242</td>\n",
       "      <td>1B91C621</td>\n",
       "      <td>(Hello) Cloud Mountain</td>\n",
       "      <td>sleepmakeswaves</td>\n",
       "      <td>postrock</td>\n",
       "      <td>Saint-Petersburg</td>\n",
       "      <td>09:22:13</td>\n",
       "      <td>Monday</td>\n",
       "    </tr>\n",
       "    <tr>\n",
       "      <td>61249</td>\n",
       "      <td>D08D4A55</td>\n",
       "      <td>Maybe One Day (feat. Black Spade)</td>\n",
       "      <td>Blu &amp; Exile</td>\n",
       "      <td>hiphop</td>\n",
       "      <td>Saint-Petersburg</td>\n",
       "      <td>10:00:00</td>\n",
       "      <td>Monday</td>\n",
       "    </tr>\n",
       "  </tbody>\n",
       "</table>\n",
       "<p>18512 rows × 7 columns</p>\n",
       "</div>"
      ],
      "text/plain": [
       "        user_id                              track              artist  \\\n",
       "0      FFB692EC                  Kamigata To Boots    The Mass Missile   \n",
       "2        20EC38                  Funiculì funiculà         Mario Lanza   \n",
       "3      A3DD03C9              Dragons in the Sunset          Fire + Ice   \n",
       "5      842029A1                          Преданная           IMPERVTOR   \n",
       "9      E772D5C0                          Pessimist             unknown   \n",
       "...         ...                                ...                 ...   \n",
       "61239  D94F810B        Theme from the Walking Dead  Proyecto Halloween   \n",
       "61240  BC8EC5CF       Red Lips: Gta (Rover Rework)               Rover   \n",
       "61241  29E04611                       Bre Petrunko       Perunika Trio   \n",
       "61242  1B91C621             (Hello) Cloud Mountain     sleepmakeswaves   \n",
       "61249  D08D4A55  Maybe One Day (feat. Black Spade)         Blu & Exile   \n",
       "\n",
       "            genre              city      time        day  \n",
       "0            rock  Saint-Petersburg  20:28:33  Wednesday  \n",
       "2             pop  Saint-Petersburg  20:58:07  Wednesday  \n",
       "3            folk  Saint-Petersburg  08:37:09     Monday  \n",
       "5          rusrap  Saint-Petersburg  13:09:41     Friday  \n",
       "9           dance  Saint-Petersburg  21:20:49  Wednesday  \n",
       "...           ...               ...       ...        ...  \n",
       "61239        film  Saint-Petersburg  21:14:40     Monday  \n",
       "61240  electronic  Saint-Petersburg  21:06:50     Monday  \n",
       "61241       world  Saint-Petersburg  13:56:00     Monday  \n",
       "61242    postrock  Saint-Petersburg  09:22:13     Monday  \n",
       "61249      hiphop  Saint-Petersburg  10:00:00     Monday  \n",
       "\n",
       "[18512 rows x 7 columns]"
      ]
     },
     "metadata": {},
     "output_type": "display_data"
    }
   ],
   "source": [
    "spb_general = df[df['city'] == 'Saint-Petersburg']\n",
    "display(spb_general)# получение таблицы spb_general из тех строк таблицы df,\n",
    "# для которых значение в столбце 'city' равно 'Saint-Petersburg'\n"
   ]
  },
  {
   "cell_type": "markdown",
   "metadata": {
    "id": "MEJV-CX2_Zcu"
   },
   "source": [
    "Создайте функцию `genre_weekday()` с четырьмя параметрами:\n",
    "* таблица (датафрейм) с данными,\n",
    "* день недели,\n",
    "* начальная временная метка в формате 'hh:mm', \n",
    "* последняя временная метка в формате 'hh:mm'.\n",
    "\n",
    "Функция должна вернуть информацию о топ-10 жанров тех треков, которые прослушивали в указанный день, в промежутке между двумя отметками времени."
   ]
  },
  {
   "cell_type": "code",
   "execution_count": 30,
   "metadata": {
    "id": "laJT9BYl_Zcu"
   },
   "outputs": [],
   "source": [
    "def genre_weekday(table,day,time1,time2):\n",
    "    genre_df = table[(table['day'] == day) & (table['time'] > time1) & (table['time'] < time2)]\n",
    "    genre_df_count = genre_df.groupby('genre')['genre'].count()\n",
    "    genre_df_sorted = genre_df_count.sort_values(ascending=False)\n",
    "    return genre_df_sorted.head(10)\n",
    "\n"
   ]
  },
  {
   "cell_type": "markdown",
   "metadata": {
    "id": "la2s2_PF_Zcu"
   },
   "source": [
    "Cравните результаты функции `genre_weekday()` для Москвы и Санкт-Петербурга в понедельник утром (с 7:00 до 11:00) и в пятницу вечером (с 17:00 до 23:00):"
   ]
  },
  {
   "cell_type": "code",
   "execution_count": 31,
   "metadata": {
    "id": "yz7itPUQ_Zcu"
   },
   "outputs": [
    {
     "data": {
      "text/plain": [
       "genre\n",
       "pop            781\n",
       "dance          549\n",
       "electronic     480\n",
       "rock           474\n",
       "hiphop         286\n",
       "ruspop         186\n",
       "world          181\n",
       "rusrap         175\n",
       "alternative    164\n",
       "unknown        161\n",
       "Name: genre, dtype: int64"
      ]
     },
     "metadata": {},
     "output_type": "display_data"
    }
   ],
   "source": [
    "display(genre_weekday(moscow_general,'Monday','07:00','11:00'))\n",
    "# вызов функции для утра понедельника в Москве (вместо df — таблица moscow_general)\n",
    "# объекты, хранящие время, являются строками и сравниваются как строки\n",
    "# пример вызова: genre_weekday(moscow_general, 'Monday', '07:00', '11:00')"
   ]
  },
  {
   "cell_type": "code",
   "execution_count": 32,
   "metadata": {
    "id": "kwUcHPdy_Zcu"
   },
   "outputs": [
    {
     "data": {
      "text/plain": [
       "genre\n",
       "pop            218\n",
       "dance          182\n",
       "rock           162\n",
       "electronic     147\n",
       "hiphop          80\n",
       "ruspop          64\n",
       "alternative     58\n",
       "rusrap          55\n",
       "jazz            44\n",
       "classical       40\n",
       "Name: genre, dtype: int64"
      ]
     },
     "metadata": {},
     "output_type": "display_data"
    }
   ],
   "source": [
    "display(genre_weekday(spb_general,'Monday','07:00','11:00'))# вызов функции для утра понедельника в Петербурге (вместо df — таблица spb_general)"
   ]
  },
  {
   "cell_type": "code",
   "execution_count": 33,
   "metadata": {
    "id": "EzXVRE1o_Zcu"
   },
   "outputs": [
    {
     "data": {
      "text/plain": [
       "genre\n",
       "pop            713\n",
       "rock           517\n",
       "dance          495\n",
       "electronic     482\n",
       "hiphop         273\n",
       "world          208\n",
       "ruspop         170\n",
       "alternative    163\n",
       "classical      163\n",
       "rusrap         142\n",
       "Name: genre, dtype: int64"
      ]
     },
     "metadata": {},
     "output_type": "display_data"
    }
   ],
   "source": [
    "display(genre_weekday(moscow_general,'Friday','17:00','23:00'))# вызов функции для вечера пятницы в Москве"
   ]
  },
  {
   "cell_type": "code",
   "execution_count": 34,
   "metadata": {
    "id": "JZaEKu5v_Zcu"
   },
   "outputs": [
    {
     "data": {
      "text/plain": [
       "genre\n",
       "pop            256\n",
       "rock           216\n",
       "electronic     216\n",
       "dance          210\n",
       "hiphop          97\n",
       "alternative     63\n",
       "jazz            61\n",
       "classical       60\n",
       "rusrap          59\n",
       "world           54\n",
       "Name: genre, dtype: int64"
      ]
     },
     "metadata": {},
     "output_type": "display_data"
    }
   ],
   "source": [
    "display(genre_weekday(spb_general,'Friday','17:00','23:00'))# вызов функции для вечера пятницы в Петербурге"
   ]
  },
  {
   "cell_type": "markdown",
   "metadata": {
    "id": "wrCe4MNX_Zcu"
   },
   "source": [
    "**Выводы**\n",
    "\n",
    "Если сравнить топ-10 жанров в понедельник утром, можно сделать такие выводы:\n",
    "\n",
    "1. В Москве и Петербурге слушают похожую музыку. Единственное отличие — в московский рейтинг вошёл жанр “world”, а в петербургский — джаз и классика.\n",
    "\n",
    "2. В Москве пропущенных значений оказалось так много, что значение `'unknown'` заняло десятое место среди самых популярных жанров. Значит, пропущенные значения занимают существенную долю в данных и угрожают достоверности исследования.\n",
    "\n",
    "Вечер пятницы не меняет эту картину. Некоторые жанры поднимаются немного выше, другие спускаются, но в целом топ-10 остаётся тем же самым.\n",
    "\n",
    "Таким образом, вторая гипотеза подтвердилась лишь частично:\n",
    "* Пользователи слушают похожую музыку в начале недели и в конце.\n",
    "* Разница между Москвой и Петербургом не слишком выражена. В Москве чаще слушают русскую популярную музыку, в Петербурге — джаз.\n",
    "\n",
    "Однако пропуски в данных ставят под сомнение этот результат. В Москве их так много, что рейтинг топ-10 мог бы выглядеть иначе, если бы не утерянные  данные о жанрах."
   ]
  },
  {
   "cell_type": "markdown",
   "metadata": {
    "id": "JolODAqr_Zcu"
   },
   "source": [
    "### Жанровые предпочтения в Москве и Петербурге\n",
    "\n",
    "Гипотеза: Петербург — столица рэпа, музыку этого жанра там слушают чаще, чем в Москве.  А Москва — город контрастов, в котором, тем не менее, преобладает поп-музыка."
   ]
  },
  {
   "cell_type": "markdown",
   "metadata": {
    "id": "DlegSvaT_Zcu"
   },
   "source": [
    "Сгруппируйте таблицу `moscow_general` по жанру и посчитайте прослушивания треков каждого жанра методом `count()`. Затем отсортируйте результат в порядке убывания и сохраните его в таблице `moscow_genres`."
   ]
  },
  {
   "cell_type": "code",
   "execution_count": 35,
   "metadata": {
    "id": "r19lIPke_Zcu"
   },
   "outputs": [],
   "source": [
    "moscow_genres = moscow_general.groupby('genre')['genre'].count().sort_values(ascending=False)# одной строкой: группировка таблицы moscow_general по столбцу 'genre', \n",
    "# подсчёт числа значений 'genre' в этой группировке методом count(), \n",
    "# сортировка получившегося Series в порядке убывания и сохранение в moscow_genres"
   ]
  },
  {
   "cell_type": "markdown",
   "metadata": {
    "id": "6kMuomxTiIr8"
   },
   "source": [
    "Выведите на экран первые десять строк `moscow_genres`:"
   ]
  },
  {
   "cell_type": "code",
   "execution_count": 36,
   "metadata": {
    "id": "WhCSooF8_Zcv"
   },
   "outputs": [
    {
     "data": {
      "text/plain": [
       "genre\n",
       "pop            5892\n",
       "dance          4435\n",
       "rock           3965\n",
       "electronic     3786\n",
       "hiphop         2096\n",
       "classical      1616\n",
       "world          1432\n",
       "alternative    1379\n",
       "ruspop         1372\n",
       "rusrap         1161\n",
       "Name: genre, dtype: int64"
      ]
     },
     "metadata": {},
     "output_type": "display_data"
    }
   ],
   "source": [
    "display(moscow_genres.head(10))# просмотр первых 10 строк moscow_genres"
   ]
  },
  {
   "cell_type": "markdown",
   "metadata": {
    "id": "cnPG2vnN_Zcv"
   },
   "source": [
    "Теперь повторите то же и для Петербурга.\n",
    "\n",
    "Сгруппируйте таблицу `spb_general` по жанру. Посчитайте прослушивания треков каждого жанра. Результат отсортируйте в порядке убывания и сохраните в таблице `spb_genres`:\n"
   ]
  },
  {
   "cell_type": "code",
   "execution_count": 37,
   "metadata": {
    "id": "gluLIpE7_Zcv"
   },
   "outputs": [],
   "source": [
    "spb_genres = spb_general.groupby('genre')['genre'].count().sort_values(ascending=False)# одной строкой: группировка таблицы spb_general по столбцу 'genre', \n",
    "# подсчёт числа значений 'genre' в этой группировке методом count(), \n",
    "# сортировка получившегося Series в порядке убывания и сохранение в spb_genres"
   ]
  },
  {
   "cell_type": "markdown",
   "metadata": {
    "id": "5Doha_ODgyQ8"
   },
   "source": [
    "Выведите на экран первые десять строк `spb_genres`:"
   ]
  },
  {
   "cell_type": "code",
   "execution_count": 38,
   "metadata": {
    "id": "uaGJHjVU_Zcv"
   },
   "outputs": [
    {
     "data": {
      "text/plain": [
       "genre\n",
       "pop            2431\n",
       "dance          1932\n",
       "rock           1879\n",
       "electronic     1737\n",
       "hiphop          960\n",
       "alternative     649\n",
       "classical       646\n",
       "rusrap          564\n",
       "ruspop          538\n",
       "world           515\n",
       "Name: genre, dtype: int64"
      ]
     },
     "metadata": {},
     "output_type": "display_data"
    }
   ],
   "source": [
    "display(spb_genres.head(10))# просмотр первых 10 строк spb_genres"
   ]
  },
  {
   "cell_type": "code",
   "execution_count": 39,
   "metadata": {},
   "outputs": [
    {
     "data": {
      "text/html": [
       "<div>\n",
       "<style scoped>\n",
       "    .dataframe tbody tr th:only-of-type {\n",
       "        vertical-align: middle;\n",
       "    }\n",
       "\n",
       "    .dataframe tbody tr th {\n",
       "        vertical-align: top;\n",
       "    }\n",
       "\n",
       "    .dataframe thead th {\n",
       "        text-align: right;\n",
       "    }\n",
       "</style>\n",
       "<table border=\"1\" class=\"dataframe\">\n",
       "  <thead>\n",
       "    <tr style=\"text-align: right;\">\n",
       "      <th></th>\n",
       "      <th>Жанр</th>\n",
       "      <th>Москва</th>\n",
       "      <th>Санкт-Петербург</th>\n",
       "    </tr>\n",
       "  </thead>\n",
       "  <tbody>\n",
       "    <tr>\n",
       "      <td>0</td>\n",
       "      <td>pop</td>\n",
       "      <td>5892</td>\n",
       "      <td>2431</td>\n",
       "    </tr>\n",
       "    <tr>\n",
       "      <td>1</td>\n",
       "      <td>dance</td>\n",
       "      <td>4435</td>\n",
       "      <td>1932</td>\n",
       "    </tr>\n",
       "    <tr>\n",
       "      <td>2</td>\n",
       "      <td>rock</td>\n",
       "      <td>3965</td>\n",
       "      <td>1879</td>\n",
       "    </tr>\n",
       "    <tr>\n",
       "      <td>3</td>\n",
       "      <td>electronic</td>\n",
       "      <td>3786</td>\n",
       "      <td>1737</td>\n",
       "    </tr>\n",
       "    <tr>\n",
       "      <td>4</td>\n",
       "      <td>hiphop</td>\n",
       "      <td>2096</td>\n",
       "      <td>960</td>\n",
       "    </tr>\n",
       "    <tr>\n",
       "      <td>5</td>\n",
       "      <td>classical</td>\n",
       "      <td>1616</td>\n",
       "      <td>0</td>\n",
       "    </tr>\n",
       "    <tr>\n",
       "      <td>6</td>\n",
       "      <td>alternative</td>\n",
       "      <td>0</td>\n",
       "      <td>649</td>\n",
       "    </tr>\n",
       "    <tr>\n",
       "      <td>7</td>\n",
       "      <td>world</td>\n",
       "      <td>1432</td>\n",
       "      <td>0</td>\n",
       "    </tr>\n",
       "    <tr>\n",
       "      <td>8</td>\n",
       "      <td>classical</td>\n",
       "      <td>0</td>\n",
       "      <td>646</td>\n",
       "    </tr>\n",
       "    <tr>\n",
       "      <td>9</td>\n",
       "      <td>alternative</td>\n",
       "      <td>1379</td>\n",
       "      <td>0</td>\n",
       "    </tr>\n",
       "    <tr>\n",
       "      <td>10</td>\n",
       "      <td>rusrap</td>\n",
       "      <td>0</td>\n",
       "      <td>564</td>\n",
       "    </tr>\n",
       "    <tr>\n",
       "      <td>11</td>\n",
       "      <td>ruspop</td>\n",
       "      <td>1372</td>\n",
       "      <td>538</td>\n",
       "    </tr>\n",
       "    <tr>\n",
       "      <td>12</td>\n",
       "      <td>rusrap</td>\n",
       "      <td>1161</td>\n",
       "      <td>0</td>\n",
       "    </tr>\n",
       "    <tr>\n",
       "      <td>13</td>\n",
       "      <td>world</td>\n",
       "      <td>0</td>\n",
       "      <td>515</td>\n",
       "    </tr>\n",
       "  </tbody>\n",
       "</table>\n",
       "</div>"
      ],
      "text/plain": [
       "           Жанр  Москва  Санкт-Петербург\n",
       "0           pop    5892             2431\n",
       "1         dance    4435             1932\n",
       "2          rock    3965             1879\n",
       "3    electronic    3786             1737\n",
       "4        hiphop    2096              960\n",
       "5     classical    1616                0\n",
       "6   alternative       0              649\n",
       "7         world    1432                0\n",
       "8     classical       0              646\n",
       "9   alternative    1379                0\n",
       "10       rusrap       0              564\n",
       "11       ruspop    1372              538\n",
       "12       rusrap    1161                0\n",
       "13        world       0              515"
      ]
     },
     "metadata": {},
     "output_type": "display_data"
    }
   ],
   "source": [
    "genres_in_city = [\n",
    "    ['pop',5892,2431],\n",
    "    ['dance',4435,1932],\n",
    "    ['rock',3965,1879],\n",
    "    ['electronic',3786,1737],\n",
    "    ['hiphop',2096,960],\n",
    "    ['classical',1616,0],\n",
    "    ['alternative',0,649],\n",
    "    ['world',1432,0],\n",
    "    ['classical',0,646],\n",
    "    ['alternative',1379,0],\n",
    "    ['rusrap',0,564],\n",
    "    ['ruspop',1372,538],\n",
    "    ['rusrap',1161,0],\n",
    "    ['world',0,515]\n",
    "]\n",
    "columns = ['Жанр','Москва','Санкт-Петербург']\n",
    "genre_matching = pd.DataFrame(data=genres_in_city,columns=columns)\n",
    "display(genre_matching)"
   ]
  },
  {
   "cell_type": "markdown",
   "metadata": {
    "id": "RY51YJYu_Zcv"
   },
   "source": [
    "**Выводы**"
   ]
  },
  {
   "cell_type": "markdown",
   "metadata": {
    "id": "nVhnJEm__Zcv"
   },
   "source": [
    "Гипотеза частично подтвердилась:\n",
    "* Поп-музыка — самый популярный жанр в Москве, как и предполагала гипотеза. Более того, в топ-10 жанров встречается близкий жанр — русская популярная музыка.\n",
    "* Вопреки ожиданиям, рэп одинаково популярен в Москве и Петербурге. \n",
    "* `На основании сравнительной таблицы можно сделать вывод о том, что и в Москве, и в Санкт-Петербурге больге всего слушают такие жанры как pop, dance, rock, electronic и hiphop.`\n"
   ]
  },
  {
   "cell_type": "code",
   "execution_count": 40,
   "metadata": {},
   "outputs": [
    {
     "data": {
      "text/plain": [
       "pandas.core.series.Series"
      ]
     },
     "execution_count": 40,
     "metadata": {},
     "output_type": "execute_result"
    }
   ],
   "source": [
    "type(spb_genres)"
   ]
  },
  {
   "cell_type": "code",
   "execution_count": 41,
   "metadata": {},
   "outputs": [
    {
     "data": {
      "text/html": [
       "<div>\n",
       "<style scoped>\n",
       "    .dataframe tbody tr th:only-of-type {\n",
       "        vertical-align: middle;\n",
       "    }\n",
       "\n",
       "    .dataframe tbody tr th {\n",
       "        vertical-align: top;\n",
       "    }\n",
       "\n",
       "    .dataframe thead th {\n",
       "        text-align: right;\n",
       "    }\n",
       "</style>\n",
       "<table border=\"1\" class=\"dataframe\">\n",
       "  <thead>\n",
       "    <tr style=\"text-align: right;\">\n",
       "      <th></th>\n",
       "      <th>Moscow</th>\n",
       "      <th>Spb</th>\n",
       "    </tr>\n",
       "  </thead>\n",
       "  <tbody>\n",
       "    <tr>\n",
       "      <td>alternative</td>\n",
       "      <td>1379</td>\n",
       "      <td>649</td>\n",
       "    </tr>\n",
       "    <tr>\n",
       "      <td>classical</td>\n",
       "      <td>1616</td>\n",
       "      <td>646</td>\n",
       "    </tr>\n",
       "    <tr>\n",
       "      <td>dance</td>\n",
       "      <td>4435</td>\n",
       "      <td>1932</td>\n",
       "    </tr>\n",
       "    <tr>\n",
       "      <td>electronic</td>\n",
       "      <td>3786</td>\n",
       "      <td>1737</td>\n",
       "    </tr>\n",
       "    <tr>\n",
       "      <td>hiphop</td>\n",
       "      <td>2096</td>\n",
       "      <td>960</td>\n",
       "    </tr>\n",
       "    <tr>\n",
       "      <td>pop</td>\n",
       "      <td>5892</td>\n",
       "      <td>2431</td>\n",
       "    </tr>\n",
       "    <tr>\n",
       "      <td>rock</td>\n",
       "      <td>3965</td>\n",
       "      <td>1879</td>\n",
       "    </tr>\n",
       "    <tr>\n",
       "      <td>ruspop</td>\n",
       "      <td>1372</td>\n",
       "      <td>538</td>\n",
       "    </tr>\n",
       "    <tr>\n",
       "      <td>rusrap</td>\n",
       "      <td>1161</td>\n",
       "      <td>564</td>\n",
       "    </tr>\n",
       "    <tr>\n",
       "      <td>world</td>\n",
       "      <td>1432</td>\n",
       "      <td>515</td>\n",
       "    </tr>\n",
       "  </tbody>\n",
       "</table>\n",
       "</div>"
      ],
      "text/plain": [
       "             Moscow   Spb\n",
       "alternative    1379   649\n",
       "classical      1616   646\n",
       "dance          4435  1932\n",
       "electronic     3786  1737\n",
       "hiphop         2096   960\n",
       "pop            5892  2431\n",
       "rock           3965  1879\n",
       "ruspop         1372   538\n",
       "rusrap         1161   564\n",
       "world          1432   515"
      ]
     },
     "execution_count": 41,
     "metadata": {},
     "output_type": "execute_result"
    }
   ],
   "source": [
    "#код ревьюера\n",
    "pd.DataFrame({'Moscow':moscow_genres.head(10), 'Spb':spb_genres.head(10)})"
   ]
  },
  {
   "cell_type": "markdown",
   "metadata": {
    "id": "ykKQ0N65_Zcv"
   },
   "source": [
    "## Итоги исследования"
   ]
  },
  {
   "cell_type": "markdown",
   "metadata": {
    "id": "tjUwbHb3_Zcv"
   },
   "source": [
    "Вы проверили три гипотезы и установили:\n",
    "\n",
    "1. День недели по-разному влияет на активность пользователей в Москве и Петербурге. \n",
    "\n",
    "Первая гипотеза полностью подтвердилась.\n",
    "\n",
    "2. Музыкальные предпочтения не сильно меняются в течение недели — будь то Москва или Петербург. Небольшие различия заметны в начале недели, по понедельникам:\n",
    "* в Москве слушают музыку жанра “world”,\n",
    "* в Петербурге — джаз и классику.\n",
    "\n",
    "Таким образом, вторая гипотеза подтвердилась лишь отчасти. Этот результат мог оказаться иным, если бы не пропуски в данных.\n",
    "\n",
    "3. Во вкусах пользователей Москвы и Петербурга больше общего чем различий. Вопреки ожиданиям, предпочтения жанров в Петербурге напоминают московские.\n",
    "\n",
    "Третья гипотеза не подтвердилась. Если различия в предпочтениях и существуют, на основной массе пользователей они незаметны.\n",
    "\n",
    "**На практике исследования содержат проверки статистических гипотез.**\n",
    "Из данных одного сервиса не всегда можно сделать вывод о всех жителях города.\n",
    "Проверки статистических гипотез покажут, насколько они достоверны, исходя из имеющихся данных. \n",
    "С методами проверок гипотез вы ещё познакомитесь в следующих темах."
   ]
  },
  {
   "cell_type": "code",
   "execution_count": null,
   "metadata": {},
   "outputs": [],
   "source": []
  }
 ],
 "metadata": {
  "ExecuteTimeLog": [
   {
    "duration": 736,
    "start_time": "2021-12-16T21:04:43.779Z"
   },
   {
    "duration": 2800,
    "start_time": "2021-12-16T21:06:19.006Z"
   },
   {
    "duration": 405,
    "start_time": "2021-12-16T21:06:37.659Z"
   },
   {
    "duration": 2701,
    "start_time": "2021-12-16T21:07:24.580Z"
   },
   {
    "duration": 2352,
    "start_time": "2021-12-16T21:08:32.828Z"
   },
   {
    "duration": 186,
    "start_time": "2021-12-16T21:09:02.677Z"
   },
   {
    "duration": 4,
    "start_time": "2021-12-16T21:09:32.582Z"
   },
   {
    "duration": 5,
    "start_time": "2021-12-16T21:09:48.067Z"
   },
   {
    "duration": 5,
    "start_time": "2021-12-16T21:10:36.022Z"
   },
   {
    "duration": 10,
    "start_time": "2021-12-16T21:10:47.804Z"
   },
   {
    "duration": 26,
    "start_time": "2021-12-16T21:32:44.476Z"
   },
   {
    "duration": 17,
    "start_time": "2021-12-16T21:32:57.662Z"
   },
   {
    "duration": 16,
    "start_time": "2021-12-16T21:33:06.915Z"
   },
   {
    "duration": 17,
    "start_time": "2021-12-16T21:33:14.083Z"
   },
   {
    "duration": 348,
    "start_time": "2021-12-16T21:35:01.731Z"
   },
   {
    "duration": 679,
    "start_time": "2021-12-16T21:35:12.725Z"
   },
   {
    "duration": 426,
    "start_time": "2021-12-16T21:35:40.578Z"
   },
   {
    "duration": 7,
    "start_time": "2021-12-16T21:35:52.352Z"
   },
   {
    "duration": 17,
    "start_time": "2021-12-16T21:40:54.954Z"
   },
   {
    "duration": 6,
    "start_time": "2021-12-16T21:41:14.820Z"
   },
   {
    "duration": 379,
    "start_time": "2021-12-17T11:16:22.539Z"
   },
   {
    "duration": 325,
    "start_time": "2021-12-17T11:16:49.304Z"
   },
   {
    "duration": 334,
    "start_time": "2021-12-17T11:18:25.074Z"
   },
   {
    "duration": 316,
    "start_time": "2021-12-17T11:18:57.337Z"
   },
   {
    "duration": 363,
    "start_time": "2021-12-17T11:19:14.761Z"
   },
   {
    "duration": 360,
    "start_time": "2021-12-17T11:21:35.593Z"
   },
   {
    "duration": 654,
    "start_time": "2021-12-17T11:21:43.277Z"
   },
   {
    "duration": 448,
    "start_time": "2021-12-17T11:21:49.987Z"
   },
   {
    "duration": 328,
    "start_time": "2021-12-17T11:22:18.664Z"
   },
   {
    "duration": 330,
    "start_time": "2021-12-17T11:26:15.175Z"
   },
   {
    "duration": 350,
    "start_time": "2021-12-17T11:27:10.572Z"
   },
   {
    "duration": 320,
    "start_time": "2021-12-17T11:28:47.359Z"
   },
   {
    "duration": 347,
    "start_time": "2021-12-17T11:28:54.129Z"
   },
   {
    "duration": 848,
    "start_time": "2021-12-17T11:29:51.508Z"
   },
   {
    "duration": 220,
    "start_time": "2021-12-17T11:30:14.973Z"
   },
   {
    "duration": 247,
    "start_time": "2021-12-17T11:30:42.020Z"
   },
   {
    "duration": 314,
    "start_time": "2021-12-17T11:31:14.617Z"
   },
   {
    "duration": 251,
    "start_time": "2021-12-17T11:31:44.352Z"
   },
   {
    "duration": 10289,
    "start_time": "2021-12-17T11:34:30.069Z"
   },
   {
    "duration": 9048,
    "start_time": "2021-12-17T11:35:18.401Z"
   },
   {
    "duration": 247,
    "start_time": "2021-12-17T11:36:52.733Z"
   },
   {
    "duration": 275,
    "start_time": "2021-12-17T11:37:39.613Z"
   },
   {
    "duration": 330,
    "start_time": "2021-12-17T11:38:06.579Z"
   },
   {
    "duration": 360,
    "start_time": "2021-12-17T11:40:49.521Z"
   },
   {
    "duration": 323,
    "start_time": "2021-12-17T11:41:38.141Z"
   },
   {
    "duration": 319,
    "start_time": "2021-12-17T17:44:34.059Z"
   },
   {
    "duration": 1105,
    "start_time": "2021-12-17T17:45:08.031Z"
   },
   {
    "duration": 355,
    "start_time": "2021-12-17T17:45:50.243Z"
   },
   {
    "duration": 387,
    "start_time": "2021-12-17T17:45:57.597Z"
   },
   {
    "duration": 429,
    "start_time": "2021-12-17T17:49:03.641Z"
   },
   {
    "duration": 433,
    "start_time": "2021-12-17T17:49:24.825Z"
   },
   {
    "duration": 643,
    "start_time": "2021-12-17T17:50:09.896Z"
   },
   {
    "duration": 748,
    "start_time": "2021-12-17T17:50:36.506Z"
   },
   {
    "duration": 474,
    "start_time": "2021-12-17T17:50:51.320Z"
   },
   {
    "duration": 599,
    "start_time": "2021-12-17T17:51:41.578Z"
   },
   {
    "duration": 7,
    "start_time": "2021-12-17T17:57:04.235Z"
   },
   {
    "duration": 8,
    "start_time": "2021-12-17T17:57:09.529Z"
   },
   {
    "duration": 87,
    "start_time": "2021-12-17T17:57:36.479Z"
   },
   {
    "duration": 103,
    "start_time": "2021-12-17T17:57:50.410Z"
   },
   {
    "duration": 461,
    "start_time": "2021-12-17T17:58:01.825Z"
   },
   {
    "duration": 430,
    "start_time": "2021-12-17T17:58:26.423Z"
   },
   {
    "duration": 660,
    "start_time": "2021-12-17T18:31:57.289Z"
   },
   {
    "duration": 451,
    "start_time": "2021-12-17T18:32:17.514Z"
   },
   {
    "duration": 652,
    "start_time": "2021-12-17T18:48:23.530Z"
   },
   {
    "duration": 654,
    "start_time": "2021-12-17T18:48:36.125Z"
   },
   {
    "duration": 429,
    "start_time": "2021-12-17T18:48:44.392Z"
   },
   {
    "duration": 415,
    "start_time": "2021-12-17T18:50:45.129Z"
   },
   {
    "duration": 452,
    "start_time": "2021-12-17T18:52:33.052Z"
   },
   {
    "duration": 541,
    "start_time": "2021-12-17T18:55:09.872Z"
   },
   {
    "duration": 513,
    "start_time": "2021-12-17T18:57:01.740Z"
   },
   {
    "duration": 661,
    "start_time": "2021-12-17T19:00:16.564Z"
   },
   {
    "duration": 665,
    "start_time": "2021-12-17T19:00:23.705Z"
   },
   {
    "duration": 822,
    "start_time": "2021-12-17T19:01:43.838Z"
   },
   {
    "duration": 504,
    "start_time": "2021-12-17T19:01:54.961Z"
   },
   {
    "duration": 921,
    "start_time": "2021-12-17T19:02:54.533Z"
   },
   {
    "duration": 85,
    "start_time": "2021-12-17T19:03:24.454Z"
   },
   {
    "duration": 84,
    "start_time": "2021-12-17T19:03:32.781Z"
   },
   {
    "duration": 97,
    "start_time": "2021-12-17T19:04:00.510Z"
   },
   {
    "duration": 641,
    "start_time": "2021-12-17T19:04:41.034Z"
   },
   {
    "duration": 715,
    "start_time": "2021-12-17T19:05:57.533Z"
   },
   {
    "duration": 658,
    "start_time": "2021-12-17T19:10:57.478Z"
   },
   {
    "duration": 6150,
    "start_time": "2021-12-17T19:11:02.952Z"
   },
   {
    "duration": 639,
    "start_time": "2021-12-17T19:11:30.460Z"
   },
   {
    "duration": 450,
    "start_time": "2021-12-17T19:13:25.599Z"
   },
   {
    "duration": 89,
    "start_time": "2021-12-17T19:15:38.105Z"
   },
   {
    "duration": 463,
    "start_time": "2021-12-17T19:15:58.892Z"
   },
   {
    "duration": 459,
    "start_time": "2021-12-17T19:16:49.070Z"
   },
   {
    "duration": 495,
    "start_time": "2021-12-17T19:17:31.972Z"
   },
   {
    "duration": 495,
    "start_time": "2021-12-17T19:17:38.647Z"
   },
   {
    "duration": 541,
    "start_time": "2021-12-17T19:18:05.312Z"
   },
   {
    "duration": 540,
    "start_time": "2021-12-17T19:19:42.324Z"
   },
   {
    "duration": 465,
    "start_time": "2021-12-17T19:21:09.704Z"
   },
   {
    "duration": 469,
    "start_time": "2021-12-17T19:21:31.336Z"
   },
   {
    "duration": 380,
    "start_time": "2021-12-17T19:25:31.896Z"
   },
   {
    "duration": 337,
    "start_time": "2021-12-17T19:25:40.384Z"
   },
   {
    "duration": 380,
    "start_time": "2021-12-17T19:27:02.485Z"
   },
   {
    "duration": 138,
    "start_time": "2021-12-17T19:27:38.210Z"
   },
   {
    "duration": 89,
    "start_time": "2021-12-17T19:27:51.165Z"
   },
   {
    "duration": 403,
    "start_time": "2021-12-17T19:28:04.145Z"
   },
   {
    "duration": 313,
    "start_time": "2021-12-17T19:29:04.466Z"
   },
   {
    "duration": 417,
    "start_time": "2021-12-17T19:29:48.271Z"
   },
   {
    "duration": 442,
    "start_time": "2021-12-17T19:31:21.711Z"
   },
   {
    "duration": 608,
    "start_time": "2021-12-17T19:32:13.809Z"
   },
   {
    "duration": 470,
    "start_time": "2021-12-17T19:32:25.075Z"
   },
   {
    "duration": 484,
    "start_time": "2021-12-17T19:32:31.392Z"
   },
   {
    "duration": 532,
    "start_time": "2021-12-17T19:32:41.850Z"
   },
   {
    "duration": 4,
    "start_time": "2021-12-17T19:47:09.918Z"
   },
   {
    "duration": 6,
    "start_time": "2021-12-17T19:47:27.495Z"
   },
   {
    "duration": 8,
    "start_time": "2021-12-17T19:48:14.568Z"
   },
   {
    "duration": 418,
    "start_time": "2021-12-17T19:48:34.408Z"
   },
   {
    "duration": 415,
    "start_time": "2021-12-17T19:49:23.337Z"
   },
   {
    "duration": 614,
    "start_time": "2021-12-17T19:49:47.034Z"
   },
   {
    "duration": 427,
    "start_time": "2021-12-17T19:50:51.844Z"
   },
   {
    "duration": 525,
    "start_time": "2021-12-17T19:51:35.932Z"
   },
   {
    "duration": 415,
    "start_time": "2021-12-17T19:51:50.667Z"
   },
   {
    "duration": 420,
    "start_time": "2021-12-17T19:52:12.834Z"
   },
   {
    "duration": 241,
    "start_time": "2021-12-17T19:52:24.771Z"
   },
   {
    "duration": 257,
    "start_time": "2021-12-17T19:55:45.124Z"
   },
   {
    "duration": 250,
    "start_time": "2021-12-17T19:56:10.317Z"
   },
   {
    "duration": 436,
    "start_time": "2021-12-17T19:56:38.587Z"
   },
   {
    "duration": 483,
    "start_time": "2021-12-17T19:57:24.252Z"
   },
   {
    "duration": 584,
    "start_time": "2021-12-17T19:59:03.672Z"
   },
   {
    "duration": 507,
    "start_time": "2021-12-17T19:59:24.380Z"
   },
   {
    "duration": 415,
    "start_time": "2021-12-17T20:00:10.828Z"
   },
   {
    "duration": 740,
    "start_time": "2021-12-17T20:00:22.334Z"
   },
   {
    "duration": 251,
    "start_time": "2021-12-17T20:02:36.865Z"
   },
   {
    "duration": 570,
    "start_time": "2021-12-17T20:03:29.828Z"
   },
   {
    "duration": 457,
    "start_time": "2021-12-18T14:03:22.777Z"
   },
   {
    "duration": 1490,
    "start_time": "2021-12-18T14:03:35.620Z"
   },
   {
    "duration": 60,
    "start_time": "2021-12-18T14:03:56.414Z"
   },
   {
    "duration": 60,
    "start_time": "2021-12-18T14:04:06.700Z"
   },
   {
    "duration": 71,
    "start_time": "2021-12-18T14:04:43.063Z"
   },
   {
    "duration": 541,
    "start_time": "2021-12-18T14:05:03.156Z"
   },
   {
    "duration": 33,
    "start_time": "2021-12-18T14:05:39.104Z"
   },
   {
    "duration": 280,
    "start_time": "2021-12-18T14:06:00.253Z"
   },
   {
    "duration": 132,
    "start_time": "2021-12-18T14:06:32.678Z"
   },
   {
    "duration": 514,
    "start_time": "2021-12-18T14:06:40.869Z"
   },
   {
    "duration": 52,
    "start_time": "2021-12-18T14:07:28.754Z"
   },
   {
    "duration": 58,
    "start_time": "2021-12-18T14:10:21.669Z"
   },
   {
    "duration": 55,
    "start_time": "2021-12-18T14:10:40.213Z"
   },
   {
    "duration": 405,
    "start_time": "2021-12-18T14:11:51.983Z"
   },
   {
    "duration": 116,
    "start_time": "2021-12-18T14:12:14.167Z"
   },
   {
    "duration": 28,
    "start_time": "2021-12-18T14:13:15.021Z"
   },
   {
    "duration": 38,
    "start_time": "2021-12-18T14:13:27.017Z"
   },
   {
    "duration": 258,
    "start_time": "2021-12-18T14:13:33.941Z"
   },
   {
    "duration": 91,
    "start_time": "2021-12-18T14:13:58.602Z"
   },
   {
    "duration": 91,
    "start_time": "2021-12-18T14:14:03.832Z"
   },
   {
    "duration": 103,
    "start_time": "2021-12-18T14:14:44.164Z"
   },
   {
    "duration": 120,
    "start_time": "2021-12-18T14:14:58.685Z"
   },
   {
    "duration": 359,
    "start_time": "2021-12-18T14:15:19.312Z"
   },
   {
    "duration": 53,
    "start_time": "2021-12-18T14:16:19.779Z"
   },
   {
    "duration": 717,
    "start_time": "2021-12-18T14:16:34.858Z"
   },
   {
    "duration": 741,
    "start_time": "2021-12-18T14:17:19.813Z"
   },
   {
    "duration": 5,
    "start_time": "2021-12-18T14:37:41.481Z"
   },
   {
    "duration": 12,
    "start_time": "2021-12-18T14:38:40.556Z"
   },
   {
    "duration": 14,
    "start_time": "2021-12-18T14:38:59.014Z"
   },
   {
    "duration": 339,
    "start_time": "2021-12-18T14:40:12.463Z"
   },
   {
    "duration": 374,
    "start_time": "2021-12-18T14:45:34.437Z"
   },
   {
    "duration": 116,
    "start_time": "2021-12-18T14:45:42.632Z"
   },
   {
    "duration": 20,
    "start_time": "2021-12-18T14:45:55.190Z"
   },
   {
    "duration": 101,
    "start_time": "2021-12-18T14:47:31.849Z"
   },
   {
    "duration": -119,
    "start_time": "2021-12-18T14:48:03.313Z"
   },
   {
    "duration": 673,
    "start_time": "2021-12-18T14:48:17.092Z"
   },
   {
    "duration": 303,
    "start_time": "2021-12-18T14:48:26.915Z"
   },
   {
    "duration": 14,
    "start_time": "2021-12-18T14:48:33.616Z"
   },
   {
    "duration": 11,
    "start_time": "2021-12-18T14:48:58.922Z"
   },
   {
    "duration": 15,
    "start_time": "2021-12-18T14:49:22.108Z"
   },
   {
    "duration": 14,
    "start_time": "2021-12-18T14:49:37.780Z"
   },
   {
    "duration": 14,
    "start_time": "2021-12-18T14:50:27.285Z"
   },
   {
    "duration": 25,
    "start_time": "2021-12-18T14:53:53.175Z"
   },
   {
    "duration": 7939,
    "start_time": "2021-12-18T14:56:20.674Z"
   },
   {
    "duration": 16,
    "start_time": "2021-12-18T14:56:37.472Z"
   },
   {
    "duration": 428,
    "start_time": "2021-12-18T15:01:27.590Z"
   },
   {
    "duration": 678,
    "start_time": "2021-12-18T15:02:04.703Z"
   },
   {
    "duration": 671,
    "start_time": "2021-12-18T15:02:18.733Z"
   },
   {
    "duration": 981,
    "start_time": "2021-12-18T15:02:24.681Z"
   },
   {
    "duration": 692,
    "start_time": "2021-12-18T15:02:38.706Z"
   },
   {
    "duration": 107,
    "start_time": "2021-12-18T15:02:57.374Z"
   },
   {
    "duration": 121,
    "start_time": "2021-12-18T15:03:28.775Z"
   },
   {
    "duration": 339,
    "start_time": "2021-12-18T15:03:46.179Z"
   },
   {
    "duration": 312,
    "start_time": "2021-12-18T15:03:56.931Z"
   },
   {
    "duration": 4,
    "start_time": "2021-12-18T15:04:10.793Z"
   },
   {
    "duration": 9,
    "start_time": "2021-12-18T15:04:12.976Z"
   },
   {
    "duration": 4,
    "start_time": "2021-12-18T15:05:16.243Z"
   },
   {
    "duration": 139,
    "start_time": "2021-12-18T15:05:56.655Z"
   },
   {
    "duration": 5,
    "start_time": "2021-12-18T15:06:27.057Z"
   },
   {
    "duration": 106,
    "start_time": "2021-12-18T15:06:30.365Z"
   },
   {
    "duration": 110,
    "start_time": "2021-12-18T15:06:55.355Z"
   },
   {
    "duration": 137,
    "start_time": "2021-12-18T15:45:23.536Z"
   },
   {
    "duration": 146,
    "start_time": "2021-12-18T15:45:48.320Z"
   },
   {
    "duration": 100,
    "start_time": "2021-12-18T15:56:59.298Z"
   },
   {
    "duration": 126,
    "start_time": "2021-12-18T15:57:22.174Z"
   },
   {
    "duration": 8,
    "start_time": "2021-12-18T15:57:24.680Z"
   },
   {
    "duration": 104,
    "start_time": "2021-12-18T15:57:26.560Z"
   },
   {
    "duration": 5,
    "start_time": "2021-12-18T15:58:15.518Z"
   },
   {
    "duration": 3,
    "start_time": "2021-12-18T15:58:43.060Z"
   },
   {
    "duration": 22,
    "start_time": "2021-12-18T15:59:08.659Z"
   },
   {
    "duration": 18,
    "start_time": "2021-12-18T15:59:31.967Z"
   },
   {
    "duration": 15,
    "start_time": "2021-12-18T16:00:00.800Z"
   },
   {
    "duration": 21,
    "start_time": "2021-12-18T16:00:55.474Z"
   },
   {
    "duration": 16,
    "start_time": "2021-12-18T16:01:48.448Z"
   },
   {
    "duration": 829,
    "start_time": "2021-12-18T16:02:37.780Z"
   },
   {
    "duration": 5,
    "start_time": "2021-12-18T16:03:14.426Z"
   },
   {
    "duration": 6243,
    "start_time": "2021-12-18T16:03:24.491Z"
   },
   {
    "duration": 5,
    "start_time": "2021-12-18T16:03:41.802Z"
   },
   {
    "duration": 18,
    "start_time": "2021-12-18T16:06:54.226Z"
   },
   {
    "duration": 14,
    "start_time": "2021-12-18T16:08:55.576Z"
   },
   {
    "duration": 569,
    "start_time": "2021-12-18T16:10:15.933Z"
   },
   {
    "duration": 17,
    "start_time": "2021-12-18T16:10:22.389Z"
   },
   {
    "duration": 104,
    "start_time": "2021-12-18T16:11:56.872Z"
   },
   {
    "duration": 6,
    "start_time": "2021-12-18T16:12:03.103Z"
   },
   {
    "duration": 531,
    "start_time": "2021-12-18T16:12:58.055Z"
   },
   {
    "duration": 17,
    "start_time": "2021-12-18T16:13:10.931Z"
   },
   {
    "duration": 15,
    "start_time": "2021-12-18T16:14:17.806Z"
   },
   {
    "duration": 15,
    "start_time": "2021-12-18T16:15:19.340Z"
   },
   {
    "duration": 16,
    "start_time": "2021-12-18T16:15:57.791Z"
   },
   {
    "duration": 15,
    "start_time": "2021-12-18T16:17:19.250Z"
   },
   {
    "duration": 14,
    "start_time": "2021-12-18T16:17:42.195Z"
   },
   {
    "duration": 7,
    "start_time": "2021-12-18T16:18:18.087Z"
   },
   {
    "duration": 30,
    "start_time": "2021-12-18T16:18:33.056Z"
   },
   {
    "duration": 5,
    "start_time": "2021-12-18T16:18:51.233Z"
   },
   {
    "duration": 28,
    "start_time": "2021-12-18T16:18:57.550Z"
   },
   {
    "duration": 727,
    "start_time": "2021-12-18T16:19:28.786Z"
   },
   {
    "duration": 26,
    "start_time": "2021-12-18T16:19:41.559Z"
   },
   {
    "duration": 12,
    "start_time": "2021-12-18T16:19:51.876Z"
   },
   {
    "duration": 19,
    "start_time": "2021-12-18T16:20:01.246Z"
   },
   {
    "duration": 23,
    "start_time": "2021-12-18T16:20:41.339Z"
   },
   {
    "duration": 26,
    "start_time": "2021-12-18T16:21:28.376Z"
   },
   {
    "duration": 95,
    "start_time": "2021-12-18T16:21:46.588Z"
   },
   {
    "duration": 23,
    "start_time": "2021-12-18T16:22:04.176Z"
   },
   {
    "duration": 325,
    "start_time": "2021-12-18T16:24:17.789Z"
   },
   {
    "duration": 7,
    "start_time": "2021-12-18T16:28:24.991Z"
   },
   {
    "duration": 7,
    "start_time": "2021-12-18T16:29:41.758Z"
   },
   {
    "duration": 112,
    "start_time": "2021-12-18T16:30:21.010Z"
   },
   {
    "duration": 16,
    "start_time": "2021-12-18T16:30:24.372Z"
   },
   {
    "duration": 385,
    "start_time": "2021-12-18T16:34:43.002Z"
   },
   {
    "duration": 13,
    "start_time": "2021-12-18T16:34:49.250Z"
   },
   {
    "duration": 31,
    "start_time": "2021-12-18T17:10:50.599Z"
   },
   {
    "duration": 42,
    "start_time": "2021-12-18T17:11:50.304Z"
   },
   {
    "duration": 28,
    "start_time": "2021-12-18T17:53:28.548Z"
   },
   {
    "duration": 6,
    "start_time": "2021-12-18T17:59:24.828Z"
   },
   {
    "duration": 118,
    "start_time": "2021-12-18T17:59:32.999Z"
   },
   {
    "duration": 140,
    "start_time": "2021-12-18T17:59:45.198Z"
   },
   {
    "duration": 38,
    "start_time": "2021-12-18T18:01:24.613Z"
   },
   {
    "duration": 6,
    "start_time": "2021-12-18T18:02:00.752Z"
   },
   {
    "duration": 48,
    "start_time": "2021-12-18T18:02:23.589Z"
   },
   {
    "duration": 35,
    "start_time": "2021-12-18T18:03:33.356Z"
   },
   {
    "duration": 36,
    "start_time": "2021-12-18T18:03:59.863Z"
   },
   {
    "duration": 6,
    "start_time": "2021-12-18T18:05:40.771Z"
   },
   {
    "duration": 40,
    "start_time": "2021-12-18T18:05:53.150Z"
   },
   {
    "duration": 5,
    "start_time": "2021-12-18T18:06:10.833Z"
   },
   {
    "duration": 5,
    "start_time": "2021-12-18T18:07:47.473Z"
   },
   {
    "duration": 628,
    "start_time": "2021-12-18T18:07:49.615Z"
   },
   {
    "duration": 6,
    "start_time": "2021-12-18T18:08:26.850Z"
   },
   {
    "duration": 1084,
    "start_time": "2021-12-18T18:08:30.333Z"
   },
   {
    "duration": 6,
    "start_time": "2021-12-18T18:09:01.990Z"
   },
   {
    "duration": 37,
    "start_time": "2021-12-18T18:09:12.394Z"
   },
   {
    "duration": 5,
    "start_time": "2021-12-18T18:11:12.425Z"
   },
   {
    "duration": 649,
    "start_time": "2021-12-18T18:11:17.172Z"
   },
   {
    "duration": 6,
    "start_time": "2021-12-18T18:12:04.699Z"
   },
   {
    "duration": 1689,
    "start_time": "2021-12-18T18:12:07.641Z"
   },
   {
    "duration": 6,
    "start_time": "2021-12-18T18:12:32.819Z"
   },
   {
    "duration": 40,
    "start_time": "2021-12-18T18:12:37.641Z"
   },
   {
    "duration": 6,
    "start_time": "2021-12-18T18:13:11.956Z"
   },
   {
    "duration": 39,
    "start_time": "2021-12-18T18:13:16.087Z"
   },
   {
    "duration": 22,
    "start_time": "2021-12-18T18:14:56.768Z"
   },
   {
    "duration": 30,
    "start_time": "2021-12-18T18:14:59.829Z"
   },
   {
    "duration": 30,
    "start_time": "2021-12-18T18:15:07.225Z"
   },
   {
    "duration": 6,
    "start_time": "2021-12-18T18:16:47.102Z"
   },
   {
    "duration": 36,
    "start_time": "2021-12-18T18:16:49.937Z"
   },
   {
    "duration": 6,
    "start_time": "2021-12-18T18:18:36.356Z"
   },
   {
    "duration": 48,
    "start_time": "2021-12-18T18:18:38.848Z"
   },
   {
    "duration": 9,
    "start_time": "2021-12-18T18:18:51.379Z"
   },
   {
    "duration": 30,
    "start_time": "2021-12-18T18:18:54.718Z"
   },
   {
    "duration": 6,
    "start_time": "2021-12-18T18:19:43.442Z"
   },
   {
    "duration": 770,
    "start_time": "2021-12-18T18:19:45.577Z"
   },
   {
    "duration": 7,
    "start_time": "2021-12-18T18:19:57.026Z"
   },
   {
    "duration": 29,
    "start_time": "2021-12-18T18:19:58.927Z"
   },
   {
    "duration": 9,
    "start_time": "2021-12-18T18:20:09.064Z"
   },
   {
    "duration": 846,
    "start_time": "2021-12-18T18:20:13.640Z"
   },
   {
    "duration": 8,
    "start_time": "2021-12-18T18:20:26.527Z"
   },
   {
    "duration": 16,
    "start_time": "2021-12-18T18:20:32.862Z"
   },
   {
    "duration": 70,
    "start_time": "2021-12-18T18:20:34.840Z"
   },
   {
    "duration": 75,
    "start_time": "2021-12-18T18:21:04.524Z"
   },
   {
    "duration": 77,
    "start_time": "2021-12-18T18:21:57.703Z"
   },
   {
    "duration": 50,
    "start_time": "2021-12-18T18:22:09.561Z"
   },
   {
    "duration": 6,
    "start_time": "2021-12-18T18:22:25.239Z"
   },
   {
    "duration": 36,
    "start_time": "2021-12-18T18:22:27.174Z"
   },
   {
    "duration": 7,
    "start_time": "2021-12-18T18:25:20.097Z"
   },
   {
    "duration": 623,
    "start_time": "2021-12-18T18:25:24.761Z"
   },
   {
    "duration": 7,
    "start_time": "2021-12-18T18:25:38.046Z"
   },
   {
    "duration": 813,
    "start_time": "2021-12-18T18:25:43.087Z"
   },
   {
    "duration": 6,
    "start_time": "2021-12-18T18:27:29.020Z"
   },
   {
    "duration": -31,
    "start_time": "2021-12-18T18:27:40.064Z"
   },
   {
    "duration": 5,
    "start_time": "2021-12-18T18:27:49.420Z"
   },
   {
    "duration": -8,
    "start_time": "2021-12-18T18:27:59.721Z"
   },
   {
    "duration": 7,
    "start_time": "2021-12-18T18:28:11.786Z"
   },
   {
    "duration": 33,
    "start_time": "2021-12-18T18:28:14.180Z"
   },
   {
    "duration": 6,
    "start_time": "2021-12-18T18:28:24.889Z"
   },
   {
    "duration": 31,
    "start_time": "2021-12-18T18:28:26.505Z"
   },
   {
    "duration": 5,
    "start_time": "2021-12-18T18:39:12.995Z"
   },
   {
    "duration": 742,
    "start_time": "2021-12-18T18:39:15.418Z"
   },
   {
    "duration": 6,
    "start_time": "2021-12-18T18:39:27.826Z"
   },
   {
    "duration": 68,
    "start_time": "2021-12-18T18:39:30.113Z"
   },
   {
    "duration": 53,
    "start_time": "2021-12-18T18:40:23.934Z"
   },
   {
    "duration": 32,
    "start_time": "2021-12-18T18:40:30.233Z"
   },
   {
    "duration": 8,
    "start_time": "2021-12-18T18:41:27.088Z"
   },
   {
    "duration": 52,
    "start_time": "2021-12-18T18:41:29.951Z"
   },
   {
    "duration": 38,
    "start_time": "2021-12-18T18:41:36.708Z"
   },
   {
    "duration": 51,
    "start_time": "2021-12-18T18:41:43.872Z"
   },
   {
    "duration": 28,
    "start_time": "2021-12-18T18:41:50.235Z"
   },
   {
    "duration": 5,
    "start_time": "2021-12-18T18:43:28.754Z"
   },
   {
    "duration": 30,
    "start_time": "2021-12-18T18:43:32.729Z"
   },
   {
    "duration": 102,
    "start_time": "2021-12-18T18:45:23.926Z"
   },
   {
    "duration": 8,
    "start_time": "2021-12-18T18:45:48.700Z"
   },
   {
    "duration": 1186,
    "start_time": "2021-12-18T18:45:51.362Z"
   },
   {
    "duration": 145,
    "start_time": "2021-12-18T18:46:44.440Z"
   },
   {
    "duration": 6,
    "start_time": "2021-12-18T18:46:48.021Z"
   },
   {
    "duration": 36,
    "start_time": "2021-12-18T18:46:50.248Z"
   },
   {
    "duration": 32,
    "start_time": "2021-12-18T18:46:54.822Z"
   },
   {
    "duration": 7,
    "start_time": "2021-12-18T18:50:10.165Z"
   },
   {
    "duration": 766,
    "start_time": "2021-12-18T18:50:12.358Z"
   },
   {
    "duration": 6,
    "start_time": "2021-12-18T18:50:24.116Z"
   },
   {
    "duration": 628,
    "start_time": "2021-12-18T18:50:28.047Z"
   },
   {
    "duration": 628,
    "start_time": "2021-12-18T18:50:42.711Z"
   },
   {
    "duration": 6,
    "start_time": "2021-12-18T18:50:47.994Z"
   },
   {
    "duration": 31,
    "start_time": "2021-12-18T18:50:49.978Z"
   },
   {
    "duration": 33,
    "start_time": "2021-12-18T18:51:09.890Z"
   },
   {
    "duration": 576,
    "start_time": "2021-12-18T18:55:10.232Z"
   },
   {
    "duration": 35,
    "start_time": "2021-12-18T18:55:23.733Z"
   },
   {
    "duration": 44,
    "start_time": "2021-12-18T19:16:53.376Z"
   },
   {
    "duration": 251,
    "start_time": "2021-12-18T19:17:17.448Z"
   },
   {
    "duration": 99,
    "start_time": "2021-12-18T19:17:37.899Z"
   },
   {
    "duration": 124,
    "start_time": "2021-12-18T19:17:55.778Z"
   },
   {
    "duration": 229,
    "start_time": "2021-12-18T19:18:17.164Z"
   },
   {
    "duration": 76,
    "start_time": "2021-12-18T19:18:39.134Z"
   },
   {
    "duration": 27,
    "start_time": "2021-12-18T19:21:56.070Z"
   },
   {
    "duration": 529,
    "start_time": "2021-12-18T19:22:11.018Z"
   },
   {
    "duration": 83,
    "start_time": "2021-12-18T19:22:32.489Z"
   },
   {
    "duration": 44,
    "start_time": "2021-12-18T19:24:11.693Z"
   },
   {
    "duration": 650,
    "start_time": "2021-12-18T19:24:30.587Z"
   },
   {
    "duration": 47,
    "start_time": "2021-12-18T19:24:43.766Z"
   },
   {
    "duration": 155,
    "start_time": "2021-12-18T19:25:31.481Z"
   },
   {
    "duration": 158,
    "start_time": "2021-12-18T19:25:39.520Z"
   },
   {
    "duration": 14,
    "start_time": "2021-12-18T19:26:25.143Z"
   },
   {
    "duration": 32,
    "start_time": "2021-12-18T19:26:33.724Z"
   },
   {
    "duration": 42,
    "start_time": "2021-12-18T19:26:39.391Z"
   },
   {
    "duration": 32,
    "start_time": "2021-12-18T19:26:49.122Z"
   },
   {
    "duration": 324,
    "start_time": "2021-12-18T20:57:41.806Z"
   },
   {
    "duration": 33,
    "start_time": "2021-12-18T21:01:05.320Z"
   },
   {
    "duration": 52,
    "start_time": "2021-12-18T21:05:20.648Z"
   },
   {
    "duration": 48,
    "start_time": "2021-12-18T21:05:33.809Z"
   },
   {
    "duration": 53,
    "start_time": "2021-12-18T21:05:38.364Z"
   },
   {
    "duration": 51,
    "start_time": "2021-12-18T21:06:02.308Z"
   },
   {
    "duration": 32,
    "start_time": "2021-12-18T21:06:34.540Z"
   },
   {
    "duration": 28,
    "start_time": "2021-12-18T21:07:55.628Z"
   },
   {
    "duration": 18,
    "start_time": "2021-12-18T21:08:13.064Z"
   },
   {
    "duration": 26,
    "start_time": "2021-12-18T21:08:19.837Z"
   },
   {
    "duration": 23,
    "start_time": "2021-12-18T21:08:23.965Z"
   },
   {
    "duration": 17,
    "start_time": "2021-12-18T21:08:29.947Z"
   },
   {
    "duration": 6,
    "start_time": "2021-12-18T21:09:29.858Z"
   },
   {
    "duration": 69,
    "start_time": "2021-12-18T21:16:57.665Z"
   },
   {
    "duration": 316,
    "start_time": "2021-12-18T21:17:31.451Z"
   },
   {
    "duration": 71,
    "start_time": "2021-12-18T21:17:45.250Z"
   },
   {
    "duration": 7,
    "start_time": "2021-12-18T21:19:14.359Z"
   },
   {
    "duration": 602,
    "start_time": "2021-12-18T21:19:16.928Z"
   },
   {
    "duration": 6,
    "start_time": "2021-12-18T21:19:22.986Z"
   },
   {
    "duration": 27,
    "start_time": "2021-12-18T21:19:26.478Z"
   },
   {
    "duration": 109,
    "start_time": "2021-12-18T21:20:19.532Z"
   },
   {
    "duration": 68,
    "start_time": "2021-12-18T21:20:33.913Z"
   },
   {
    "duration": 72,
    "start_time": "2021-12-18T21:20:45.352Z"
   },
   {
    "duration": 68,
    "start_time": "2021-12-18T21:20:57.237Z"
   },
   {
    "duration": 75,
    "start_time": "2021-12-18T21:21:29.729Z"
   },
   {
    "duration": 296,
    "start_time": "2021-12-18T21:30:46.708Z"
   },
   {
    "duration": 32,
    "start_time": "2021-12-18T21:31:08.709Z"
   },
   {
    "duration": 12,
    "start_time": "2021-12-18T21:31:10.885Z"
   },
   {
    "duration": 334,
    "start_time": "2021-12-18T21:31:48.941Z"
   },
   {
    "duration": 321,
    "start_time": "2021-12-18T21:31:54.806Z"
   },
   {
    "duration": 36,
    "start_time": "2021-12-18T21:32:23.929Z"
   },
   {
    "duration": 12,
    "start_time": "2021-12-18T21:32:26.812Z"
   },
   {
    "duration": 296,
    "start_time": "2021-12-18T21:33:33.736Z"
   },
   {
    "duration": 4,
    "start_time": "2021-12-18T21:35:00.352Z"
   },
   {
    "duration": 28,
    "start_time": "2021-12-18T21:35:09.122Z"
   },
   {
    "duration": 32,
    "start_time": "2021-12-18T21:35:26.209Z"
   },
   {
    "duration": 14,
    "start_time": "2021-12-18T21:35:28.681Z"
   },
   {
    "duration": 337,
    "start_time": "2021-12-18T21:36:14.239Z"
   },
   {
    "duration": 330,
    "start_time": "2021-12-18T21:36:32.618Z"
   },
   {
    "duration": 36,
    "start_time": "2021-12-18T21:38:50.487Z"
   },
   {
    "duration": 13,
    "start_time": "2021-12-18T21:38:52.939Z"
   },
   {
    "duration": 34,
    "start_time": "2021-12-18T21:39:22.397Z"
   },
   {
    "duration": 15,
    "start_time": "2021-12-18T21:39:24.170Z"
   },
   {
    "duration": 34,
    "start_time": "2021-12-18T21:39:49.346Z"
   },
   {
    "duration": 13,
    "start_time": "2021-12-18T21:39:51.746Z"
   },
   {
    "duration": 35,
    "start_time": "2021-12-18T21:40:05.676Z"
   },
   {
    "duration": 13,
    "start_time": "2021-12-18T21:40:09.795Z"
   },
   {
    "duration": 17,
    "start_time": "2021-12-18T21:41:50.183Z"
   },
   {
    "duration": 302,
    "start_time": "2021-12-18T21:42:02.796Z"
   },
   {
    "duration": 18,
    "start_time": "2021-12-18T21:42:14.336Z"
   },
   {
    "duration": 12,
    "start_time": "2021-12-18T21:42:16.320Z"
   },
   {
    "duration": 344,
    "start_time": "2021-12-18T21:43:19.729Z"
   },
   {
    "duration": 316,
    "start_time": "2021-12-18T21:43:31.483Z"
   },
   {
    "duration": 333,
    "start_time": "2021-12-18T21:43:43.311Z"
   },
   {
    "duration": 11,
    "start_time": "2021-12-18T21:44:51.021Z"
   },
   {
    "duration": 7,
    "start_time": "2021-12-18T21:44:53.495Z"
   },
   {
    "duration": 333,
    "start_time": "2021-12-18T21:45:07.661Z"
   },
   {
    "duration": 12,
    "start_time": "2021-12-18T21:45:16.710Z"
   },
   {
    "duration": 6,
    "start_time": "2021-12-18T21:45:19.266Z"
   },
   {
    "duration": 9,
    "start_time": "2021-12-18T21:45:49.849Z"
   },
   {
    "duration": 6,
    "start_time": "2021-12-18T21:45:51.807Z"
   },
   {
    "duration": 12,
    "start_time": "2021-12-18T21:48:48.336Z"
   },
   {
    "duration": 12,
    "start_time": "2021-12-18T21:49:25.349Z"
   },
   {
    "duration": 364,
    "start_time": "2021-12-18T21:50:44.539Z"
   },
   {
    "duration": 12,
    "start_time": "2021-12-18T21:50:53.631Z"
   },
   {
    "duration": 11,
    "start_time": "2021-12-18T22:00:34.947Z"
   },
   {
    "duration": 326,
    "start_time": "2021-12-18T22:01:08.350Z"
   },
   {
    "duration": 10,
    "start_time": "2021-12-18T22:01:16.955Z"
   },
   {
    "duration": 1237,
    "start_time": "2021-12-18T22:04:51.797Z"
   },
   {
    "duration": 781,
    "start_time": "2021-12-19T16:43:18.251Z"
   },
   {
    "duration": 132,
    "start_time": "2021-12-19T16:43:35.215Z"
   },
   {
    "duration": 135,
    "start_time": "2021-12-19T16:43:42.971Z"
   },
   {
    "duration": 123,
    "start_time": "2021-12-19T16:43:48.958Z"
   },
   {
    "duration": 530,
    "start_time": "2021-12-19T16:43:56.911Z"
   },
   {
    "duration": 133,
    "start_time": "2021-12-19T16:43:59.024Z"
   },
   {
    "duration": 25,
    "start_time": "2021-12-19T16:44:00.952Z"
   },
   {
    "duration": 7,
    "start_time": "2021-12-19T16:44:10.450Z"
   },
   {
    "duration": 5,
    "start_time": "2021-12-19T16:44:15.573Z"
   },
   {
    "duration": 15,
    "start_time": "2021-12-19T16:44:19.167Z"
   },
   {
    "duration": 4,
    "start_time": "2021-12-19T16:44:22.700Z"
   },
   {
    "duration": 172,
    "start_time": "2021-12-19T16:44:28.271Z"
   },
   {
    "duration": 188,
    "start_time": "2021-12-19T16:44:38.157Z"
   },
   {
    "duration": 218,
    "start_time": "2021-12-19T16:44:41.091Z"
   },
   {
    "duration": 54,
    "start_time": "2021-12-19T16:44:44.029Z"
   },
   {
    "duration": 71,
    "start_time": "2021-12-19T16:44:45.955Z"
   },
   {
    "duration": 169,
    "start_time": "2021-12-19T16:44:48.388Z"
   },
   {
    "duration": 55,
    "start_time": "2021-12-19T16:44:50.605Z"
   },
   {
    "duration": 2,
    "start_time": "2021-12-19T16:44:55.333Z"
   },
   {
    "duration": 17,
    "start_time": "2021-12-19T16:44:57.640Z"
   },
   {
    "duration": 57,
    "start_time": "2021-12-19T16:45:00.400Z"
   },
   {
    "duration": 35,
    "start_time": "2021-12-19T16:45:05.399Z"
   },
   {
    "duration": 96,
    "start_time": "2021-12-19T16:45:08.181Z"
   },
   {
    "duration": 3,
    "start_time": "2021-12-19T16:45:23.707Z"
   },
   {
    "duration": 17,
    "start_time": "2021-12-19T16:45:26.469Z"
   },
   {
    "duration": 22,
    "start_time": "2021-12-19T16:45:28.389Z"
   },
   {
    "duration": 15,
    "start_time": "2021-12-19T16:45:30.206Z"
   },
   {
    "duration": 16,
    "start_time": "2021-12-19T16:45:32.771Z"
   },
   {
    "duration": 18,
    "start_time": "2021-12-19T16:45:34.652Z"
   },
   {
    "duration": 22,
    "start_time": "2021-12-19T16:45:36.391Z"
   },
   {
    "duration": 8,
    "start_time": "2021-12-19T16:45:43.924Z"
   },
   {
    "duration": 19,
    "start_time": "2021-12-19T16:45:51.305Z"
   },
   {
    "duration": 17,
    "start_time": "2021-12-19T16:45:56.836Z"
   },
   {
    "duration": 5,
    "start_time": "2021-12-19T16:45:59.426Z"
   },
   {
    "duration": 19,
    "start_time": "2021-12-19T16:46:02.255Z"
   },
   {
    "duration": 14,
    "start_time": "2021-12-19T16:46:06.346Z"
   },
   {
    "duration": 17,
    "start_time": "2021-12-19T16:46:08.514Z"
   },
   {
    "duration": 13,
    "start_time": "2021-12-19T16:46:10.999Z"
   },
   {
    "duration": 9,
    "start_time": "2021-12-19T16:46:15.475Z"
   },
   {
    "duration": 5,
    "start_time": "2021-12-19T16:46:18.153Z"
   },
   {
    "duration": 6,
    "start_time": "2021-12-19T16:46:21.969Z"
   },
   {
    "duration": 5,
    "start_time": "2021-12-19T16:46:27.425Z"
   },
   {
    "duration": 145,
    "start_time": "2021-12-19T16:46:29.773Z"
   },
   {
    "duration": 187,
    "start_time": "2021-12-19T16:46:49.348Z"
   },
   {
    "duration": 136,
    "start_time": "2021-12-19T16:47:19.658Z"
   },
   {
    "duration": 141,
    "start_time": "2021-12-19T16:47:41.027Z"
   },
   {
    "duration": 134,
    "start_time": "2021-12-19T16:48:49.525Z"
   },
   {
    "duration": 140,
    "start_time": "2021-12-19T16:49:29.882Z"
   },
   {
    "duration": 10,
    "start_time": "2021-12-19T17:00:26.465Z"
   },
   {
    "duration": 11,
    "start_time": "2021-12-19T17:00:53.584Z"
   },
   {
    "duration": 14,
    "start_time": "2021-12-19T17:01:01.161Z"
   },
   {
    "duration": 10,
    "start_time": "2021-12-19T17:01:53.208Z"
   },
   {
    "duration": 10,
    "start_time": "2021-12-19T17:07:44.353Z"
   },
   {
    "duration": 523,
    "start_time": "2021-12-20T10:24:42.241Z"
   },
   {
    "duration": 138,
    "start_time": "2021-12-20T10:24:42.766Z"
   },
   {
    "duration": 16,
    "start_time": "2021-12-20T10:24:42.908Z"
   },
   {
    "duration": 8,
    "start_time": "2021-12-20T10:24:42.925Z"
   },
   {
    "duration": 6,
    "start_time": "2021-12-20T10:24:42.934Z"
   },
   {
    "duration": 11,
    "start_time": "2021-12-20T10:24:42.942Z"
   },
   {
    "duration": 5,
    "start_time": "2021-12-20T10:24:42.955Z"
   },
   {
    "duration": 197,
    "start_time": "2021-12-20T10:24:42.962Z"
   },
   {
    "duration": 184,
    "start_time": "2021-12-20T10:24:43.161Z"
   },
   {
    "duration": 177,
    "start_time": "2021-12-20T10:24:43.347Z"
   },
   {
    "duration": 52,
    "start_time": "2021-12-20T10:24:43.526Z"
   },
   {
    "duration": 74,
    "start_time": "2021-12-20T10:24:43.579Z"
   },
   {
    "duration": 136,
    "start_time": "2021-12-20T10:24:43.655Z"
   },
   {
    "duration": 42,
    "start_time": "2021-12-20T10:24:43.792Z"
   },
   {
    "duration": 3,
    "start_time": "2021-12-20T10:24:43.836Z"
   },
   {
    "duration": 22,
    "start_time": "2021-12-20T10:24:43.840Z"
   },
   {
    "duration": 70,
    "start_time": "2021-12-20T10:24:43.863Z"
   },
   {
    "duration": 31,
    "start_time": "2021-12-20T10:24:43.935Z"
   },
   {
    "duration": 108,
    "start_time": "2021-12-20T10:24:43.968Z"
   },
   {
    "duration": 3,
    "start_time": "2021-12-20T10:24:44.077Z"
   },
   {
    "duration": 36,
    "start_time": "2021-12-20T10:24:44.082Z"
   },
   {
    "duration": 12,
    "start_time": "2021-12-20T10:24:44.121Z"
   },
   {
    "duration": 21,
    "start_time": "2021-12-20T10:24:44.135Z"
   },
   {
    "duration": 12,
    "start_time": "2021-12-20T10:24:44.157Z"
   },
   {
    "duration": 28,
    "start_time": "2021-12-20T10:24:44.170Z"
   },
   {
    "duration": 14,
    "start_time": "2021-12-20T10:24:44.199Z"
   },
   {
    "duration": 8,
    "start_time": "2021-12-20T10:24:44.214Z"
   },
   {
    "duration": 21,
    "start_time": "2021-12-20T10:24:44.223Z"
   },
   {
    "duration": 17,
    "start_time": "2021-12-20T10:24:44.246Z"
   },
   {
    "duration": 28,
    "start_time": "2021-12-20T10:24:44.264Z"
   },
   {
    "duration": 27,
    "start_time": "2021-12-20T10:24:44.293Z"
   },
   {
    "duration": 12,
    "start_time": "2021-12-20T10:24:44.321Z"
   },
   {
    "duration": 15,
    "start_time": "2021-12-20T10:24:44.334Z"
   },
   {
    "duration": 11,
    "start_time": "2021-12-20T10:24:44.351Z"
   },
   {
    "duration": 33,
    "start_time": "2021-12-20T10:24:44.363Z"
   },
   {
    "duration": 4,
    "start_time": "2021-12-20T10:24:44.398Z"
   },
   {
    "duration": 8,
    "start_time": "2021-12-20T10:24:44.404Z"
   },
   {
    "duration": 5,
    "start_time": "2021-12-20T10:24:44.414Z"
   },
   {
    "duration": 11,
    "start_time": "2021-12-20T10:24:44.421Z"
   },
   {
    "duration": 511,
    "start_time": "2021-12-20T17:10:54.235Z"
   },
   {
    "duration": 136,
    "start_time": "2021-12-20T17:10:56.995Z"
   },
   {
    "duration": 3,
    "start_time": "2021-12-20T17:11:01.926Z"
   },
   {
    "duration": 3,
    "start_time": "2021-12-20T17:11:04.400Z"
   },
   {
    "duration": 6,
    "start_time": "2021-12-20T17:11:21.840Z"
   },
   {
    "duration": 8,
    "start_time": "2021-12-20T17:11:48.316Z"
   },
   {
    "duration": 4,
    "start_time": "2021-12-20T17:11:55.265Z"
   },
   {
    "duration": 51,
    "start_time": "2021-12-20T17:15:23.949Z"
   },
   {
    "duration": 387,
    "start_time": "2021-12-20T17:15:48.989Z"
   },
   {
    "duration": 49,
    "start_time": "2021-12-20T17:16:26.382Z"
   },
   {
    "duration": 46,
    "start_time": "2021-12-20T17:16:49.987Z"
   },
   {
    "duration": 47,
    "start_time": "2021-12-20T17:17:46.247Z"
   },
   {
    "duration": 52,
    "start_time": "2021-12-20T17:20:00.613Z"
   },
   {
    "duration": 37,
    "start_time": "2021-12-20T17:21:25.886Z"
   },
   {
    "duration": 3,
    "start_time": "2021-12-20T17:21:57.666Z"
   },
   {
    "duration": 4,
    "start_time": "2021-12-20T17:22:04.395Z"
   },
   {
    "duration": 182,
    "start_time": "2021-12-20T17:22:08.010Z"
   },
   {
    "duration": 170,
    "start_time": "2021-12-20T17:22:48.365Z"
   },
   {
    "duration": 37,
    "start_time": "2021-12-20T17:22:55.906Z"
   },
   {
    "duration": 194,
    "start_time": "2021-12-20T17:23:01.372Z"
   },
   {
    "duration": 32,
    "start_time": "2021-12-20T17:23:14.170Z"
   },
   {
    "duration": 169,
    "start_time": "2021-12-20T17:23:26.904Z"
   },
   {
    "duration": 3191,
    "start_time": "2021-12-20T17:37:23.867Z"
   },
   {
    "duration": 6,
    "start_time": "2021-12-20T17:37:51.103Z"
   },
   {
    "duration": 3332,
    "start_time": "2021-12-20T17:38:05.867Z"
   },
   {
    "duration": 4,
    "start_time": "2021-12-20T17:39:01.646Z"
   },
   {
    "duration": 24,
    "start_time": "2021-12-20T17:39:27.450Z"
   },
   {
    "duration": 29,
    "start_time": "2021-12-20T17:39:52.183Z"
   },
   {
    "duration": 42,
    "start_time": "2021-12-20T17:40:45.561Z"
   },
   {
    "duration": 38,
    "start_time": "2021-12-20T17:40:52.485Z"
   },
   {
    "duration": 39,
    "start_time": "2021-12-20T17:41:00.835Z"
   },
   {
    "duration": 5,
    "start_time": "2021-12-20T17:41:10.376Z"
   },
   {
    "duration": 38,
    "start_time": "2021-12-20T17:41:21.365Z"
   },
   {
    "duration": 8,
    "start_time": "2021-12-20T17:41:45.159Z"
   },
   {
    "duration": 34,
    "start_time": "2021-12-20T17:42:04.809Z"
   },
   {
    "duration": 5,
    "start_time": "2021-12-20T17:42:54.308Z"
   },
   {
    "duration": 14,
    "start_time": "2021-12-20T17:42:58.887Z"
   },
   {
    "duration": 5,
    "start_time": "2021-12-20T17:43:01.713Z"
   },
   {
    "duration": 37,
    "start_time": "2021-12-20T17:43:04.631Z"
   },
   {
    "duration": 24,
    "start_time": "2021-12-20T17:43:34.676Z"
   },
   {
    "duration": 3,
    "start_time": "2021-12-20T17:43:41.252Z"
   },
   {
    "duration": 157,
    "start_time": "2021-12-20T17:43:43.678Z"
   },
   {
    "duration": 3,
    "start_time": "2021-12-20T17:43:45.950Z"
   },
   {
    "duration": 8,
    "start_time": "2021-12-20T17:43:57.669Z"
   },
   {
    "duration": 4,
    "start_time": "2021-12-20T17:44:02.891Z"
   },
   {
    "duration": 15,
    "start_time": "2021-12-20T17:44:06.489Z"
   },
   {
    "duration": 5,
    "start_time": "2021-12-20T17:44:09.975Z"
   },
   {
    "duration": 5,
    "start_time": "2021-12-20T17:44:13.248Z"
   },
   {
    "duration": 202,
    "start_time": "2021-12-20T17:44:50.134Z"
   },
   {
    "duration": 25,
    "start_time": "2021-12-20T17:45:06.523Z"
   },
   {
    "duration": 23,
    "start_time": "2021-12-20T17:45:09.797Z"
   },
   {
    "duration": 32,
    "start_time": "2021-12-20T17:46:39.218Z"
   },
   {
    "duration": 214,
    "start_time": "2021-12-20T17:47:07.278Z"
   },
   {
    "duration": 195,
    "start_time": "2021-12-20T17:47:23.783Z"
   },
   {
    "duration": 32,
    "start_time": "2021-12-20T17:47:40.809Z"
   },
   {
    "duration": 3,
    "start_time": "2021-12-20T17:47:52.121Z"
   },
   {
    "duration": 143,
    "start_time": "2021-12-20T17:47:54.703Z"
   },
   {
    "duration": 3,
    "start_time": "2021-12-20T17:47:56.737Z"
   },
   {
    "duration": 9,
    "start_time": "2021-12-20T17:48:01.297Z"
   },
   {
    "duration": 5,
    "start_time": "2021-12-20T17:48:06.733Z"
   },
   {
    "duration": 11,
    "start_time": "2021-12-20T17:48:11.515Z"
   },
   {
    "duration": 5,
    "start_time": "2021-12-20T17:48:13.968Z"
   },
   {
    "duration": 7,
    "start_time": "2021-12-20T17:48:19.336Z"
   },
   {
    "duration": 6,
    "start_time": "2021-12-20T17:48:46.576Z"
   },
   {
    "duration": 10,
    "start_time": "2021-12-20T17:49:11.172Z"
   },
   {
    "duration": 3,
    "start_time": "2021-12-20T17:49:19.444Z"
   },
   {
    "duration": 10,
    "start_time": "2021-12-20T17:49:25.100Z"
   },
   {
    "duration": 2,
    "start_time": "2021-12-20T17:50:31.544Z"
   },
   {
    "duration": 2,
    "start_time": "2021-12-20T17:50:36.373Z"
   },
   {
    "duration": 2,
    "start_time": "2021-12-20T17:50:44.470Z"
   },
   {
    "duration": 2,
    "start_time": "2021-12-20T17:50:48.591Z"
   },
   {
    "duration": 9,
    "start_time": "2021-12-20T17:50:51.804Z"
   },
   {
    "duration": 2,
    "start_time": "2021-12-20T17:50:56.829Z"
   },
   {
    "duration": 3,
    "start_time": "2021-12-20T17:51:17.655Z"
   },
   {
    "duration": 133,
    "start_time": "2021-12-20T17:51:34.303Z"
   },
   {
    "duration": 11,
    "start_time": "2021-12-20T17:52:01.840Z"
   },
   {
    "duration": 26,
    "start_time": "2021-12-20T17:52:17.410Z"
   },
   {
    "duration": 5,
    "start_time": "2021-12-20T17:52:28.962Z"
   },
   {
    "duration": 21,
    "start_time": "2021-12-20T17:52:36.675Z"
   },
   {
    "duration": 4,
    "start_time": "2021-12-20T17:52:39.186Z"
   },
   {
    "duration": 38,
    "start_time": "2021-12-20T17:52:42.305Z"
   },
   {
    "duration": 166,
    "start_time": "2021-12-20T17:59:32.097Z"
   },
   {
    "duration": 157,
    "start_time": "2021-12-20T17:59:52.544Z"
   },
   {
    "duration": 4148,
    "start_time": "2021-12-20T18:04:14.556Z"
   },
   {
    "duration": 140,
    "start_time": "2021-12-20T18:04:31.962Z"
   },
   {
    "duration": 139,
    "start_time": "2021-12-20T18:07:17.766Z"
   },
   {
    "duration": 52,
    "start_time": "2021-12-20T18:07:23.242Z"
   },
   {
    "duration": 179,
    "start_time": "2021-12-20T18:07:33.952Z"
   },
   {
    "duration": 53,
    "start_time": "2021-12-20T18:07:46.502Z"
   },
   {
    "duration": 23,
    "start_time": "2021-12-20T18:08:10.646Z"
   },
   {
    "duration": 172,
    "start_time": "2021-12-20T18:09:26.123Z"
   },
   {
    "duration": 54,
    "start_time": "2021-12-20T18:11:06.563Z"
   },
   {
    "duration": 67,
    "start_time": "2021-12-20T18:11:10.528Z"
   },
   {
    "duration": 72,
    "start_time": "2021-12-20T18:11:16.304Z"
   },
   {
    "duration": 133,
    "start_time": "2021-12-20T18:11:20.030Z"
   },
   {
    "duration": 39,
    "start_time": "2021-12-20T18:11:23.910Z"
   },
   {
    "duration": 41,
    "start_time": "2021-12-20T18:12:11.403Z"
   },
   {
    "duration": 45,
    "start_time": "2021-12-20T18:13:17.333Z"
   },
   {
    "duration": 3,
    "start_time": "2021-12-20T18:13:38.550Z"
   },
   {
    "duration": 18,
    "start_time": "2021-12-20T18:13:40.932Z"
   },
   {
    "duration": 54,
    "start_time": "2021-12-20T18:15:01.253Z"
   },
   {
    "duration": 64,
    "start_time": "2021-12-20T18:18:25.270Z"
   },
   {
    "duration": 54,
    "start_time": "2021-12-20T18:18:42.054Z"
   },
   {
    "duration": 65,
    "start_time": "2021-12-20T18:18:58.987Z"
   },
   {
    "duration": 145,
    "start_time": "2021-12-20T18:19:11.172Z"
   },
   {
    "duration": 70,
    "start_time": "2021-12-20T18:19:13.741Z"
   },
   {
    "duration": 2,
    "start_time": "2021-12-20T18:19:29.696Z"
   },
   {
    "duration": 174,
    "start_time": "2021-12-20T18:19:32.080Z"
   },
   {
    "duration": 11,
    "start_time": "2021-12-20T18:19:34.165Z"
   },
   {
    "duration": 27,
    "start_time": "2021-12-20T18:19:38.364Z"
   },
   {
    "duration": 4,
    "start_time": "2021-12-20T18:19:44.014Z"
   },
   {
    "duration": 13,
    "start_time": "2021-12-20T18:19:47.780Z"
   },
   {
    "duration": 6,
    "start_time": "2021-12-20T18:19:49.798Z"
   },
   {
    "duration": 34,
    "start_time": "2021-12-20T18:19:52.673Z"
   },
   {
    "duration": 48,
    "start_time": "2021-12-20T18:19:55.343Z"
   },
   {
    "duration": 24,
    "start_time": "2021-12-20T18:19:57.338Z"
   },
   {
    "duration": 149,
    "start_time": "2021-12-20T18:20:17.897Z"
   },
   {
    "duration": 135,
    "start_time": "2021-12-20T18:20:56.985Z"
   },
   {
    "duration": 136,
    "start_time": "2021-12-20T18:21:07.018Z"
   },
   {
    "duration": 132,
    "start_time": "2021-12-20T18:23:30.855Z"
   },
   {
    "duration": 29,
    "start_time": "2021-12-20T18:25:31.981Z"
   },
   {
    "duration": 23,
    "start_time": "2021-12-20T18:25:35.749Z"
   },
   {
    "duration": 159,
    "start_time": "2021-12-20T18:25:50.485Z"
   },
   {
    "duration": 3956,
    "start_time": "2021-12-20T18:26:22.429Z"
   },
   {
    "duration": -134,
    "start_time": "2021-12-20T18:26:26.521Z"
   },
   {
    "duration": 18,
    "start_time": "2021-12-20T18:26:42.350Z"
   },
   {
    "duration": 23,
    "start_time": "2021-12-20T18:26:45.489Z"
   },
   {
    "duration": 18,
    "start_time": "2021-12-20T18:32:44.328Z"
   },
   {
    "duration": 23,
    "start_time": "2021-12-20T18:32:53.807Z"
   },
   {
    "duration": 172,
    "start_time": "2021-12-20T18:40:58.489Z"
   },
   {
    "duration": 3047,
    "start_time": "2021-12-20T18:43:45.140Z"
   },
   {
    "duration": 135,
    "start_time": "2021-12-20T18:44:03.503Z"
   },
   {
    "duration": 3300,
    "start_time": "2021-12-20T18:48:59.648Z"
   },
   {
    "duration": 3257,
    "start_time": "2021-12-20T18:49:41.025Z"
   },
   {
    "duration": 154,
    "start_time": "2021-12-20T18:52:00.274Z"
   },
   {
    "duration": 136,
    "start_time": "2021-12-20T18:53:04.505Z"
   },
   {
    "duration": 132,
    "start_time": "2021-12-20T18:53:25.867Z"
   },
   {
    "duration": 133,
    "start_time": "2021-12-20T18:54:56.237Z"
   },
   {
    "duration": 146,
    "start_time": "2021-12-20T18:55:08.157Z"
   },
   {
    "duration": 8,
    "start_time": "2021-12-20T18:55:46.239Z"
   },
   {
    "duration": 23,
    "start_time": "2021-12-20T18:55:54.971Z"
   },
   {
    "duration": 138,
    "start_time": "2021-12-20T18:56:11.292Z"
   },
   {
    "duration": 133,
    "start_time": "2021-12-20T18:56:18.281Z"
   },
   {
    "duration": 144,
    "start_time": "2021-12-20T18:56:25.312Z"
   },
   {
    "duration": 138,
    "start_time": "2021-12-20T18:59:16.116Z"
   },
   {
    "duration": 134,
    "start_time": "2021-12-20T19:00:51.564Z"
   },
   {
    "duration": 137,
    "start_time": "2021-12-20T19:02:04.481Z"
   },
   {
    "duration": 3285,
    "start_time": "2021-12-20T19:02:49.287Z"
   },
   {
    "duration": 4025,
    "start_time": "2021-12-20T19:03:32.403Z"
   },
   {
    "duration": 17,
    "start_time": "2021-12-20T19:12:18.447Z"
   },
   {
    "duration": 22,
    "start_time": "2021-12-20T19:12:24.740Z"
   },
   {
    "duration": 25,
    "start_time": "2021-12-20T19:16:51.979Z"
   },
   {
    "duration": 37,
    "start_time": "2021-12-20T19:16:54.441Z"
   },
   {
    "duration": 54,
    "start_time": "2021-12-20T19:27:21.770Z"
   },
   {
    "duration": 67,
    "start_time": "2021-12-20T19:27:24.620Z"
   },
   {
    "duration": 118,
    "start_time": "2021-12-20T19:27:27.274Z"
   },
   {
    "duration": 38,
    "start_time": "2021-12-20T19:27:29.740Z"
   },
   {
    "duration": 3,
    "start_time": "2021-12-20T19:27:52.117Z"
   },
   {
    "duration": 33,
    "start_time": "2021-12-20T19:27:54.760Z"
   },
   {
    "duration": 40,
    "start_time": "2021-12-20T19:41:38.426Z"
   },
   {
    "duration": 65,
    "start_time": "2021-12-20T19:41:47.632Z"
   },
   {
    "duration": 119,
    "start_time": "2021-12-20T19:41:50.429Z"
   },
   {
    "duration": 38,
    "start_time": "2021-12-20T19:41:53.558Z"
   },
   {
    "duration": 3,
    "start_time": "2021-12-20T19:42:04.824Z"
   },
   {
    "duration": 133,
    "start_time": "2021-12-20T19:42:06.738Z"
   },
   {
    "duration": 11,
    "start_time": "2021-12-20T19:42:08.443Z"
   },
   {
    "duration": 24,
    "start_time": "2021-12-20T19:42:11.537Z"
   },
   {
    "duration": 4,
    "start_time": "2021-12-20T19:42:18.021Z"
   },
   {
    "duration": 17,
    "start_time": "2021-12-20T19:42:21.875Z"
   },
   {
    "duration": 4,
    "start_time": "2021-12-20T19:42:24.016Z"
   },
   {
    "duration": 35,
    "start_time": "2021-12-20T19:42:28.267Z"
   },
   {
    "duration": 17,
    "start_time": "2021-12-20T19:42:34.949Z"
   },
   {
    "duration": 24,
    "start_time": "2021-12-20T19:42:37.220Z"
   },
   {
    "duration": 54,
    "start_time": "2021-12-20T19:42:40.267Z"
   },
   {
    "duration": 69,
    "start_time": "2021-12-20T19:42:42.232Z"
   },
   {
    "duration": 133,
    "start_time": "2021-12-20T19:42:44.980Z"
   },
   {
    "duration": 40,
    "start_time": "2021-12-20T19:42:47.404Z"
   },
   {
    "duration": 3,
    "start_time": "2021-12-20T19:42:55.796Z"
   },
   {
    "duration": 36,
    "start_time": "2021-12-20T19:42:58.365Z"
   },
   {
    "duration": 62,
    "start_time": "2021-12-20T19:43:02.454Z"
   },
   {
    "duration": 4,
    "start_time": "2021-12-20T19:43:32.162Z"
   },
   {
    "duration": 35,
    "start_time": "2021-12-20T19:43:33.845Z"
   },
   {
    "duration": 47,
    "start_time": "2021-12-20T19:43:42.389Z"
   },
   {
    "duration": 52,
    "start_time": "2021-12-20T19:43:50.137Z"
   },
   {
    "duration": 32,
    "start_time": "2021-12-20T19:44:06.193Z"
   },
   {
    "duration": 2407,
    "start_time": "2021-12-20T19:46:39.043Z"
   },
   {
    "duration": 96,
    "start_time": "2021-12-20T19:46:47.003Z"
   },
   {
    "duration": 10,
    "start_time": "2021-12-20T19:47:32.355Z"
   },
   {
    "duration": 78,
    "start_time": "2021-12-20T19:49:11.191Z"
   },
   {
    "duration": 94,
    "start_time": "2021-12-20T19:49:21.994Z"
   },
   {
    "duration": 81,
    "start_time": "2021-12-20T19:49:28.230Z"
   },
   {
    "duration": 40,
    "start_time": "2021-12-20T19:50:12.417Z"
   },
   {
    "duration": 3,
    "start_time": "2021-12-20T19:50:30.755Z"
   },
   {
    "duration": 9,
    "start_time": "2021-12-20T19:50:40.769Z"
   },
   {
    "duration": 49,
    "start_time": "2021-12-20T19:52:25.913Z"
   },
   {
    "duration": 24,
    "start_time": "2021-12-20T19:52:41.253Z"
   },
   {
    "duration": 19,
    "start_time": "2021-12-20T19:52:43.913Z"
   },
   {
    "duration": 4,
    "start_time": "2021-12-20T19:52:47.581Z"
   },
   {
    "duration": 21,
    "start_time": "2021-12-20T19:52:51.921Z"
   },
   {
    "duration": 4,
    "start_time": "2021-12-20T19:56:22.812Z"
   },
   {
    "duration": 17,
    "start_time": "2021-12-20T19:56:29.947Z"
   },
   {
    "duration": 41,
    "start_time": "2021-12-20T19:57:40.051Z"
   },
   {
    "duration": 59,
    "start_time": "2021-12-20T20:00:27.245Z"
   },
   {
    "duration": 1026,
    "start_time": "2021-12-20T20:04:33.131Z"
   },
   {
    "duration": 243,
    "start_time": "2021-12-20T20:04:34.160Z"
   },
   {
    "duration": 27,
    "start_time": "2021-12-20T20:04:34.407Z"
   },
   {
    "duration": 61,
    "start_time": "2021-12-20T20:04:34.437Z"
   },
   {
    "duration": 98,
    "start_time": "2021-12-20T20:04:34.501Z"
   },
   {
    "duration": 101,
    "start_time": "2021-12-20T20:04:34.602Z"
   },
   {
    "duration": 51,
    "start_time": "2021-12-20T20:04:34.706Z"
   },
   {
    "duration": 83,
    "start_time": "2021-12-20T20:04:34.762Z"
   },
   {
    "duration": 28,
    "start_time": "2021-12-20T20:04:34.848Z"
   },
   {
    "duration": 41,
    "start_time": "2021-12-20T20:04:34.878Z"
   },
   {
    "duration": 99,
    "start_time": "2021-12-20T20:04:34.922Z"
   },
   {
    "duration": 122,
    "start_time": "2021-12-20T20:04:35.025Z"
   },
   {
    "duration": 188,
    "start_time": "2021-12-20T20:04:35.149Z"
   },
   {
    "duration": 61,
    "start_time": "2021-12-20T20:04:35.340Z"
   },
   {
    "duration": 4,
    "start_time": "2021-12-20T20:04:35.403Z"
   },
   {
    "duration": 77,
    "start_time": "2021-12-20T20:04:35.410Z"
   },
   {
    "duration": 482,
    "start_time": "2021-12-20T20:04:35.489Z"
   },
   {
    "duration": -3138,
    "start_time": "2021-12-20T20:04:39.114Z"
   },
   {
    "duration": -3139,
    "start_time": "2021-12-20T20:04:39.117Z"
   },
   {
    "duration": -3139,
    "start_time": "2021-12-20T20:04:39.119Z"
   },
   {
    "duration": -3139,
    "start_time": "2021-12-20T20:04:39.121Z"
   },
   {
    "duration": -3138,
    "start_time": "2021-12-20T20:04:39.123Z"
   },
   {
    "duration": -3140,
    "start_time": "2021-12-20T20:04:39.127Z"
   },
   {
    "duration": -3139,
    "start_time": "2021-12-20T20:04:39.129Z"
   },
   {
    "duration": -3140,
    "start_time": "2021-12-20T20:04:39.131Z"
   },
   {
    "duration": -3140,
    "start_time": "2021-12-20T20:04:39.133Z"
   },
   {
    "duration": -3140,
    "start_time": "2021-12-20T20:04:39.134Z"
   },
   {
    "duration": -3140,
    "start_time": "2021-12-20T20:04:39.136Z"
   },
   {
    "duration": -3145,
    "start_time": "2021-12-20T20:04:39.142Z"
   },
   {
    "duration": -3191,
    "start_time": "2021-12-20T20:04:39.190Z"
   },
   {
    "duration": -3197,
    "start_time": "2021-12-20T20:04:39.198Z"
   },
   {
    "duration": -3199,
    "start_time": "2021-12-20T20:04:39.201Z"
   },
   {
    "duration": -3199,
    "start_time": "2021-12-20T20:04:39.203Z"
   },
   {
    "duration": -3198,
    "start_time": "2021-12-20T20:04:39.206Z"
   },
   {
    "duration": -3202,
    "start_time": "2021-12-20T20:04:39.212Z"
   },
   {
    "duration": -3202,
    "start_time": "2021-12-20T20:04:39.214Z"
   },
   {
    "duration": -3154,
    "start_time": "2021-12-20T20:04:39.217Z"
   },
   {
    "duration": -3154,
    "start_time": "2021-12-20T20:04:39.219Z"
   },
   {
    "duration": -3154,
    "start_time": "2021-12-20T20:04:39.222Z"
   },
   {
    "duration": 16,
    "start_time": "2021-12-20T20:05:28.069Z"
   },
   {
    "duration": 166,
    "start_time": "2021-12-20T20:05:28.670Z"
   },
   {
    "duration": 5,
    "start_time": "2021-12-20T20:05:51.030Z"
   },
   {
    "duration": 25,
    "start_time": "2021-12-20T20:05:51.356Z"
   },
   {
    "duration": 26,
    "start_time": "2021-12-20T20:05:51.514Z"
   },
   {
    "duration": 26,
    "start_time": "2021-12-20T20:05:51.698Z"
   },
   {
    "duration": 19,
    "start_time": "2021-12-20T20:05:51.848Z"
   },
   {
    "duration": 28,
    "start_time": "2021-12-20T20:05:52.032Z"
   },
   {
    "duration": 20,
    "start_time": "2021-12-20T20:05:52.217Z"
   },
   {
    "duration": 14,
    "start_time": "2021-12-20T20:05:52.556Z"
   },
   {
    "duration": 373,
    "start_time": "2021-12-20T20:06:18.505Z"
   },
   {
    "duration": 586,
    "start_time": "2021-12-20T20:06:19.530Z"
   },
   {
    "duration": 354,
    "start_time": "2021-12-20T20:06:22.230Z"
   },
   {
    "duration": 33,
    "start_time": "2021-12-20T20:06:25.462Z"
   },
   {
    "duration": 41,
    "start_time": "2021-12-20T20:06:25.819Z"
   },
   {
    "duration": 9,
    "start_time": "2021-12-20T20:06:26.186Z"
   },
   {
    "duration": 33,
    "start_time": "2021-12-20T20:06:27.002Z"
   },
   {
    "duration": 19,
    "start_time": "2021-12-20T20:06:27.176Z"
   },
   {
    "duration": 25,
    "start_time": "2021-12-20T20:06:27.340Z"
   },
   {
    "duration": 19,
    "start_time": "2021-12-20T20:06:27.495Z"
   },
   {
    "duration": 15,
    "start_time": "2021-12-20T20:06:28.439Z"
   },
   {
    "duration": 8,
    "start_time": "2021-12-20T20:06:32.862Z"
   },
   {
    "duration": 11,
    "start_time": "2021-12-20T20:06:33.994Z"
   },
   {
    "duration": 8,
    "start_time": "2021-12-20T20:06:35.961Z"
   },
   {
    "duration": 21,
    "start_time": "2021-12-20T20:06:36.815Z"
   },
   {
    "duration": 378,
    "start_time": "2021-12-20T20:08:11.352Z"
   },
   {
    "duration": 95,
    "start_time": "2021-12-20T20:08:30.114Z"
   },
   {
    "duration": 88,
    "start_time": "2021-12-20T20:08:33.629Z"
   },
   {
    "duration": 22,
    "start_time": "2021-12-20T20:08:41.215Z"
   },
   {
    "duration": 8,
    "start_time": "2021-12-20T20:08:57.870Z"
   },
   {
    "duration": 6,
    "start_time": "2021-12-20T20:10:20.931Z"
   },
   {
    "duration": 21,
    "start_time": "2021-12-20T20:12:18.032Z"
   },
   {
    "duration": 7,
    "start_time": "2021-12-20T20:12:44.709Z"
   },
   {
    "duration": 12,
    "start_time": "2021-12-20T20:12:49.895Z"
   },
   {
    "duration": 302,
    "start_time": "2021-12-20T20:13:29.717Z"
   },
   {
    "duration": 16,
    "start_time": "2021-12-20T20:13:38.582Z"
   },
   {
    "duration": 321,
    "start_time": "2021-12-20T20:13:44.388Z"
   },
   {
    "duration": 305,
    "start_time": "2021-12-20T20:13:48.151Z"
   },
   {
    "duration": 15,
    "start_time": "2021-12-20T20:13:52.088Z"
   },
   {
    "duration": 12,
    "start_time": "2021-12-20T20:14:19.901Z"
   },
   {
    "duration": 843,
    "start_time": "2021-12-20T20:15:00.111Z"
   },
   {
    "duration": 272,
    "start_time": "2021-12-20T20:15:00.962Z"
   },
   {
    "duration": 43,
    "start_time": "2021-12-20T20:15:01.238Z"
   },
   {
    "duration": 52,
    "start_time": "2021-12-20T20:15:01.284Z"
   },
   {
    "duration": 28,
    "start_time": "2021-12-20T20:15:01.339Z"
   },
   {
    "duration": 45,
    "start_time": "2021-12-20T20:15:01.370Z"
   },
   {
    "duration": 10,
    "start_time": "2021-12-20T20:15:01.418Z"
   },
   {
    "duration": 112,
    "start_time": "2021-12-20T20:15:01.433Z"
   },
   {
    "duration": 35,
    "start_time": "2021-12-20T20:15:01.562Z"
   },
   {
    "duration": 69,
    "start_time": "2021-12-20T20:15:01.600Z"
   },
   {
    "duration": 127,
    "start_time": "2021-12-20T20:15:01.672Z"
   },
   {
    "duration": 151,
    "start_time": "2021-12-20T20:15:01.802Z"
   },
   {
    "duration": 269,
    "start_time": "2021-12-20T20:15:01.957Z"
   },
   {
    "duration": 114,
    "start_time": "2021-12-20T20:15:02.230Z"
   },
   {
    "duration": 14,
    "start_time": "2021-12-20T20:15:02.348Z"
   },
   {
    "duration": 97,
    "start_time": "2021-12-20T20:15:02.366Z"
   },
   {
    "duration": 442,
    "start_time": "2021-12-20T20:15:02.466Z"
   },
   {
    "duration": -3175,
    "start_time": "2021-12-20T20:15:06.088Z"
   },
   {
    "duration": -3174,
    "start_time": "2021-12-20T20:15:06.090Z"
   },
   {
    "duration": -3174,
    "start_time": "2021-12-20T20:15:06.092Z"
   },
   {
    "duration": -3174,
    "start_time": "2021-12-20T20:15:06.094Z"
   },
   {
    "duration": -3175,
    "start_time": "2021-12-20T20:15:06.098Z"
   },
   {
    "duration": -3179,
    "start_time": "2021-12-20T20:15:06.104Z"
   },
   {
    "duration": -3180,
    "start_time": "2021-12-20T20:15:06.107Z"
   },
   {
    "duration": -3179,
    "start_time": "2021-12-20T20:15:06.108Z"
   },
   {
    "duration": -3179,
    "start_time": "2021-12-20T20:15:06.110Z"
   },
   {
    "duration": -3181,
    "start_time": "2021-12-20T20:15:06.114Z"
   },
   {
    "duration": -3186,
    "start_time": "2021-12-20T20:15:06.121Z"
   },
   {
    "duration": -3191,
    "start_time": "2021-12-20T20:15:06.128Z"
   },
   {
    "duration": -3193,
    "start_time": "2021-12-20T20:15:06.133Z"
   },
   {
    "duration": -3197,
    "start_time": "2021-12-20T20:15:06.139Z"
   },
   {
    "duration": -3199,
    "start_time": "2021-12-20T20:15:06.142Z"
   },
   {
    "duration": -3199,
    "start_time": "2021-12-20T20:15:06.145Z"
   },
   {
    "duration": -3199,
    "start_time": "2021-12-20T20:15:06.147Z"
   },
   {
    "duration": -3200,
    "start_time": "2021-12-20T20:15:06.149Z"
   },
   {
    "duration": -3204,
    "start_time": "2021-12-20T20:15:06.155Z"
   },
   {
    "duration": -3194,
    "start_time": "2021-12-20T20:15:06.158Z"
   },
   {
    "duration": -3195,
    "start_time": "2021-12-20T20:15:06.161Z"
   },
   {
    "duration": -3195,
    "start_time": "2021-12-20T20:15:06.163Z"
   },
   {
    "duration": -3198,
    "start_time": "2021-12-20T20:15:06.167Z"
   },
   {
    "duration": -3201,
    "start_time": "2021-12-20T20:15:06.172Z"
   },
   {
    "duration": 23,
    "start_time": "2021-12-20T20:15:13.073Z"
   },
   {
    "duration": 203,
    "start_time": "2021-12-20T20:15:13.393Z"
   },
   {
    "duration": 7,
    "start_time": "2021-12-20T20:15:14.433Z"
   },
   {
    "duration": 31,
    "start_time": "2021-12-20T20:15:14.772Z"
   },
   {
    "duration": 24,
    "start_time": "2021-12-20T20:15:14.944Z"
   },
   {
    "duration": 29,
    "start_time": "2021-12-20T20:15:15.127Z"
   },
   {
    "duration": 26,
    "start_time": "2021-12-20T20:15:15.300Z"
   },
   {
    "duration": 31,
    "start_time": "2021-12-20T20:15:15.474Z"
   },
   {
    "duration": 27,
    "start_time": "2021-12-20T20:15:15.646Z"
   },
   {
    "duration": 17,
    "start_time": "2021-12-20T20:15:16.022Z"
   },
   {
    "duration": 41,
    "start_time": "2021-12-20T20:15:17.383Z"
   },
   {
    "duration": 40,
    "start_time": "2021-12-20T20:15:17.549Z"
   },
   {
    "duration": 13,
    "start_time": "2021-12-20T20:15:17.889Z"
   },
   {
    "duration": 38,
    "start_time": "2021-12-20T20:15:18.774Z"
   },
   {
    "duration": 28,
    "start_time": "2021-12-20T20:15:18.966Z"
   },
   {
    "duration": 39,
    "start_time": "2021-12-20T20:15:19.143Z"
   },
   {
    "duration": 27,
    "start_time": "2021-12-20T20:15:19.305Z"
   },
   {
    "duration": 13,
    "start_time": "2021-12-20T20:15:20.042Z"
   },
   {
    "duration": 19,
    "start_time": "2021-12-20T20:15:20.402Z"
   },
   {
    "duration": 8,
    "start_time": "2021-12-20T20:15:20.762Z"
   },
   {
    "duration": 7,
    "start_time": "2021-12-20T20:15:21.321Z"
   },
   {
    "duration": 28,
    "start_time": "2021-12-20T20:15:21.642Z"
   },
   {
    "duration": 6,
    "start_time": "2021-12-20T20:15:23.241Z"
   },
   {
    "duration": 12,
    "start_time": "2021-12-20T20:15:24.425Z"
   },
   {
    "duration": 2642,
    "start_time": "2021-12-20T22:27:58.676Z"
   },
   {
    "duration": 961,
    "start_time": "2021-12-20T22:28:43.507Z"
   },
   {
    "duration": 633,
    "start_time": "2021-12-20T22:29:14.428Z"
   },
   {
    "duration": 633,
    "start_time": "2021-12-20T22:30:35.479Z"
   }
  ],
  "colab": {
   "collapsed_sections": [
    "E0vqbgi9ay0H",
    "VUC88oWjTJw2"
   ],
   "name": "yandex_music_project_2021.2.ipynb",
   "provenance": []
  },
  "kernelspec": {
   "display_name": "Python 3 (ipykernel)",
   "language": "python",
   "name": "python3"
  },
  "language_info": {
   "codemirror_mode": {
    "name": "ipython",
    "version": 3
   },
   "file_extension": ".py",
   "mimetype": "text/x-python",
   "name": "python",
   "nbconvert_exporter": "python",
   "pygments_lexer": "ipython3",
   "version": "3.9.7"
  },
  "toc": {
   "base_numbering": 1,
   "nav_menu": {},
   "number_sections": true,
   "sideBar": true,
   "skip_h1_title": true,
   "title_cell": "Table of Contents",
   "title_sidebar": "Contents",
   "toc_cell": false,
   "toc_position": {},
   "toc_section_display": true,
   "toc_window_display": true
  }
 },
 "nbformat": 4,
 "nbformat_minor": 1
}
