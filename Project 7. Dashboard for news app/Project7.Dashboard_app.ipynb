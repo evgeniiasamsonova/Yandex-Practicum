{
 "cells": [
  {
   "cell_type": "markdown",
   "id": "6e06b963",
   "metadata": {},
   "source": [
    "### Выгрузка из базы данных"
   ]
  },
  {
   "cell_type": "markdown",
   "id": "dd217e2b",
   "metadata": {},
   "source": [
    "Запустим необходимый код для выгрузки таблицы SQL из базы данных "
   ]
  },
  {
   "cell_type": "code",
   "execution_count": 28,
   "id": "b64e2ac1",
   "metadata": {},
   "outputs": [],
   "source": [
    "# импортируем библиотеки\n",
    "import pandas as pd\n",
    "from sqlalchemy import create_engine\n",
    "\n",
    "db_config = {'user': 'praktikum_student', # имя пользователя\n",
    "            'pwd': 'Sdf4$2;d-d30pp', # пароль\n",
    "            'host': 'rc1b-wcoijxj3yxfsf3fs.mdb.yandexcloud.net',\n",
    "            'port': 6432, # порт подключения\n",
    "            'db': 'data-analyst-zen-project-db'} # название базы данных\n",
    "\n",
    "connection_string = 'postgresql://{}:{}@{}:{}/{}'.format(db_config['user'],\n",
    "                                                db_config['pwd'],\n",
    "                                                db_config['host'],\n",
    "                                                db_config['port'],\n",
    "                                                db_config['db'])\n",
    "\n",
    "engine = create_engine(connection_string) \n",
    "query = '''\n",
    "        SELECT *\n",
    "        FROM log_raw\n",
    "        '''"
   ]
  },
  {
   "cell_type": "markdown",
   "id": "e018e5c0",
   "metadata": {},
   "source": [
    "Установим необходимый модуль"
   ]
  },
  {
   "cell_type": "code",
   "execution_count": 29,
   "id": "1e7b6ce8",
   "metadata": {},
   "outputs": [
    {
     "name": "stdout",
     "output_type": "stream",
     "text": [
      "Requirement already satisfied: psycopg2-binary in /opt/anaconda3/lib/python3.9/site-packages (2.9.3)\r\n"
     ]
    }
   ],
   "source": [
    "!pip install psycopg2-binary"
   ]
  },
  {
   "cell_type": "markdown",
   "id": "eca20b6d",
   "metadata": {},
   "source": [
    "Выполним запрос и сохраним результат выполнения в переменную"
   ]
  },
  {
   "cell_type": "code",
   "execution_count": 30,
   "id": "94b45bf6",
   "metadata": {},
   "outputs": [],
   "source": [
    "df = pd.io.sql.read_sql(query, con = engine) "
   ]
  },
  {
   "cell_type": "code",
   "execution_count": 31,
   "id": "cb66632d",
   "metadata": {},
   "outputs": [
    {
     "data": {
      "text/html": [
       "<div>\n",
       "<style scoped>\n",
       "    .dataframe tbody tr th:only-of-type {\n",
       "        vertical-align: middle;\n",
       "    }\n",
       "\n",
       "    .dataframe tbody tr th {\n",
       "        vertical-align: top;\n",
       "    }\n",
       "\n",
       "    .dataframe thead th {\n",
       "        text-align: right;\n",
       "    }\n",
       "</style>\n",
       "<table border=\"1\" class=\"dataframe\">\n",
       "  <thead>\n",
       "    <tr style=\"text-align: right;\">\n",
       "      <th></th>\n",
       "      <th>event_id</th>\n",
       "      <th>age_segment</th>\n",
       "      <th>event</th>\n",
       "      <th>item_id</th>\n",
       "      <th>item_topic</th>\n",
       "      <th>item_type</th>\n",
       "      <th>source_id</th>\n",
       "      <th>source_topic</th>\n",
       "      <th>source_type</th>\n",
       "      <th>ts</th>\n",
       "      <th>user_id</th>\n",
       "    </tr>\n",
       "  </thead>\n",
       "  <tbody>\n",
       "    <tr>\n",
       "      <th>0</th>\n",
       "      <td>2931262</td>\n",
       "      <td>18-25</td>\n",
       "      <td>show</td>\n",
       "      <td>1793260</td>\n",
       "      <td>Красота</td>\n",
       "      <td>native</td>\n",
       "      <td>8388799</td>\n",
       "      <td>История</td>\n",
       "      <td>publisher</td>\n",
       "      <td>1569349657638</td>\n",
       "      <td>2185026</td>\n",
       "    </tr>\n",
       "    <tr>\n",
       "      <th>1</th>\n",
       "      <td>2931277</td>\n",
       "      <td>18-25</td>\n",
       "      <td>show</td>\n",
       "      <td>7465641</td>\n",
       "      <td>Культура</td>\n",
       "      <td>native</td>\n",
       "      <td>5837959</td>\n",
       "      <td>История</td>\n",
       "      <td>publisher</td>\n",
       "      <td>1569349657971</td>\n",
       "      <td>6845238</td>\n",
       "    </tr>\n",
       "    <tr>\n",
       "      <th>2</th>\n",
       "      <td>2931285</td>\n",
       "      <td>18-25</td>\n",
       "      <td>show</td>\n",
       "      <td>406073</td>\n",
       "      <td>История</td>\n",
       "      <td>url</td>\n",
       "      <td>2335872</td>\n",
       "      <td>Сад и дача</td>\n",
       "      <td>domain</td>\n",
       "      <td>1569349658408</td>\n",
       "      <td>5244363</td>\n",
       "    </tr>\n",
       "    <tr>\n",
       "      <th>3</th>\n",
       "      <td>2931247</td>\n",
       "      <td>26-30</td>\n",
       "      <td>show</td>\n",
       "      <td>752665</td>\n",
       "      <td>Путешествия</td>\n",
       "      <td>native</td>\n",
       "      <td>6963489</td>\n",
       "      <td>Здоровье</td>\n",
       "      <td>publisher</td>\n",
       "      <td>1569349657189</td>\n",
       "      <td>7553074</td>\n",
       "    </tr>\n",
       "    <tr>\n",
       "      <th>4</th>\n",
       "      <td>2931278</td>\n",
       "      <td>26-30</td>\n",
       "      <td>click</td>\n",
       "      <td>6843081</td>\n",
       "      <td>Юмор</td>\n",
       "      <td>url</td>\n",
       "      <td>5427748</td>\n",
       "      <td>Семейные отношения</td>\n",
       "      <td>domain</td>\n",
       "      <td>1569349658054</td>\n",
       "      <td>1317585</td>\n",
       "    </tr>\n",
       "  </tbody>\n",
       "</table>\n",
       "</div>"
      ],
      "text/plain": [
       "   event_id age_segment  event  item_id   item_topic item_type  source_id  \\\n",
       "0   2931262       18-25   show  1793260      Красота    native    8388799   \n",
       "1   2931277       18-25   show  7465641     Культура    native    5837959   \n",
       "2   2931285       18-25   show   406073      История       url    2335872   \n",
       "3   2931247       26-30   show   752665  Путешествия    native    6963489   \n",
       "4   2931278       26-30  click  6843081         Юмор       url    5427748   \n",
       "\n",
       "         source_topic source_type             ts  user_id  \n",
       "0             История   publisher  1569349657638  2185026  \n",
       "1             История   publisher  1569349657971  6845238  \n",
       "2          Сад и дача      domain  1569349658408  5244363  \n",
       "3            Здоровье   publisher  1569349657189  7553074  \n",
       "4  Семейные отношения      domain  1569349658054  1317585  "
      ]
     },
     "execution_count": 31,
     "metadata": {},
     "output_type": "execute_result"
    }
   ],
   "source": [
    "df.head()"
   ]
  },
  {
   "cell_type": "markdown",
   "id": "02812157",
   "metadata": {},
   "source": [
    "Вызовем метод info и посмотрим на данные в датафрейме"
   ]
  },
  {
   "cell_type": "code",
   "execution_count": 22,
   "id": "f349a45a",
   "metadata": {},
   "outputs": [
    {
     "name": "stdout",
     "output_type": "stream",
     "text": [
      "<class 'pandas.core.frame.DataFrame'>\n",
      "Int64Index: 30745 entries, 1040597 to 1071341\n",
      "Data columns (total 5 columns):\n",
      " #   Column        Non-Null Count  Dtype         \n",
      "---  ------        --------------  -----         \n",
      " 0   item_topic    30745 non-null  object        \n",
      " 1   source_topic  30745 non-null  object        \n",
      " 2   age_segment   30745 non-null  object        \n",
      " 3   dt            30745 non-null  datetime64[ns]\n",
      " 4   visits        30745 non-null  int64         \n",
      "dtypes: datetime64[ns](1), int64(1), object(3)\n",
      "memory usage: 1.4+ MB\n"
     ]
    }
   ],
   "source": [
    "df.info()"
   ]
  },
  {
   "cell_type": "markdown",
   "id": "e9621b22",
   "metadata": {},
   "source": [
    "Все столбцы соответсвуют типам данных, пропусков нет.\n",
    "Посмотрим есть ли дубликаты"
   ]
  },
  {
   "cell_type": "code",
   "execution_count": 24,
   "id": "ec7e1772",
   "metadata": {},
   "outputs": [
    {
     "data": {
      "text/plain": [
       "0"
      ]
     },
     "execution_count": 24,
     "metadata": {},
     "output_type": "execute_result"
    }
   ],
   "source": [
    "df.duplicated().sum()"
   ]
  },
  {
   "cell_type": "markdown",
   "id": "15de940f",
   "metadata": {},
   "source": [
    "Дубликаты отсутствуют, можно выгружать таблицу в csv"
   ]
  },
  {
   "cell_type": "markdown",
   "id": "2856aa6d",
   "metadata": {},
   "source": [
    "Выгрузим данные из таблицы dash_visits в csv файл на локальную машину "
   ]
  },
  {
   "cell_type": "code",
   "execution_count": 18,
   "id": "0e85ca19",
   "metadata": {},
   "outputs": [],
   "source": [
    "df.to_csv(r\"/Users/evgeniasamsonova/Documents/script/dash_visits.csv\")"
   ]
  }
 ],
 "metadata": {
  "kernelspec": {
   "display_name": "Python 3 (ipykernel)",
   "language": "python",
   "name": "python3"
  },
  "language_info": {
   "codemirror_mode": {
    "name": "ipython",
    "version": 3
   },
   "file_extension": ".py",
   "mimetype": "text/x-python",
   "name": "python",
   "nbconvert_exporter": "python",
   "pygments_lexer": "ipython3",
   "version": "3.9.7"
  }
 },
 "nbformat": 4,
 "nbformat_minor": 5
}
