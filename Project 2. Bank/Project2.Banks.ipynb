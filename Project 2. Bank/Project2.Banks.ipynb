{
 "cells": [
  {
   "cell_type": "markdown",
   "metadata": {},
   "source": [
    "1. [Откройте файл с данными и изучите общую информацию](#start)\n",
    "2. [Предобработка данных](#preprocessing)\n",
    "    * [Обработка артефактных значений](#artefact)\n",
    "    * [Обработка пропусков](#null)\n",
    "    * [Замена типа данных](#data_type)\n",
    "    * [Обработка дубликатов](#duplicates)\n",
    "    * [Лемматизация](#lemma)\n",
    "    * [Категоризация данных](#category)\n",
    "3. [Ответьте на вопросы](#questions)\n",
    "    * [Есть ли зависимость между наличием детей и возвратом кредита в срок?](#q1)\n",
    "    * [Есть ли зависимость между семейным положением и возвратом кредита в срок?](#q2)\n",
    "    * [Есть ли зависимость между уровнем дохода и возвратом кредита в срок?](#q3)\n",
    "    * [Как разные цели кредита влияют на его возврат в срок?](#q4)\n",
    "4. [Общий вывод](#conclusion)\n",
    "5. [Чек-лист готовности проекта](#check-list)"
   ]
  },
  {
   "cell_type": "markdown",
   "metadata": {},
   "source": [
    "# Исследование надёжности заёмщиков\n",
    "\n",
    "Заказчик — кредитный отдел банка.\n",
    "\n",
    "**Цель исследования** - проверить гипотезу влияет ли семейное положение и количество детей клиента на факт погашения кредита в срок. Входные данные от банка — статистика о платёжеспособности клиентов.\n",
    "\n",
    "Результаты исследования будут учтены при построении модели **кредитного скоринга** — специальной системы, которая оценивает способность потенциального заёмщика вернуть кредит банку."
   ]
  },
  {
   "cell_type": "markdown",
   "metadata": {},
   "source": [
    "<a id=\"start\"></a>\n",
    "## Шаг 1. Откройте файл с данными и изучите общую информацию\n"
   ]
  },
  {
   "cell_type": "markdown",
   "metadata": {},
   "source": [
    "Импортируем библиотеку pandas:"
   ]
  },
  {
   "cell_type": "code",
   "execution_count": 528,
   "metadata": {},
   "outputs": [],
   "source": [
    "import pandas as pd"
   ]
  },
  {
   "cell_type": "markdown",
   "metadata": {},
   "source": [
    "Прочитаем файл data.csv из папки /datasets и сохраним его в переменную df:\n"
   ]
  },
  {
   "cell_type": "code",
   "execution_count": 529,
   "metadata": {},
   "outputs": [],
   "source": [
    "df = pd.read_csv('/datasets/data.csv')"
   ]
  },
  {
   "cell_type": "markdown",
   "metadata": {},
   "source": [
    "Получаем первые 5 строк таблицы df:"
   ]
  },
  {
   "cell_type": "code",
   "execution_count": 530,
   "metadata": {},
   "outputs": [
    {
     "data": {
      "text/html": [
       "<div>\n",
       "<style scoped>\n",
       "    .dataframe tbody tr th:only-of-type {\n",
       "        vertical-align: middle;\n",
       "    }\n",
       "\n",
       "    .dataframe tbody tr th {\n",
       "        vertical-align: top;\n",
       "    }\n",
       "\n",
       "    .dataframe thead th {\n",
       "        text-align: right;\n",
       "    }\n",
       "</style>\n",
       "<table border=\"1\" class=\"dataframe\">\n",
       "  <thead>\n",
       "    <tr style=\"text-align: right;\">\n",
       "      <th></th>\n",
       "      <th>children</th>\n",
       "      <th>days_employed</th>\n",
       "      <th>dob_years</th>\n",
       "      <th>education</th>\n",
       "      <th>education_id</th>\n",
       "      <th>family_status</th>\n",
       "      <th>family_status_id</th>\n",
       "      <th>gender</th>\n",
       "      <th>income_type</th>\n",
       "      <th>debt</th>\n",
       "      <th>total_income</th>\n",
       "      <th>purpose</th>\n",
       "    </tr>\n",
       "  </thead>\n",
       "  <tbody>\n",
       "    <tr>\n",
       "      <td>0</td>\n",
       "      <td>1</td>\n",
       "      <td>-8437.673028</td>\n",
       "      <td>42</td>\n",
       "      <td>высшее</td>\n",
       "      <td>0</td>\n",
       "      <td>женат / замужем</td>\n",
       "      <td>0</td>\n",
       "      <td>F</td>\n",
       "      <td>сотрудник</td>\n",
       "      <td>0</td>\n",
       "      <td>253875.639453</td>\n",
       "      <td>покупка жилья</td>\n",
       "    </tr>\n",
       "    <tr>\n",
       "      <td>1</td>\n",
       "      <td>1</td>\n",
       "      <td>-4024.803754</td>\n",
       "      <td>36</td>\n",
       "      <td>среднее</td>\n",
       "      <td>1</td>\n",
       "      <td>женат / замужем</td>\n",
       "      <td>0</td>\n",
       "      <td>F</td>\n",
       "      <td>сотрудник</td>\n",
       "      <td>0</td>\n",
       "      <td>112080.014102</td>\n",
       "      <td>приобретение автомобиля</td>\n",
       "    </tr>\n",
       "    <tr>\n",
       "      <td>2</td>\n",
       "      <td>0</td>\n",
       "      <td>-5623.422610</td>\n",
       "      <td>33</td>\n",
       "      <td>Среднее</td>\n",
       "      <td>1</td>\n",
       "      <td>женат / замужем</td>\n",
       "      <td>0</td>\n",
       "      <td>M</td>\n",
       "      <td>сотрудник</td>\n",
       "      <td>0</td>\n",
       "      <td>145885.952297</td>\n",
       "      <td>покупка жилья</td>\n",
       "    </tr>\n",
       "    <tr>\n",
       "      <td>3</td>\n",
       "      <td>3</td>\n",
       "      <td>-4124.747207</td>\n",
       "      <td>32</td>\n",
       "      <td>среднее</td>\n",
       "      <td>1</td>\n",
       "      <td>женат / замужем</td>\n",
       "      <td>0</td>\n",
       "      <td>M</td>\n",
       "      <td>сотрудник</td>\n",
       "      <td>0</td>\n",
       "      <td>267628.550329</td>\n",
       "      <td>дополнительное образование</td>\n",
       "    </tr>\n",
       "    <tr>\n",
       "      <td>4</td>\n",
       "      <td>0</td>\n",
       "      <td>340266.072047</td>\n",
       "      <td>53</td>\n",
       "      <td>среднее</td>\n",
       "      <td>1</td>\n",
       "      <td>гражданский брак</td>\n",
       "      <td>1</td>\n",
       "      <td>F</td>\n",
       "      <td>пенсионер</td>\n",
       "      <td>0</td>\n",
       "      <td>158616.077870</td>\n",
       "      <td>сыграть свадьбу</td>\n",
       "    </tr>\n",
       "  </tbody>\n",
       "</table>\n",
       "</div>"
      ],
      "text/plain": [
       "   children  days_employed  dob_years education  education_id  \\\n",
       "0         1   -8437.673028         42    высшее             0   \n",
       "1         1   -4024.803754         36   среднее             1   \n",
       "2         0   -5623.422610         33   Среднее             1   \n",
       "3         3   -4124.747207         32   среднее             1   \n",
       "4         0  340266.072047         53   среднее             1   \n",
       "\n",
       "      family_status  family_status_id gender income_type  debt   total_income  \\\n",
       "0   женат / замужем                 0      F   сотрудник     0  253875.639453   \n",
       "1   женат / замужем                 0      F   сотрудник     0  112080.014102   \n",
       "2   женат / замужем                 0      M   сотрудник     0  145885.952297   \n",
       "3   женат / замужем                 0      M   сотрудник     0  267628.550329   \n",
       "4  гражданский брак                 1      F   пенсионер     0  158616.077870   \n",
       "\n",
       "                      purpose  \n",
       "0               покупка жилья  \n",
       "1     приобретение автомобиля  \n",
       "2               покупка жилья  \n",
       "3  дополнительное образование  \n",
       "4             сыграть свадьбу  "
      ]
     },
     "execution_count": 530,
     "metadata": {},
     "output_type": "execute_result"
    }
   ],
   "source": [
    "df.head()"
   ]
  },
  {
   "cell_type": "markdown",
   "metadata": {},
   "source": [
    " Получим информацию о таблице:"
   ]
  },
  {
   "cell_type": "code",
   "execution_count": 531,
   "metadata": {
    "scrolled": true
   },
   "outputs": [
    {
     "name": "stdout",
     "output_type": "stream",
     "text": [
      "<class 'pandas.core.frame.DataFrame'>\n",
      "RangeIndex: 21525 entries, 0 to 21524\n",
      "Data columns (total 12 columns):\n",
      "children            21525 non-null int64\n",
      "days_employed       19351 non-null float64\n",
      "dob_years           21525 non-null int64\n",
      "education           21525 non-null object\n",
      "education_id        21525 non-null int64\n",
      "family_status       21525 non-null object\n",
      "family_status_id    21525 non-null int64\n",
      "gender              21525 non-null object\n",
      "income_type         21525 non-null object\n",
      "debt                21525 non-null int64\n",
      "total_income        19351 non-null float64\n",
      "purpose             21525 non-null object\n",
      "dtypes: float64(2), int64(5), object(5)\n",
      "memory usage: 2.0+ MB\n"
     ]
    }
   ],
   "source": [
    "df.info()"
   ]
  },
  {
   "cell_type": "markdown",
   "metadata": {},
   "source": [
    "В таблице 12 столбцов. Названия всех столбцов приведены к змеиному регистру и не нуждаются в корректировке."
   ]
  },
  {
   "cell_type": "markdown",
   "metadata": {},
   "source": [
    "Согласно документации к данным: \n",
    "- children — количество детей в семье\n",
    "- days_employed — общий трудовой стаж в днях\n",
    "- dob_years — возраст клиента в годах\n",
    "- education — уровень образования клиента\n",
    "- education_id — идентификатор уровня образования\n",
    "- family_status — семейное положение\n",
    "- family_status_id — идентификатор семейного положения\n",
    "- gender — пол клиента\n",
    "- income_type — тип занятости\n",
    "- debt — имел ли задолженность по возврату кредитов\n",
    "- total_income — ежемесячный доход\n",
    "- purpose — цель получения кредита"
   ]
  },
  {
   "cell_type": "markdown",
   "metadata": {},
   "source": [
    "Количество значений в столбцах различаются. Значит, в данных есть пропущенные значения."
   ]
  },
  {
   "cell_type": "markdown",
   "metadata": {},
   "source": [
    "**Вывод**"
   ]
  },
  {
   "cell_type": "markdown",
   "metadata": {},
   "source": [
    "Исходная таблица df содержит информацию о клиентах банка, их возрасте, уровне образования и т.д. Основными столбцами для проверки гипотезы могут быть:\n",
    "- семейное положение(family_status);\n",
    "- количество детей(children);\n",
    "- наличие задолженности по возврату кредитов(debt).\n"
   ]
  },
  {
   "cell_type": "markdown",
   "metadata": {},
   "source": [
    "<a id=\"preprocessing\"></a>\n",
    "## Шаг 2. Предобработка данных"
   ]
  },
  {
   "cell_type": "markdown",
   "metadata": {},
   "source": [
    "<a id=\"artefact\"></a>\n",
    "### Обработка артефактных значений"
   ]
  },
  {
   "cell_type": "markdown",
   "metadata": {},
   "source": [
    "Взглянув на таблицу, можно увидеть что почти все значения в столбце с количеством дней общего трудового стажа имеют отрицательное значение. Применим функцию `abs()` к этому столбцу: "
   ]
  },
  {
   "cell_type": "code",
   "execution_count": 532,
   "metadata": {},
   "outputs": [],
   "source": [
    "df['days_employed'] = abs(df['days_employed'])"
   ]
  },
  {
   "cell_type": "markdown",
   "metadata": {},
   "source": [
    "Заново выведем часть таблицы на экран, чтобы убедиться, что функция сработала:"
   ]
  },
  {
   "cell_type": "code",
   "execution_count": 533,
   "metadata": {},
   "outputs": [
    {
     "data": {
      "text/html": [
       "<div>\n",
       "<style scoped>\n",
       "    .dataframe tbody tr th:only-of-type {\n",
       "        vertical-align: middle;\n",
       "    }\n",
       "\n",
       "    .dataframe tbody tr th {\n",
       "        vertical-align: top;\n",
       "    }\n",
       "\n",
       "    .dataframe thead th {\n",
       "        text-align: right;\n",
       "    }\n",
       "</style>\n",
       "<table border=\"1\" class=\"dataframe\">\n",
       "  <thead>\n",
       "    <tr style=\"text-align: right;\">\n",
       "      <th></th>\n",
       "      <th>children</th>\n",
       "      <th>days_employed</th>\n",
       "      <th>dob_years</th>\n",
       "      <th>education</th>\n",
       "      <th>education_id</th>\n",
       "      <th>family_status</th>\n",
       "      <th>family_status_id</th>\n",
       "      <th>gender</th>\n",
       "      <th>income_type</th>\n",
       "      <th>debt</th>\n",
       "      <th>total_income</th>\n",
       "      <th>purpose</th>\n",
       "    </tr>\n",
       "  </thead>\n",
       "  <tbody>\n",
       "    <tr>\n",
       "      <td>0</td>\n",
       "      <td>1</td>\n",
       "      <td>8437.673028</td>\n",
       "      <td>42</td>\n",
       "      <td>высшее</td>\n",
       "      <td>0</td>\n",
       "      <td>женат / замужем</td>\n",
       "      <td>0</td>\n",
       "      <td>F</td>\n",
       "      <td>сотрудник</td>\n",
       "      <td>0</td>\n",
       "      <td>253875.639453</td>\n",
       "      <td>покупка жилья</td>\n",
       "    </tr>\n",
       "    <tr>\n",
       "      <td>1</td>\n",
       "      <td>1</td>\n",
       "      <td>4024.803754</td>\n",
       "      <td>36</td>\n",
       "      <td>среднее</td>\n",
       "      <td>1</td>\n",
       "      <td>женат / замужем</td>\n",
       "      <td>0</td>\n",
       "      <td>F</td>\n",
       "      <td>сотрудник</td>\n",
       "      <td>0</td>\n",
       "      <td>112080.014102</td>\n",
       "      <td>приобретение автомобиля</td>\n",
       "    </tr>\n",
       "    <tr>\n",
       "      <td>2</td>\n",
       "      <td>0</td>\n",
       "      <td>5623.422610</td>\n",
       "      <td>33</td>\n",
       "      <td>Среднее</td>\n",
       "      <td>1</td>\n",
       "      <td>женат / замужем</td>\n",
       "      <td>0</td>\n",
       "      <td>M</td>\n",
       "      <td>сотрудник</td>\n",
       "      <td>0</td>\n",
       "      <td>145885.952297</td>\n",
       "      <td>покупка жилья</td>\n",
       "    </tr>\n",
       "    <tr>\n",
       "      <td>3</td>\n",
       "      <td>3</td>\n",
       "      <td>4124.747207</td>\n",
       "      <td>32</td>\n",
       "      <td>среднее</td>\n",
       "      <td>1</td>\n",
       "      <td>женат / замужем</td>\n",
       "      <td>0</td>\n",
       "      <td>M</td>\n",
       "      <td>сотрудник</td>\n",
       "      <td>0</td>\n",
       "      <td>267628.550329</td>\n",
       "      <td>дополнительное образование</td>\n",
       "    </tr>\n",
       "    <tr>\n",
       "      <td>4</td>\n",
       "      <td>0</td>\n",
       "      <td>340266.072047</td>\n",
       "      <td>53</td>\n",
       "      <td>среднее</td>\n",
       "      <td>1</td>\n",
       "      <td>гражданский брак</td>\n",
       "      <td>1</td>\n",
       "      <td>F</td>\n",
       "      <td>пенсионер</td>\n",
       "      <td>0</td>\n",
       "      <td>158616.077870</td>\n",
       "      <td>сыграть свадьбу</td>\n",
       "    </tr>\n",
       "  </tbody>\n",
       "</table>\n",
       "</div>"
      ],
      "text/plain": [
       "   children  days_employed  dob_years education  education_id  \\\n",
       "0         1    8437.673028         42    высшее             0   \n",
       "1         1    4024.803754         36   среднее             1   \n",
       "2         0    5623.422610         33   Среднее             1   \n",
       "3         3    4124.747207         32   среднее             1   \n",
       "4         0  340266.072047         53   среднее             1   \n",
       "\n",
       "      family_status  family_status_id gender income_type  debt   total_income  \\\n",
       "0   женат / замужем                 0      F   сотрудник     0  253875.639453   \n",
       "1   женат / замужем                 0      F   сотрудник     0  112080.014102   \n",
       "2   женат / замужем                 0      M   сотрудник     0  145885.952297   \n",
       "3   женат / замужем                 0      M   сотрудник     0  267628.550329   \n",
       "4  гражданский брак                 1      F   пенсионер     0  158616.077870   \n",
       "\n",
       "                      purpose  \n",
       "0               покупка жилья  \n",
       "1     приобретение автомобиля  \n",
       "2               покупка жилья  \n",
       "3  дополнительное образование  \n",
       "4             сыграть свадьбу  "
      ]
     },
     "execution_count": 533,
     "metadata": {},
     "output_type": "execute_result"
    }
   ],
   "source": [
    "df.head()"
   ]
  },
  {
   "cell_type": "markdown",
   "metadata": {},
   "source": [
    "<a id=\"null\"></a>\n",
    "### Обработка пропусков"
   ]
  },
  {
   "cell_type": "markdown",
   "metadata": {},
   "source": [
    "Узнаем количество пропущенных значений в таблице:"
   ]
  },
  {
   "cell_type": "code",
   "execution_count": 534,
   "metadata": {},
   "outputs": [
    {
     "data": {
      "text/plain": [
       "children               0\n",
       "days_employed       2174\n",
       "dob_years              0\n",
       "education              0\n",
       "education_id           0\n",
       "family_status          0\n",
       "family_status_id       0\n",
       "gender                 0\n",
       "income_type            0\n",
       "debt                   0\n",
       "total_income        2174\n",
       "purpose                0\n",
       "dtype: int64"
      ]
     },
     "execution_count": 534,
     "metadata": {},
     "output_type": "execute_result"
    }
   ],
   "source": [
    "missing_items = df.isna().sum()\n",
    "missing_items"
   ]
  },
  {
   "cell_type": "markdown",
   "metadata": {},
   "source": [
    "Пропущены значения в столбцах days_employed и total_income.\n",
    "Причины пропусков в столбцах могут быть следующие: \n",
    " - банк не запрашивал эти данные у клиента,\n",
    " - \"человеческий фактор\",  так как общий трудовой стаж в днях почти во всех строках с отрицательным знаком, возможно, в таблице не одна ошибка,\n",
    " - технически данные не верно выгружаются, что-то не работает так, как должно;\n",
    " - клиент трудоустроен неофициально и поэтому просто не может предоставить банку такую информацию,\n",
    " - для выдачи определенного вида кредита банку эта информация не требуется."
   ]
  },
  {
   "cell_type": "markdown",
   "metadata": {},
   "source": [
    "Пропущенные значения в столбцах не сильно повлияют на результаты исследования, так как:\n",
    "- находятся не в ключевых столбцах;\n",
    "- доля пропущенных значений не критична и скорее всего не повлияет на результат анализа.\n",
    "\n",
    "Заменим их явными обозначениями. Для этого создадим список `columns_to_replace`, переберем его элементы циклом `for` и выполним замену пропущенных значений:"
   ]
  },
  {
   "cell_type": "code",
   "execution_count": 535,
   "metadata": {},
   "outputs": [],
   "source": [
    "columns_to_replace = ['days_employed','total_income']\n",
    "for column in columns_to_replace:\n",
    "    df[column] = df[column].fillna('0')"
   ]
  },
  {
   "cell_type": "markdown",
   "metadata": {},
   "source": [
    "Убедимся, что в таблице не осталось пропусков. Еще раз считаем пропущенные значения:"
   ]
  },
  {
   "cell_type": "code",
   "execution_count": 536,
   "metadata": {},
   "outputs": [
    {
     "data": {
      "text/plain": [
       "children            0\n",
       "days_employed       0\n",
       "dob_years           0\n",
       "education           0\n",
       "education_id        0\n",
       "family_status       0\n",
       "family_status_id    0\n",
       "gender              0\n",
       "income_type         0\n",
       "debt                0\n",
       "total_income        0\n",
       "purpose             0\n",
       "dtype: int64"
      ]
     },
     "execution_count": 536,
     "metadata": {},
     "output_type": "execute_result"
    }
   ],
   "source": [
    "missing_items = df.isna().sum()\n",
    "missing_items"
   ]
  },
  {
   "cell_type": "markdown",
   "metadata": {},
   "source": [
    "**Вывод**"
   ]
  },
  {
   "cell_type": "markdown",
   "metadata": {},
   "source": [
    "В исходной таблице имелись столбцы с пропущенными значениями, которые могли появиться из-за технической ошибки или по другой иной причине. Пропущенные значения заполнены значением `'0'` и скорее всего не изменят результаты исследования."
   ]
  },
  {
   "cell_type": "markdown",
   "metadata": {},
   "source": [
    "<a id=\"data_type\"></a>\n",
    "### Замена типа данных"
   ]
  },
  {
   "cell_type": "markdown",
   "metadata": {},
   "source": [
    "Заменим вещественный тип данных `float64` на целочисленный `int64`. Для этого применим метод `astype()`:"
   ]
  },
  {
   "cell_type": "code",
   "execution_count": 537,
   "metadata": {},
   "outputs": [],
   "source": [
    "df['days_employed'] = df['days_employed'].astype('int')\n",
    "df['total_income'] = df['total_income'].astype('int')"
   ]
  },
  {
   "cell_type": "markdown",
   "metadata": {},
   "source": [
    "Снова выведем информацию о таблице на экран:"
   ]
  },
  {
   "cell_type": "code",
   "execution_count": 538,
   "metadata": {},
   "outputs": [
    {
     "name": "stdout",
     "output_type": "stream",
     "text": [
      "<class 'pandas.core.frame.DataFrame'>\n",
      "RangeIndex: 21525 entries, 0 to 21524\n",
      "Data columns (total 12 columns):\n",
      "children            21525 non-null int64\n",
      "days_employed       21525 non-null int64\n",
      "dob_years           21525 non-null int64\n",
      "education           21525 non-null object\n",
      "education_id        21525 non-null int64\n",
      "family_status       21525 non-null object\n",
      "family_status_id    21525 non-null int64\n",
      "gender              21525 non-null object\n",
      "income_type         21525 non-null object\n",
      "debt                21525 non-null int64\n",
      "total_income        21525 non-null int64\n",
      "purpose             21525 non-null object\n",
      "dtypes: int64(7), object(5)\n",
      "memory usage: 2.0+ MB\n"
     ]
    }
   ],
   "source": [
    "df.info()"
   ]
  },
  {
   "cell_type": "markdown",
   "metadata": {},
   "source": [
    "**Вывод**"
   ]
  },
  {
   "cell_type": "markdown",
   "metadata": {},
   "source": [
    "Заменили вещественный тип данных на целочисленный методом `astype()`,потому что применить его удобнее всего. Необходимые столбцы в таблице после замены пропущенных значений относятся к типу float64 и не требуют применения других методов замены типа данных, таких как `to_numeric()`."
   ]
  },
  {
   "cell_type": "markdown",
   "metadata": {},
   "source": [
    "Проверим все необходимые нам для исследования столбцы на предмет аномальных значений:\n"
   ]
  },
  {
   "cell_type": "code",
   "execution_count": 539,
   "metadata": {},
   "outputs": [
    {
     "data": {
      "text/plain": [
       "array([ 1,  0,  3,  2, -1,  4, 20,  5])"
      ]
     },
     "metadata": {},
     "output_type": "display_data"
    },
    {
     "data": {
      "text/plain": [
       "array(['женат / замужем', 'гражданский брак', 'вдовец / вдова',\n",
       "       'в разводе', 'Не женат / не замужем'], dtype=object)"
      ]
     },
     "metadata": {},
     "output_type": "display_data"
    },
    {
     "data": {
      "text/plain": [
       "array([0, 1])"
      ]
     },
     "metadata": {},
     "output_type": "display_data"
    },
    {
     "data": {
      "text/plain": [
       "array(['покупка жилья', 'приобретение автомобиля',\n",
       "       'дополнительное образование', 'сыграть свадьбу',\n",
       "       'операции с жильем', 'образование', 'на проведение свадьбы',\n",
       "       'покупка жилья для семьи', 'покупка недвижимости',\n",
       "       'покупка коммерческой недвижимости', 'покупка жилой недвижимости',\n",
       "       'строительство собственной недвижимости', 'недвижимость',\n",
       "       'строительство недвижимости', 'на покупку подержанного автомобиля',\n",
       "       'на покупку своего автомобиля',\n",
       "       'операции с коммерческой недвижимостью',\n",
       "       'строительство жилой недвижимости', 'жилье',\n",
       "       'операции со своей недвижимостью', 'автомобили',\n",
       "       'заняться образованием', 'сделка с подержанным автомобилем',\n",
       "       'получение образования', 'автомобиль', 'свадьба',\n",
       "       'получение дополнительного образования', 'покупка своего жилья',\n",
       "       'операции с недвижимостью', 'получение высшего образования',\n",
       "       'свой автомобиль', 'сделка с автомобилем',\n",
       "       'профильное образование', 'высшее образование',\n",
       "       'покупка жилья для сдачи', 'на покупку автомобиля', 'ремонт жилью',\n",
       "       'заняться высшим образованием'], dtype=object)"
      ]
     },
     "metadata": {},
     "output_type": "display_data"
    },
    {
     "data": {
      "text/plain": [
       "array(['высшее', 'среднее', 'Среднее', 'СРЕДНЕЕ', 'ВЫСШЕЕ',\n",
       "       'неоконченное высшее', 'начальное', 'Высшее',\n",
       "       'НЕОКОНЧЕННОЕ ВЫСШЕЕ', 'Неоконченное высшее', 'НАЧАЛЬНОЕ',\n",
       "       'Начальное', 'Ученая степень', 'УЧЕНАЯ СТЕПЕНЬ', 'ученая степень'],\n",
       "      dtype=object)"
      ]
     },
     "metadata": {},
     "output_type": "display_data"
    },
    {
     "data": {
      "text/plain": [
       "array(['сотрудник', 'пенсионер', 'компаньон', 'госслужащий',\n",
       "       'безработный', 'предприниматель', 'студент', 'в декрете'],\n",
       "      dtype=object)"
      ]
     },
     "metadata": {},
     "output_type": "display_data"
    }
   ],
   "source": [
    "display(df['children'].unique())\n",
    "display(df['family_status'].unique())\n",
    "display(df['debt'].unique())\n",
    "display(df['purpose'].unique())\n",
    "display(df['education'].unique())\n",
    "display(df['income_type'].unique())"
   ]
  },
  {
   "cell_type": "markdown",
   "metadata": {},
   "source": [
    "Приведем столбцы к единому регистру:\n"
   ]
  },
  {
   "cell_type": "code",
   "execution_count": 540,
   "metadata": {},
   "outputs": [
    {
     "data": {
      "text/html": [
       "<div>\n",
       "<style scoped>\n",
       "    .dataframe tbody tr th:only-of-type {\n",
       "        vertical-align: middle;\n",
       "    }\n",
       "\n",
       "    .dataframe tbody tr th {\n",
       "        vertical-align: top;\n",
       "    }\n",
       "\n",
       "    .dataframe thead th {\n",
       "        text-align: right;\n",
       "    }\n",
       "</style>\n",
       "<table border=\"1\" class=\"dataframe\">\n",
       "  <thead>\n",
       "    <tr style=\"text-align: right;\">\n",
       "      <th></th>\n",
       "      <th>children</th>\n",
       "      <th>days_employed</th>\n",
       "      <th>dob_years</th>\n",
       "      <th>education</th>\n",
       "      <th>education_id</th>\n",
       "      <th>family_status</th>\n",
       "      <th>family_status_id</th>\n",
       "      <th>gender</th>\n",
       "      <th>income_type</th>\n",
       "      <th>debt</th>\n",
       "      <th>total_income</th>\n",
       "      <th>purpose</th>\n",
       "      <th>education_lower</th>\n",
       "      <th>family_status_lower</th>\n",
       "    </tr>\n",
       "  </thead>\n",
       "  <tbody>\n",
       "    <tr>\n",
       "      <td>0</td>\n",
       "      <td>1</td>\n",
       "      <td>8437</td>\n",
       "      <td>42</td>\n",
       "      <td>высшее</td>\n",
       "      <td>0</td>\n",
       "      <td>женат / замужем</td>\n",
       "      <td>0</td>\n",
       "      <td>F</td>\n",
       "      <td>сотрудник</td>\n",
       "      <td>0</td>\n",
       "      <td>253875</td>\n",
       "      <td>покупка жилья</td>\n",
       "      <td>высшее</td>\n",
       "      <td>женат / замужем</td>\n",
       "    </tr>\n",
       "    <tr>\n",
       "      <td>1</td>\n",
       "      <td>1</td>\n",
       "      <td>4024</td>\n",
       "      <td>36</td>\n",
       "      <td>среднее</td>\n",
       "      <td>1</td>\n",
       "      <td>женат / замужем</td>\n",
       "      <td>0</td>\n",
       "      <td>F</td>\n",
       "      <td>сотрудник</td>\n",
       "      <td>0</td>\n",
       "      <td>112080</td>\n",
       "      <td>приобретение автомобиля</td>\n",
       "      <td>среднее</td>\n",
       "      <td>женат / замужем</td>\n",
       "    </tr>\n",
       "    <tr>\n",
       "      <td>2</td>\n",
       "      <td>0</td>\n",
       "      <td>5623</td>\n",
       "      <td>33</td>\n",
       "      <td>Среднее</td>\n",
       "      <td>1</td>\n",
       "      <td>женат / замужем</td>\n",
       "      <td>0</td>\n",
       "      <td>M</td>\n",
       "      <td>сотрудник</td>\n",
       "      <td>0</td>\n",
       "      <td>145885</td>\n",
       "      <td>покупка жилья</td>\n",
       "      <td>среднее</td>\n",
       "      <td>женат / замужем</td>\n",
       "    </tr>\n",
       "    <tr>\n",
       "      <td>3</td>\n",
       "      <td>3</td>\n",
       "      <td>4124</td>\n",
       "      <td>32</td>\n",
       "      <td>среднее</td>\n",
       "      <td>1</td>\n",
       "      <td>женат / замужем</td>\n",
       "      <td>0</td>\n",
       "      <td>M</td>\n",
       "      <td>сотрудник</td>\n",
       "      <td>0</td>\n",
       "      <td>267628</td>\n",
       "      <td>дополнительное образование</td>\n",
       "      <td>среднее</td>\n",
       "      <td>женат / замужем</td>\n",
       "    </tr>\n",
       "    <tr>\n",
       "      <td>4</td>\n",
       "      <td>0</td>\n",
       "      <td>340266</td>\n",
       "      <td>53</td>\n",
       "      <td>среднее</td>\n",
       "      <td>1</td>\n",
       "      <td>гражданский брак</td>\n",
       "      <td>1</td>\n",
       "      <td>F</td>\n",
       "      <td>пенсионер</td>\n",
       "      <td>0</td>\n",
       "      <td>158616</td>\n",
       "      <td>сыграть свадьбу</td>\n",
       "      <td>среднее</td>\n",
       "      <td>гражданский брак</td>\n",
       "    </tr>\n",
       "  </tbody>\n",
       "</table>\n",
       "</div>"
      ],
      "text/plain": [
       "   children  days_employed  dob_years education  education_id  \\\n",
       "0         1           8437         42    высшее             0   \n",
       "1         1           4024         36   среднее             1   \n",
       "2         0           5623         33   Среднее             1   \n",
       "3         3           4124         32   среднее             1   \n",
       "4         0         340266         53   среднее             1   \n",
       "\n",
       "      family_status  family_status_id gender income_type  debt  total_income  \\\n",
       "0   женат / замужем                 0      F   сотрудник     0        253875   \n",
       "1   женат / замужем                 0      F   сотрудник     0        112080   \n",
       "2   женат / замужем                 0      M   сотрудник     0        145885   \n",
       "3   женат / замужем                 0      M   сотрудник     0        267628   \n",
       "4  гражданский брак                 1      F   пенсионер     0        158616   \n",
       "\n",
       "                      purpose education_lower family_status_lower  \n",
       "0               покупка жилья          высшее     женат / замужем  \n",
       "1     приобретение автомобиля         среднее     женат / замужем  \n",
       "2               покупка жилья         среднее     женат / замужем  \n",
       "3  дополнительное образование         среднее     женат / замужем  \n",
       "4             сыграть свадьбу         среднее    гражданский брак  "
      ]
     },
     "execution_count": 540,
     "metadata": {},
     "output_type": "execute_result"
    }
   ],
   "source": [
    "df['education_lower'] = df['education'].str.lower()\n",
    "df['family_status_lower'] = df['family_status'].str.lower()\n",
    "df.head()"
   ]
  },
  {
   "cell_type": "markdown",
   "metadata": {},
   "source": [
    "Проверим аномальные значения в столбце с количеством детей:"
   ]
  },
  {
   "cell_type": "code",
   "execution_count": 541,
   "metadata": {
    "scrolled": true
   },
   "outputs": [
    {
     "data": {
      "text/plain": [
       "array([ 1,  0,  3,  2, -1,  4, 20,  5])"
      ]
     },
     "execution_count": 541,
     "metadata": {},
     "output_type": "execute_result"
    }
   ],
   "source": [
    "df['children'].unique()"
   ]
  },
  {
   "cell_type": "markdown",
   "metadata": {},
   "source": [
    "Видим такие аномальные значений как -1 и 20.\n",
    "Посмотрим в каких строчках и в каком количестве присутствуют аномальные значения:"
   ]
  },
  {
   "cell_type": "code",
   "execution_count": 542,
   "metadata": {},
   "outputs": [
    {
     "data": {
      "text/html": [
       "<div>\n",
       "<style scoped>\n",
       "    .dataframe tbody tr th:only-of-type {\n",
       "        vertical-align: middle;\n",
       "    }\n",
       "\n",
       "    .dataframe tbody tr th {\n",
       "        vertical-align: top;\n",
       "    }\n",
       "\n",
       "    .dataframe thead th {\n",
       "        text-align: right;\n",
       "    }\n",
       "</style>\n",
       "<table border=\"1\" class=\"dataframe\">\n",
       "  <thead>\n",
       "    <tr style=\"text-align: right;\">\n",
       "      <th></th>\n",
       "      <th>children</th>\n",
       "      <th>days_employed</th>\n",
       "      <th>dob_years</th>\n",
       "      <th>education</th>\n",
       "      <th>education_id</th>\n",
       "      <th>family_status</th>\n",
       "      <th>family_status_id</th>\n",
       "      <th>gender</th>\n",
       "      <th>income_type</th>\n",
       "      <th>debt</th>\n",
       "      <th>total_income</th>\n",
       "      <th>purpose</th>\n",
       "      <th>education_lower</th>\n",
       "      <th>family_status_lower</th>\n",
       "    </tr>\n",
       "  </thead>\n",
       "  <tbody>\n",
       "    <tr>\n",
       "      <td>291</td>\n",
       "      <td>-1</td>\n",
       "      <td>4417</td>\n",
       "      <td>46</td>\n",
       "      <td>среднее</td>\n",
       "      <td>1</td>\n",
       "      <td>гражданский брак</td>\n",
       "      <td>1</td>\n",
       "      <td>F</td>\n",
       "      <td>сотрудник</td>\n",
       "      <td>0</td>\n",
       "      <td>102816</td>\n",
       "      <td>профильное образование</td>\n",
       "      <td>среднее</td>\n",
       "      <td>гражданский брак</td>\n",
       "    </tr>\n",
       "    <tr>\n",
       "      <td>606</td>\n",
       "      <td>20</td>\n",
       "      <td>880</td>\n",
       "      <td>21</td>\n",
       "      <td>среднее</td>\n",
       "      <td>1</td>\n",
       "      <td>женат / замужем</td>\n",
       "      <td>0</td>\n",
       "      <td>M</td>\n",
       "      <td>компаньон</td>\n",
       "      <td>0</td>\n",
       "      <td>145334</td>\n",
       "      <td>покупка жилья</td>\n",
       "      <td>среднее</td>\n",
       "      <td>женат / замужем</td>\n",
       "    </tr>\n",
       "    <tr>\n",
       "      <td>705</td>\n",
       "      <td>-1</td>\n",
       "      <td>902</td>\n",
       "      <td>50</td>\n",
       "      <td>среднее</td>\n",
       "      <td>1</td>\n",
       "      <td>женат / замужем</td>\n",
       "      <td>0</td>\n",
       "      <td>F</td>\n",
       "      <td>госслужащий</td>\n",
       "      <td>0</td>\n",
       "      <td>137882</td>\n",
       "      <td>приобретение автомобиля</td>\n",
       "      <td>среднее</td>\n",
       "      <td>женат / замужем</td>\n",
       "    </tr>\n",
       "    <tr>\n",
       "      <td>720</td>\n",
       "      <td>20</td>\n",
       "      <td>855</td>\n",
       "      <td>44</td>\n",
       "      <td>среднее</td>\n",
       "      <td>1</td>\n",
       "      <td>женат / замужем</td>\n",
       "      <td>0</td>\n",
       "      <td>F</td>\n",
       "      <td>компаньон</td>\n",
       "      <td>0</td>\n",
       "      <td>112998</td>\n",
       "      <td>покупка недвижимости</td>\n",
       "      <td>среднее</td>\n",
       "      <td>женат / замужем</td>\n",
       "    </tr>\n",
       "    <tr>\n",
       "      <td>742</td>\n",
       "      <td>-1</td>\n",
       "      <td>3174</td>\n",
       "      <td>57</td>\n",
       "      <td>среднее</td>\n",
       "      <td>1</td>\n",
       "      <td>женат / замужем</td>\n",
       "      <td>0</td>\n",
       "      <td>F</td>\n",
       "      <td>сотрудник</td>\n",
       "      <td>0</td>\n",
       "      <td>64268</td>\n",
       "      <td>дополнительное образование</td>\n",
       "      <td>среднее</td>\n",
       "      <td>женат / замужем</td>\n",
       "    </tr>\n",
       "    <tr>\n",
       "      <td>...</td>\n",
       "      <td>...</td>\n",
       "      <td>...</td>\n",
       "      <td>...</td>\n",
       "      <td>...</td>\n",
       "      <td>...</td>\n",
       "      <td>...</td>\n",
       "      <td>...</td>\n",
       "      <td>...</td>\n",
       "      <td>...</td>\n",
       "      <td>...</td>\n",
       "      <td>...</td>\n",
       "      <td>...</td>\n",
       "      <td>...</td>\n",
       "      <td>...</td>\n",
       "    </tr>\n",
       "    <tr>\n",
       "      <td>21140</td>\n",
       "      <td>-1</td>\n",
       "      <td>1422</td>\n",
       "      <td>44</td>\n",
       "      <td>среднее</td>\n",
       "      <td>1</td>\n",
       "      <td>женат / замужем</td>\n",
       "      <td>0</td>\n",
       "      <td>F</td>\n",
       "      <td>компаньон</td>\n",
       "      <td>0</td>\n",
       "      <td>169562</td>\n",
       "      <td>операции со своей недвижимостью</td>\n",
       "      <td>среднее</td>\n",
       "      <td>женат / замужем</td>\n",
       "    </tr>\n",
       "    <tr>\n",
       "      <td>21325</td>\n",
       "      <td>20</td>\n",
       "      <td>601</td>\n",
       "      <td>37</td>\n",
       "      <td>среднее</td>\n",
       "      <td>1</td>\n",
       "      <td>женат / замужем</td>\n",
       "      <td>0</td>\n",
       "      <td>F</td>\n",
       "      <td>компаньон</td>\n",
       "      <td>0</td>\n",
       "      <td>102986</td>\n",
       "      <td>профильное образование</td>\n",
       "      <td>среднее</td>\n",
       "      <td>женат / замужем</td>\n",
       "    </tr>\n",
       "    <tr>\n",
       "      <td>21390</td>\n",
       "      <td>20</td>\n",
       "      <td>0</td>\n",
       "      <td>53</td>\n",
       "      <td>среднее</td>\n",
       "      <td>1</td>\n",
       "      <td>женат / замужем</td>\n",
       "      <td>0</td>\n",
       "      <td>M</td>\n",
       "      <td>компаньон</td>\n",
       "      <td>0</td>\n",
       "      <td>0</td>\n",
       "      <td>покупка жилой недвижимости</td>\n",
       "      <td>среднее</td>\n",
       "      <td>женат / замужем</td>\n",
       "    </tr>\n",
       "    <tr>\n",
       "      <td>21404</td>\n",
       "      <td>20</td>\n",
       "      <td>494</td>\n",
       "      <td>52</td>\n",
       "      <td>среднее</td>\n",
       "      <td>1</td>\n",
       "      <td>женат / замужем</td>\n",
       "      <td>0</td>\n",
       "      <td>M</td>\n",
       "      <td>компаньон</td>\n",
       "      <td>0</td>\n",
       "      <td>156629</td>\n",
       "      <td>операции со своей недвижимостью</td>\n",
       "      <td>среднее</td>\n",
       "      <td>женат / замужем</td>\n",
       "    </tr>\n",
       "    <tr>\n",
       "      <td>21491</td>\n",
       "      <td>20</td>\n",
       "      <td>173</td>\n",
       "      <td>27</td>\n",
       "      <td>среднее</td>\n",
       "      <td>1</td>\n",
       "      <td>женат / замужем</td>\n",
       "      <td>0</td>\n",
       "      <td>F</td>\n",
       "      <td>сотрудник</td>\n",
       "      <td>0</td>\n",
       "      <td>155520</td>\n",
       "      <td>на покупку подержанного автомобиля</td>\n",
       "      <td>среднее</td>\n",
       "      <td>женат / замужем</td>\n",
       "    </tr>\n",
       "  </tbody>\n",
       "</table>\n",
       "<p>123 rows × 14 columns</p>\n",
       "</div>"
      ],
      "text/plain": [
       "       children  days_employed  dob_years education  education_id  \\\n",
       "291          -1           4417         46   среднее             1   \n",
       "606          20            880         21   среднее             1   \n",
       "705          -1            902         50   среднее             1   \n",
       "720          20            855         44   среднее             1   \n",
       "742          -1           3174         57   среднее             1   \n",
       "...         ...            ...        ...       ...           ...   \n",
       "21140        -1           1422         44   среднее             1   \n",
       "21325        20            601         37   среднее             1   \n",
       "21390        20              0         53   среднее             1   \n",
       "21404        20            494         52   среднее             1   \n",
       "21491        20            173         27   среднее             1   \n",
       "\n",
       "          family_status  family_status_id gender  income_type  debt  \\\n",
       "291    гражданский брак                 1      F    сотрудник     0   \n",
       "606     женат / замужем                 0      M    компаньон     0   \n",
       "705     женат / замужем                 0      F  госслужащий     0   \n",
       "720     женат / замужем                 0      F    компаньон     0   \n",
       "742     женат / замужем                 0      F    сотрудник     0   \n",
       "...                 ...               ...    ...          ...   ...   \n",
       "21140   женат / замужем                 0      F    компаньон     0   \n",
       "21325   женат / замужем                 0      F    компаньон     0   \n",
       "21390   женат / замужем                 0      M    компаньон     0   \n",
       "21404   женат / замужем                 0      M    компаньон     0   \n",
       "21491   женат / замужем                 0      F    сотрудник     0   \n",
       "\n",
       "       total_income                             purpose education_lower  \\\n",
       "291          102816              профильное образование         среднее   \n",
       "606          145334                       покупка жилья         среднее   \n",
       "705          137882             приобретение автомобиля         среднее   \n",
       "720          112998                покупка недвижимости         среднее   \n",
       "742           64268          дополнительное образование         среднее   \n",
       "...             ...                                 ...             ...   \n",
       "21140        169562     операции со своей недвижимостью         среднее   \n",
       "21325        102986              профильное образование         среднее   \n",
       "21390             0          покупка жилой недвижимости         среднее   \n",
       "21404        156629     операции со своей недвижимостью         среднее   \n",
       "21491        155520  на покупку подержанного автомобиля         среднее   \n",
       "\n",
       "      family_status_lower  \n",
       "291      гражданский брак  \n",
       "606       женат / замужем  \n",
       "705       женат / замужем  \n",
       "720       женат / замужем  \n",
       "742       женат / замужем  \n",
       "...                   ...  \n",
       "21140     женат / замужем  \n",
       "21325     женат / замужем  \n",
       "21390     женат / замужем  \n",
       "21404     женат / замужем  \n",
       "21491     женат / замужем  \n",
       "\n",
       "[123 rows x 14 columns]"
      ]
     },
     "execution_count": 542,
     "metadata": {},
     "output_type": "execute_result"
    }
   ],
   "source": [
    "df.query('children == -1 or children == 20')"
   ]
  },
  {
   "cell_type": "code",
   "execution_count": 543,
   "metadata": {
    "scrolled": true
   },
   "outputs": [
    {
     "data": {
      "text/plain": [
       "'Аномальные значения есть в 123 строках из 21525, что составляет всего 0.57% от общего числа строк'"
      ]
     },
     "execution_count": 543,
     "metadata": {},
     "output_type": "execute_result"
    }
   ],
   "source": [
    "f'Аномальные значения есть в 123 строках из 21525, что составляет всего {123/21525:.2%} от общего числа строк' \n"
   ]
  },
  {
   "cell_type": "markdown",
   "metadata": {},
   "source": [
    "Предположим, что удаление этих строк никак не повлияет на результаты исследования, так как их количество менее 1% от общего количества. Выберем строки, где втречается аномальное значение и удалим их, затем обновим индексы в таблице:"
   ]
  },
  {
   "cell_type": "code",
   "execution_count": 544,
   "metadata": {},
   "outputs": [
    {
     "data": {
      "text/html": [
       "<div>\n",
       "<style scoped>\n",
       "    .dataframe tbody tr th:only-of-type {\n",
       "        vertical-align: middle;\n",
       "    }\n",
       "\n",
       "    .dataframe tbody tr th {\n",
       "        vertical-align: top;\n",
       "    }\n",
       "\n",
       "    .dataframe thead th {\n",
       "        text-align: right;\n",
       "    }\n",
       "</style>\n",
       "<table border=\"1\" class=\"dataframe\">\n",
       "  <thead>\n",
       "    <tr style=\"text-align: right;\">\n",
       "      <th></th>\n",
       "      <th>children</th>\n",
       "      <th>days_employed</th>\n",
       "      <th>dob_years</th>\n",
       "      <th>education</th>\n",
       "      <th>education_id</th>\n",
       "      <th>family_status</th>\n",
       "      <th>family_status_id</th>\n",
       "      <th>gender</th>\n",
       "      <th>income_type</th>\n",
       "      <th>debt</th>\n",
       "      <th>total_income</th>\n",
       "      <th>purpose</th>\n",
       "      <th>education_lower</th>\n",
       "      <th>family_status_lower</th>\n",
       "    </tr>\n",
       "  </thead>\n",
       "  <tbody>\n",
       "    <tr>\n",
       "      <td>0</td>\n",
       "      <td>1</td>\n",
       "      <td>8437</td>\n",
       "      <td>42</td>\n",
       "      <td>высшее</td>\n",
       "      <td>0</td>\n",
       "      <td>женат / замужем</td>\n",
       "      <td>0</td>\n",
       "      <td>F</td>\n",
       "      <td>сотрудник</td>\n",
       "      <td>0</td>\n",
       "      <td>253875</td>\n",
       "      <td>покупка жилья</td>\n",
       "      <td>высшее</td>\n",
       "      <td>женат / замужем</td>\n",
       "    </tr>\n",
       "    <tr>\n",
       "      <td>1</td>\n",
       "      <td>1</td>\n",
       "      <td>4024</td>\n",
       "      <td>36</td>\n",
       "      <td>среднее</td>\n",
       "      <td>1</td>\n",
       "      <td>женат / замужем</td>\n",
       "      <td>0</td>\n",
       "      <td>F</td>\n",
       "      <td>сотрудник</td>\n",
       "      <td>0</td>\n",
       "      <td>112080</td>\n",
       "      <td>приобретение автомобиля</td>\n",
       "      <td>среднее</td>\n",
       "      <td>женат / замужем</td>\n",
       "    </tr>\n",
       "    <tr>\n",
       "      <td>2</td>\n",
       "      <td>0</td>\n",
       "      <td>5623</td>\n",
       "      <td>33</td>\n",
       "      <td>Среднее</td>\n",
       "      <td>1</td>\n",
       "      <td>женат / замужем</td>\n",
       "      <td>0</td>\n",
       "      <td>M</td>\n",
       "      <td>сотрудник</td>\n",
       "      <td>0</td>\n",
       "      <td>145885</td>\n",
       "      <td>покупка жилья</td>\n",
       "      <td>среднее</td>\n",
       "      <td>женат / замужем</td>\n",
       "    </tr>\n",
       "    <tr>\n",
       "      <td>3</td>\n",
       "      <td>3</td>\n",
       "      <td>4124</td>\n",
       "      <td>32</td>\n",
       "      <td>среднее</td>\n",
       "      <td>1</td>\n",
       "      <td>женат / замужем</td>\n",
       "      <td>0</td>\n",
       "      <td>M</td>\n",
       "      <td>сотрудник</td>\n",
       "      <td>0</td>\n",
       "      <td>267628</td>\n",
       "      <td>дополнительное образование</td>\n",
       "      <td>среднее</td>\n",
       "      <td>женат / замужем</td>\n",
       "    </tr>\n",
       "    <tr>\n",
       "      <td>4</td>\n",
       "      <td>0</td>\n",
       "      <td>340266</td>\n",
       "      <td>53</td>\n",
       "      <td>среднее</td>\n",
       "      <td>1</td>\n",
       "      <td>гражданский брак</td>\n",
       "      <td>1</td>\n",
       "      <td>F</td>\n",
       "      <td>пенсионер</td>\n",
       "      <td>0</td>\n",
       "      <td>158616</td>\n",
       "      <td>сыграть свадьбу</td>\n",
       "      <td>среднее</td>\n",
       "      <td>гражданский брак</td>\n",
       "    </tr>\n",
       "    <tr>\n",
       "      <td>...</td>\n",
       "      <td>...</td>\n",
       "      <td>...</td>\n",
       "      <td>...</td>\n",
       "      <td>...</td>\n",
       "      <td>...</td>\n",
       "      <td>...</td>\n",
       "      <td>...</td>\n",
       "      <td>...</td>\n",
       "      <td>...</td>\n",
       "      <td>...</td>\n",
       "      <td>...</td>\n",
       "      <td>...</td>\n",
       "      <td>...</td>\n",
       "      <td>...</td>\n",
       "    </tr>\n",
       "    <tr>\n",
       "      <td>21397</td>\n",
       "      <td>1</td>\n",
       "      <td>4529</td>\n",
       "      <td>43</td>\n",
       "      <td>среднее</td>\n",
       "      <td>1</td>\n",
       "      <td>гражданский брак</td>\n",
       "      <td>1</td>\n",
       "      <td>F</td>\n",
       "      <td>компаньон</td>\n",
       "      <td>0</td>\n",
       "      <td>224791</td>\n",
       "      <td>операции с жильем</td>\n",
       "      <td>среднее</td>\n",
       "      <td>гражданский брак</td>\n",
       "    </tr>\n",
       "    <tr>\n",
       "      <td>21398</td>\n",
       "      <td>0</td>\n",
       "      <td>343937</td>\n",
       "      <td>67</td>\n",
       "      <td>среднее</td>\n",
       "      <td>1</td>\n",
       "      <td>женат / замужем</td>\n",
       "      <td>0</td>\n",
       "      <td>F</td>\n",
       "      <td>пенсионер</td>\n",
       "      <td>0</td>\n",
       "      <td>155999</td>\n",
       "      <td>сделка с автомобилем</td>\n",
       "      <td>среднее</td>\n",
       "      <td>женат / замужем</td>\n",
       "    </tr>\n",
       "    <tr>\n",
       "      <td>21399</td>\n",
       "      <td>1</td>\n",
       "      <td>2113</td>\n",
       "      <td>38</td>\n",
       "      <td>среднее</td>\n",
       "      <td>1</td>\n",
       "      <td>гражданский брак</td>\n",
       "      <td>1</td>\n",
       "      <td>M</td>\n",
       "      <td>сотрудник</td>\n",
       "      <td>1</td>\n",
       "      <td>89672</td>\n",
       "      <td>недвижимость</td>\n",
       "      <td>среднее</td>\n",
       "      <td>гражданский брак</td>\n",
       "    </tr>\n",
       "    <tr>\n",
       "      <td>21400</td>\n",
       "      <td>3</td>\n",
       "      <td>3112</td>\n",
       "      <td>38</td>\n",
       "      <td>среднее</td>\n",
       "      <td>1</td>\n",
       "      <td>женат / замужем</td>\n",
       "      <td>0</td>\n",
       "      <td>M</td>\n",
       "      <td>сотрудник</td>\n",
       "      <td>1</td>\n",
       "      <td>244093</td>\n",
       "      <td>на покупку своего автомобиля</td>\n",
       "      <td>среднее</td>\n",
       "      <td>женат / замужем</td>\n",
       "    </tr>\n",
       "    <tr>\n",
       "      <td>21401</td>\n",
       "      <td>2</td>\n",
       "      <td>1984</td>\n",
       "      <td>40</td>\n",
       "      <td>среднее</td>\n",
       "      <td>1</td>\n",
       "      <td>женат / замужем</td>\n",
       "      <td>0</td>\n",
       "      <td>F</td>\n",
       "      <td>сотрудник</td>\n",
       "      <td>0</td>\n",
       "      <td>82047</td>\n",
       "      <td>на покупку автомобиля</td>\n",
       "      <td>среднее</td>\n",
       "      <td>женат / замужем</td>\n",
       "    </tr>\n",
       "  </tbody>\n",
       "</table>\n",
       "<p>21402 rows × 14 columns</p>\n",
       "</div>"
      ],
      "text/plain": [
       "       children  days_employed  dob_years education  education_id  \\\n",
       "0             1           8437         42    высшее             0   \n",
       "1             1           4024         36   среднее             1   \n",
       "2             0           5623         33   Среднее             1   \n",
       "3             3           4124         32   среднее             1   \n",
       "4             0         340266         53   среднее             1   \n",
       "...         ...            ...        ...       ...           ...   \n",
       "21397         1           4529         43   среднее             1   \n",
       "21398         0         343937         67   среднее             1   \n",
       "21399         1           2113         38   среднее             1   \n",
       "21400         3           3112         38   среднее             1   \n",
       "21401         2           1984         40   среднее             1   \n",
       "\n",
       "          family_status  family_status_id gender income_type  debt  \\\n",
       "0       женат / замужем                 0      F   сотрудник     0   \n",
       "1       женат / замужем                 0      F   сотрудник     0   \n",
       "2       женат / замужем                 0      M   сотрудник     0   \n",
       "3       женат / замужем                 0      M   сотрудник     0   \n",
       "4      гражданский брак                 1      F   пенсионер     0   \n",
       "...                 ...               ...    ...         ...   ...   \n",
       "21397  гражданский брак                 1      F   компаньон     0   \n",
       "21398   женат / замужем                 0      F   пенсионер     0   \n",
       "21399  гражданский брак                 1      M   сотрудник     1   \n",
       "21400   женат / замужем                 0      M   сотрудник     1   \n",
       "21401   женат / замужем                 0      F   сотрудник     0   \n",
       "\n",
       "       total_income                       purpose education_lower  \\\n",
       "0            253875                 покупка жилья          высшее   \n",
       "1            112080       приобретение автомобиля         среднее   \n",
       "2            145885                 покупка жилья         среднее   \n",
       "3            267628    дополнительное образование         среднее   \n",
       "4            158616               сыграть свадьбу         среднее   \n",
       "...             ...                           ...             ...   \n",
       "21397        224791             операции с жильем         среднее   \n",
       "21398        155999          сделка с автомобилем         среднее   \n",
       "21399         89672                  недвижимость         среднее   \n",
       "21400        244093  на покупку своего автомобиля         среднее   \n",
       "21401         82047         на покупку автомобиля         среднее   \n",
       "\n",
       "      family_status_lower  \n",
       "0         женат / замужем  \n",
       "1         женат / замужем  \n",
       "2         женат / замужем  \n",
       "3         женат / замужем  \n",
       "4        гражданский брак  \n",
       "...                   ...  \n",
       "21397    гражданский брак  \n",
       "21398     женат / замужем  \n",
       "21399    гражданский брак  \n",
       "21400     женат / замужем  \n",
       "21401     женат / замужем  \n",
       "\n",
       "[21402 rows x 14 columns]"
      ]
     },
     "execution_count": 544,
     "metadata": {},
     "output_type": "execute_result"
    }
   ],
   "source": [
    "df_children_anomaly = df.query('children == -1 or children == 20') \n",
    "df = df.drop(df_children_anomaly.index, axis = 0)\n",
    "df.reset_index(drop=True)"
   ]
  },
  {
   "cell_type": "markdown",
   "metadata": {},
   "source": [
    "Запишем в новую переменную `df1` таблицу с нужными для исследования столбцами"
   ]
  },
  {
   "cell_type": "code",
   "execution_count": 545,
   "metadata": {},
   "outputs": [
    {
     "data": {
      "text/html": [
       "<div>\n",
       "<style scoped>\n",
       "    .dataframe tbody tr th:only-of-type {\n",
       "        vertical-align: middle;\n",
       "    }\n",
       "\n",
       "    .dataframe tbody tr th {\n",
       "        vertical-align: top;\n",
       "    }\n",
       "\n",
       "    .dataframe thead th {\n",
       "        text-align: right;\n",
       "    }\n",
       "</style>\n",
       "<table border=\"1\" class=\"dataframe\">\n",
       "  <thead>\n",
       "    <tr style=\"text-align: right;\">\n",
       "      <th></th>\n",
       "      <th>children</th>\n",
       "      <th>education_lower</th>\n",
       "      <th>family_status_lower</th>\n",
       "      <th>family_status_id</th>\n",
       "      <th>debt</th>\n",
       "      <th>total_income</th>\n",
       "      <th>purpose</th>\n",
       "    </tr>\n",
       "  </thead>\n",
       "  <tbody>\n",
       "    <tr>\n",
       "      <td>0</td>\n",
       "      <td>1</td>\n",
       "      <td>высшее</td>\n",
       "      <td>женат / замужем</td>\n",
       "      <td>0</td>\n",
       "      <td>0</td>\n",
       "      <td>253875</td>\n",
       "      <td>покупка жилья</td>\n",
       "    </tr>\n",
       "    <tr>\n",
       "      <td>1</td>\n",
       "      <td>1</td>\n",
       "      <td>среднее</td>\n",
       "      <td>женат / замужем</td>\n",
       "      <td>0</td>\n",
       "      <td>0</td>\n",
       "      <td>112080</td>\n",
       "      <td>приобретение автомобиля</td>\n",
       "    </tr>\n",
       "    <tr>\n",
       "      <td>2</td>\n",
       "      <td>0</td>\n",
       "      <td>среднее</td>\n",
       "      <td>женат / замужем</td>\n",
       "      <td>0</td>\n",
       "      <td>0</td>\n",
       "      <td>145885</td>\n",
       "      <td>покупка жилья</td>\n",
       "    </tr>\n",
       "    <tr>\n",
       "      <td>3</td>\n",
       "      <td>3</td>\n",
       "      <td>среднее</td>\n",
       "      <td>женат / замужем</td>\n",
       "      <td>0</td>\n",
       "      <td>0</td>\n",
       "      <td>267628</td>\n",
       "      <td>дополнительное образование</td>\n",
       "    </tr>\n",
       "    <tr>\n",
       "      <td>4</td>\n",
       "      <td>0</td>\n",
       "      <td>среднее</td>\n",
       "      <td>гражданский брак</td>\n",
       "      <td>1</td>\n",
       "      <td>0</td>\n",
       "      <td>158616</td>\n",
       "      <td>сыграть свадьбу</td>\n",
       "    </tr>\n",
       "  </tbody>\n",
       "</table>\n",
       "</div>"
      ],
      "text/plain": [
       "   children education_lower family_status_lower  family_status_id  debt  \\\n",
       "0         1          высшее     женат / замужем                 0     0   \n",
       "1         1         среднее     женат / замужем                 0     0   \n",
       "2         0         среднее     женат / замужем                 0     0   \n",
       "3         3         среднее     женат / замужем                 0     0   \n",
       "4         0         среднее    гражданский брак                 1     0   \n",
       "\n",
       "   total_income                     purpose  \n",
       "0        253875               покупка жилья  \n",
       "1        112080     приобретение автомобиля  \n",
       "2        145885               покупка жилья  \n",
       "3        267628  дополнительное образование  \n",
       "4        158616             сыграть свадьбу  "
      ]
     },
     "execution_count": 545,
     "metadata": {},
     "output_type": "execute_result"
    }
   ],
   "source": [
    "columns = ['children','education_lower','family_status_lower','family_status_id','debt','total_income','purpose']\n",
    "df1 = pd.DataFrame(df, columns=columns)\n",
    "df1.reset_index(drop=True).head()"
   ]
  },
  {
   "cell_type": "markdown",
   "metadata": {},
   "source": [
    "<a id=\"duplicates\"></a>\n",
    "### Обработка дубликатов"
   ]
  },
  {
   "cell_type": "markdown",
   "metadata": {},
   "source": [
    "Посчитаем явные дубликаты в таблице:"
   ]
  },
  {
   "cell_type": "code",
   "execution_count": 546,
   "metadata": {},
   "outputs": [
    {
     "data": {
      "text/plain": [
       "1430"
      ]
     },
     "execution_count": 546,
     "metadata": {},
     "output_type": "execute_result"
    }
   ],
   "source": [
    "duplicated_df = df1.duplicated().sum()\n",
    "duplicated_df"
   ]
  },
  {
   "cell_type": "markdown",
   "metadata": {},
   "source": [
    "Удалим явные дубликаты (удалим старые индексы и сформируем новые):"
   ]
  },
  {
   "cell_type": "code",
   "execution_count": 547,
   "metadata": {},
   "outputs": [],
   "source": [
    "df = df.drop_duplicates().reset_index(drop=True)"
   ]
  },
  {
   "cell_type": "markdown",
   "metadata": {},
   "source": [
    "Снова посчитаем дубликаты и убедимся, что избавились от них:"
   ]
  },
  {
   "cell_type": "code",
   "execution_count": 548,
   "metadata": {},
   "outputs": [
    {
     "data": {
      "text/plain": [
       "0"
      ]
     },
     "execution_count": 548,
     "metadata": {},
     "output_type": "execute_result"
    }
   ],
   "source": [
    "duplicated_df = df.duplicated().sum()\n",
    "duplicated_df"
   ]
  },
  {
   "cell_type": "markdown",
   "metadata": {},
   "source": [
    "**Вывод**"
   ]
  },
  {
   "cell_type": "markdown",
   "metadata": {},
   "source": [
    "Для поиска дубликатов воспользовались методом `duplicated() и sum()` , для удаления дубликатов использовался метод `drop_duplicates()`. \n",
    "Дубликаты в данных могли появиться по техническим причинам, данные \"задвоились\"."
   ]
  },
  {
   "cell_type": "markdown",
   "metadata": {},
   "source": [
    "<a id=\"lemma\"></a>\n",
    "### Лемматизация"
   ]
  },
  {
   "cell_type": "markdown",
   "metadata": {},
   "source": [
    "Для лемматизации импортируем библиотеку `pymystem3`:"
   ]
  },
  {
   "cell_type": "code",
   "execution_count": 549,
   "metadata": {},
   "outputs": [],
   "source": [
    "from pymystem3 import Mystem\n",
    "m = Mystem()"
   ]
  },
  {
   "cell_type": "markdown",
   "metadata": {},
   "source": [
    "Выведем список всех значений столбца с целью получения кредита, для дальнейшей лемматизации:"
   ]
  },
  {
   "cell_type": "code",
   "execution_count": 550,
   "metadata": {
    "scrolled": true
   },
   "outputs": [
    {
     "data": {
      "text/plain": [
       "5055          автомобили\n",
       "1454          автомобили\n",
       "15416         автомобили\n",
       "18165         автомобили\n",
       "10224         автомобили\n",
       "              ...       \n",
       "7392     сыграть свадьбу\n",
       "18842    сыграть свадьбу\n",
       "10997    сыграть свадьбу\n",
       "4718     сыграть свадьбу\n",
       "8278     сыграть свадьбу\n",
       "Name: purpose, Length: 21402, dtype: object"
      ]
     },
     "metadata": {},
     "output_type": "display_data"
    }
   ],
   "source": [
    "purpose = df1['purpose'].sort_values()\n",
    "display(purpose)"
   ]
  },
  {
   "cell_type": "markdown",
   "metadata": {},
   "source": [
    "Лемматизируем слова из переменной `purpose` и запишем результат в переменную `lemmas`:"
   ]
  },
  {
   "cell_type": "code",
   "execution_count": 551,
   "metadata": {},
   "outputs": [],
   "source": [
    "lemmas = m.lemmatize(\" \".join(purpose))"
   ]
  },
  {
   "cell_type": "markdown",
   "metadata": {},
   "source": [
    "Посчитаем сколько раз каждое слово употребляется в столбце purpose, с помощью метода `most_common()` отсортируем список по убыванию:"
   ]
  },
  {
   "cell_type": "code",
   "execution_count": 552,
   "metadata": {},
   "outputs": [
    {
     "data": {
      "text/plain": [
       "[(' ', 54886),\n",
       " ('недвижимость', 6330),\n",
       " ('покупка', 5880),\n",
       " ('жилье', 4450),\n",
       " ('автомобиль', 4288),\n",
       " ('образование', 3997),\n",
       " ('с', 2906),\n",
       " ('операция', 2593),\n",
       " ('свадьба', 2337),\n",
       " ('свой', 2224),\n",
       " ('на', 2218),\n",
       " ('строительство', 1870),\n",
       " ('высокий', 1368),\n",
       " ('получение', 1311),\n",
       " ('коммерческий', 1307),\n",
       " ('для', 1291),\n",
       " ('жилой', 1225),\n",
       " ('подержать', 956),\n",
       " ('сделка', 939),\n",
       " ('заниматься', 908),\n",
       " ('дополнительный', 902),\n",
       " ('проведение', 772),\n",
       " ('сыграть', 769),\n",
       " ('сдача', 651),\n",
       " ('семья', 640),\n",
       " ('собственный', 628),\n",
       " ('со', 626),\n",
       " ('ремонт', 609),\n",
       " ('приобретение', 460),\n",
       " ('профильный', 432),\n",
       " ('\\n', 1)]"
      ]
     },
     "execution_count": 552,
     "metadata": {},
     "output_type": "execute_result"
    }
   ],
   "source": [
    "from collections import Counter\n",
    "lemma = Counter(lemmas)\n",
    "lemma.most_common()"
   ]
  },
  {
   "cell_type": "markdown",
   "metadata": {},
   "source": [
    "**Вывод**"
   ]
  },
  {
   "cell_type": "markdown",
   "metadata": {},
   "source": [
    "Получили леммы в значениях столбца с целями получения кредита. \n",
    "Посмотрев на отсортированный список, можно сделать вывод, что имеется несколько основных целей получения кредита:\n",
    "- покупка недвижимости/жилья,\n",
    "- покупка автомобиля,\n",
    "- получение образования.\n",
    "\n",
    "Следом можно выделить такие цели как:\n",
    "\n",
    "- свадьба,\n",
    "- строительство."
   ]
  },
  {
   "cell_type": "markdown",
   "metadata": {},
   "source": [
    "<a id=\"category\"></a>\n",
    "### Категоризация данных"
   ]
  },
  {
   "cell_type": "markdown",
   "metadata": {},
   "source": [
    "**Категоризация данных. Количество детей**"
   ]
  },
  {
   "cell_type": "markdown",
   "metadata": {},
   "source": [
    "Категоризируем клиентов по количеству детей."
   ]
  },
  {
   "cell_type": "code",
   "execution_count": 553,
   "metadata": {
    "scrolled": true
   },
   "outputs": [
    {
     "data": {
      "text/plain": [
       "0    14149\n",
       "1     4818\n",
       "2     2055\n",
       "3      330\n",
       "4       41\n",
       "5        9\n",
       "Name: children, dtype: int64"
      ]
     },
     "execution_count": 553,
     "metadata": {},
     "output_type": "execute_result"
    }
   ],
   "source": [
    "df1['children'].value_counts()"
   ]
  },
  {
   "cell_type": "markdown",
   "metadata": {},
   "source": [
    "Аномальных значений нет, значит распределим клиентов так:\n",
    "- Клиенты без детей попадают в категорию \"бездетная\",\n",
    "- Клиенты с 1-2 детьми попадут в категорю \"семья с детьми\",\n",
    "- Клиенты с 3 детьми и более будут считаться \"многодетная\".\n",
    "\n",
    "Запишем правила как функцию и протестируем ее."
   ]
  },
  {
   "cell_type": "code",
   "execution_count": 554,
   "metadata": {},
   "outputs": [],
   "source": [
    "def children_amount(children):\n",
    "    if children <= 0:\n",
    "        return 'бездетная'\n",
    "    if 1<= children <=2:\n",
    "        return 'семья с детьми'\n",
    "    if children >= 3:\n",
    "        return 'многодетная'"
   ]
  },
  {
   "cell_type": "code",
   "execution_count": 555,
   "metadata": {
    "scrolled": false
   },
   "outputs": [
    {
     "data": {
      "text/plain": [
       "'бездетная'"
      ]
     },
     "metadata": {},
     "output_type": "display_data"
    },
    {
     "data": {
      "text/plain": [
       "'семья с детьми'"
      ]
     },
     "metadata": {},
     "output_type": "display_data"
    },
    {
     "data": {
      "text/plain": [
       "'многодетная'"
      ]
     },
     "metadata": {},
     "output_type": "display_data"
    }
   ],
   "source": [
    "display(children_amount(0))\n",
    "display(children_amount(1))\n",
    "display(children_amount(15))"
   ]
  },
  {
   "cell_type": "markdown",
   "metadata": {},
   "source": [
    "Написанная функция работает корректно, добавим отдельный столбец в таблицу, применим метод `apply()`."
   ]
  },
  {
   "cell_type": "code",
   "execution_count": 556,
   "metadata": {
    "scrolled": true
   },
   "outputs": [],
   "source": [
    "df1['children_amount'] = df1['children'].apply(children_amount)"
   ]
  },
  {
   "cell_type": "markdown",
   "metadata": {},
   "source": [
    "Выведем статистику по количеству детей:"
   ]
  },
  {
   "cell_type": "code",
   "execution_count": 557,
   "metadata": {
    "scrolled": false
   },
   "outputs": [
    {
     "data": {
      "text/plain": [
       "бездетная         14149\n",
       "семья с детьми     6873\n",
       "многодетная         380\n",
       "Name: children_amount, dtype: int64"
      ]
     },
     "execution_count": 557,
     "metadata": {},
     "output_type": "execute_result"
    }
   ],
   "source": [
    "df1['children_amount'].value_counts()"
   ]
  },
  {
   "cell_type": "markdown",
   "metadata": {},
   "source": [
    "**Категоризация данных. Ежемесячный доход**"
   ]
  },
  {
   "cell_type": "markdown",
   "metadata": {},
   "source": [
    "Категоризируем столбец с информацией о ежемесячном доходе клиентов. Будем считать, что низкий достаток у людей с доходом 25 тысяч и менее, от 25 до 100 - средний, от 100 до 500 - высокий, от 500 и более - богачи."
   ]
  },
  {
   "cell_type": "code",
   "execution_count": 558,
   "metadata": {},
   "outputs": [
    {
     "data": {
      "text/plain": [
       "'высокий достаток'"
      ]
     },
     "execution_count": 558,
     "metadata": {},
     "output_type": "execute_result"
    }
   ],
   "source": [
    "def total_income_def(total_income):\n",
    "    \n",
    "    if total_income <= 25000:\n",
    "        return 'низкий достаток'\n",
    "    if 25001 <= total_income <= 100000:\n",
    "        return 'средний достаток'\n",
    "    if 100001 <= total_income <= 500000:\n",
    "        return 'высокий достаток'\n",
    "    if total_income >= 500001:\n",
    "        return 'богачи'\n",
    "    \n",
    "total_income_def(155555)"
   ]
  },
  {
   "cell_type": "markdown",
   "metadata": {},
   "source": [
    "Функция работает корректно, применим ее к столбцу `total_income` и добавим в таблицу:"
   ]
  },
  {
   "cell_type": "code",
   "execution_count": 559,
   "metadata": {
    "scrolled": true
   },
   "outputs": [],
   "source": [
    "df1['income_level'] = df1['total_income'].apply(total_income_def)"
   ]
  },
  {
   "cell_type": "markdown",
   "metadata": {},
   "source": [
    "Посчитаем значения в новом столбце:"
   ]
  },
  {
   "cell_type": "code",
   "execution_count": 560,
   "metadata": {
    "scrolled": true
   },
   "outputs": [
    {
     "data": {
      "text/plain": [
       "высокий достаток    14574\n",
       "средний достаток     4436\n",
       "низкий достаток      2170\n",
       "богачи                222\n",
       "Name: income_level, dtype: int64"
      ]
     },
     "execution_count": 560,
     "metadata": {},
     "output_type": "execute_result"
    }
   ],
   "source": [
    "df1['income_level'].value_counts()"
   ]
  },
  {
   "cell_type": "markdown",
   "metadata": {},
   "source": [
    "**Категоризация данных. Цель получения кредита**"
   ]
  },
  {
   "cell_type": "markdown",
   "metadata": {},
   "source": [
    "Для того, чтобы категоризировать данные столбца \"Цель получения кредита\" нужно вспомнить какие основные цели мы выделили в леммах: недвижимость, жилье, автомобиль, образование, свадьба и строительство. Запишем их в функцию, проверим ее работу:"
   ]
  },
  {
   "cell_type": "code",
   "execution_count": 561,
   "metadata": {},
   "outputs": [
    {
     "data": {
      "text/plain": [
       "'Цель - автомобиль'"
      ]
     },
     "metadata": {},
     "output_type": "display_data"
    },
    {
     "data": {
      "text/plain": [
       "'Цель - недвижимость'"
      ]
     },
     "metadata": {},
     "output_type": "display_data"
    },
    {
     "data": {
      "text/plain": [
       "'Не могу определить категорию'"
      ]
     },
     "metadata": {},
     "output_type": "display_data"
    }
   ],
   "source": [
    "def purpose_def(purpose):\n",
    "        if 'авто' in purpose:\n",
    "            return 'Цель - автомобиль'\n",
    "        if 'недвиж'in purpose:\n",
    "            return 'Цель - недвижимость'\n",
    "        if 'жиль' in purpose:\n",
    "            return 'Цель - недвижимость'\n",
    "        if 'образовани' in purpose:\n",
    "            return 'Цель - образование'\n",
    "        if 'свадьб' in purpose:\n",
    "            return 'Цель - свадьба'\n",
    "        if 'строительств' in purpose:\n",
    "            return 'Цель - строительство'\n",
    "        return 'Не могу определить категорию'\n",
    "    \n",
    "display(purpose_def('сделка с подержанным автомобилем'))\n",
    "display(purpose_def('операции с жильем'))\n",
    "display(purpose_def('абракадабра'))"
   ]
  },
  {
   "cell_type": "markdown",
   "metadata": {},
   "source": [
    "Функция работает корректно, применим ее ко всему столбцу `purpose`:"
   ]
  },
  {
   "cell_type": "code",
   "execution_count": 562,
   "metadata": {
    "scrolled": true
   },
   "outputs": [],
   "source": [
    "df1['purpose_category'] = df1['purpose'].apply(purpose_def)"
   ]
  },
  {
   "cell_type": "markdown",
   "metadata": {},
   "source": [
    "Посчитаем значения в новом столбце:"
   ]
  },
  {
   "cell_type": "code",
   "execution_count": 563,
   "metadata": {
    "scrolled": true
   },
   "outputs": [
    {
     "data": {
      "text/plain": [
       "Цель - недвижимость    10780\n",
       "Цель - автомобиль       4288\n",
       "Цель - образование      3997\n",
       "Цель - свадьба          2337\n",
       "Name: purpose_category, dtype: int64"
      ]
     },
     "execution_count": 563,
     "metadata": {},
     "output_type": "execute_result"
    }
   ],
   "source": [
    "df1['purpose_category'].value_counts()"
   ]
  },
  {
   "cell_type": "markdown",
   "metadata": {},
   "source": [
    "**Вывод**"
   ]
  },
  {
   "cell_type": "markdown",
   "metadata": {},
   "source": [
    "Проведя категоризацию имеющихся данных можно сказать, что:\n",
    "- преимущественное количество клиентов не имеет детей, чуть больше четверти имеет 1-2 детей и меньше всего многодетных клиентов,\n",
    "- большая часть клиентов имеет высокий достаток в месяц (от 100 000 до 500 000 т.р.),\n",
    "- основная цель получения кредита - различные операции с недвижимостью и жильем."
   ]
  },
  {
   "cell_type": "markdown",
   "metadata": {},
   "source": [
    "<a id=\"questions\"></a>\n",
    "## Шаг 3. Ответьте на вопросы"
   ]
  },
  {
   "cell_type": "markdown",
   "metadata": {},
   "source": [
    "<a id=\"q1\"></a>\n",
    "### Есть ли зависимость между наличием детей и возвратом кредита в срок?"
   ]
  },
  {
   "cell_type": "markdown",
   "metadata": {},
   "source": [
    "Построим и выведем сводную таблицу, отображающую зависимость между наличием детей и возвратом кредита в срок. Для этого воспользуемся методом `pivot_table()`.\n",
    "Для четкого понимания взаимосвязи выведем в новый столбец процент не вернувшихся кредитов:"
   ]
  },
  {
   "cell_type": "code",
   "execution_count": 564,
   "metadata": {
    "scrolled": true
   },
   "outputs": [
    {
     "data": {
      "text/html": [
       "<div>\n",
       "<style scoped>\n",
       "    .dataframe tbody tr th:only-of-type {\n",
       "        vertical-align: middle;\n",
       "    }\n",
       "\n",
       "    .dataframe tbody tr th {\n",
       "        vertical-align: top;\n",
       "    }\n",
       "\n",
       "    .dataframe thead th {\n",
       "        text-align: right;\n",
       "    }\n",
       "</style>\n",
       "<table border=\"1\" class=\"dataframe\">\n",
       "  <thead>\n",
       "    <tr style=\"text-align: right;\">\n",
       "      <th></th>\n",
       "      <th>children_amount</th>\n",
       "      <th>yes</th>\n",
       "      <th>no</th>\n",
       "      <th>no_return</th>\n",
       "    </tr>\n",
       "  </thead>\n",
       "  <tbody>\n",
       "    <tr>\n",
       "      <td>0</td>\n",
       "      <td>бездетная</td>\n",
       "      <td>13086</td>\n",
       "      <td>1063</td>\n",
       "      <td>7.512898</td>\n",
       "    </tr>\n",
       "    <tr>\n",
       "      <td>1</td>\n",
       "      <td>многодетная</td>\n",
       "      <td>349</td>\n",
       "      <td>31</td>\n",
       "      <td>8.157895</td>\n",
       "    </tr>\n",
       "    <tr>\n",
       "      <td>2</td>\n",
       "      <td>семья с детьми</td>\n",
       "      <td>6235</td>\n",
       "      <td>638</td>\n",
       "      <td>9.282700</td>\n",
       "    </tr>\n",
       "  </tbody>\n",
       "</table>\n",
       "</div>"
      ],
      "text/plain": [
       "  children_amount    yes    no  no_return\n",
       "0       бездетная  13086  1063   7.512898\n",
       "1     многодетная    349    31   8.157895\n",
       "2  семья с детьми   6235   638   9.282700"
      ]
     },
     "execution_count": 564,
     "metadata": {},
     "output_type": "execute_result"
    }
   ],
   "source": [
    "pivot_children = df1.pivot_table(index=['children_amount'],columns='debt',values='children',aggfunc='count')\n",
    "pivot_children_index = pivot_children.reset_index()\n",
    "pivot_children_index.set_axis(['children_amount','yes','no'],'columns',inplace=True)\n",
    "pivot_children_index['no_return'] = pivot_children_index['no']/pivot_children_index[['yes','no']].sum(axis=1)*100\n",
    "pivot_children_index"
   ]
  },
  {
   "cell_type": "markdown",
   "metadata": {},
   "source": [
    "**Вывод**"
   ]
  },
  {
   "cell_type": "markdown",
   "metadata": {},
   "source": [
    "Проанализировав таблицу и дополнительные расчеты можно сказать, что :\n",
    "- семьи без детей реже не возвращают банку кредиты в срок, то есть могут быть более надежными клиентами,\n",
    "- семьи с 1 или 2 детьми чаще остальных не возвращают кредиты в срок.\n"
   ]
  },
  {
   "cell_type": "markdown",
   "metadata": {},
   "source": [
    "<a id=\"q2\"></a>\n",
    "### Есть ли зависимость между семейным положением и возвратом кредита в срок?"
   ]
  },
  {
   "cell_type": "markdown",
   "metadata": {},
   "source": [
    "Построим и выведем сводную таблицу, отображающую зависимость между семейным положением и возвратом кредита в срок. Для этого воспользуемся методом `pivot_table()`"
   ]
  },
  {
   "cell_type": "code",
   "execution_count": 565,
   "metadata": {
    "scrolled": true
   },
   "outputs": [
    {
     "data": {
      "text/html": [
       "<div>\n",
       "<style scoped>\n",
       "    .dataframe tbody tr th:only-of-type {\n",
       "        vertical-align: middle;\n",
       "    }\n",
       "\n",
       "    .dataframe tbody tr th {\n",
       "        vertical-align: top;\n",
       "    }\n",
       "\n",
       "    .dataframe thead th {\n",
       "        text-align: right;\n",
       "    }\n",
       "</style>\n",
       "<table border=\"1\" class=\"dataframe\">\n",
       "  <thead>\n",
       "    <tr style=\"text-align: right;\">\n",
       "      <th></th>\n",
       "      <th>family_status_lower</th>\n",
       "      <th>yes</th>\n",
       "      <th>no</th>\n",
       "      <th>no_return</th>\n",
       "    </tr>\n",
       "  </thead>\n",
       "  <tbody>\n",
       "    <tr>\n",
       "      <td>0</td>\n",
       "      <td>в разводе</td>\n",
       "      <td>1105</td>\n",
       "      <td>84</td>\n",
       "      <td>7.064760</td>\n",
       "    </tr>\n",
       "    <tr>\n",
       "      <td>1</td>\n",
       "      <td>вдовец / вдова</td>\n",
       "      <td>889</td>\n",
       "      <td>63</td>\n",
       "      <td>6.617647</td>\n",
       "    </tr>\n",
       "    <tr>\n",
       "      <td>2</td>\n",
       "      <td>гражданский брак</td>\n",
       "      <td>3775</td>\n",
       "      <td>385</td>\n",
       "      <td>9.254808</td>\n",
       "    </tr>\n",
       "    <tr>\n",
       "      <td>3</td>\n",
       "      <td>женат / замужем</td>\n",
       "      <td>11375</td>\n",
       "      <td>927</td>\n",
       "      <td>7.535360</td>\n",
       "    </tr>\n",
       "    <tr>\n",
       "      <td>4</td>\n",
       "      <td>не женат / не замужем</td>\n",
       "      <td>2526</td>\n",
       "      <td>273</td>\n",
       "      <td>9.753483</td>\n",
       "    </tr>\n",
       "  </tbody>\n",
       "</table>\n",
       "</div>"
      ],
      "text/plain": [
       "     family_status_lower    yes   no  no_return\n",
       "0              в разводе   1105   84   7.064760\n",
       "1         вдовец / вдова    889   63   6.617647\n",
       "2       гражданский брак   3775  385   9.254808\n",
       "3        женат / замужем  11375  927   7.535360\n",
       "4  не женат / не замужем   2526  273   9.753483"
      ]
     },
     "execution_count": 565,
     "metadata": {},
     "output_type": "execute_result"
    }
   ],
   "source": [
    "pivot_family = df1.pivot_table(index=['family_status_lower'],columns='debt',values='family_status_id',aggfunc='count')\n",
    "pivot_family_index = pivot_family.reset_index()\n",
    "pivot_family_index.set_axis(['family_status_lower','yes','no'],'columns',inplace=True)\n",
    "pivot_family_index['no_return'] = pivot_family_index['no']/pivot_family_index[['yes','no']].sum(axis=1)*100\n",
    "pivot_family_index"
   ]
  },
  {
   "cell_type": "markdown",
   "metadata": {},
   "source": [
    "**Вывод**"
   ]
  },
  {
   "cell_type": "markdown",
   "metadata": {},
   "source": [
    "Проанализировав сводную таблицу, отвечая на вопрос, можно сказать, что:\n",
    "- самые ответственные клиенты банка вдовы и вдовцы, они реже остальных не возвращают кредиты в срок, \n",
    "- так же редко не возвращают кредиты в срок клиенты в разводе и в браке,\n",
    "- чаще всего остальных не возвращают кредиты в срок клиенты в гражданском браке и одинокие люди."
   ]
  },
  {
   "cell_type": "markdown",
   "metadata": {},
   "source": [
    "<a id=\"q3\"></a>\n",
    "### Есть ли зависимость между уровнем дохода и возвратом кредита в срок?"
   ]
  },
  {
   "cell_type": "markdown",
   "metadata": {},
   "source": [
    "Построим и выведем сводную таблицу, отображающую зависимость между уровнем дохода и возвратом кредита в срок:"
   ]
  },
  {
   "cell_type": "code",
   "execution_count": 566,
   "metadata": {},
   "outputs": [
    {
     "data": {
      "text/html": [
       "<div>\n",
       "<style scoped>\n",
       "    .dataframe tbody tr th:only-of-type {\n",
       "        vertical-align: middle;\n",
       "    }\n",
       "\n",
       "    .dataframe tbody tr th {\n",
       "        vertical-align: top;\n",
       "    }\n",
       "\n",
       "    .dataframe thead th {\n",
       "        text-align: right;\n",
       "    }\n",
       "</style>\n",
       "<table border=\"1\" class=\"dataframe\">\n",
       "  <thead>\n",
       "    <tr style=\"text-align: right;\">\n",
       "      <th></th>\n",
       "      <th>income_level</th>\n",
       "      <th>yes</th>\n",
       "      <th>no</th>\n",
       "      <th>no_return</th>\n",
       "    </tr>\n",
       "  </thead>\n",
       "  <tbody>\n",
       "    <tr>\n",
       "      <td>0</td>\n",
       "      <td>богачи</td>\n",
       "      <td>208</td>\n",
       "      <td>14</td>\n",
       "      <td>6.306306</td>\n",
       "    </tr>\n",
       "    <tr>\n",
       "      <td>1</td>\n",
       "      <td>высокий достаток</td>\n",
       "      <td>13380</td>\n",
       "      <td>1194</td>\n",
       "      <td>8.192672</td>\n",
       "    </tr>\n",
       "    <tr>\n",
       "      <td>2</td>\n",
       "      <td>низкий достаток</td>\n",
       "      <td>1999</td>\n",
       "      <td>171</td>\n",
       "      <td>7.880184</td>\n",
       "    </tr>\n",
       "    <tr>\n",
       "      <td>3</td>\n",
       "      <td>средний достаток</td>\n",
       "      <td>4083</td>\n",
       "      <td>353</td>\n",
       "      <td>7.957619</td>\n",
       "    </tr>\n",
       "  </tbody>\n",
       "</table>\n",
       "</div>"
      ],
      "text/plain": [
       "       income_level    yes    no  no_return\n",
       "0            богачи    208    14   6.306306\n",
       "1  высокий достаток  13380  1194   8.192672\n",
       "2   низкий достаток   1999   171   7.880184\n",
       "3  средний достаток   4083   353   7.957619"
      ]
     },
     "execution_count": 566,
     "metadata": {},
     "output_type": "execute_result"
    }
   ],
   "source": [
    "pivot_income = df1.pivot_table(index=['income_level'],columns='debt',values='total_income',aggfunc='count')\n",
    "pivot_income_index = pivot_income.reset_index()\n",
    "pivot_income_index.set_axis(['income_level','yes','no'],'columns',inplace=True)\n",
    "pivot_income_index['no_return'] = pivot_income_index['no']/pivot_income_index[['yes','no']].sum(axis=1)*100\n",
    "pivot_income_index"
   ]
  },
  {
   "cell_type": "markdown",
   "metadata": {},
   "source": [
    "**Вывод**"
   ]
  },
  {
   "cell_type": "markdown",
   "metadata": {},
   "source": [
    "Проанализировав сводную таблицу зависимости между уровнем дохода и возврата кредита в срок, можно сказать, что:\n",
    "- реже всего не возвращают кредит в срок очень богатые люди,\n",
    "- чаще всего задерживают выплату по кредиту люди с высоким и средним достатком."
   ]
  },
  {
   "cell_type": "markdown",
   "metadata": {},
   "source": [
    "<a id=\"q4\"></a>\n",
    "### Как разные цели кредита влияют на его возврат в срок?"
   ]
  },
  {
   "cell_type": "markdown",
   "metadata": {},
   "source": [
    "Построим и выведем сводную таблицу, отображающую зависимость от цели получения кредита и его возврат в срок:"
   ]
  },
  {
   "cell_type": "code",
   "execution_count": 567,
   "metadata": {},
   "outputs": [
    {
     "data": {
      "text/html": [
       "<div>\n",
       "<style scoped>\n",
       "    .dataframe tbody tr th:only-of-type {\n",
       "        vertical-align: middle;\n",
       "    }\n",
       "\n",
       "    .dataframe tbody tr th {\n",
       "        vertical-align: top;\n",
       "    }\n",
       "\n",
       "    .dataframe thead th {\n",
       "        text-align: right;\n",
       "    }\n",
       "</style>\n",
       "<table border=\"1\" class=\"dataframe\">\n",
       "  <thead>\n",
       "    <tr style=\"text-align: right;\">\n",
       "      <th></th>\n",
       "      <th>purpose_category</th>\n",
       "      <th>yes</th>\n",
       "      <th>no</th>\n",
       "      <th>no_return</th>\n",
       "    </tr>\n",
       "  </thead>\n",
       "  <tbody>\n",
       "    <tr>\n",
       "      <td>0</td>\n",
       "      <td>Цель - автомобиль</td>\n",
       "      <td>3888</td>\n",
       "      <td>400</td>\n",
       "      <td>9.328358</td>\n",
       "    </tr>\n",
       "    <tr>\n",
       "      <td>1</td>\n",
       "      <td>Цель - недвижимость</td>\n",
       "      <td>10000</td>\n",
       "      <td>780</td>\n",
       "      <td>7.235622</td>\n",
       "    </tr>\n",
       "    <tr>\n",
       "      <td>2</td>\n",
       "      <td>Цель - образование</td>\n",
       "      <td>3628</td>\n",
       "      <td>369</td>\n",
       "      <td>9.231924</td>\n",
       "    </tr>\n",
       "    <tr>\n",
       "      <td>3</td>\n",
       "      <td>Цель - свадьба</td>\n",
       "      <td>2154</td>\n",
       "      <td>183</td>\n",
       "      <td>7.830552</td>\n",
       "    </tr>\n",
       "  </tbody>\n",
       "</table>\n",
       "</div>"
      ],
      "text/plain": [
       "      purpose_category    yes   no  no_return\n",
       "0    Цель - автомобиль   3888  400   9.328358\n",
       "1  Цель - недвижимость  10000  780   7.235622\n",
       "2   Цель - образование   3628  369   9.231924\n",
       "3       Цель - свадьба   2154  183   7.830552"
      ]
     },
     "execution_count": 567,
     "metadata": {},
     "output_type": "execute_result"
    }
   ],
   "source": [
    "pivot_purpose = df1.pivot_table(index=['purpose_category'],columns='debt',values='purpose',aggfunc='count')\n",
    "pivot_purpose_index = pivot_purpose.reset_index()\n",
    "pivot_purpose_index.set_axis(['purpose_category','yes','no'],'columns',inplace=True)\n",
    "pivot_purpose_index['no_return'] = pivot_purpose_index['no']/pivot_purpose_index[['yes','no']].sum(axis=1)*100\n",
    "pivot_purpose_index"
   ]
  },
  {
   "cell_type": "markdown",
   "metadata": {},
   "source": [
    "**Вывод**"
   ]
  },
  {
   "cell_type": "markdown",
   "metadata": {},
   "source": [
    "Проанализировав информацию о взаимосвязи цели кредита и его возврата в срок, можно сказать: \n",
    "- если клиент берет кредит на различные цели связанные с автомобилем или образованием, он с большей вероятностью задержит выплату по кредиту, \n",
    "- клиенты, взявшие кредит на свадьбу и различные операции с недвижимостью, чаще других выплачивают кредиты в срок. "
   ]
  },
  {
   "cell_type": "markdown",
   "metadata": {},
   "source": [
    "<a id=\"conclusion\"></a>\n",
    "## Шаг 4. Общий вывод"
   ]
  },
  {
   "cell_type": "markdown",
   "metadata": {},
   "source": [
    "Целью исследования было определить взаимосвязь наличия детей и семейного положения на возврат кредита в срок. Для этого проделали следующие шаги: \n",
    "- обработали дубликаты и пропуски,\n",
    "- заменили типы данных в нужных столбцах,\n",
    "- выделили леммы в столбце с целью получения кредита,\n",
    "- категоризировали данные. \n",
    "\n",
    "Отвечая на основные вопросы исследования можно сказать, что: \n",
    "- можно проследить небольшую зависимость между наличием детей и возвратом кредита в срок. Семьи с 1-2 детьми чаще остальных не возвращают кредиты в срок.\n",
    "- имеется связь между семейным положением и возвратом кредита в срок, самые \"ненадежные\" клиенты - клиенты состоящие в гражданском браке и одинокие люди.\n",
    "- отследить четкую взаимосвязь между уровнем дохода и вернувшимся кредитом в срок сложнее. Самые ответственные клиенты - клиенты с очень высоким достатком(от 500 000 и более). Клиенты с высоким достатком чаще остальных не возвращают кредиты в срок.\n",
    "- обращаясь к информации о цели выдачи кредита можно сказать, что клиенты, взявшие кредит на получение образования и автомобиль, с большей вероятносью вернут его в срок, чем те, кто взял кредит на свадьбу или на различные операции с недвижимостью. "
   ]
  },
  {
   "cell_type": "code",
   "execution_count": null,
   "metadata": {},
   "outputs": [],
   "source": []
  }
 ],
 "metadata": {
  "ExecuteTimeLog": [
   {
    "duration": 452,
    "start_time": "2022-01-08T19:25:31.367Z"
   },
   {
    "duration": 366,
    "start_time": "2022-01-08T19:26:12.587Z"
   },
   {
    "duration": 1696,
    "start_time": "2022-01-08T19:26:28.858Z"
   },
   {
    "duration": 67,
    "start_time": "2022-01-08T19:26:40.130Z"
   },
   {
    "duration": 15,
    "start_time": "2022-01-08T19:26:52.475Z"
   },
   {
    "duration": 118,
    "start_time": "2022-01-08T19:31:03.410Z"
   },
   {
    "duration": 146,
    "start_time": "2022-01-08T19:32:43.061Z"
   },
   {
    "duration": 29,
    "start_time": "2022-01-08T19:33:13.966Z"
   },
   {
    "duration": 120,
    "start_time": "2022-01-08T19:33:44.037Z"
   },
   {
    "duration": 111,
    "start_time": "2022-01-08T19:34:58.728Z"
   },
   {
    "duration": 16,
    "start_time": "2022-01-08T19:35:11.918Z"
   },
   {
    "duration": 121,
    "start_time": "2022-01-08T19:36:54.553Z"
   },
   {
    "duration": 111,
    "start_time": "2022-01-08T19:38:08.608Z"
   },
   {
    "duration": 114,
    "start_time": "2022-01-08T19:39:14.805Z"
   },
   {
    "duration": 293,
    "start_time": "2022-01-08T19:47:30.152Z"
   },
   {
    "duration": 16,
    "start_time": "2022-01-08T19:48:00.168Z"
   },
   {
    "duration": 12,
    "start_time": "2022-01-08T19:48:09.246Z"
   },
   {
    "duration": 28,
    "start_time": "2022-01-08T19:49:23.585Z"
   },
   {
    "duration": 13,
    "start_time": "2022-01-08T19:49:30.202Z"
   },
   {
    "duration": 27,
    "start_time": "2022-01-08T19:50:09.594Z"
   },
   {
    "duration": 20,
    "start_time": "2022-01-08T19:50:15.726Z"
   },
   {
    "duration": 129,
    "start_time": "2022-01-08T19:51:38.187Z"
   },
   {
    "duration": 874,
    "start_time": "2022-01-08T19:53:12.291Z"
   },
   {
    "duration": 4,
    "start_time": "2022-01-08T19:56:28.771Z"
   },
   {
    "duration": 65,
    "start_time": "2022-01-08T19:56:28.777Z"
   },
   {
    "duration": 19,
    "start_time": "2022-01-08T19:56:28.845Z"
   },
   {
    "duration": 15,
    "start_time": "2022-01-08T19:56:28.867Z"
   },
   {
    "duration": 12,
    "start_time": "2022-01-08T19:56:28.884Z"
   },
   {
    "duration": 14,
    "start_time": "2022-01-08T19:56:30.331Z"
   },
   {
    "duration": 97,
    "start_time": "2022-01-08T20:00:09.704Z"
   },
   {
    "duration": 12,
    "start_time": "2022-01-08T20:05:32.961Z"
   },
   {
    "duration": 139,
    "start_time": "2022-01-08T20:06:12.105Z"
   },
   {
    "duration": 9,
    "start_time": "2022-01-08T20:06:30.538Z"
   },
   {
    "duration": 20,
    "start_time": "2022-01-08T20:06:44.227Z"
   },
   {
    "duration": 14,
    "start_time": "2022-01-08T20:07:18.860Z"
   },
   {
    "duration": 28,
    "start_time": "2022-01-08T20:20:02.950Z"
   },
   {
    "duration": 98,
    "start_time": "2022-01-08T20:47:14.850Z"
   },
   {
    "duration": 1300,
    "start_time": "2022-01-08T20:48:40.266Z"
   },
   {
    "duration": 1236,
    "start_time": "2022-01-08T20:49:36.662Z"
   },
   {
    "duration": 10,
    "start_time": "2022-01-08T20:55:51.082Z"
   },
   {
    "duration": 17,
    "start_time": "2022-01-08T20:56:02.770Z"
   },
   {
    "duration": 539,
    "start_time": "2022-01-08T20:56:26.253Z"
   },
   {
    "duration": 6,
    "start_time": "2022-01-08T20:59:36.202Z"
   },
   {
    "duration": 16,
    "start_time": "2022-01-08T20:59:45.767Z"
   },
   {
    "duration": 5,
    "start_time": "2022-01-08T21:00:19.278Z"
   },
   {
    "duration": 5,
    "start_time": "2022-01-08T21:00:29.011Z"
   },
   {
    "duration": 15,
    "start_time": "2022-01-08T21:00:54.535Z"
   },
   {
    "duration": 3,
    "start_time": "2022-01-08T21:01:57.146Z"
   },
   {
    "duration": 69,
    "start_time": "2022-01-08T21:01:57.152Z"
   },
   {
    "duration": 19,
    "start_time": "2022-01-08T21:01:57.224Z"
   },
   {
    "duration": 26,
    "start_time": "2022-01-08T21:01:57.245Z"
   },
   {
    "duration": 12,
    "start_time": "2022-01-08T21:01:57.274Z"
   },
   {
    "duration": 12,
    "start_time": "2022-01-08T21:02:04.776Z"
   },
   {
    "duration": 16,
    "start_time": "2022-01-08T21:02:07.222Z"
   },
   {
    "duration": 16,
    "start_time": "2022-01-08T21:02:24.930Z"
   },
   {
    "duration": 17,
    "start_time": "2022-01-08T21:02:44.011Z"
   },
   {
    "duration": 10,
    "start_time": "2022-01-08T21:03:11.226Z"
   },
   {
    "duration": 5,
    "start_time": "2022-01-08T21:03:22.988Z"
   },
   {
    "duration": 17,
    "start_time": "2022-01-08T21:03:24.551Z"
   },
   {
    "duration": 11,
    "start_time": "2022-01-08T21:04:04.281Z"
   },
   {
    "duration": 6,
    "start_time": "2022-01-08T21:04:21.403Z"
   },
   {
    "duration": 16,
    "start_time": "2022-01-08T21:04:23.954Z"
   },
   {
    "duration": 29,
    "start_time": "2022-01-08T21:05:17.656Z"
   },
   {
    "duration": 3,
    "start_time": "2022-01-08T21:05:27.144Z"
   },
   {
    "duration": 60,
    "start_time": "2022-01-08T21:05:28.788Z"
   },
   {
    "duration": 26,
    "start_time": "2022-01-08T21:05:30.147Z"
   },
   {
    "duration": 19,
    "start_time": "2022-01-08T21:05:38.411Z"
   },
   {
    "duration": 18,
    "start_time": "2022-01-08T21:05:43.059Z"
   },
   {
    "duration": 12,
    "start_time": "2022-01-08T21:05:47.324Z"
   },
   {
    "duration": 12,
    "start_time": "2022-01-08T21:05:51.071Z"
   },
   {
    "duration": 19,
    "start_time": "2022-01-08T21:05:52.406Z"
   },
   {
    "duration": 11,
    "start_time": "2022-01-08T21:06:14.768Z"
   },
   {
    "duration": 15,
    "start_time": "2022-01-08T21:06:17.656Z"
   },
   {
    "duration": 4,
    "start_time": "2022-01-08T21:06:32.208Z"
   },
   {
    "duration": 66,
    "start_time": "2022-01-08T21:06:32.215Z"
   },
   {
    "duration": 19,
    "start_time": "2022-01-08T21:06:32.284Z"
   },
   {
    "duration": 15,
    "start_time": "2022-01-08T21:06:32.305Z"
   },
   {
    "duration": 41,
    "start_time": "2022-01-08T21:06:32.322Z"
   },
   {
    "duration": 11,
    "start_time": "2022-01-08T21:06:32.365Z"
   },
   {
    "duration": 20,
    "start_time": "2022-01-08T21:06:32.378Z"
   },
   {
    "duration": 11,
    "start_time": "2022-01-08T21:06:34.586Z"
   },
   {
    "duration": 14,
    "start_time": "2022-01-08T21:06:36.940Z"
   },
   {
    "duration": 5,
    "start_time": "2022-01-08T21:07:57.580Z"
   },
   {
    "duration": 12,
    "start_time": "2022-01-08T21:07:59.276Z"
   },
   {
    "duration": 5,
    "start_time": "2022-01-08T21:08:03.650Z"
   },
   {
    "duration": 14,
    "start_time": "2022-01-08T21:08:05.511Z"
   },
   {
    "duration": 4,
    "start_time": "2022-01-08T21:08:11.273Z"
   },
   {
    "duration": 67,
    "start_time": "2022-01-08T21:08:11.280Z"
   },
   {
    "duration": 19,
    "start_time": "2022-01-08T21:08:11.351Z"
   },
   {
    "duration": 18,
    "start_time": "2022-01-08T21:08:11.374Z"
   },
   {
    "duration": 13,
    "start_time": "2022-01-08T21:08:11.394Z"
   },
   {
    "duration": 49,
    "start_time": "2022-01-08T21:08:11.410Z"
   },
   {
    "duration": 19,
    "start_time": "2022-01-08T21:08:11.462Z"
   },
   {
    "duration": 1270,
    "start_time": "2022-01-08T21:08:15.085Z"
   },
   {
    "duration": 3,
    "start_time": "2022-01-08T21:10:55.397Z"
   },
   {
    "duration": 64,
    "start_time": "2022-01-08T21:10:55.403Z"
   },
   {
    "duration": 19,
    "start_time": "2022-01-08T21:10:55.470Z"
   },
   {
    "duration": 16,
    "start_time": "2022-01-08T21:10:55.491Z"
   },
   {
    "duration": 15,
    "start_time": "2022-01-08T21:10:55.509Z"
   },
   {
    "duration": 37,
    "start_time": "2022-01-08T21:10:55.526Z"
   },
   {
    "duration": 20,
    "start_time": "2022-01-08T21:10:55.565Z"
   },
   {
    "duration": 18,
    "start_time": "2022-01-08T21:10:59.680Z"
   },
   {
    "duration": 341,
    "start_time": "2022-01-08T21:11:03.159Z"
   },
   {
    "duration": 3,
    "start_time": "2022-01-08T21:15:17.088Z"
   },
   {
    "duration": 67,
    "start_time": "2022-01-08T21:15:17.094Z"
   },
   {
    "duration": 26,
    "start_time": "2022-01-08T21:15:20.885Z"
   },
   {
    "duration": 20,
    "start_time": "2022-01-08T21:15:36.824Z"
   },
   {
    "duration": 3,
    "start_time": "2022-01-08T21:15:58.285Z"
   },
   {
    "duration": 64,
    "start_time": "2022-01-08T21:15:58.292Z"
   },
   {
    "duration": 20,
    "start_time": "2022-01-08T21:15:58.360Z"
   },
   {
    "duration": 15,
    "start_time": "2022-01-08T21:15:58.383Z"
   },
   {
    "duration": 13,
    "start_time": "2022-01-08T21:15:58.400Z"
   },
   {
    "duration": 49,
    "start_time": "2022-01-08T21:15:58.416Z"
   },
   {
    "duration": 19,
    "start_time": "2022-01-08T21:15:58.467Z"
   },
   {
    "duration": 16,
    "start_time": "2022-01-08T21:15:58.489Z"
   },
   {
    "duration": 323,
    "start_time": "2022-01-08T21:15:58.509Z"
   },
   {
    "duration": -38,
    "start_time": "2022-01-08T21:15:58.872Z"
   },
   {
    "duration": -39,
    "start_time": "2022-01-08T21:15:58.875Z"
   },
   {
    "duration": 3,
    "start_time": "2022-01-08T21:16:13.146Z"
   },
   {
    "duration": 65,
    "start_time": "2022-01-08T21:16:13.152Z"
   },
   {
    "duration": 21,
    "start_time": "2022-01-08T21:16:13.220Z"
   },
   {
    "duration": 18,
    "start_time": "2022-01-08T21:16:13.243Z"
   },
   {
    "duration": 13,
    "start_time": "2022-01-08T21:16:13.264Z"
   },
   {
    "duration": 11,
    "start_time": "2022-01-08T21:16:13.280Z"
   },
   {
    "duration": 19,
    "start_time": "2022-01-08T21:16:13.293Z"
   },
   {
    "duration": 1263,
    "start_time": "2022-01-08T21:16:59.691Z"
   },
   {
    "duration": -81,
    "start_time": "2022-01-08T21:17:01.037Z"
   },
   {
    "duration": 9,
    "start_time": "2022-01-08T21:17:07.471Z"
   },
   {
    "duration": 3,
    "start_time": "2022-01-08T21:17:13.034Z"
   },
   {
    "duration": 67,
    "start_time": "2022-01-08T21:17:13.040Z"
   },
   {
    "duration": 18,
    "start_time": "2022-01-08T21:17:13.110Z"
   },
   {
    "duration": 31,
    "start_time": "2022-01-08T21:17:13.131Z"
   },
   {
    "duration": 13,
    "start_time": "2022-01-08T21:17:13.165Z"
   },
   {
    "duration": 11,
    "start_time": "2022-01-08T21:17:13.180Z"
   },
   {
    "duration": 19,
    "start_time": "2022-01-08T21:17:13.194Z"
   },
   {
    "duration": 12,
    "start_time": "2022-01-08T21:17:15.972Z"
   },
   {
    "duration": 15,
    "start_time": "2022-01-08T21:17:17.343Z"
   },
   {
    "duration": 4,
    "start_time": "2022-01-08T21:20:06.322Z"
   },
   {
    "duration": 66,
    "start_time": "2022-01-08T21:20:06.329Z"
   },
   {
    "duration": 19,
    "start_time": "2022-01-08T21:20:06.397Z"
   },
   {
    "duration": 14,
    "start_time": "2022-01-08T21:20:06.418Z"
   },
   {
    "duration": 32,
    "start_time": "2022-01-08T21:20:06.435Z"
   },
   {
    "duration": 14,
    "start_time": "2022-01-08T21:20:18.319Z"
   },
   {
    "duration": 26,
    "start_time": "2022-01-08T21:22:41.817Z"
   },
   {
    "duration": 3,
    "start_time": "2022-01-08T21:23:04.312Z"
   },
   {
    "duration": 68,
    "start_time": "2022-01-08T21:23:04.318Z"
   },
   {
    "duration": 18,
    "start_time": "2022-01-08T21:23:04.390Z"
   },
   {
    "duration": 17,
    "start_time": "2022-01-08T21:23:04.411Z"
   },
   {
    "duration": 36,
    "start_time": "2022-01-08T21:23:04.431Z"
   },
   {
    "duration": 11,
    "start_time": "2022-01-08T21:23:04.470Z"
   },
   {
    "duration": 20,
    "start_time": "2022-01-08T21:23:04.484Z"
   },
   {
    "duration": 12,
    "start_time": "2022-01-08T21:23:04.506Z"
   },
   {
    "duration": 49,
    "start_time": "2022-01-08T21:23:04.521Z"
   },
   {
    "duration": 25,
    "start_time": "2022-01-08T21:23:06.401Z"
   },
   {
    "duration": 573,
    "start_time": "2022-01-09T22:10:04.330Z"
   },
   {
    "duration": 49,
    "start_time": "2022-01-09T22:10:04.904Z"
   },
   {
    "duration": 15,
    "start_time": "2022-01-09T22:10:04.955Z"
   },
   {
    "duration": 10,
    "start_time": "2022-01-09T22:10:04.972Z"
   },
   {
    "duration": 8,
    "start_time": "2022-01-09T22:10:04.983Z"
   },
   {
    "duration": 7,
    "start_time": "2022-01-09T22:10:04.992Z"
   },
   {
    "duration": 28,
    "start_time": "2022-01-09T22:10:05.000Z"
   },
   {
    "duration": 93,
    "start_time": "2022-01-09T22:11:22.889Z"
   },
   {
    "duration": 119,
    "start_time": "2022-01-09T22:13:19.782Z"
   },
   {
    "duration": 19,
    "start_time": "2022-01-09T22:13:53.607Z"
   },
   {
    "duration": 20,
    "start_time": "2022-01-09T22:14:14.119Z"
   },
   {
    "duration": 20,
    "start_time": "2022-01-09T22:14:24.112Z"
   },
   {
    "duration": 215,
    "start_time": "2022-01-09T22:14:54.000Z"
   },
   {
    "duration": 24,
    "start_time": "2022-01-09T22:16:20.224Z"
   },
   {
    "duration": 36,
    "start_time": "2022-01-09T22:16:26.294Z"
   },
   {
    "duration": 2,
    "start_time": "2022-01-09T22:16:43.773Z"
   },
   {
    "duration": 48,
    "start_time": "2022-01-09T22:16:43.777Z"
   },
   {
    "duration": 20,
    "start_time": "2022-01-09T22:16:49.438Z"
   },
   {
    "duration": 12,
    "start_time": "2022-01-09T22:17:19.654Z"
   },
   {
    "duration": 91,
    "start_time": "2022-01-09T22:19:02.984Z"
   },
   {
    "duration": 14,
    "start_time": "2022-01-09T22:19:13.249Z"
   },
   {
    "duration": 2,
    "start_time": "2022-01-09T22:19:20.251Z"
   },
   {
    "duration": 47,
    "start_time": "2022-01-09T22:19:20.255Z"
   },
   {
    "duration": 10,
    "start_time": "2022-01-09T22:19:20.304Z"
   },
   {
    "duration": 10,
    "start_time": "2022-01-09T22:19:20.316Z"
   },
   {
    "duration": 8,
    "start_time": "2022-01-09T22:19:20.328Z"
   },
   {
    "duration": 9,
    "start_time": "2022-01-09T22:19:20.337Z"
   },
   {
    "duration": 11,
    "start_time": "2022-01-09T22:19:20.347Z"
   },
   {
    "duration": 6,
    "start_time": "2022-01-09T22:19:20.360Z"
   },
   {
    "duration": 11,
    "start_time": "2022-01-09T22:19:20.368Z"
   },
   {
    "duration": 12,
    "start_time": "2022-01-09T22:19:20.380Z"
   },
   {
    "duration": 54,
    "start_time": "2022-01-09T22:19:20.393Z"
   },
   {
    "duration": 13,
    "start_time": "2022-01-09T22:19:22.320Z"
   },
   {
    "duration": 4,
    "start_time": "2022-01-09T22:44:29.803Z"
   },
   {
    "duration": 5,
    "start_time": "2022-01-09T22:44:34.221Z"
   },
   {
    "duration": 4,
    "start_time": "2022-01-09T22:44:53.967Z"
   },
   {
    "duration": 5,
    "start_time": "2022-01-09T22:45:05.805Z"
   },
   {
    "duration": 25,
    "start_time": "2022-01-09T22:45:47.597Z"
   },
   {
    "duration": 13,
    "start_time": "2022-01-09T22:46:12.589Z"
   },
   {
    "duration": 29,
    "start_time": "2022-01-09T22:47:09.038Z"
   },
   {
    "duration": 3,
    "start_time": "2022-01-09T23:04:04.826Z"
   },
   {
    "duration": 48,
    "start_time": "2022-01-09T23:04:04.830Z"
   },
   {
    "duration": 10,
    "start_time": "2022-01-09T23:04:04.880Z"
   },
   {
    "duration": 10,
    "start_time": "2022-01-09T23:04:04.891Z"
   },
   {
    "duration": 7,
    "start_time": "2022-01-09T23:04:04.903Z"
   },
   {
    "duration": 8,
    "start_time": "2022-01-09T23:04:10.520Z"
   },
   {
    "duration": 13,
    "start_time": "2022-01-09T23:04:12.512Z"
   },
   {
    "duration": 4,
    "start_time": "2022-01-09T23:07:38.037Z"
   },
   {
    "duration": 11,
    "start_time": "2022-01-09T23:07:52.300Z"
   },
   {
    "duration": 1134,
    "start_time": "2022-01-09T23:09:53.466Z"
   },
   {
    "duration": 2,
    "start_time": "2022-01-09T23:10:01.176Z"
   },
   {
    "duration": 63,
    "start_time": "2022-01-09T23:10:01.180Z"
   },
   {
    "duration": 11,
    "start_time": "2022-01-09T23:10:01.245Z"
   },
   {
    "duration": 12,
    "start_time": "2022-01-09T23:10:01.258Z"
   },
   {
    "duration": 9,
    "start_time": "2022-01-09T23:10:01.271Z"
   },
   {
    "duration": 8,
    "start_time": "2022-01-09T23:10:01.281Z"
   },
   {
    "duration": 12,
    "start_time": "2022-01-09T23:10:01.291Z"
   },
   {
    "duration": 5292,
    "start_time": "2022-01-09T23:10:01.304Z"
   },
   {
    "duration": -164,
    "start_time": "2022-01-09T23:10:06.762Z"
   },
   {
    "duration": -189,
    "start_time": "2022-01-09T23:10:06.788Z"
   },
   {
    "duration": -192,
    "start_time": "2022-01-09T23:10:06.791Z"
   },
   {
    "duration": -193,
    "start_time": "2022-01-09T23:10:06.793Z"
   },
   {
    "duration": 7,
    "start_time": "2022-01-09T23:11:08.084Z"
   },
   {
    "duration": 3,
    "start_time": "2022-01-09T23:11:21.949Z"
   },
   {
    "duration": 7,
    "start_time": "2022-01-09T23:13:08.465Z"
   },
   {
    "duration": 308,
    "start_time": "2022-01-09T23:14:07.385Z"
   },
   {
    "duration": 300,
    "start_time": "2022-01-09T23:14:42.006Z"
   },
   {
    "duration": 269,
    "start_time": "2022-01-09T23:14:53.150Z"
   },
   {
    "duration": 16,
    "start_time": "2022-01-09T23:15:35.013Z"
   },
   {
    "duration": 265,
    "start_time": "2022-01-09T23:16:29.549Z"
   },
   {
    "duration": 15,
    "start_time": "2022-01-09T23:16:39.805Z"
   },
   {
    "duration": 271,
    "start_time": "2022-01-09T23:16:44.715Z"
   },
   {
    "duration": 2,
    "start_time": "2022-01-09T23:16:48.327Z"
   },
   {
    "duration": 53,
    "start_time": "2022-01-09T23:16:48.330Z"
   },
   {
    "duration": 10,
    "start_time": "2022-01-09T23:16:48.385Z"
   },
   {
    "duration": 11,
    "start_time": "2022-01-09T23:16:48.397Z"
   },
   {
    "duration": 8,
    "start_time": "2022-01-09T23:16:48.409Z"
   },
   {
    "duration": 13,
    "start_time": "2022-01-09T23:16:48.419Z"
   },
   {
    "duration": 11,
    "start_time": "2022-01-09T23:16:48.433Z"
   },
   {
    "duration": 8,
    "start_time": "2022-01-09T23:16:48.445Z"
   },
   {
    "duration": 12,
    "start_time": "2022-01-09T23:16:48.455Z"
   },
   {
    "duration": 14,
    "start_time": "2022-01-09T23:16:48.468Z"
   },
   {
    "duration": 55,
    "start_time": "2022-01-09T23:16:48.483Z"
   },
   {
    "duration": 12,
    "start_time": "2022-01-09T23:16:48.539Z"
   },
   {
    "duration": 2,
    "start_time": "2022-01-09T23:16:49.888Z"
   },
   {
    "duration": 16,
    "start_time": "2022-01-09T23:16:50.708Z"
   },
   {
    "duration": 16,
    "start_time": "2022-01-09T23:16:59.400Z"
   },
   {
    "duration": 553,
    "start_time": "2022-01-09T23:17:02.164Z"
   },
   {
    "duration": 603,
    "start_time": "2022-01-09T23:17:23.253Z"
   },
   {
    "duration": 4,
    "start_time": "2022-01-09T23:17:29.125Z"
   },
   {
    "duration": 264,
    "start_time": "2022-01-09T23:17:50.437Z"
   },
   {
    "duration": 272,
    "start_time": "2022-01-09T23:20:31.181Z"
   },
   {
    "duration": 274,
    "start_time": "2022-01-09T23:20:48.043Z"
   },
   {
    "duration": 284,
    "start_time": "2022-01-09T23:21:10.229Z"
   },
   {
    "duration": 291,
    "start_time": "2022-01-09T23:22:51.450Z"
   },
   {
    "duration": 5,
    "start_time": "2022-01-09T23:26:06.702Z"
   },
   {
    "duration": 6,
    "start_time": "2022-01-09T23:26:13.830Z"
   },
   {
    "duration": 283,
    "start_time": "2022-01-09T23:26:18.961Z"
   },
   {
    "duration": 17,
    "start_time": "2022-01-09T23:26:54.907Z"
   },
   {
    "duration": 5,
    "start_time": "2022-01-09T23:28:28.214Z"
   },
   {
    "duration": 4,
    "start_time": "2022-01-09T23:29:13.283Z"
   },
   {
    "duration": 106,
    "start_time": "2022-01-09T23:31:46.857Z"
   },
   {
    "duration": 92,
    "start_time": "2022-01-09T23:32:01.661Z"
   },
   {
    "duration": 3,
    "start_time": "2022-01-09T23:32:21.804Z"
   },
   {
    "duration": 8,
    "start_time": "2022-01-09T23:32:55.483Z"
   },
   {
    "duration": 10,
    "start_time": "2022-01-09T23:32:59.954Z"
   },
   {
    "duration": 4,
    "start_time": "2022-01-09T23:33:57.027Z"
   },
   {
    "duration": 17,
    "start_time": "2022-01-09T23:35:17.945Z"
   },
   {
    "duration": 278,
    "start_time": "2022-01-09T23:35:22.507Z"
   },
   {
    "duration": 2,
    "start_time": "2022-01-09T23:35:26.405Z"
   },
   {
    "duration": 60,
    "start_time": "2022-01-09T23:35:26.409Z"
   },
   {
    "duration": 12,
    "start_time": "2022-01-09T23:35:26.471Z"
   },
   {
    "duration": 13,
    "start_time": "2022-01-09T23:35:26.485Z"
   },
   {
    "duration": 13,
    "start_time": "2022-01-09T23:35:26.500Z"
   },
   {
    "duration": 15,
    "start_time": "2022-01-09T23:35:26.515Z"
   },
   {
    "duration": 11,
    "start_time": "2022-01-09T23:35:26.532Z"
   },
   {
    "duration": 7,
    "start_time": "2022-01-09T23:35:26.544Z"
   },
   {
    "duration": 16,
    "start_time": "2022-01-09T23:35:26.553Z"
   },
   {
    "duration": 11,
    "start_time": "2022-01-09T23:35:26.571Z"
   },
   {
    "duration": 44,
    "start_time": "2022-01-09T23:35:26.584Z"
   },
   {
    "duration": 13,
    "start_time": "2022-01-09T23:35:26.630Z"
   },
   {
    "duration": 2,
    "start_time": "2022-01-09T23:35:26.644Z"
   },
   {
    "duration": 23,
    "start_time": "2022-01-09T23:35:26.648Z"
   },
   {
    "duration": 3,
    "start_time": "2022-01-09T23:35:26.672Z"
   },
   {
    "duration": 631,
    "start_time": "2022-01-09T23:35:26.676Z"
   },
   {
    "duration": 10,
    "start_time": "2022-01-09T23:35:29.167Z"
   },
   {
    "duration": 4,
    "start_time": "2022-01-09T23:35:30.678Z"
   },
   {
    "duration": 269,
    "start_time": "2022-01-09T23:36:51.122Z"
   },
   {
    "duration": 2,
    "start_time": "2022-01-09T23:41:30.512Z"
   },
   {
    "duration": 9,
    "start_time": "2022-01-09T23:41:36.044Z"
   },
   {
    "duration": 4,
    "start_time": "2022-01-09T23:41:39.459Z"
   },
   {
    "duration": 10,
    "start_time": "2022-01-09T23:42:05.568Z"
   },
   {
    "duration": 3,
    "start_time": "2022-01-09T23:42:07.957Z"
   },
   {
    "duration": 16,
    "start_time": "2022-01-09T23:42:25.771Z"
   },
   {
    "duration": 15,
    "start_time": "2022-01-09T23:42:40.995Z"
   },
   {
    "duration": 3,
    "start_time": "2022-01-09T23:42:48.106Z"
   },
   {
    "duration": 16,
    "start_time": "2022-01-09T23:42:57.894Z"
   },
   {
    "duration": 278,
    "start_time": "2022-01-09T23:43:04.568Z"
   },
   {
    "duration": 268,
    "start_time": "2022-01-09T23:43:33.940Z"
   },
   {
    "duration": 16,
    "start_time": "2022-01-09T23:44:45.162Z"
   },
   {
    "duration": 291,
    "start_time": "2022-01-09T23:44:54.449Z"
   },
   {
    "duration": 16,
    "start_time": "2022-01-09T23:45:23.834Z"
   },
   {
    "duration": 272,
    "start_time": "2022-01-09T23:45:48.402Z"
   },
   {
    "duration": 269,
    "start_time": "2022-01-09T23:47:17.932Z"
   },
   {
    "duration": 5,
    "start_time": "2022-01-09T23:47:35.709Z"
   },
   {
    "duration": 4,
    "start_time": "2022-01-09T23:47:47.547Z"
   },
   {
    "duration": 3567,
    "start_time": "2022-01-09T23:48:11.782Z"
   },
   {
    "duration": 2,
    "start_time": "2022-01-10T00:38:51.014Z"
   },
   {
    "duration": 51,
    "start_time": "2022-01-10T00:38:51.018Z"
   },
   {
    "duration": 11,
    "start_time": "2022-01-10T00:38:51.071Z"
   },
   {
    "duration": 10,
    "start_time": "2022-01-10T00:38:51.083Z"
   },
   {
    "duration": 10,
    "start_time": "2022-01-10T00:38:51.094Z"
   },
   {
    "duration": 7,
    "start_time": "2022-01-10T00:38:51.105Z"
   },
   {
    "duration": 18,
    "start_time": "2022-01-10T00:38:51.114Z"
   },
   {
    "duration": 6,
    "start_time": "2022-01-10T00:38:51.134Z"
   },
   {
    "duration": 14,
    "start_time": "2022-01-10T00:38:51.142Z"
   },
   {
    "duration": 12,
    "start_time": "2022-01-10T00:38:51.157Z"
   },
   {
    "duration": 25,
    "start_time": "2022-01-10T00:38:51.170Z"
   },
   {
    "duration": 36,
    "start_time": "2022-01-10T00:38:51.196Z"
   },
   {
    "duration": 2,
    "start_time": "2022-01-10T00:38:51.233Z"
   },
   {
    "duration": 5,
    "start_time": "2022-01-10T00:38:51.236Z"
   },
   {
    "duration": 300,
    "start_time": "2022-01-10T00:38:55.382Z"
   },
   {
    "duration": 105,
    "start_time": "2022-01-10T00:39:36.041Z"
   },
   {
    "duration": 3858,
    "start_time": "2022-01-10T00:39:43.071Z"
   },
   {
    "duration": 279,
    "start_time": "2022-01-10T00:42:02.270Z"
   },
   {
    "duration": 16,
    "start_time": "2022-01-10T00:42:26.162Z"
   },
   {
    "duration": 111,
    "start_time": "2022-01-10T00:43:36.451Z"
   },
   {
    "duration": 3,
    "start_time": "2022-01-10T00:43:52.120Z"
   },
   {
    "duration": 574,
    "start_time": "2022-01-10T00:44:09.718Z"
   },
   {
    "duration": 5,
    "start_time": "2022-01-10T11:31:09.317Z"
   },
   {
    "duration": 319,
    "start_time": "2022-01-10T11:54:03.268Z"
   },
   {
    "duration": 739,
    "start_time": "2022-01-10T11:54:10.480Z"
   },
   {
    "duration": 65,
    "start_time": "2022-01-10T11:54:11.221Z"
   },
   {
    "duration": 29,
    "start_time": "2022-01-10T11:54:11.289Z"
   },
   {
    "duration": 14,
    "start_time": "2022-01-10T11:54:11.321Z"
   },
   {
    "duration": 28,
    "start_time": "2022-01-10T11:54:11.337Z"
   },
   {
    "duration": 10,
    "start_time": "2022-01-10T11:54:11.368Z"
   },
   {
    "duration": 21,
    "start_time": "2022-01-10T11:54:11.380Z"
   },
   {
    "duration": 11,
    "start_time": "2022-01-10T11:54:11.403Z"
   },
   {
    "duration": 57,
    "start_time": "2022-01-10T11:54:11.417Z"
   },
   {
    "duration": 20,
    "start_time": "2022-01-10T11:54:11.476Z"
   },
   {
    "duration": 66,
    "start_time": "2022-01-10T11:54:11.498Z"
   },
   {
    "duration": 23,
    "start_time": "2022-01-10T11:54:11.566Z"
   },
   {
    "duration": 10,
    "start_time": "2022-01-10T11:54:11.591Z"
   },
   {
    "duration": 3,
    "start_time": "2022-01-10T11:54:11.715Z"
   },
   {
    "duration": 25,
    "start_time": "2022-01-10T11:54:12.583Z"
   },
   {
    "duration": 5,
    "start_time": "2022-01-10T11:54:13.466Z"
   },
   {
    "duration": 26,
    "start_time": "2022-01-10T11:54:30.889Z"
   },
   {
    "duration": 26,
    "start_time": "2022-01-10T11:54:37.806Z"
   },
   {
    "duration": 5,
    "start_time": "2022-01-10T11:55:07.602Z"
   },
   {
    "duration": 25,
    "start_time": "2022-01-10T11:55:27.646Z"
   },
   {
    "duration": 286,
    "start_time": "2022-01-10T11:55:58.612Z"
   },
   {
    "duration": 6,
    "start_time": "2022-01-10T11:56:30.527Z"
   },
   {
    "duration": 946,
    "start_time": "2022-01-10T11:56:45.290Z"
   },
   {
    "duration": 13,
    "start_time": "2022-01-10T11:56:51.434Z"
   },
   {
    "duration": 7,
    "start_time": "2022-01-10T11:57:02.719Z"
   },
   {
    "duration": 399,
    "start_time": "2022-01-10T11:59:04.441Z"
   },
   {
    "duration": 7,
    "start_time": "2022-01-10T11:59:09.144Z"
   },
   {
    "duration": 64,
    "start_time": "2022-01-11T21:02:57.345Z"
   },
   {
    "duration": 66,
    "start_time": "2022-01-11T21:05:06.417Z"
   },
   {
    "duration": 221,
    "start_time": "2022-01-11T21:32:53.580Z"
   },
   {
    "duration": 614,
    "start_time": "2022-01-11T21:32:58.285Z"
   },
   {
    "duration": 51,
    "start_time": "2022-01-11T21:32:58.901Z"
   },
   {
    "duration": 18,
    "start_time": "2022-01-11T21:32:58.954Z"
   },
   {
    "duration": 13,
    "start_time": "2022-01-11T21:32:58.973Z"
   },
   {
    "duration": 10,
    "start_time": "2022-01-11T21:32:58.987Z"
   },
   {
    "duration": 10,
    "start_time": "2022-01-11T21:32:58.999Z"
   },
   {
    "duration": 30,
    "start_time": "2022-01-11T21:32:59.011Z"
   },
   {
    "duration": 8,
    "start_time": "2022-01-11T21:32:59.042Z"
   },
   {
    "duration": 18,
    "start_time": "2022-01-11T21:32:59.053Z"
   },
   {
    "duration": 16,
    "start_time": "2022-01-11T21:32:59.073Z"
   },
   {
    "duration": 29,
    "start_time": "2022-01-11T21:32:59.091Z"
   },
   {
    "duration": 32,
    "start_time": "2022-01-11T21:32:59.122Z"
   },
   {
    "duration": 4,
    "start_time": "2022-01-11T21:32:59.155Z"
   },
   {
    "duration": 18,
    "start_time": "2022-01-11T21:32:59.161Z"
   },
   {
    "duration": 3,
    "start_time": "2022-01-11T21:32:59.181Z"
   },
   {
    "duration": 667,
    "start_time": "2022-01-11T21:32:59.186Z"
   },
   {
    "duration": 277,
    "start_time": "2022-01-11T21:33:02.243Z"
   },
   {
    "duration": 5,
    "start_time": "2022-01-11T21:33:07.895Z"
   },
   {
    "duration": 282,
    "start_time": "2022-01-11T21:33:35.330Z"
   },
   {
    "duration": 4,
    "start_time": "2022-01-11T21:36:57.020Z"
   },
   {
    "duration": 5,
    "start_time": "2022-01-11T21:37:27.334Z"
   },
   {
    "duration": 4,
    "start_time": "2022-01-11T21:38:13.322Z"
   },
   {
    "duration": 1185,
    "start_time": "2022-01-11T21:38:35.103Z"
   },
   {
    "duration": 5,
    "start_time": "2022-01-11T21:39:19.926Z"
   },
   {
    "duration": 3,
    "start_time": "2022-01-11T21:46:33.042Z"
   },
   {
    "duration": 72,
    "start_time": "2022-01-11T21:46:33.048Z"
   },
   {
    "duration": 19,
    "start_time": "2022-01-11T21:46:33.123Z"
   },
   {
    "duration": 17,
    "start_time": "2022-01-11T21:46:33.145Z"
   },
   {
    "duration": 16,
    "start_time": "2022-01-11T21:46:33.164Z"
   },
   {
    "duration": 7,
    "start_time": "2022-01-11T21:46:33.182Z"
   },
   {
    "duration": 24,
    "start_time": "2022-01-11T21:46:33.191Z"
   },
   {
    "duration": 28,
    "start_time": "2022-01-11T21:46:33.217Z"
   },
   {
    "duration": 14,
    "start_time": "2022-01-11T21:46:33.247Z"
   },
   {
    "duration": 26,
    "start_time": "2022-01-11T21:46:33.262Z"
   },
   {
    "duration": 37,
    "start_time": "2022-01-11T21:46:33.290Z"
   },
   {
    "duration": 19,
    "start_time": "2022-01-11T21:46:33.329Z"
   },
   {
    "duration": 23,
    "start_time": "2022-01-11T21:46:33.349Z"
   },
   {
    "duration": 15,
    "start_time": "2022-01-11T21:46:41.756Z"
   },
   {
    "duration": 16,
    "start_time": "2022-01-11T21:46:55.245Z"
   },
   {
    "duration": 2512,
    "start_time": "2022-01-11T21:47:19.703Z"
   },
   {
    "duration": 13,
    "start_time": "2022-01-11T21:47:27.412Z"
   },
   {
    "duration": 18,
    "start_time": "2022-01-11T21:48:33.598Z"
   },
   {
    "duration": 133,
    "start_time": "2022-01-12T16:32:01.631Z"
   },
   {
    "duration": 760,
    "start_time": "2022-01-12T16:37:40.058Z"
   },
   {
    "duration": 68,
    "start_time": "2022-01-12T16:37:40.821Z"
   },
   {
    "duration": 36,
    "start_time": "2022-01-12T16:37:40.892Z"
   },
   {
    "duration": 17,
    "start_time": "2022-01-12T16:37:40.931Z"
   },
   {
    "duration": 15,
    "start_time": "2022-01-12T16:37:40.951Z"
   },
   {
    "duration": 13,
    "start_time": "2022-01-12T16:37:41.002Z"
   },
   {
    "duration": 21,
    "start_time": "2022-01-12T16:37:41.018Z"
   },
   {
    "duration": 12,
    "start_time": "2022-01-12T16:37:41.042Z"
   },
   {
    "duration": 49,
    "start_time": "2022-01-12T16:37:41.056Z"
   },
   {
    "duration": 22,
    "start_time": "2022-01-12T16:37:41.107Z"
   },
   {
    "duration": 72,
    "start_time": "2022-01-12T16:37:41.132Z"
   },
   {
    "duration": 23,
    "start_time": "2022-01-12T16:37:41.206Z"
   },
   {
    "duration": 10,
    "start_time": "2022-01-12T16:37:41.231Z"
   },
   {
    "duration": 24,
    "start_time": "2022-01-12T16:37:41.243Z"
   },
   {
    "duration": 26,
    "start_time": "2022-01-12T16:37:41.299Z"
   },
   {
    "duration": 3670,
    "start_time": "2022-01-12T16:37:41.328Z"
   },
   {
    "duration": 27,
    "start_time": "2022-01-12T16:37:45.002Z"
   },
   {
    "duration": 99,
    "start_time": "2022-01-12T16:40:15.938Z"
   },
   {
    "duration": 5,
    "start_time": "2022-01-12T16:41:04.298Z"
   },
   {
    "duration": 5,
    "start_time": "2022-01-12T16:41:10.479Z"
   },
   {
    "duration": 124,
    "start_time": "2022-01-12T16:42:09.067Z"
   },
   {
    "duration": 19,
    "start_time": "2022-01-12T16:42:21.978Z"
   },
   {
    "duration": 14,
    "start_time": "2022-01-12T16:42:28.907Z"
   },
   {
    "duration": 4,
    "start_time": "2022-01-12T16:42:51.053Z"
   },
   {
    "duration": 70,
    "start_time": "2022-01-12T16:42:51.059Z"
   },
   {
    "duration": 19,
    "start_time": "2022-01-12T16:42:53.136Z"
   },
   {
    "duration": 15,
    "start_time": "2022-01-12T16:42:56.001Z"
   },
   {
    "duration": 4,
    "start_time": "2022-01-12T16:43:09.110Z"
   },
   {
    "duration": 19,
    "start_time": "2022-01-12T16:43:11.236Z"
   },
   {
    "duration": 13,
    "start_time": "2022-01-12T16:43:13.976Z"
   },
   {
    "duration": 11,
    "start_time": "2022-01-12T16:43:23.746Z"
   },
   {
    "duration": 17,
    "start_time": "2022-01-12T16:43:25.279Z"
   },
   {
    "duration": 16,
    "start_time": "2022-01-12T16:43:29.941Z"
   },
   {
    "duration": 21,
    "start_time": "2022-01-12T16:43:31.880Z"
   },
   {
    "duration": 22,
    "start_time": "2022-01-12T16:43:37.848Z"
   },
   {
    "duration": 48,
    "start_time": "2022-01-12T16:43:39.126Z"
   },
   {
    "duration": 22,
    "start_time": "2022-01-12T16:43:42.236Z"
   },
   {
    "duration": 57,
    "start_time": "2022-01-12T16:43:46.553Z"
   },
   {
    "duration": 26,
    "start_time": "2022-01-12T16:43:48.327Z"
   },
   {
    "duration": 35,
    "start_time": "2022-01-12T16:43:50.964Z"
   },
   {
    "duration": 3639,
    "start_time": "2022-01-12T16:43:59.054Z"
   },
   {
    "duration": 21,
    "start_time": "2022-01-12T16:44:02.696Z"
   },
   {
    "duration": 5,
    "start_time": "2022-01-12T16:44:38.221Z"
   },
   {
    "duration": 9,
    "start_time": "2022-01-12T16:45:00.313Z"
   },
   {
    "duration": 19,
    "start_time": "2022-01-12T16:49:26.754Z"
   },
   {
    "duration": 15,
    "start_time": "2022-01-12T16:49:33.718Z"
   },
   {
    "duration": 104,
    "start_time": "2022-01-12T16:54:33.055Z"
   },
   {
    "duration": 13,
    "start_time": "2022-01-12T16:55:28.074Z"
   },
   {
    "duration": 12,
    "start_time": "2022-01-12T16:59:44.406Z"
   },
   {
    "duration": 12,
    "start_time": "2022-01-12T16:59:51.666Z"
   },
   {
    "duration": 21,
    "start_time": "2022-01-12T17:04:08.649Z"
   },
   {
    "duration": 15,
    "start_time": "2022-01-12T17:04:15.136Z"
   },
   {
    "duration": 107,
    "start_time": "2022-01-12T17:12:25.279Z"
   },
   {
    "duration": 11,
    "start_time": "2022-01-12T17:12:58.710Z"
   },
   {
    "duration": 8,
    "start_time": "2022-01-12T17:15:53.809Z"
   },
   {
    "duration": 8,
    "start_time": "2022-01-12T17:15:56.807Z"
   },
   {
    "duration": 9,
    "start_time": "2022-01-12T17:16:04.157Z"
   },
   {
    "duration": 30,
    "start_time": "2022-01-12T17:16:24.212Z"
   },
   {
    "duration": 28,
    "start_time": "2022-01-12T17:16:35.828Z"
   },
   {
    "duration": 20,
    "start_time": "2022-01-12T17:17:03.020Z"
   },
   {
    "duration": 190,
    "start_time": "2022-01-12T17:28:49.488Z"
   },
   {
    "duration": 5,
    "start_time": "2022-01-12T17:34:31.618Z"
   },
   {
    "duration": 5,
    "start_time": "2022-01-12T17:35:12.586Z"
   },
   {
    "duration": 6,
    "start_time": "2022-01-12T17:35:51.405Z"
   },
   {
    "duration": 9,
    "start_time": "2022-01-12T17:36:12.588Z"
   },
   {
    "duration": 10,
    "start_time": "2022-01-12T17:36:16.073Z"
   },
   {
    "duration": 404,
    "start_time": "2022-01-12T17:37:54.545Z"
   },
   {
    "duration": 316,
    "start_time": "2022-01-12T17:38:42.746Z"
   },
   {
    "duration": 393,
    "start_time": "2022-01-12T17:39:20.160Z"
   },
   {
    "duration": 311,
    "start_time": "2022-01-12T17:39:58.068Z"
   },
   {
    "duration": 337,
    "start_time": "2022-01-12T17:40:28.775Z"
   },
   {
    "duration": 3,
    "start_time": "2022-01-12T17:40:41.244Z"
   },
   {
    "duration": 66,
    "start_time": "2022-01-12T17:40:41.250Z"
   },
   {
    "duration": 20,
    "start_time": "2022-01-12T17:40:41.320Z"
   },
   {
    "duration": 17,
    "start_time": "2022-01-12T17:40:41.344Z"
   },
   {
    "duration": 39,
    "start_time": "2022-01-12T17:40:41.364Z"
   },
   {
    "duration": 20,
    "start_time": "2022-01-12T17:40:41.406Z"
   },
   {
    "duration": 16,
    "start_time": "2022-01-12T17:40:41.429Z"
   },
   {
    "duration": 58,
    "start_time": "2022-01-12T17:40:41.448Z"
   },
   {
    "duration": 17,
    "start_time": "2022-01-12T17:40:41.512Z"
   },
   {
    "duration": 13,
    "start_time": "2022-01-12T17:40:41.533Z"
   },
   {
    "duration": 54,
    "start_time": "2022-01-12T17:40:41.549Z"
   },
   {
    "duration": 24,
    "start_time": "2022-01-12T17:40:41.606Z"
   },
   {
    "duration": 71,
    "start_time": "2022-01-12T17:40:41.633Z"
   },
   {
    "duration": 24,
    "start_time": "2022-01-12T17:40:41.706Z"
   },
   {
    "duration": 44,
    "start_time": "2022-01-12T17:40:41.732Z"
   },
   {
    "duration": 47,
    "start_time": "2022-01-12T17:40:41.779Z"
   },
   {
    "duration": 22,
    "start_time": "2022-01-12T17:40:41.828Z"
   },
   {
    "duration": 4233,
    "start_time": "2022-01-12T17:40:41.852Z"
   },
   {
    "duration": 26,
    "start_time": "2022-01-12T17:40:46.088Z"
   },
   {
    "duration": 18,
    "start_time": "2022-01-12T17:40:46.116Z"
   },
   {
    "duration": 16,
    "start_time": "2022-01-12T17:40:46.137Z"
   },
   {
    "duration": 9,
    "start_time": "2022-01-12T17:40:46.155Z"
   },
   {
    "duration": 5,
    "start_time": "2022-01-12T17:40:46.201Z"
   },
   {
    "duration": 7,
    "start_time": "2022-01-12T17:40:46.222Z"
   },
   {
    "duration": 405,
    "start_time": "2022-01-12T17:40:46.232Z"
   },
   {
    "duration": 321,
    "start_time": "2022-01-12T17:41:46.655Z"
   },
   {
    "duration": 392,
    "start_time": "2022-01-12T17:42:05.176Z"
   },
   {
    "duration": 362,
    "start_time": "2022-01-12T17:42:19.221Z"
   },
   {
    "duration": 331,
    "start_time": "2022-01-12T17:42:54.635Z"
   },
   {
    "duration": 343,
    "start_time": "2022-01-12T17:43:04.969Z"
   },
   {
    "duration": 319,
    "start_time": "2022-01-12T17:43:56.839Z"
   },
   {
    "duration": 28,
    "start_time": "2022-01-12T17:44:10.577Z"
   },
   {
    "duration": 37,
    "start_time": "2022-01-12T17:44:24.084Z"
   },
   {
    "duration": 28,
    "start_time": "2022-01-12T17:44:33.759Z"
   },
   {
    "duration": 13,
    "start_time": "2022-01-12T17:45:00.992Z"
   },
   {
    "duration": 14,
    "start_time": "2022-01-12T17:45:09.979Z"
   },
   {
    "duration": 29,
    "start_time": "2022-01-12T17:45:22.086Z"
   },
   {
    "duration": 4,
    "start_time": "2022-01-12T17:45:51.104Z"
   },
   {
    "duration": 64,
    "start_time": "2022-01-12T17:45:51.110Z"
   },
   {
    "duration": 35,
    "start_time": "2022-01-12T17:45:51.177Z"
   },
   {
    "duration": 15,
    "start_time": "2022-01-12T17:45:51.214Z"
   },
   {
    "duration": 4,
    "start_time": "2022-01-12T17:45:51.231Z"
   },
   {
    "duration": 22,
    "start_time": "2022-01-12T17:45:51.237Z"
   },
   {
    "duration": 48,
    "start_time": "2022-01-12T17:45:51.261Z"
   },
   {
    "duration": 11,
    "start_time": "2022-01-12T17:45:51.312Z"
   },
   {
    "duration": 18,
    "start_time": "2022-01-12T17:45:51.327Z"
   },
   {
    "duration": 53,
    "start_time": "2022-01-12T17:45:51.348Z"
   },
   {
    "duration": 18,
    "start_time": "2022-01-12T17:45:51.404Z"
   },
   {
    "duration": 23,
    "start_time": "2022-01-12T17:45:51.425Z"
   },
   {
    "duration": 82,
    "start_time": "2022-01-12T17:45:51.450Z"
   },
   {
    "duration": 23,
    "start_time": "2022-01-12T17:45:51.534Z"
   },
   {
    "duration": 63,
    "start_time": "2022-01-12T17:45:51.559Z"
   },
   {
    "duration": 25,
    "start_time": "2022-01-12T17:45:51.625Z"
   },
   {
    "duration": 21,
    "start_time": "2022-01-12T17:45:51.652Z"
   },
   {
    "duration": 3610,
    "start_time": "2022-01-12T17:45:51.700Z"
   },
   {
    "duration": 23,
    "start_time": "2022-01-12T17:45:55.312Z"
   },
   {
    "duration": 13,
    "start_time": "2022-01-12T17:45:55.337Z"
   },
   {
    "duration": 14,
    "start_time": "2022-01-12T17:45:55.352Z"
   },
   {
    "duration": 9,
    "start_time": "2022-01-12T17:45:55.400Z"
   },
   {
    "duration": 3,
    "start_time": "2022-01-12T17:45:55.415Z"
   },
   {
    "duration": 4,
    "start_time": "2022-01-12T17:45:55.972Z"
   },
   {
    "duration": 8,
    "start_time": "2022-01-12T17:45:56.627Z"
   },
   {
    "duration": 27,
    "start_time": "2022-01-12T17:45:57.433Z"
   },
   {
    "duration": 28,
    "start_time": "2022-01-12T17:48:50.744Z"
   },
   {
    "duration": 4,
    "start_time": "2022-01-12T17:48:57.052Z"
   },
   {
    "duration": 66,
    "start_time": "2022-01-12T17:48:57.059Z"
   },
   {
    "duration": 19,
    "start_time": "2022-01-12T17:48:57.128Z"
   },
   {
    "duration": 16,
    "start_time": "2022-01-12T17:48:57.150Z"
   },
   {
    "duration": 5,
    "start_time": "2022-01-12T17:48:57.168Z"
   },
   {
    "duration": 20,
    "start_time": "2022-01-12T17:48:57.202Z"
   },
   {
    "duration": 19,
    "start_time": "2022-01-12T17:48:57.225Z"
   },
   {
    "duration": 56,
    "start_time": "2022-01-12T17:48:57.248Z"
   },
   {
    "duration": 26,
    "start_time": "2022-01-12T17:48:57.310Z"
   },
   {
    "duration": 13,
    "start_time": "2022-01-12T17:48:57.339Z"
   },
   {
    "duration": 46,
    "start_time": "2022-01-12T17:48:57.355Z"
   },
   {
    "duration": 22,
    "start_time": "2022-01-12T17:48:57.404Z"
   },
   {
    "duration": 47,
    "start_time": "2022-01-12T17:48:57.429Z"
   },
   {
    "duration": 34,
    "start_time": "2022-01-12T17:48:57.501Z"
   },
   {
    "duration": 68,
    "start_time": "2022-01-12T17:48:57.538Z"
   },
   {
    "duration": 40,
    "start_time": "2022-01-12T17:48:57.609Z"
   },
   {
    "duration": 48,
    "start_time": "2022-01-12T17:48:57.652Z"
   },
   {
    "duration": 3923,
    "start_time": "2022-01-12T17:48:57.703Z"
   },
   {
    "duration": 23,
    "start_time": "2022-01-12T17:49:01.629Z"
   },
   {
    "duration": 16,
    "start_time": "2022-01-12T17:49:01.655Z"
   },
   {
    "duration": 4,
    "start_time": "2022-01-12T17:49:01.674Z"
   },
   {
    "duration": 8,
    "start_time": "2022-01-12T17:49:08.198Z"
   },
   {
    "duration": 4,
    "start_time": "2022-01-12T17:49:14.330Z"
   },
   {
    "duration": 11,
    "start_time": "2022-01-12T17:49:15.309Z"
   },
   {
    "duration": 112,
    "start_time": "2022-01-12T17:50:40.989Z"
   },
   {
    "duration": 12,
    "start_time": "2022-01-12T17:51:37.645Z"
   },
   {
    "duration": 333,
    "start_time": "2022-01-12T17:51:59.424Z"
   },
   {
    "duration": 531,
    "start_time": "2022-01-12T17:53:56.639Z"
   },
   {
    "duration": 21,
    "start_time": "2022-01-12T17:54:10.241Z"
   },
   {
    "duration": 4,
    "start_time": "2022-01-12T17:54:33.067Z"
   },
   {
    "duration": 70,
    "start_time": "2022-01-12T17:54:33.075Z"
   },
   {
    "duration": 18,
    "start_time": "2022-01-12T17:54:33.148Z"
   },
   {
    "duration": 37,
    "start_time": "2022-01-12T17:54:33.169Z"
   },
   {
    "duration": 5,
    "start_time": "2022-01-12T17:54:33.208Z"
   },
   {
    "duration": 22,
    "start_time": "2022-01-12T17:54:33.215Z"
   },
   {
    "duration": 16,
    "start_time": "2022-01-12T17:54:33.239Z"
   },
   {
    "duration": 45,
    "start_time": "2022-01-12T17:54:33.258Z"
   },
   {
    "duration": 19,
    "start_time": "2022-01-12T17:54:33.309Z"
   },
   {
    "duration": 12,
    "start_time": "2022-01-12T17:54:33.331Z"
   },
   {
    "duration": 18,
    "start_time": "2022-01-12T17:54:33.346Z"
   },
   {
    "duration": 21,
    "start_time": "2022-01-12T17:54:33.402Z"
   },
   {
    "duration": 82,
    "start_time": "2022-01-12T17:54:33.426Z"
   },
   {
    "duration": 23,
    "start_time": "2022-01-12T17:54:33.510Z"
   },
   {
    "duration": 68,
    "start_time": "2022-01-12T17:54:33.535Z"
   },
   {
    "duration": 24,
    "start_time": "2022-01-12T17:54:33.606Z"
   },
   {
    "duration": 21,
    "start_time": "2022-01-12T17:54:33.632Z"
   },
   {
    "duration": 3993,
    "start_time": "2022-01-12T17:54:33.656Z"
   },
   {
    "duration": 22,
    "start_time": "2022-01-12T17:54:37.651Z"
   },
   {
    "duration": 26,
    "start_time": "2022-01-12T17:54:37.676Z"
   },
   {
    "duration": 4,
    "start_time": "2022-01-12T17:54:37.704Z"
   },
   {
    "duration": 8,
    "start_time": "2022-01-12T17:54:37.724Z"
   },
   {
    "duration": 29,
    "start_time": "2022-01-12T17:54:43.421Z"
   },
   {
    "duration": 23,
    "start_time": "2022-01-12T17:54:51.993Z"
   },
   {
    "duration": 14,
    "start_time": "2022-01-12T17:54:59.409Z"
   },
   {
    "duration": 15,
    "start_time": "2022-01-12T17:55:01.580Z"
   },
   {
    "duration": 10,
    "start_time": "2022-01-12T17:55:35.418Z"
   },
   {
    "duration": 112,
    "start_time": "2022-01-12T17:56:35.673Z"
   },
   {
    "duration": 8,
    "start_time": "2022-01-12T18:21:07.910Z"
   },
   {
    "duration": 106,
    "start_time": "2022-01-12T18:22:49.742Z"
   },
   {
    "duration": 10,
    "start_time": "2022-01-12T18:23:51.765Z"
   },
   {
    "duration": 112,
    "start_time": "2022-01-12T18:25:26.981Z"
   },
   {
    "duration": 10,
    "start_time": "2022-01-12T18:36:57.337Z"
   },
   {
    "duration": 4,
    "start_time": "2022-01-12T18:40:41.313Z"
   },
   {
    "duration": 307,
    "start_time": "2022-01-12T18:41:11.880Z"
   },
   {
    "duration": 624,
    "start_time": "2022-01-12T18:41:17.516Z"
   },
   {
    "duration": 6,
    "start_time": "2022-01-12T18:42:58.185Z"
   },
   {
    "duration": 7,
    "start_time": "2022-01-12T18:43:10.338Z"
   },
   {
    "duration": 112,
    "start_time": "2022-01-12T18:43:56.031Z"
   },
   {
    "duration": 6,
    "start_time": "2022-01-12T18:44:23.343Z"
   },
   {
    "duration": 9992,
    "start_time": "2022-01-12T19:06:34.230Z"
   },
   {
    "duration": 586,
    "start_time": "2022-01-12T19:07:24.091Z"
   },
   {
    "duration": 34,
    "start_time": "2022-01-12T19:07:27.421Z"
   },
   {
    "duration": 21,
    "start_time": "2022-01-12T19:08:20.350Z"
   },
   {
    "duration": 29,
    "start_time": "2022-01-12T19:08:37.281Z"
   },
   {
    "duration": 20,
    "start_time": "2022-01-12T19:08:53.790Z"
   },
   {
    "duration": 11,
    "start_time": "2022-01-12T19:09:30.174Z"
   },
   {
    "duration": 188,
    "start_time": "2022-01-12T19:16:00.477Z"
   },
   {
    "duration": 100,
    "start_time": "2022-01-12T19:17:16.897Z"
   },
   {
    "duration": 11,
    "start_time": "2022-01-12T19:17:20.619Z"
   },
   {
    "duration": 472,
    "start_time": "2022-01-12T19:27:22.216Z"
   },
   {
    "duration": 11,
    "start_time": "2022-01-12T19:27:26.604Z"
   },
   {
    "duration": 11,
    "start_time": "2022-01-12T19:30:05.139Z"
   },
   {
    "duration": 8,
    "start_time": "2022-01-12T19:30:24.361Z"
   },
   {
    "duration": 10,
    "start_time": "2022-01-12T19:30:37.923Z"
   },
   {
    "duration": 7,
    "start_time": "2022-01-12T19:32:46.131Z"
   },
   {
    "duration": 9,
    "start_time": "2022-01-12T19:32:48.963Z"
   },
   {
    "duration": 629,
    "start_time": "2022-01-12T19:32:53.805Z"
   },
   {
    "duration": 10,
    "start_time": "2022-01-12T19:32:55.935Z"
   },
   {
    "duration": 7,
    "start_time": "2022-01-12T19:33:32.254Z"
   },
   {
    "duration": 7,
    "start_time": "2022-01-12T19:33:33.888Z"
   },
   {
    "duration": 609,
    "start_time": "2022-01-12T19:33:37.360Z"
   },
   {
    "duration": 10,
    "start_time": "2022-01-12T19:33:39.409Z"
   },
   {
    "duration": -37,
    "start_time": "2022-01-12T19:39:28.878Z"
   },
   {
    "duration": 6,
    "start_time": "2022-01-12T19:39:39.795Z"
   },
   {
    "duration": 8,
    "start_time": "2022-01-12T19:39:52.157Z"
   },
   {
    "duration": 8,
    "start_time": "2022-01-12T19:40:12.146Z"
   },
   {
    "duration": -106,
    "start_time": "2022-01-12T19:41:22.541Z"
   },
   {
    "duration": 13,
    "start_time": "2022-01-12T19:42:43.710Z"
   },
   {
    "duration": 335,
    "start_time": "2022-01-12T19:42:56.637Z"
   },
   {
    "duration": 22,
    "start_time": "2022-01-12T19:43:03.820Z"
   },
   {
    "duration": 334,
    "start_time": "2022-01-12T19:43:36.242Z"
   },
   {
    "duration": 16,
    "start_time": "2022-01-12T19:43:42.390Z"
   },
   {
    "duration": 15,
    "start_time": "2022-01-12T19:43:55.001Z"
   },
   {
    "duration": 11,
    "start_time": "2022-01-12T19:45:39.832Z"
   },
   {
    "duration": 690,
    "start_time": "2022-01-12T19:48:08.406Z"
   },
   {
    "duration": 335,
    "start_time": "2022-01-12T19:48:38.368Z"
   },
   {
    "duration": 343,
    "start_time": "2022-01-12T19:49:06.059Z"
   },
   {
    "duration": 3,
    "start_time": "2022-01-12T19:49:20.676Z"
   },
   {
    "duration": 84,
    "start_time": "2022-01-12T19:49:20.683Z"
   },
   {
    "duration": 41,
    "start_time": "2022-01-12T19:49:20.771Z"
   },
   {
    "duration": 27,
    "start_time": "2022-01-12T19:49:20.815Z"
   },
   {
    "duration": 5,
    "start_time": "2022-01-12T19:49:20.845Z"
   },
   {
    "duration": 46,
    "start_time": "2022-01-12T19:49:20.853Z"
   },
   {
    "duration": 13,
    "start_time": "2022-01-12T19:49:20.902Z"
   },
   {
    "duration": 11,
    "start_time": "2022-01-12T19:49:20.917Z"
   },
   {
    "duration": 22,
    "start_time": "2022-01-12T19:49:20.932Z"
   },
   {
    "duration": 46,
    "start_time": "2022-01-12T19:49:20.957Z"
   },
   {
    "duration": 18,
    "start_time": "2022-01-12T19:49:21.005Z"
   },
   {
    "duration": 22,
    "start_time": "2022-01-12T19:49:21.026Z"
   },
   {
    "duration": 88,
    "start_time": "2022-01-12T19:49:21.051Z"
   },
   {
    "duration": 27,
    "start_time": "2022-01-12T19:49:21.142Z"
   },
   {
    "duration": 70,
    "start_time": "2022-01-12T19:49:21.172Z"
   },
   {
    "duration": 26,
    "start_time": "2022-01-12T19:49:21.245Z"
   },
   {
    "duration": 43,
    "start_time": "2022-01-12T19:49:21.273Z"
   },
   {
    "duration": 3835,
    "start_time": "2022-01-12T19:49:21.319Z"
   },
   {
    "duration": 22,
    "start_time": "2022-01-12T19:49:25.157Z"
   },
   {
    "duration": 25,
    "start_time": "2022-01-12T19:49:25.181Z"
   },
   {
    "duration": 4,
    "start_time": "2022-01-12T19:49:25.209Z"
   },
   {
    "duration": 10,
    "start_time": "2022-01-12T19:49:25.215Z"
   },
   {
    "duration": 27,
    "start_time": "2022-01-12T19:49:25.228Z"
   },
   {
    "duration": 51,
    "start_time": "2022-01-12T19:49:25.257Z"
   },
   {
    "duration": 6,
    "start_time": "2022-01-12T19:49:25.310Z"
   },
   {
    "duration": 20,
    "start_time": "2022-01-12T19:49:25.318Z"
   },
   {
    "duration": 625,
    "start_time": "2022-01-12T19:49:25.343Z"
   },
   {
    "duration": 10,
    "start_time": "2022-01-12T19:49:25.970Z"
   },
   {
    "duration": 12,
    "start_time": "2022-01-12T19:49:26.015Z"
   },
   {
    "duration": 7,
    "start_time": "2022-01-12T19:49:26.158Z"
   },
   {
    "duration": 594,
    "start_time": "2022-01-12T19:49:29.971Z"
   },
   {
    "duration": 13,
    "start_time": "2022-01-12T19:49:43.202Z"
   },
   {
    "duration": 7905,
    "start_time": "2022-01-12T19:49:52.911Z"
   },
   {
    "duration": 10,
    "start_time": "2022-01-12T19:50:17.062Z"
   },
   {
    "duration": 4,
    "start_time": "2022-01-12T19:51:06.909Z"
   },
   {
    "duration": 86,
    "start_time": "2022-01-12T19:51:06.915Z"
   },
   {
    "duration": 21,
    "start_time": "2022-01-12T19:51:07.005Z"
   },
   {
    "duration": 18,
    "start_time": "2022-01-12T19:51:07.030Z"
   },
   {
    "duration": 4,
    "start_time": "2022-01-12T19:51:07.051Z"
   },
   {
    "duration": 58,
    "start_time": "2022-01-12T19:51:07.057Z"
   },
   {
    "duration": 15,
    "start_time": "2022-01-12T19:51:07.117Z"
   },
   {
    "duration": 12,
    "start_time": "2022-01-12T19:51:07.134Z"
   },
   {
    "duration": 52,
    "start_time": "2022-01-12T19:51:07.150Z"
   },
   {
    "duration": 13,
    "start_time": "2022-01-12T19:51:07.205Z"
   },
   {
    "duration": 16,
    "start_time": "2022-01-12T19:51:07.221Z"
   },
   {
    "duration": 25,
    "start_time": "2022-01-12T19:51:07.239Z"
   },
   {
    "duration": 51,
    "start_time": "2022-01-12T19:51:07.302Z"
   },
   {
    "duration": 48,
    "start_time": "2022-01-12T19:51:07.355Z"
   },
   {
    "duration": 47,
    "start_time": "2022-01-12T19:51:07.406Z"
   },
   {
    "duration": 47,
    "start_time": "2022-01-12T19:51:07.457Z"
   },
   {
    "duration": 25,
    "start_time": "2022-01-12T19:51:07.507Z"
   },
   {
    "duration": 4101,
    "start_time": "2022-01-12T19:51:07.535Z"
   },
   {
    "duration": 25,
    "start_time": "2022-01-12T19:51:11.639Z"
   },
   {
    "duration": 36,
    "start_time": "2022-01-12T19:51:11.667Z"
   },
   {
    "duration": 5,
    "start_time": "2022-01-12T19:51:11.706Z"
   },
   {
    "duration": 11,
    "start_time": "2022-01-12T19:51:11.714Z"
   },
   {
    "duration": 74,
    "start_time": "2022-01-12T19:51:11.728Z"
   },
   {
    "duration": 10,
    "start_time": "2022-01-12T19:51:11.804Z"
   },
   {
    "duration": 26,
    "start_time": "2022-01-12T19:51:11.816Z"
   },
   {
    "duration": 17,
    "start_time": "2022-01-12T19:51:11.844Z"
   },
   {
    "duration": 640,
    "start_time": "2022-01-12T19:51:11.866Z"
   },
   {
    "duration": 12,
    "start_time": "2022-01-12T19:51:12.508Z"
   },
   {
    "duration": 18,
    "start_time": "2022-01-12T19:51:12.554Z"
   },
   {
    "duration": 20,
    "start_time": "2022-01-12T19:51:12.575Z"
   },
   {
    "duration": 657,
    "start_time": "2022-01-12T19:51:12.601Z"
   },
   {
    "duration": 10,
    "start_time": "2022-01-12T19:51:13.260Z"
   },
   {
    "duration": 13,
    "start_time": "2022-01-12T19:52:03.638Z"
   },
   {
    "duration": 10,
    "start_time": "2022-01-12T19:52:16.381Z"
   },
   {
    "duration": 6,
    "start_time": "2022-01-12T19:55:38.884Z"
   },
   {
    "duration": 16,
    "start_time": "2022-01-12T19:55:42.488Z"
   },
   {
    "duration": 214,
    "start_time": "2022-01-12T19:58:16.914Z"
   },
   {
    "duration": 215,
    "start_time": "2022-01-12T19:58:30.294Z"
   },
   {
    "duration": 231,
    "start_time": "2022-01-12T19:58:50.002Z"
   },
   {
    "duration": 349,
    "start_time": "2022-01-12T19:59:02.531Z"
   },
   {
    "duration": 329,
    "start_time": "2022-01-12T19:59:28.675Z"
   },
   {
    "duration": 450,
    "start_time": "2022-01-12T19:59:31.812Z"
   },
   {
    "duration": 233,
    "start_time": "2022-01-12T19:59:40.185Z"
   },
   {
    "duration": 26,
    "start_time": "2022-01-12T19:59:44.354Z"
   },
   {
    "duration": 26,
    "start_time": "2022-01-12T20:00:01.208Z"
   },
   {
    "duration": 27,
    "start_time": "2022-01-12T20:00:54.998Z"
   },
   {
    "duration": 26,
    "start_time": "2022-01-12T20:01:04.108Z"
   },
   {
    "duration": 4,
    "start_time": "2022-01-12T20:01:14.596Z"
   },
   {
    "duration": 73,
    "start_time": "2022-01-12T20:01:14.602Z"
   },
   {
    "duration": 32,
    "start_time": "2022-01-12T20:01:14.678Z"
   },
   {
    "duration": 20,
    "start_time": "2022-01-12T20:01:14.713Z"
   },
   {
    "duration": 5,
    "start_time": "2022-01-12T20:01:14.736Z"
   },
   {
    "duration": 60,
    "start_time": "2022-01-12T20:01:14.744Z"
   },
   {
    "duration": 13,
    "start_time": "2022-01-12T20:01:14.807Z"
   },
   {
    "duration": 13,
    "start_time": "2022-01-12T20:01:14.823Z"
   },
   {
    "duration": 18,
    "start_time": "2022-01-12T20:01:14.840Z"
   },
   {
    "duration": 48,
    "start_time": "2022-01-12T20:01:14.861Z"
   },
   {
    "duration": 23,
    "start_time": "2022-01-12T20:01:14.912Z"
   },
   {
    "duration": 27,
    "start_time": "2022-01-12T20:01:14.937Z"
   },
   {
    "duration": 82,
    "start_time": "2022-01-12T20:01:14.967Z"
   },
   {
    "duration": 24,
    "start_time": "2022-01-12T20:01:15.051Z"
   },
   {
    "duration": 46,
    "start_time": "2022-01-12T20:01:15.102Z"
   },
   {
    "duration": 27,
    "start_time": "2022-01-12T20:01:15.150Z"
   },
   {
    "duration": 39,
    "start_time": "2022-01-12T20:01:15.180Z"
   },
   {
    "duration": 4134,
    "start_time": "2022-01-12T20:01:15.221Z"
   },
   {
    "duration": 23,
    "start_time": "2022-01-12T20:01:19.358Z"
   },
   {
    "duration": 24,
    "start_time": "2022-01-12T20:01:19.383Z"
   },
   {
    "duration": 6,
    "start_time": "2022-01-12T20:01:19.409Z"
   },
   {
    "duration": 13,
    "start_time": "2022-01-12T20:01:19.417Z"
   },
   {
    "duration": 29,
    "start_time": "2022-01-12T20:01:19.432Z"
   },
   {
    "duration": 47,
    "start_time": "2022-01-12T20:01:19.463Z"
   },
   {
    "duration": 31,
    "start_time": "2022-01-12T20:01:19.513Z"
   },
   {
    "duration": 29,
    "start_time": "2022-01-12T20:01:30.992Z"
   },
   {
    "duration": 30,
    "start_time": "2022-01-12T20:01:45.010Z"
   },
   {
    "duration": 4,
    "start_time": "2022-01-12T20:02:51.921Z"
   },
   {
    "duration": 65,
    "start_time": "2022-01-12T20:02:51.928Z"
   },
   {
    "duration": 21,
    "start_time": "2022-01-12T20:02:51.996Z"
   },
   {
    "duration": 25,
    "start_time": "2022-01-12T20:02:52.020Z"
   },
   {
    "duration": 5,
    "start_time": "2022-01-12T20:02:52.047Z"
   },
   {
    "duration": 48,
    "start_time": "2022-01-12T20:02:52.054Z"
   },
   {
    "duration": 13,
    "start_time": "2022-01-12T20:02:52.105Z"
   },
   {
    "duration": 10,
    "start_time": "2022-01-12T20:02:52.121Z"
   },
   {
    "duration": 17,
    "start_time": "2022-01-12T20:02:52.135Z"
   },
   {
    "duration": 46,
    "start_time": "2022-01-12T20:02:52.155Z"
   },
   {
    "duration": 19,
    "start_time": "2022-01-12T20:02:52.203Z"
   },
   {
    "duration": 22,
    "start_time": "2022-01-12T20:02:52.225Z"
   },
   {
    "duration": 81,
    "start_time": "2022-01-12T20:02:52.250Z"
   },
   {
    "duration": 24,
    "start_time": "2022-01-12T20:02:52.334Z"
   },
   {
    "duration": 74,
    "start_time": "2022-01-12T20:02:52.360Z"
   },
   {
    "duration": 24,
    "start_time": "2022-01-12T20:02:52.436Z"
   },
   {
    "duration": 42,
    "start_time": "2022-01-12T20:02:52.463Z"
   },
   {
    "duration": 4123,
    "start_time": "2022-01-12T20:02:52.508Z"
   },
   {
    "duration": 25,
    "start_time": "2022-01-12T20:02:56.634Z"
   },
   {
    "duration": 13,
    "start_time": "2022-01-12T20:02:56.662Z"
   },
   {
    "duration": 24,
    "start_time": "2022-01-12T20:02:56.678Z"
   },
   {
    "duration": 10,
    "start_time": "2022-01-12T20:02:56.705Z"
   },
   {
    "duration": 31,
    "start_time": "2022-01-12T20:02:56.718Z"
   },
   {
    "duration": 50,
    "start_time": "2022-01-12T20:02:56.752Z"
   },
   {
    "duration": 30,
    "start_time": "2022-01-12T20:02:56.807Z"
   },
   {
    "duration": 98,
    "start_time": "2022-01-12T20:04:28.131Z"
   },
   {
    "duration": 26,
    "start_time": "2022-01-12T20:04:52.277Z"
   },
   {
    "duration": 28,
    "start_time": "2022-01-12T20:06:15.660Z"
   },
   {
    "duration": 343,
    "start_time": "2022-01-12T20:08:26.402Z"
   },
   {
    "duration": 329,
    "start_time": "2022-01-12T20:08:33.998Z"
   },
   {
    "duration": 3,
    "start_time": "2022-01-12T20:09:56.707Z"
   },
   {
    "duration": 116,
    "start_time": "2022-01-12T20:12:21.465Z"
   },
   {
    "duration": 11,
    "start_time": "2022-01-12T20:12:34.538Z"
   },
   {
    "duration": 11,
    "start_time": "2022-01-12T20:13:05.137Z"
   },
   {
    "duration": 10,
    "start_time": "2022-01-12T20:13:19.123Z"
   },
   {
    "duration": 9,
    "start_time": "2022-01-12T20:13:25.710Z"
   },
   {
    "duration": 10,
    "start_time": "2022-01-12T20:13:30.043Z"
   },
   {
    "duration": 6,
    "start_time": "2022-01-12T20:14:02.991Z"
   },
   {
    "duration": 10,
    "start_time": "2022-01-12T20:14:32.977Z"
   },
   {
    "duration": 6,
    "start_time": "2022-01-12T20:14:44.621Z"
   },
   {
    "duration": 8,
    "start_time": "2022-01-12T20:14:57.165Z"
   },
   {
    "duration": 10,
    "start_time": "2022-01-12T20:15:05.155Z"
   },
   {
    "duration": 13,
    "start_time": "2022-01-12T20:15:13.287Z"
   },
   {
    "duration": 344,
    "start_time": "2022-01-12T20:16:21.419Z"
   },
   {
    "duration": 39,
    "start_time": "2022-01-12T20:17:16.054Z"
   },
   {
    "duration": 16,
    "start_time": "2022-01-12T20:18:03.252Z"
   },
   {
    "duration": 18,
    "start_time": "2022-01-12T20:18:40.989Z"
   },
   {
    "duration": 834,
    "start_time": "2022-01-12T20:19:05.106Z"
   },
   {
    "duration": 18,
    "start_time": "2022-01-12T20:19:09.649Z"
   },
   {
    "duration": 22,
    "start_time": "2022-01-12T20:20:17.886Z"
   },
   {
    "duration": 358,
    "start_time": "2022-01-12T23:21:20.766Z"
   },
   {
    "duration": 746,
    "start_time": "2022-01-12T23:21:23.735Z"
   },
   {
    "duration": 66,
    "start_time": "2022-01-12T23:21:24.483Z"
   },
   {
    "duration": 28,
    "start_time": "2022-01-12T23:21:24.552Z"
   },
   {
    "duration": 35,
    "start_time": "2022-01-12T23:21:24.583Z"
   },
   {
    "duration": 4,
    "start_time": "2022-01-12T23:21:24.621Z"
   },
   {
    "duration": 20,
    "start_time": "2022-01-12T23:21:24.628Z"
   },
   {
    "duration": 15,
    "start_time": "2022-01-12T23:21:24.651Z"
   },
   {
    "duration": 11,
    "start_time": "2022-01-12T23:21:24.669Z"
   },
   {
    "duration": 18,
    "start_time": "2022-01-12T23:21:24.719Z"
   },
   {
    "duration": 10,
    "start_time": "2022-01-12T23:21:24.741Z"
   },
   {
    "duration": 17,
    "start_time": "2022-01-12T23:21:24.754Z"
   },
   {
    "duration": 59,
    "start_time": "2022-01-12T23:21:24.774Z"
   },
   {
    "duration": 46,
    "start_time": "2022-01-12T23:21:24.835Z"
   },
   {
    "duration": 46,
    "start_time": "2022-01-12T23:21:24.884Z"
   },
   {
    "duration": 7,
    "start_time": "2022-01-12T23:21:24.932Z"
   },
   {
    "duration": 24,
    "start_time": "2022-01-12T23:21:24.942Z"
   },
   {
    "duration": 52,
    "start_time": "2022-01-12T23:21:24.969Z"
   },
   {
    "duration": 3622,
    "start_time": "2022-01-12T23:21:25.023Z"
   },
   {
    "duration": 21,
    "start_time": "2022-01-12T23:21:28.647Z"
   },
   {
    "duration": 10,
    "start_time": "2022-01-12T23:21:28.670Z"
   },
   {
    "duration": 4,
    "start_time": "2022-01-12T23:21:28.682Z"
   },
   {
    "duration": 35,
    "start_time": "2022-01-12T23:21:28.688Z"
   },
   {
    "duration": 11,
    "start_time": "2022-01-12T23:21:28.725Z"
   },
   {
    "duration": 316,
    "start_time": "2022-01-12T23:21:28.739Z"
   },
   {
    "duration": -8,
    "start_time": "2022-01-12T23:21:29.065Z"
   },
   {
    "duration": -10,
    "start_time": "2022-01-12T23:21:29.070Z"
   },
   {
    "duration": 29,
    "start_time": "2022-01-12T23:21:31.639Z"
   },
   {
    "duration": 5309,
    "start_time": "2022-01-12T23:23:28.909Z"
   },
   {
    "duration": 29,
    "start_time": "2022-01-12T23:23:36.154Z"
   },
   {
    "duration": 5129,
    "start_time": "2022-01-12T23:23:59.999Z"
   },
   {
    "duration": 12796,
    "start_time": "2022-01-12T23:24:18.100Z"
   },
   {
    "duration": 25,
    "start_time": "2022-01-12T23:24:42.997Z"
   },
   {
    "duration": 289,
    "start_time": "2022-01-12T23:26:04.429Z"
   },
   {
    "duration": 21,
    "start_time": "2022-01-12T23:26:15.781Z"
   },
   {
    "duration": 28,
    "start_time": "2022-01-12T23:26:25.318Z"
   },
   {
    "duration": 29,
    "start_time": "2022-01-12T23:26:37.020Z"
   },
   {
    "duration": 29,
    "start_time": "2022-01-12T23:26:59.503Z"
   },
   {
    "duration": 304,
    "start_time": "2022-01-12T23:27:17.653Z"
   },
   {
    "duration": 314,
    "start_time": "2022-01-12T23:27:25.097Z"
   },
   {
    "duration": 30,
    "start_time": "2022-01-12T23:27:31.382Z"
   },
   {
    "duration": 302,
    "start_time": "2022-01-12T23:28:07.411Z"
   },
   {
    "duration": 307,
    "start_time": "2022-01-12T23:28:16.359Z"
   },
   {
    "duration": 469,
    "start_time": "2022-01-12T23:28:23.477Z"
   },
   {
    "duration": 301,
    "start_time": "2022-01-12T23:28:31.150Z"
   },
   {
    "duration": 301,
    "start_time": "2022-01-12T23:28:35.212Z"
   },
   {
    "duration": 310,
    "start_time": "2022-01-12T23:28:40.031Z"
   },
   {
    "duration": 27,
    "start_time": "2022-01-12T23:28:44.628Z"
   },
   {
    "duration": 26,
    "start_time": "2022-01-12T23:29:00.291Z"
   },
   {
    "duration": 301,
    "start_time": "2022-01-12T23:30:51.082Z"
   },
   {
    "duration": 28,
    "start_time": "2022-01-12T23:30:55.377Z"
   },
   {
    "duration": 27,
    "start_time": "2022-01-12T23:31:02.957Z"
   },
   {
    "duration": 98,
    "start_time": "2022-01-12T23:32:01.463Z"
   },
   {
    "duration": 26,
    "start_time": "2022-01-12T23:32:12.496Z"
   },
   {
    "duration": 95,
    "start_time": "2022-01-12T23:33:08.601Z"
   },
   {
    "duration": 30,
    "start_time": "2022-01-12T23:33:12.104Z"
   },
   {
    "duration": 315,
    "start_time": "2022-01-12T23:33:58.492Z"
   },
   {
    "duration": 29,
    "start_time": "2022-01-12T23:34:02.751Z"
   },
   {
    "duration": 302,
    "start_time": "2022-01-12T23:43:27.575Z"
   },
   {
    "duration": 29,
    "start_time": "2022-01-12T23:43:53.818Z"
   },
   {
    "duration": 30,
    "start_time": "2022-01-12T23:44:12.938Z"
   },
   {
    "duration": 16,
    "start_time": "2022-01-12T23:49:11.534Z"
   },
   {
    "duration": 24,
    "start_time": "2022-01-12T23:53:25.147Z"
   },
   {
    "duration": 111,
    "start_time": "2022-01-12T23:54:58.857Z"
   },
   {
    "duration": 29,
    "start_time": "2022-01-12T23:55:32.455Z"
   },
   {
    "duration": 4,
    "start_time": "2022-01-12T23:56:53.659Z"
   },
   {
    "duration": 71,
    "start_time": "2022-01-12T23:56:53.666Z"
   },
   {
    "duration": 21,
    "start_time": "2022-01-12T23:56:53.741Z"
   },
   {
    "duration": 16,
    "start_time": "2022-01-12T23:56:53.765Z"
   },
   {
    "duration": 5,
    "start_time": "2022-01-12T23:56:53.783Z"
   },
   {
    "duration": 20,
    "start_time": "2022-01-12T23:56:53.818Z"
   },
   {
    "duration": 15,
    "start_time": "2022-01-12T23:56:53.841Z"
   },
   {
    "duration": 12,
    "start_time": "2022-01-12T23:56:53.859Z"
   },
   {
    "duration": 19,
    "start_time": "2022-01-12T23:56:53.916Z"
   },
   {
    "duration": 12,
    "start_time": "2022-01-12T23:56:53.938Z"
   },
   {
    "duration": 21,
    "start_time": "2022-01-12T23:56:53.953Z"
   },
   {
    "duration": 60,
    "start_time": "2022-01-12T23:56:53.977Z"
   },
   {
    "duration": 49,
    "start_time": "2022-01-12T23:56:54.039Z"
   },
   {
    "duration": 46,
    "start_time": "2022-01-12T23:56:54.091Z"
   },
   {
    "duration": 83,
    "start_time": "2022-01-12T23:56:54.140Z"
   },
   {
    "duration": 26,
    "start_time": "2022-01-12T23:56:54.226Z"
   },
   {
    "duration": 25,
    "start_time": "2022-01-12T23:56:54.254Z"
   },
   {
    "duration": 3767,
    "start_time": "2022-01-12T23:56:54.282Z"
   },
   {
    "duration": 23,
    "start_time": "2022-01-12T23:56:58.052Z"
   },
   {
    "duration": 11,
    "start_time": "2022-01-12T23:56:58.078Z"
   },
   {
    "duration": 4,
    "start_time": "2022-01-12T23:56:58.117Z"
   },
   {
    "duration": 15,
    "start_time": "2022-01-12T23:56:58.123Z"
   },
   {
    "duration": 11,
    "start_time": "2022-01-12T23:56:58.141Z"
   },
   {
    "duration": 295,
    "start_time": "2022-01-12T23:56:58.156Z"
   },
   {
    "duration": 10,
    "start_time": "2022-01-12T23:57:37.576Z"
   },
   {
    "duration": 22,
    "start_time": "2022-01-12T23:59:01.253Z"
   },
   {
    "duration": 5,
    "start_time": "2022-01-12T23:59:49.039Z"
   },
   {
    "duration": 5,
    "start_time": "2022-01-13T00:00:03.028Z"
   },
   {
    "duration": 19,
    "start_time": "2022-01-13T00:00:27.055Z"
   },
   {
    "duration": 21,
    "start_time": "2022-01-13T00:00:45.031Z"
   },
   {
    "duration": 19,
    "start_time": "2022-01-13T00:00:53.973Z"
   },
   {
    "duration": 19,
    "start_time": "2022-01-13T00:01:27.198Z"
   },
   {
    "duration": 20,
    "start_time": "2022-01-13T00:02:01.006Z"
   },
   {
    "duration": 16,
    "start_time": "2022-01-13T00:02:26.200Z"
   },
   {
    "duration": 4,
    "start_time": "2022-01-13T00:02:48.933Z"
   },
   {
    "duration": 4,
    "start_time": "2022-01-13T00:05:23.016Z"
   },
   {
    "duration": 6,
    "start_time": "2022-01-13T00:06:10.594Z"
   },
   {
    "duration": 7,
    "start_time": "2022-01-13T00:06:17.795Z"
   },
   {
    "duration": 6,
    "start_time": "2022-01-13T00:06:20.142Z"
   },
   {
    "duration": 26,
    "start_time": "2022-01-13T00:07:13.697Z"
   },
   {
    "duration": 56,
    "start_time": "2022-01-13T00:07:17.654Z"
   },
   {
    "duration": 33,
    "start_time": "2022-01-13T00:08:06.145Z"
   },
   {
    "duration": -46,
    "start_time": "2022-01-13T00:09:29.456Z"
   },
   {
    "duration": 8098,
    "start_time": "2022-01-13T00:09:39.911Z"
   },
   {
    "duration": 19,
    "start_time": "2022-01-13T00:10:03.962Z"
   },
   {
    "duration": 9,
    "start_time": "2022-01-13T00:10:22.348Z"
   },
   {
    "duration": 4,
    "start_time": "2022-01-13T00:10:25.942Z"
   },
   {
    "duration": 8,
    "start_time": "2022-01-13T00:10:26.854Z"
   },
   {
    "duration": 11,
    "start_time": "2022-01-13T00:10:29.815Z"
   },
   {
    "duration": 3,
    "start_time": "2022-01-13T00:11:03.836Z"
   },
   {
    "duration": 61,
    "start_time": "2022-01-13T00:11:03.842Z"
   },
   {
    "duration": 19,
    "start_time": "2022-01-13T00:11:03.907Z"
   },
   {
    "duration": 16,
    "start_time": "2022-01-13T00:11:03.929Z"
   },
   {
    "duration": 4,
    "start_time": "2022-01-13T00:11:03.948Z"
   },
   {
    "duration": 21,
    "start_time": "2022-01-13T00:11:03.954Z"
   },
   {
    "duration": 48,
    "start_time": "2022-01-13T00:11:03.977Z"
   },
   {
    "duration": 11,
    "start_time": "2022-01-13T00:11:04.028Z"
   },
   {
    "duration": 18,
    "start_time": "2022-01-13T00:11:04.042Z"
   },
   {
    "duration": 11,
    "start_time": "2022-01-13T00:11:04.063Z"
   },
   {
    "duration": 51,
    "start_time": "2022-01-13T00:11:04.076Z"
   },
   {
    "duration": 21,
    "start_time": "2022-01-13T00:11:04.130Z"
   },
   {
    "duration": 67,
    "start_time": "2022-01-13T00:11:04.153Z"
   },
   {
    "duration": 22,
    "start_time": "2022-01-13T00:11:04.223Z"
   },
   {
    "duration": 81,
    "start_time": "2022-01-13T00:11:04.247Z"
   },
   {
    "duration": 23,
    "start_time": "2022-01-13T00:11:04.330Z"
   },
   {
    "duration": 20,
    "start_time": "2022-01-13T00:11:04.356Z"
   },
   {
    "duration": 4164,
    "start_time": "2022-01-13T00:11:04.378Z"
   },
   {
    "duration": 22,
    "start_time": "2022-01-13T00:11:08.545Z"
   },
   {
    "duration": 9,
    "start_time": "2022-01-13T00:11:08.570Z"
   },
   {
    "duration": 4,
    "start_time": "2022-01-13T00:11:10.619Z"
   },
   {
    "duration": 9,
    "start_time": "2022-01-13T00:11:11.158Z"
   },
   {
    "duration": 12,
    "start_time": "2022-01-13T00:11:12.194Z"
   },
   {
    "duration": 10,
    "start_time": "2022-01-13T00:11:15.968Z"
   },
   {
    "duration": 20,
    "start_time": "2022-01-13T00:11:19.682Z"
   },
   {
    "duration": 6,
    "start_time": "2022-01-13T00:11:21.708Z"
   },
   {
    "duration": 28,
    "start_time": "2022-01-13T00:12:04.292Z"
   },
   {
    "duration": 299,
    "start_time": "2022-01-13T00:15:58.585Z"
   },
   {
    "duration": 315,
    "start_time": "2022-01-13T00:16:14.860Z"
   },
   {
    "duration": 318,
    "start_time": "2022-01-13T00:16:22.641Z"
   },
   {
    "duration": 28,
    "start_time": "2022-01-13T00:16:29.952Z"
   },
   {
    "duration": 825,
    "start_time": "2022-01-13T00:16:57.571Z"
   },
   {
    "duration": 319,
    "start_time": "2022-01-13T00:17:03.790Z"
   },
   {
    "duration": 27,
    "start_time": "2022-01-13T00:17:13.437Z"
   },
   {
    "duration": 300,
    "start_time": "2022-01-13T00:17:35.908Z"
   },
   {
    "duration": 352,
    "start_time": "2022-01-13T00:17:39.435Z"
   },
   {
    "duration": 301,
    "start_time": "2022-01-13T00:17:54.860Z"
   },
   {
    "duration": 27,
    "start_time": "2022-01-13T00:18:03.831Z"
   },
   {
    "duration": 323,
    "start_time": "2022-01-13T00:19:04.985Z"
   },
   {
    "duration": 6532,
    "start_time": "2022-01-13T00:19:14.996Z"
   },
   {
    "duration": 5339,
    "start_time": "2022-01-13T00:19:30.358Z"
   },
   {
    "duration": 5539,
    "start_time": "2022-01-13T00:19:43.296Z"
   },
   {
    "duration": 303,
    "start_time": "2022-01-13T00:19:51.644Z"
   },
   {
    "duration": 5260,
    "start_time": "2022-01-13T00:20:11.912Z"
   },
   {
    "duration": 25,
    "start_time": "2022-01-13T00:20:41.963Z"
   },
   {
    "duration": 298,
    "start_time": "2022-01-13T00:22:41.617Z"
   },
   {
    "duration": 28,
    "start_time": "2022-01-13T00:22:46.072Z"
   },
   {
    "duration": 2,
    "start_time": "2022-01-13T00:23:08.578Z"
   },
   {
    "duration": 4,
    "start_time": "2022-01-13T00:34:11.141Z"
   },
   {
    "duration": 5,
    "start_time": "2022-01-13T00:34:34.790Z"
   },
   {
    "duration": 642,
    "start_time": "2022-01-13T00:36:07.590Z"
   },
   {
    "duration": 112,
    "start_time": "2022-01-13T19:39:03.902Z"
   },
   {
    "duration": 15,
    "start_time": "2022-01-13T19:42:22.020Z"
   },
   {
    "duration": 7,
    "start_time": "2022-01-13T19:42:37.535Z"
   },
   {
    "duration": 375,
    "start_time": "2022-01-13T19:42:38.297Z"
   },
   {
    "duration": 899,
    "start_time": "2022-01-13T19:42:44.598Z"
   },
   {
    "duration": 70,
    "start_time": "2022-01-13T19:42:45.500Z"
   },
   {
    "duration": 29,
    "start_time": "2022-01-13T19:42:45.573Z"
   },
   {
    "duration": 15,
    "start_time": "2022-01-13T19:42:45.605Z"
   },
   {
    "duration": 4,
    "start_time": "2022-01-13T19:42:45.623Z"
   },
   {
    "duration": 20,
    "start_time": "2022-01-13T19:42:45.630Z"
   },
   {
    "duration": 50,
    "start_time": "2022-01-13T19:42:45.653Z"
   },
   {
    "duration": 11,
    "start_time": "2022-01-13T19:42:45.707Z"
   },
   {
    "duration": 18,
    "start_time": "2022-01-13T19:42:45.722Z"
   },
   {
    "duration": 11,
    "start_time": "2022-01-13T19:42:45.743Z"
   },
   {
    "duration": 55,
    "start_time": "2022-01-13T19:42:45.757Z"
   },
   {
    "duration": 26,
    "start_time": "2022-01-13T19:42:45.814Z"
   },
   {
    "duration": 79,
    "start_time": "2022-01-13T19:42:45.842Z"
   },
   {
    "duration": 23,
    "start_time": "2022-01-13T19:42:45.923Z"
   },
   {
    "duration": 24,
    "start_time": "2022-01-13T19:42:45.949Z"
   },
   {
    "duration": 29,
    "start_time": "2022-01-13T19:42:45.976Z"
   },
   {
    "duration": 23,
    "start_time": "2022-01-13T19:42:46.007Z"
   },
   {
    "duration": 3973,
    "start_time": "2022-01-13T19:42:46.032Z"
   },
   {
    "duration": 27,
    "start_time": "2022-01-13T19:42:50.008Z"
   },
   {
    "duration": 18,
    "start_time": "2022-01-13T19:42:50.038Z"
   },
   {
    "duration": 5,
    "start_time": "2022-01-13T19:42:50.061Z"
   },
   {
    "duration": 38,
    "start_time": "2022-01-13T19:42:50.069Z"
   },
   {
    "duration": 13,
    "start_time": "2022-01-13T19:42:50.113Z"
   },
   {
    "duration": 11,
    "start_time": "2022-01-13T19:42:50.129Z"
   },
   {
    "duration": 61,
    "start_time": "2022-01-13T19:42:50.142Z"
   },
   {
    "duration": 7,
    "start_time": "2022-01-13T19:42:50.216Z"
   },
   {
    "duration": 19,
    "start_time": "2022-01-13T19:42:50.225Z"
   },
   {
    "duration": 34,
    "start_time": "2022-01-13T19:43:01.429Z"
   },
   {
    "duration": 6,
    "start_time": "2022-01-13T19:43:51.276Z"
   },
   {
    "duration": 33,
    "start_time": "2022-01-13T19:43:51.921Z"
   },
   {
    "duration": 47,
    "start_time": "2022-01-13T19:44:11.855Z"
   },
   {
    "duration": 46,
    "start_time": "2022-01-13T19:44:30.849Z"
   },
   {
    "duration": 31,
    "start_time": "2022-01-13T19:44:48.008Z"
   },
   {
    "duration": 12,
    "start_time": "2022-01-13T19:45:20.205Z"
   },
   {
    "duration": 7,
    "start_time": "2022-01-13T19:45:23.462Z"
   },
   {
    "duration": 7,
    "start_time": "2022-01-13T19:45:28.729Z"
   },
   {
    "duration": 10,
    "start_time": "2022-01-13T19:45:55.742Z"
   },
   {
    "duration": 648,
    "start_time": "2022-01-13T19:47:48.682Z"
   },
   {
    "duration": 32,
    "start_time": "2022-01-13T19:51:11.278Z"
   },
   {
    "duration": 30,
    "start_time": "2022-01-13T19:51:18.933Z"
   },
   {
    "duration": 6552,
    "start_time": "2022-01-13T19:51:33.387Z"
   },
   {
    "duration": 6707,
    "start_time": "2022-01-13T19:51:41.063Z"
   },
   {
    "duration": 350,
    "start_time": "2022-01-13T19:51:50.253Z"
   },
   {
    "duration": 470,
    "start_time": "2022-01-13T19:51:55.814Z"
   },
   {
    "duration": 6852,
    "start_time": "2022-01-13T19:52:03.592Z"
   },
   {
    "duration": -38,
    "start_time": "2022-01-13T19:52:38.187Z"
   },
   {
    "duration": 49,
    "start_time": "2022-01-13T19:52:54.181Z"
   },
   {
    "duration": 857,
    "start_time": "2022-01-13T19:53:07.594Z"
   },
   {
    "duration": 428,
    "start_time": "2022-01-13T19:53:19.119Z"
   },
   {
    "duration": 37,
    "start_time": "2022-01-13T19:53:50.715Z"
   },
   {
    "duration": 47,
    "start_time": "2022-01-13T19:54:11.567Z"
   },
   {
    "duration": 42,
    "start_time": "2022-01-13T19:54:38.051Z"
   },
   {
    "duration": 32,
    "start_time": "2022-01-13T19:54:48.129Z"
   },
   {
    "duration": 41,
    "start_time": "2022-01-13T19:55:17.136Z"
   },
   {
    "duration": 327,
    "start_time": "2022-01-13T19:55:50.025Z"
   },
   {
    "duration": 26,
    "start_time": "2022-01-13T19:55:58.472Z"
   },
   {
    "duration": 4,
    "start_time": "2022-01-13T20:00:26.069Z"
   },
   {
    "duration": 4,
    "start_time": "2022-01-13T20:00:30.810Z"
   },
   {
    "duration": 6,
    "start_time": "2022-01-13T20:00:42.623Z"
   },
   {
    "duration": 110,
    "start_time": "2022-01-13T20:01:23.477Z"
   },
   {
    "duration": 121,
    "start_time": "2022-01-13T20:01:30.898Z"
   },
   {
    "duration": 4,
    "start_time": "2022-01-13T20:01:33.849Z"
   },
   {
    "duration": 4,
    "start_time": "2022-01-13T20:02:14.183Z"
   },
   {
    "duration": 6,
    "start_time": "2022-01-13T20:02:25.916Z"
   },
   {
    "duration": 11,
    "start_time": "2022-01-13T20:02:50.437Z"
   },
   {
    "duration": 118,
    "start_time": "2022-01-13T20:04:22.895Z"
   },
   {
    "duration": 10,
    "start_time": "2022-01-13T20:04:50.992Z"
   },
   {
    "duration": 9,
    "start_time": "2022-01-13T20:17:56.620Z"
   },
   {
    "duration": 122,
    "start_time": "2022-01-13T20:18:30.156Z"
   },
   {
    "duration": 108,
    "start_time": "2022-01-13T20:18:45.627Z"
   },
   {
    "duration": 9,
    "start_time": "2022-01-13T20:18:51.716Z"
   },
   {
    "duration": 1020,
    "start_time": "2022-01-13T20:19:40.229Z"
   },
   {
    "duration": 883,
    "start_time": "2022-01-13T20:19:48.242Z"
   },
   {
    "duration": 118,
    "start_time": "2022-01-13T20:21:47.954Z"
   },
   {
    "duration": 1442,
    "start_time": "2022-01-13T20:22:04.879Z"
   },
   {
    "duration": 897,
    "start_time": "2022-01-13T20:23:21.047Z"
   },
   {
    "duration": 865,
    "start_time": "2022-01-13T20:24:11.341Z"
   },
   {
    "duration": 822,
    "start_time": "2022-01-13T20:24:28.390Z"
   },
   {
    "duration": 1579,
    "start_time": "2022-01-13T20:24:36.055Z"
   },
   {
    "duration": 922,
    "start_time": "2022-01-13T20:24:46.230Z"
   },
   {
    "duration": 9,
    "start_time": "2022-01-13T20:26:08.595Z"
   },
   {
    "duration": 9,
    "start_time": "2022-01-13T20:26:18.121Z"
   },
   {
    "duration": 10,
    "start_time": "2022-01-13T20:26:30.292Z"
   },
   {
    "duration": 9,
    "start_time": "2022-01-13T20:27:38.475Z"
   },
   {
    "duration": 8,
    "start_time": "2022-01-13T20:27:49.927Z"
   },
   {
    "duration": 10,
    "start_time": "2022-01-13T20:27:56.986Z"
   },
   {
    "duration": 11,
    "start_time": "2022-01-13T20:28:29.397Z"
   },
   {
    "duration": 13,
    "start_time": "2022-01-13T20:29:02.228Z"
   },
   {
    "duration": 351,
    "start_time": "2022-01-13T20:31:02.302Z"
   },
   {
    "duration": 5,
    "start_time": "2022-01-13T20:31:22.648Z"
   },
   {
    "duration": 6,
    "start_time": "2022-01-13T20:32:21.457Z"
   },
   {
    "duration": 8,
    "start_time": "2022-01-13T20:32:44.988Z"
   },
   {
    "duration": 13,
    "start_time": "2022-01-13T20:34:15.914Z"
   },
   {
    "duration": 27,
    "start_time": "2022-01-13T20:43:30.814Z"
   },
   {
    "duration": 345,
    "start_time": "2022-01-13T20:47:27.754Z"
   },
   {
    "duration": 11,
    "start_time": "2022-01-13T20:47:38.579Z"
   },
   {
    "duration": 11,
    "start_time": "2022-01-13T20:48:17.834Z"
   },
   {
    "duration": 11,
    "start_time": "2022-01-13T20:49:32.286Z"
   },
   {
    "duration": 16,
    "start_time": "2022-01-13T20:49:58.007Z"
   },
   {
    "duration": 9,
    "start_time": "2022-01-13T21:50:00.463Z"
   },
   {
    "duration": 112,
    "start_time": "2022-01-13T21:55:25.818Z"
   },
   {
    "duration": 22,
    "start_time": "2022-01-13T21:56:07.847Z"
   },
   {
    "duration": 446,
    "start_time": "2022-01-13T21:56:16.263Z"
   },
   {
    "duration": 19,
    "start_time": "2022-01-13T21:56:22.206Z"
   },
   {
    "duration": 35,
    "start_time": "2022-01-13T21:59:27.305Z"
   },
   {
    "duration": 395,
    "start_time": "2022-01-13T22:00:00.954Z"
   },
   {
    "duration": 112,
    "start_time": "2022-01-13T22:00:08.686Z"
   },
   {
    "duration": 6,
    "start_time": "2022-01-13T22:00:12.837Z"
   },
   {
    "duration": 556,
    "start_time": "2022-01-13T22:02:10.404Z"
   },
   {
    "duration": 585,
    "start_time": "2022-01-13T22:02:19.727Z"
   },
   {
    "duration": 20,
    "start_time": "2022-01-13T22:02:54.553Z"
   },
   {
    "duration": 563,
    "start_time": "2022-01-13T22:03:04.697Z"
   },
   {
    "duration": 8,
    "start_time": "2022-01-13T22:10:55.798Z"
   },
   {
    "duration": 8,
    "start_time": "2022-01-13T22:11:12.639Z"
   },
   {
    "duration": 9,
    "start_time": "2022-01-13T22:11:51.204Z"
   },
   {
    "duration": 9,
    "start_time": "2022-01-13T22:12:11.241Z"
   },
   {
    "duration": 49,
    "start_time": "2022-01-13T22:12:22.607Z"
   },
   {
    "duration": 8,
    "start_time": "2022-01-13T22:14:13.170Z"
   },
   {
    "duration": 30,
    "start_time": "2022-01-13T22:14:29.639Z"
   },
   {
    "duration": 33,
    "start_time": "2022-01-13T22:15:15.637Z"
   },
   {
    "duration": 11,
    "start_time": "2022-01-13T22:15:56.858Z"
   },
   {
    "duration": 127,
    "start_time": "2022-01-13T22:17:38.720Z"
   },
   {
    "duration": 8,
    "start_time": "2022-01-13T22:18:38.446Z"
   },
   {
    "duration": 8,
    "start_time": "2022-01-13T22:18:51.444Z"
   },
   {
    "duration": 113,
    "start_time": "2022-01-13T22:19:43.197Z"
   },
   {
    "duration": 32,
    "start_time": "2022-01-13T22:19:52.819Z"
   },
   {
    "duration": 10,
    "start_time": "2022-01-13T22:20:31.082Z"
   },
   {
    "duration": 11,
    "start_time": "2022-01-13T22:20:57.508Z"
   },
   {
    "duration": 10,
    "start_time": "2022-01-13T22:22:24.149Z"
   },
   {
    "duration": 12,
    "start_time": "2022-01-13T22:23:12.844Z"
   },
   {
    "duration": 12,
    "start_time": "2022-01-13T22:24:07.335Z"
   },
   {
    "duration": 12,
    "start_time": "2022-01-13T22:25:11.798Z"
   },
   {
    "duration": 10,
    "start_time": "2022-01-13T22:25:29.298Z"
   },
   {
    "duration": 10,
    "start_time": "2022-01-13T22:25:46.620Z"
   },
   {
    "duration": 112,
    "start_time": "2022-01-13T22:26:15.388Z"
   },
   {
    "duration": 5,
    "start_time": "2022-01-13T22:26:20.642Z"
   },
   {
    "duration": 167,
    "start_time": "2022-01-13T22:26:24.717Z"
   },
   {
    "duration": 115,
    "start_time": "2022-01-13T22:26:36.911Z"
   },
   {
    "duration": 123,
    "start_time": "2022-01-13T22:28:42.259Z"
   },
   {
    "duration": 11,
    "start_time": "2022-01-13T22:29:15.173Z"
   },
   {
    "duration": 29,
    "start_time": "2022-01-13T22:29:37.823Z"
   },
   {
    "duration": 10,
    "start_time": "2022-01-13T22:29:38.911Z"
   },
   {
    "duration": 12,
    "start_time": "2022-01-13T22:30:08.030Z"
   },
   {
    "duration": 16,
    "start_time": "2022-01-13T22:30:15.132Z"
   },
   {
    "duration": 388,
    "start_time": "2022-01-13T22:30:30.152Z"
   },
   {
    "duration": 114,
    "start_time": "2022-01-13T22:30:36.787Z"
   },
   {
    "duration": 343,
    "start_time": "2022-01-13T22:30:50.649Z"
   },
   {
    "duration": 10,
    "start_time": "2022-01-13T22:30:55.972Z"
   },
   {
    "duration": 115,
    "start_time": "2022-01-13T22:31:27.546Z"
   },
   {
    "duration": 10,
    "start_time": "2022-01-13T22:31:51.367Z"
   },
   {
    "duration": 114,
    "start_time": "2022-01-13T22:34:14.454Z"
   },
   {
    "duration": 11,
    "start_time": "2022-01-13T22:34:19.348Z"
   },
   {
    "duration": 13,
    "start_time": "2022-01-13T22:35:14.695Z"
   },
   {
    "duration": 11,
    "start_time": "2022-01-13T22:35:53.505Z"
   },
   {
    "duration": 11,
    "start_time": "2022-01-13T22:39:13.456Z"
   },
   {
    "duration": 9,
    "start_time": "2022-01-13T22:39:19.437Z"
   },
   {
    "duration": 30,
    "start_time": "2022-01-13T22:39:25.019Z"
   },
   {
    "duration": 10,
    "start_time": "2022-01-13T22:39:39.983Z"
   },
   {
    "duration": 30,
    "start_time": "2022-01-13T22:41:25.355Z"
   },
   {
    "duration": 12,
    "start_time": "2022-01-13T22:45:35.164Z"
   },
   {
    "duration": 11,
    "start_time": "2022-01-13T22:46:56.711Z"
   },
   {
    "duration": 21,
    "start_time": "2022-01-13T22:50:25.439Z"
   },
   {
    "duration": 21,
    "start_time": "2022-01-13T22:50:38.865Z"
   },
   {
    "duration": 4,
    "start_time": "2022-01-13T22:50:50.910Z"
   },
   {
    "duration": 69,
    "start_time": "2022-01-13T22:50:51.714Z"
   },
   {
    "duration": 18,
    "start_time": "2022-01-13T22:50:52.536Z"
   },
   {
    "duration": 15,
    "start_time": "2022-01-13T22:50:55.527Z"
   },
   {
    "duration": 5,
    "start_time": "2022-01-13T22:51:04.367Z"
   },
   {
    "duration": 17,
    "start_time": "2022-01-13T22:51:08.592Z"
   },
   {
    "duration": 13,
    "start_time": "2022-01-13T22:51:13.915Z"
   },
   {
    "duration": 11,
    "start_time": "2022-01-13T22:51:54.923Z"
   },
   {
    "duration": 17,
    "start_time": "2022-01-13T22:52:01.241Z"
   },
   {
    "duration": 11,
    "start_time": "2022-01-13T22:52:07.797Z"
   },
   {
    "duration": 16,
    "start_time": "2022-01-13T22:52:09.070Z"
   },
   {
    "duration": 24,
    "start_time": "2022-01-13T22:52:26.377Z"
   },
   {
    "duration": 25,
    "start_time": "2022-01-13T22:52:36.506Z"
   },
   {
    "duration": 27,
    "start_time": "2022-01-13T22:52:39.370Z"
   },
   {
    "duration": 23,
    "start_time": "2022-01-13T22:52:41.595Z"
   },
   {
    "duration": 50,
    "start_time": "2022-01-13T22:52:48.201Z"
   },
   {
    "duration": 27,
    "start_time": "2022-01-13T22:52:51.218Z"
   },
   {
    "duration": 4,
    "start_time": "2022-01-13T22:53:03.206Z"
   },
   {
    "duration": 3853,
    "start_time": "2022-01-13T22:53:08.254Z"
   },
   {
    "duration": 23,
    "start_time": "2022-01-13T22:53:24.288Z"
   },
   {
    "duration": 2840,
    "start_time": "2022-01-13T22:53:30.260Z"
   },
   {
    "duration": 4,
    "start_time": "2022-01-13T22:53:36.512Z"
   },
   {
    "duration": 64,
    "start_time": "2022-01-13T22:53:36.519Z"
   },
   {
    "duration": 24,
    "start_time": "2022-01-13T22:53:36.586Z"
   },
   {
    "duration": 17,
    "start_time": "2022-01-13T22:53:36.613Z"
   },
   {
    "duration": 4,
    "start_time": "2022-01-13T22:53:36.633Z"
   },
   {
    "duration": 21,
    "start_time": "2022-01-13T22:53:36.640Z"
   },
   {
    "duration": 48,
    "start_time": "2022-01-13T22:53:36.664Z"
   },
   {
    "duration": 12,
    "start_time": "2022-01-13T22:53:36.714Z"
   },
   {
    "duration": 20,
    "start_time": "2022-01-13T22:53:36.729Z"
   },
   {
    "duration": 12,
    "start_time": "2022-01-13T22:53:36.752Z"
   },
   {
    "duration": 52,
    "start_time": "2022-01-13T22:53:36.766Z"
   },
   {
    "duration": 38,
    "start_time": "2022-01-13T22:53:36.821Z"
   },
   {
    "duration": 59,
    "start_time": "2022-01-13T22:53:36.861Z"
   },
   {
    "duration": 24,
    "start_time": "2022-01-13T22:53:36.922Z"
   },
   {
    "duration": 79,
    "start_time": "2022-01-13T22:53:38.344Z"
   },
   {
    "duration": 26,
    "start_time": "2022-01-13T22:53:40.216Z"
   },
   {
    "duration": 3,
    "start_time": "2022-01-13T22:53:45.219Z"
   },
   {
    "duration": 3902,
    "start_time": "2022-01-13T22:53:46.792Z"
   },
   {
    "duration": 25,
    "start_time": "2022-01-13T22:53:50.700Z"
   },
   {
    "duration": 2866,
    "start_time": "2022-01-13T22:54:08.656Z"
   },
   {
    "duration": 29,
    "start_time": "2022-01-13T22:54:11.525Z"
   },
   {
    "duration": 9,
    "start_time": "2022-01-13T22:54:19.701Z"
   },
   {
    "duration": 5,
    "start_time": "2022-01-13T22:54:22.538Z"
   },
   {
    "duration": 8,
    "start_time": "2022-01-13T22:54:23.205Z"
   },
   {
    "duration": 12,
    "start_time": "2022-01-13T22:54:29.078Z"
   },
   {
    "duration": 10,
    "start_time": "2022-01-13T22:54:31.280Z"
   },
   {
    "duration": 6,
    "start_time": "2022-01-13T22:54:34.600Z"
   },
   {
    "duration": 29,
    "start_time": "2022-01-13T22:54:40.626Z"
   },
   {
    "duration": 116,
    "start_time": "2022-01-13T22:55:29.748Z"
   },
   {
    "duration": 14,
    "start_time": "2022-01-13T22:55:43.888Z"
   },
   {
    "duration": 122,
    "start_time": "2022-01-13T22:56:08.568Z"
   },
   {
    "duration": 11,
    "start_time": "2022-01-13T22:56:15.426Z"
   },
   {
    "duration": 15,
    "start_time": "2022-01-13T22:56:19.279Z"
   },
   {
    "duration": 14,
    "start_time": "2022-01-13T22:56:44.534Z"
   },
   {
    "duration": 120,
    "start_time": "2022-01-13T22:57:05.067Z"
   },
   {
    "duration": 11,
    "start_time": "2022-01-13T22:57:09.701Z"
   },
   {
    "duration": 110,
    "start_time": "2022-01-13T23:01:13.715Z"
   },
   {
    "duration": 110,
    "start_time": "2022-01-13T23:01:42.006Z"
   },
   {
    "duration": 123,
    "start_time": "2022-01-13T23:02:15.721Z"
   },
   {
    "duration": 107,
    "start_time": "2022-01-13T23:03:15.316Z"
   },
   {
    "duration": 127,
    "start_time": "2022-01-13T23:03:28.096Z"
   },
   {
    "duration": 324,
    "start_time": "2022-01-13T23:08:21.572Z"
   },
   {
    "duration": 116,
    "start_time": "2022-01-13T23:08:47.776Z"
   },
   {
    "duration": 126,
    "start_time": "2022-01-13T23:08:58.442Z"
   },
   {
    "duration": 108,
    "start_time": "2022-01-13T23:09:02.359Z"
   },
   {
    "duration": 118,
    "start_time": "2022-01-13T23:09:10.686Z"
   },
   {
    "duration": 4,
    "start_time": "2022-01-13T23:31:09.504Z"
   },
   {
    "duration": 97,
    "start_time": "2022-01-13T23:31:09.511Z"
   },
   {
    "duration": 19,
    "start_time": "2022-01-13T23:31:09.611Z"
   },
   {
    "duration": 14,
    "start_time": "2022-01-13T23:31:09.633Z"
   },
   {
    "duration": 5,
    "start_time": "2022-01-13T23:31:09.650Z"
   },
   {
    "duration": 57,
    "start_time": "2022-01-13T23:31:09.657Z"
   },
   {
    "duration": 13,
    "start_time": "2022-01-13T23:31:09.717Z"
   },
   {
    "duration": 11,
    "start_time": "2022-01-13T23:31:09.732Z"
   },
   {
    "duration": 17,
    "start_time": "2022-01-13T23:31:09.747Z"
   },
   {
    "duration": 12,
    "start_time": "2022-01-13T23:31:09.802Z"
   },
   {
    "duration": 18,
    "start_time": "2022-01-13T23:31:09.817Z"
   },
   {
    "duration": 23,
    "start_time": "2022-01-13T23:31:09.837Z"
   },
   {
    "duration": 61,
    "start_time": "2022-01-13T23:31:09.863Z"
   },
   {
    "duration": 23,
    "start_time": "2022-01-13T23:31:09.926Z"
   },
   {
    "duration": 126,
    "start_time": "2022-01-13T23:31:09.952Z"
   },
   {
    "duration": 31,
    "start_time": "2022-01-13T23:31:10.080Z"
   },
   {
    "duration": 4001,
    "start_time": "2022-01-13T23:31:10.114Z"
   },
   {
    "duration": 25,
    "start_time": "2022-01-13T23:31:14.118Z"
   },
   {
    "duration": 16,
    "start_time": "2022-01-13T23:31:14.145Z"
   },
   {
    "duration": 23,
    "start_time": "2022-01-13T23:31:14.164Z"
   },
   {
    "duration": 20,
    "start_time": "2022-01-13T23:31:14.189Z"
   },
   {
    "duration": 21,
    "start_time": "2022-01-13T23:31:14.211Z"
   },
   {
    "duration": 22,
    "start_time": "2022-01-13T23:31:14.234Z"
   },
   {
    "duration": 27,
    "start_time": "2022-01-13T23:31:14.259Z"
   },
   {
    "duration": 34,
    "start_time": "2022-01-13T23:31:14.288Z"
   },
   {
    "duration": 19,
    "start_time": "2022-01-13T23:31:14.325Z"
   },
   {
    "duration": 15,
    "start_time": "2022-01-13T23:31:14.349Z"
   },
   {
    "duration": 37,
    "start_time": "2022-01-13T23:31:14.367Z"
   },
   {
    "duration": 17,
    "start_time": "2022-01-13T23:31:14.406Z"
   },
   {
    "duration": 48,
    "start_time": "2022-01-13T23:31:14.425Z"
   },
   {
    "duration": 10,
    "start_time": "2022-01-13T23:31:14.476Z"
   },
   {
    "duration": 27,
    "start_time": "2022-01-13T23:31:14.502Z"
   },
   {
    "duration": 12,
    "start_time": "2022-01-13T23:31:14.531Z"
   },
   {
    "duration": 65,
    "start_time": "2022-01-13T23:31:14.545Z"
   },
   {
    "duration": 12,
    "start_time": "2022-01-13T23:31:14.612Z"
   },
   {
    "duration": 35,
    "start_time": "2022-01-13T23:31:14.627Z"
   },
   {
    "duration": 40,
    "start_time": "2022-01-13T23:31:14.665Z"
   },
   {
    "duration": 4,
    "start_time": "2022-01-13T23:31:19.912Z"
   },
   {
    "duration": 82,
    "start_time": "2022-01-13T23:31:19.918Z"
   },
   {
    "duration": 19,
    "start_time": "2022-01-13T23:31:20.004Z"
   },
   {
    "duration": 22,
    "start_time": "2022-01-13T23:31:20.027Z"
   },
   {
    "duration": 5,
    "start_time": "2022-01-13T23:31:20.052Z"
   },
   {
    "duration": 54,
    "start_time": "2022-01-13T23:31:20.060Z"
   },
   {
    "duration": 13,
    "start_time": "2022-01-13T23:31:20.117Z"
   },
   {
    "duration": 11,
    "start_time": "2022-01-13T23:31:20.133Z"
   },
   {
    "duration": 20,
    "start_time": "2022-01-13T23:31:20.147Z"
   },
   {
    "duration": 12,
    "start_time": "2022-01-13T23:31:20.200Z"
   },
   {
    "duration": 18,
    "start_time": "2022-01-13T23:31:20.214Z"
   },
   {
    "duration": 25,
    "start_time": "2022-01-13T23:31:20.235Z"
   },
   {
    "duration": 60,
    "start_time": "2022-01-13T23:31:20.263Z"
   },
   {
    "duration": 26,
    "start_time": "2022-01-13T23:31:20.326Z"
   },
   {
    "duration": 92,
    "start_time": "2022-01-13T23:31:20.355Z"
   },
   {
    "duration": 24,
    "start_time": "2022-01-13T23:31:20.450Z"
   },
   {
    "duration": 3889,
    "start_time": "2022-01-13T23:31:20.476Z"
   },
   {
    "duration": 24,
    "start_time": "2022-01-13T23:31:24.368Z"
   },
   {
    "duration": 8,
    "start_time": "2022-01-13T23:31:24.403Z"
   },
   {
    "duration": 5,
    "start_time": "2022-01-13T23:31:24.414Z"
   },
   {
    "duration": 9,
    "start_time": "2022-01-13T23:31:24.421Z"
   },
   {
    "duration": 12,
    "start_time": "2022-01-13T23:31:24.432Z"
   },
   {
    "duration": 59,
    "start_time": "2022-01-13T23:31:24.446Z"
   },
   {
    "duration": 9,
    "start_time": "2022-01-13T23:31:24.508Z"
   },
   {
    "duration": 14,
    "start_time": "2022-01-13T23:31:24.519Z"
   },
   {
    "duration": 9,
    "start_time": "2022-01-13T23:31:24.536Z"
   },
   {
    "duration": 53,
    "start_time": "2022-01-13T23:31:24.547Z"
   },
   {
    "duration": 13,
    "start_time": "2022-01-13T23:31:24.603Z"
   },
   {
    "duration": 13,
    "start_time": "2022-01-13T23:31:24.618Z"
   },
   {
    "duration": 34,
    "start_time": "2022-01-13T23:31:24.634Z"
   },
   {
    "duration": 39,
    "start_time": "2022-01-13T23:31:24.670Z"
   },
   {
    "duration": 27,
    "start_time": "2022-01-13T23:31:24.712Z"
   },
   {
    "duration": 12,
    "start_time": "2022-01-13T23:31:24.742Z"
   },
   {
    "duration": 66,
    "start_time": "2022-01-13T23:31:24.756Z"
   },
   {
    "duration": 11,
    "start_time": "2022-01-13T23:31:24.824Z"
   },
   {
    "duration": 66,
    "start_time": "2022-01-13T23:31:24.837Z"
   },
   {
    "duration": 10,
    "start_time": "2022-01-13T23:31:24.905Z"
   },
   {
    "duration": 1373,
    "start_time": "2022-01-14T12:11:25.499Z"
   },
   {
    "duration": 532,
    "start_time": "2022-01-14T18:41:52.159Z"
   },
   {
    "duration": 51,
    "start_time": "2022-01-14T18:41:52.693Z"
   },
   {
    "duration": 18,
    "start_time": "2022-01-14T18:41:52.746Z"
   },
   {
    "duration": 12,
    "start_time": "2022-01-14T18:41:52.766Z"
   },
   {
    "duration": 12,
    "start_time": "2022-01-14T18:41:52.780Z"
   },
   {
    "duration": 13,
    "start_time": "2022-01-14T18:41:52.794Z"
   },
   {
    "duration": 11,
    "start_time": "2022-01-14T18:41:52.808Z"
   },
   {
    "duration": 9,
    "start_time": "2022-01-14T18:41:52.820Z"
   },
   {
    "duration": 12,
    "start_time": "2022-01-14T18:41:52.832Z"
   },
   {
    "duration": 7,
    "start_time": "2022-01-14T18:41:52.846Z"
   },
   {
    "duration": 43,
    "start_time": "2022-01-14T18:41:52.855Z"
   },
   {
    "duration": 14,
    "start_time": "2022-01-14T18:41:52.899Z"
   },
   {
    "duration": 16,
    "start_time": "2022-01-14T18:41:52.914Z"
   },
   {
    "duration": 14,
    "start_time": "2022-01-14T18:41:52.932Z"
   },
   {
    "duration": 4,
    "start_time": "2022-01-14T18:41:52.948Z"
   },
   {
    "duration": 45,
    "start_time": "2022-01-14T18:41:52.954Z"
   },
   {
    "duration": 2568,
    "start_time": "2022-01-14T18:41:53.001Z"
   },
   {
    "duration": 21,
    "start_time": "2022-01-14T18:41:55.571Z"
   },
   {
    "duration": 18,
    "start_time": "2022-01-14T18:41:55.594Z"
   },
   {
    "duration": 6,
    "start_time": "2022-01-14T18:41:55.614Z"
   },
   {
    "duration": 23,
    "start_time": "2022-01-14T18:41:55.622Z"
   },
   {
    "duration": 7,
    "start_time": "2022-01-14T18:41:55.647Z"
   },
   {
    "duration": 7,
    "start_time": "2022-01-14T18:41:55.656Z"
   },
   {
    "duration": 6,
    "start_time": "2022-01-14T18:41:55.665Z"
   },
   {
    "duration": 10,
    "start_time": "2022-01-14T18:41:55.691Z"
   },
   {
    "duration": 11,
    "start_time": "2022-01-14T18:41:55.703Z"
   },
   {
    "duration": 7,
    "start_time": "2022-01-14T18:43:02.828Z"
   },
   {
    "duration": 2,
    "start_time": "2022-01-14T18:50:40.282Z"
   },
   {
    "duration": 64,
    "start_time": "2022-01-14T18:50:40.286Z"
   },
   {
    "duration": 13,
    "start_time": "2022-01-14T18:50:40.352Z"
   },
   {
    "duration": 11,
    "start_time": "2022-01-14T18:50:42.627Z"
   },
   {
    "duration": 3,
    "start_time": "2022-01-14T18:56:55.505Z"
   },
   {
    "duration": 50,
    "start_time": "2022-01-14T18:56:55.510Z"
   },
   {
    "duration": 11,
    "start_time": "2022-01-14T18:56:55.562Z"
   },
   {
    "duration": 16,
    "start_time": "2022-01-14T18:56:55.575Z"
   },
   {
    "duration": 4,
    "start_time": "2022-01-14T18:56:55.592Z"
   },
   {
    "duration": 14,
    "start_time": "2022-01-14T18:56:55.597Z"
   },
   {
    "duration": 10,
    "start_time": "2022-01-14T18:56:55.612Z"
   },
   {
    "duration": 7,
    "start_time": "2022-01-14T18:56:55.624Z"
   },
   {
    "duration": 11,
    "start_time": "2022-01-14T18:56:55.634Z"
   },
   {
    "duration": 7,
    "start_time": "2022-01-14T18:56:55.647Z"
   },
   {
    "duration": 11,
    "start_time": "2022-01-14T18:56:55.691Z"
   },
   {
    "duration": 14,
    "start_time": "2022-01-14T18:56:55.703Z"
   },
   {
    "duration": 16,
    "start_time": "2022-01-14T18:56:55.719Z"
   },
   {
    "duration": 14,
    "start_time": "2022-01-14T18:56:55.736Z"
   },
   {
    "duration": 68,
    "start_time": "2022-01-14T18:56:55.751Z"
   },
   {
    "duration": 18,
    "start_time": "2022-01-14T18:56:55.820Z"
   },
   {
    "duration": 2667,
    "start_time": "2022-01-14T18:56:55.839Z"
   },
   {
    "duration": 15,
    "start_time": "2022-01-14T18:56:58.508Z"
   },
   {
    "duration": 9,
    "start_time": "2022-01-14T18:56:58.525Z"
   },
   {
    "duration": 4,
    "start_time": "2022-01-14T18:56:58.535Z"
   },
   {
    "duration": 10,
    "start_time": "2022-01-14T18:56:58.541Z"
   },
   {
    "duration": 6,
    "start_time": "2022-01-14T18:56:58.553Z"
   },
   {
    "duration": 31,
    "start_time": "2022-01-14T18:56:58.561Z"
   },
   {
    "duration": 4,
    "start_time": "2022-01-14T18:56:58.594Z"
   },
   {
    "duration": 16,
    "start_time": "2022-01-14T18:56:58.600Z"
   },
   {
    "duration": 9,
    "start_time": "2022-01-14T18:56:58.618Z"
   },
   {
    "duration": 7,
    "start_time": "2022-01-14T18:56:58.631Z"
   },
   {
    "duration": 9,
    "start_time": "2022-01-14T18:56:58.641Z"
   },
   {
    "duration": 43,
    "start_time": "2022-01-14T18:56:58.652Z"
   },
   {
    "duration": 26,
    "start_time": "2022-01-14T18:56:58.697Z"
   },
   {
    "duration": 7,
    "start_time": "2022-01-14T18:56:58.725Z"
   },
   {
    "duration": 31,
    "start_time": "2022-01-14T18:56:58.733Z"
   },
   {
    "duration": 27,
    "start_time": "2022-01-14T18:56:58.766Z"
   },
   {
    "duration": 18,
    "start_time": "2022-01-14T18:56:58.795Z"
   },
   {
    "duration": 9,
    "start_time": "2022-01-14T18:56:58.814Z"
   },
   {
    "duration": 22,
    "start_time": "2022-01-14T18:56:58.825Z"
   },
   {
    "duration": 43,
    "start_time": "2022-01-14T18:56:58.849Z"
   },
   {
    "duration": 47,
    "start_time": "2022-01-14T18:57:55.504Z"
   },
   {
    "duration": 8,
    "start_time": "2022-01-14T18:58:54.456Z"
   },
   {
    "duration": 9,
    "start_time": "2022-01-14T18:59:18.227Z"
   },
   {
    "duration": 8,
    "start_time": "2022-01-14T18:59:30.465Z"
   },
   {
    "duration": 8,
    "start_time": "2022-01-14T18:59:52.211Z"
   },
   {
    "duration": 3,
    "start_time": "2022-01-14T19:00:01.554Z"
   },
   {
    "duration": 74,
    "start_time": "2022-01-14T19:00:01.559Z"
   },
   {
    "duration": 19,
    "start_time": "2022-01-14T19:00:01.635Z"
   },
   {
    "duration": 37,
    "start_time": "2022-01-14T19:00:01.656Z"
   },
   {
    "duration": 26,
    "start_time": "2022-01-14T19:00:01.696Z"
   },
   {
    "duration": 64,
    "start_time": "2022-01-14T19:00:01.723Z"
   },
   {
    "duration": 25,
    "start_time": "2022-01-14T19:00:01.789Z"
   },
   {
    "duration": 34,
    "start_time": "2022-01-14T19:00:01.816Z"
   },
   {
    "duration": 26,
    "start_time": "2022-01-14T19:00:01.853Z"
   },
   {
    "duration": 19,
    "start_time": "2022-01-14T19:00:01.881Z"
   },
   {
    "duration": 27,
    "start_time": "2022-01-14T19:00:01.901Z"
   },
   {
    "duration": 26,
    "start_time": "2022-01-14T19:00:01.930Z"
   },
   {
    "duration": 22,
    "start_time": "2022-01-14T19:00:01.958Z"
   },
   {
    "duration": 16,
    "start_time": "2022-01-14T19:00:01.982Z"
   },
   {
    "duration": 57,
    "start_time": "2022-01-14T19:00:01.999Z"
   },
   {
    "duration": 19,
    "start_time": "2022-01-14T19:00:02.058Z"
   },
   {
    "duration": 2834,
    "start_time": "2022-01-14T19:00:02.079Z"
   },
   {
    "duration": 15,
    "start_time": "2022-01-14T19:00:04.915Z"
   },
   {
    "duration": 22,
    "start_time": "2022-01-14T19:00:04.932Z"
   },
   {
    "duration": 31,
    "start_time": "2022-01-14T19:00:04.956Z"
   },
   {
    "duration": 8,
    "start_time": "2022-01-14T19:00:04.989Z"
   },
   {
    "duration": 26,
    "start_time": "2022-01-14T19:00:04.999Z"
   },
   {
    "duration": 19,
    "start_time": "2022-01-14T19:00:05.027Z"
   },
   {
    "duration": 14,
    "start_time": "2022-01-14T19:00:05.048Z"
   },
   {
    "duration": 42,
    "start_time": "2022-01-14T19:00:05.063Z"
   },
   {
    "duration": 20,
    "start_time": "2022-01-14T19:00:05.107Z"
   },
   {
    "duration": 25,
    "start_time": "2022-01-14T19:00:05.130Z"
   },
   {
    "duration": 30,
    "start_time": "2022-01-14T19:00:05.156Z"
   },
   {
    "duration": 14,
    "start_time": "2022-01-14T19:00:05.187Z"
   },
   {
    "duration": 34,
    "start_time": "2022-01-14T19:00:05.202Z"
   },
   {
    "duration": 7,
    "start_time": "2022-01-14T19:00:05.238Z"
   },
   {
    "duration": 91,
    "start_time": "2022-01-14T19:00:05.247Z"
   },
   {
    "duration": 11,
    "start_time": "2022-01-14T19:00:05.340Z"
   },
   {
    "duration": 39,
    "start_time": "2022-01-14T19:00:05.352Z"
   },
   {
    "duration": 19,
    "start_time": "2022-01-14T19:00:05.393Z"
   },
   {
    "duration": 42,
    "start_time": "2022-01-14T19:00:05.414Z"
   },
   {
    "duration": 46,
    "start_time": "2022-01-14T19:00:05.478Z"
   },
   {
    "duration": 37,
    "start_time": "2022-01-14T19:00:05.526Z"
   },
   {
    "duration": 8,
    "start_time": "2022-01-14T19:00:21.030Z"
   },
   {
    "duration": 92,
    "start_time": "2022-01-14T19:01:09.120Z"
   },
   {
    "duration": 8,
    "start_time": "2022-01-14T19:02:24.384Z"
   },
   {
    "duration": 8,
    "start_time": "2022-01-14T19:05:22.914Z"
   },
   {
    "duration": 8,
    "start_time": "2022-01-14T19:05:45.618Z"
   },
   {
    "duration": 8,
    "start_time": "2022-01-14T19:05:49.956Z"
   },
   {
    "duration": 7,
    "start_time": "2022-01-14T19:06:11.902Z"
   },
   {
    "duration": 8,
    "start_time": "2022-01-14T19:07:26.434Z"
   },
   {
    "duration": 311,
    "start_time": "2022-01-17T18:21:49.225Z"
   },
   {
    "duration": 584,
    "start_time": "2022-01-17T18:21:54.089Z"
   },
   {
    "duration": 46,
    "start_time": "2022-01-17T18:21:54.674Z"
   },
   {
    "duration": 16,
    "start_time": "2022-01-17T18:21:54.722Z"
   },
   {
    "duration": 12,
    "start_time": "2022-01-17T18:21:54.740Z"
   },
   {
    "duration": 2,
    "start_time": "2022-01-17T18:21:54.754Z"
   },
   {
    "duration": 11,
    "start_time": "2022-01-17T18:21:54.758Z"
   },
   {
    "duration": 9,
    "start_time": "2022-01-17T18:21:54.771Z"
   },
   {
    "duration": 7,
    "start_time": "2022-01-17T18:21:54.781Z"
   },
   {
    "duration": 44,
    "start_time": "2022-01-17T18:21:54.790Z"
   },
   {
    "duration": 8,
    "start_time": "2022-01-17T18:21:54.836Z"
   },
   {
    "duration": 10,
    "start_time": "2022-01-17T18:21:54.846Z"
   },
   {
    "duration": 4,
    "start_time": "2022-01-17T18:21:55.617Z"
   },
   {
    "duration": 4,
    "start_time": "2022-01-17T18:22:43.482Z"
   },
   {
    "duration": 286,
    "start_time": "2022-01-17T18:23:36.595Z"
   },
   {
    "duration": 13,
    "start_time": "2022-01-17T18:23:46.827Z"
   },
   {
    "duration": 19,
    "start_time": "2022-01-17T18:23:53.450Z"
   },
   {
    "duration": 94,
    "start_time": "2022-01-17T18:25:19.438Z"
   },
   {
    "duration": 11,
    "start_time": "2022-01-17T18:25:31.501Z"
   },
   {
    "duration": 16,
    "start_time": "2022-01-17T18:25:46.005Z"
   },
   {
    "duration": 99,
    "start_time": "2022-01-17T18:28:16.424Z"
   },
   {
    "duration": 6,
    "start_time": "2022-01-17T18:28:22.598Z"
   },
   {
    "duration": 3,
    "start_time": "2022-01-17T18:28:30.964Z"
   },
   {
    "duration": 4,
    "start_time": "2022-01-17T18:28:53.268Z"
   },
   {
    "duration": 4,
    "start_time": "2022-01-17T18:29:01.258Z"
   },
   {
    "duration": 4,
    "start_time": "2022-01-17T18:29:34.488Z"
   },
   {
    "duration": 300,
    "start_time": "2022-01-17T18:36:44.374Z"
   },
   {
    "duration": 368,
    "start_time": "2022-01-17T18:38:01.652Z"
   },
   {
    "duration": 279,
    "start_time": "2022-01-17T18:38:05.101Z"
   },
   {
    "duration": 291,
    "start_time": "2022-01-17T18:38:50.874Z"
   },
   {
    "duration": 296,
    "start_time": "2022-01-17T18:40:43.147Z"
   },
   {
    "duration": 15,
    "start_time": "2022-01-17T18:41:14.460Z"
   },
   {
    "duration": 12,
    "start_time": "2022-01-17T18:43:03.514Z"
   },
   {
    "duration": 17,
    "start_time": "2022-01-17T18:43:09.172Z"
   },
   {
    "duration": 17,
    "start_time": "2022-01-17T18:44:16.416Z"
   },
   {
    "duration": 24,
    "start_time": "2022-01-17T18:44:39.283Z"
   },
   {
    "duration": 17,
    "start_time": "2022-01-17T18:44:48.334Z"
   },
   {
    "duration": 280,
    "start_time": "2022-01-17T18:44:53.032Z"
   },
   {
    "duration": 17,
    "start_time": "2022-01-17T18:44:57.973Z"
   },
   {
    "duration": 358,
    "start_time": "2022-01-17T18:45:15.163Z"
   },
   {
    "duration": 17,
    "start_time": "2022-01-17T18:45:23.945Z"
   },
   {
    "duration": 18,
    "start_time": "2022-01-17T18:45:40.434Z"
   },
   {
    "duration": 300,
    "start_time": "2022-01-17T18:46:04.038Z"
   },
   {
    "duration": 284,
    "start_time": "2022-01-17T18:46:17.479Z"
   },
   {
    "duration": 18,
    "start_time": "2022-01-17T18:47:31.874Z"
   },
   {
    "duration": 6,
    "start_time": "2022-01-17T18:49:10.615Z"
   },
   {
    "duration": 19,
    "start_time": "2022-01-17T18:49:19.473Z"
   },
   {
    "duration": 10,
    "start_time": "2022-01-17T18:49:37.931Z"
   },
   {
    "duration": 24,
    "start_time": "2022-01-17T18:49:41.601Z"
   },
   {
    "duration": 25,
    "start_time": "2022-01-17T18:49:58.760Z"
   },
   {
    "duration": 25,
    "start_time": "2022-01-17T18:50:53.231Z"
   },
   {
    "duration": 4,
    "start_time": "2022-01-17T18:53:18.521Z"
   },
   {
    "duration": 2,
    "start_time": "2022-01-17T18:53:29.754Z"
   },
   {
    "duration": 47,
    "start_time": "2022-01-17T18:53:29.758Z"
   },
   {
    "duration": 10,
    "start_time": "2022-01-17T18:53:29.807Z"
   },
   {
    "duration": 9,
    "start_time": "2022-01-17T18:53:29.832Z"
   },
   {
    "duration": 3,
    "start_time": "2022-01-17T18:53:29.842Z"
   },
   {
    "duration": 13,
    "start_time": "2022-01-17T18:53:29.846Z"
   },
   {
    "duration": 9,
    "start_time": "2022-01-17T18:53:29.861Z"
   },
   {
    "duration": 8,
    "start_time": "2022-01-17T18:53:29.872Z"
   },
   {
    "duration": 12,
    "start_time": "2022-01-17T18:53:29.882Z"
   },
   {
    "duration": 37,
    "start_time": "2022-01-17T18:53:29.896Z"
   },
   {
    "duration": 13,
    "start_time": "2022-01-17T18:53:29.935Z"
   },
   {
    "duration": 6,
    "start_time": "2022-01-17T18:53:31.492Z"
   },
   {
    "duration": 6,
    "start_time": "2022-01-17T18:54:05.309Z"
   },
   {
    "duration": 11,
    "start_time": "2022-01-17T18:54:50.384Z"
   },
   {
    "duration": 103,
    "start_time": "2022-01-17T18:56:08.604Z"
   },
   {
    "duration": 95,
    "start_time": "2022-01-17T18:56:11.641Z"
   },
   {
    "duration": 17,
    "start_time": "2022-01-17T18:59:44.097Z"
   },
   {
    "duration": 9,
    "start_time": "2022-01-17T18:59:56.182Z"
   },
   {
    "duration": 2,
    "start_time": "2022-01-17T19:00:08.309Z"
   },
   {
    "duration": 67,
    "start_time": "2022-01-17T19:00:08.313Z"
   },
   {
    "duration": 10,
    "start_time": "2022-01-17T19:00:08.381Z"
   },
   {
    "duration": 11,
    "start_time": "2022-01-17T19:00:08.393Z"
   },
   {
    "duration": 3,
    "start_time": "2022-01-17T19:00:08.405Z"
   },
   {
    "duration": 20,
    "start_time": "2022-01-17T19:00:08.410Z"
   },
   {
    "duration": 9,
    "start_time": "2022-01-17T19:00:08.431Z"
   },
   {
    "duration": 8,
    "start_time": "2022-01-17T19:00:08.441Z"
   },
   {
    "duration": 14,
    "start_time": "2022-01-17T19:00:08.451Z"
   },
   {
    "duration": 7,
    "start_time": "2022-01-17T19:00:08.467Z"
   },
   {
    "duration": 12,
    "start_time": "2022-01-17T19:00:08.475Z"
   },
   {
    "duration": 43,
    "start_time": "2022-01-17T19:00:08.489Z"
   },
   {
    "duration": 4,
    "start_time": "2022-01-17T19:00:08.533Z"
   },
   {
    "duration": 20,
    "start_time": "2022-01-17T19:00:08.538Z"
   },
   {
    "duration": 3,
    "start_time": "2022-01-17T19:00:08.560Z"
   },
   {
    "duration": 24,
    "start_time": "2022-01-17T19:00:10.540Z"
   },
   {
    "duration": 24,
    "start_time": "2022-01-17T19:00:18.071Z"
   },
   {
    "duration": 19,
    "start_time": "2022-01-17T19:00:31.132Z"
   },
   {
    "duration": 23,
    "start_time": "2022-01-17T19:00:36.170Z"
   },
   {
    "duration": 27,
    "start_time": "2022-01-17T19:00:50.164Z"
   },
   {
    "duration": 25,
    "start_time": "2022-01-17T19:02:24.006Z"
   },
   {
    "duration": 11,
    "start_time": "2022-01-17T19:02:29.457Z"
   },
   {
    "duration": 12,
    "start_time": "2022-01-17T19:02:35.531Z"
   },
   {
    "duration": 300,
    "start_time": "2022-01-17T19:02:39.169Z"
   },
   {
    "duration": 326,
    "start_time": "2022-01-17T19:03:47.039Z"
   },
   {
    "duration": 2,
    "start_time": "2022-01-17T19:03:58.938Z"
   },
   {
    "duration": 48,
    "start_time": "2022-01-17T19:03:58.942Z"
   },
   {
    "duration": 12,
    "start_time": "2022-01-17T19:03:58.991Z"
   },
   {
    "duration": 11,
    "start_time": "2022-01-17T19:03:59.004Z"
   },
   {
    "duration": 10,
    "start_time": "2022-01-17T19:03:59.017Z"
   },
   {
    "duration": 10,
    "start_time": "2022-01-17T19:03:59.028Z"
   },
   {
    "duration": 11,
    "start_time": "2022-01-17T19:03:59.040Z"
   },
   {
    "duration": 10,
    "start_time": "2022-01-17T19:03:59.053Z"
   },
   {
    "duration": 10,
    "start_time": "2022-01-17T19:03:59.065Z"
   },
   {
    "duration": 12,
    "start_time": "2022-01-17T19:03:59.076Z"
   },
   {
    "duration": 47,
    "start_time": "2022-01-17T19:03:59.089Z"
   },
   {
    "duration": 11,
    "start_time": "2022-01-17T19:03:59.138Z"
   },
   {
    "duration": 4,
    "start_time": "2022-01-17T19:03:59.150Z"
   },
   {
    "duration": 20,
    "start_time": "2022-01-17T19:03:59.155Z"
   },
   {
    "duration": 52,
    "start_time": "2022-01-17T19:03:59.176Z"
   },
   {
    "duration": 23,
    "start_time": "2022-01-17T19:04:00.984Z"
   },
   {
    "duration": 26,
    "start_time": "2022-01-17T19:04:06.704Z"
   },
   {
    "duration": 23,
    "start_time": "2022-01-17T19:04:27.813Z"
   },
   {
    "duration": 25,
    "start_time": "2022-01-17T19:04:47.600Z"
   },
   {
    "duration": 26,
    "start_time": "2022-01-17T19:05:06.543Z"
   },
   {
    "duration": 284,
    "start_time": "2022-01-17T19:05:17.862Z"
   },
   {
    "duration": 22,
    "start_time": "2022-01-17T19:05:27.524Z"
   },
   {
    "duration": 25,
    "start_time": "2022-01-17T19:05:41.097Z"
   },
   {
    "duration": 23,
    "start_time": "2022-01-17T19:06:28.954Z"
   },
   {
    "duration": 309,
    "start_time": "2022-01-17T19:07:22.112Z"
   },
   {
    "duration": 296,
    "start_time": "2022-01-17T19:07:43.027Z"
   },
   {
    "duration": 293,
    "start_time": "2022-01-17T19:07:50.685Z"
   },
   {
    "duration": 22,
    "start_time": "2022-01-17T19:09:18.213Z"
   },
   {
    "duration": 3,
    "start_time": "2022-01-17T19:10:30.763Z"
   },
   {
    "duration": 53,
    "start_time": "2022-01-17T19:10:30.767Z"
   },
   {
    "duration": 16,
    "start_time": "2022-01-17T19:10:32.059Z"
   },
   {
    "duration": 10,
    "start_time": "2022-01-17T19:11:35.933Z"
   },
   {
    "duration": 10,
    "start_time": "2022-01-17T19:12:14.334Z"
   },
   {
    "duration": 12,
    "start_time": "2022-01-17T19:12:27.751Z"
   },
   {
    "duration": 18,
    "start_time": "2022-01-17T19:12:51.594Z"
   },
   {
    "duration": 110,
    "start_time": "2022-01-17T19:13:42.910Z"
   },
   {
    "duration": 10,
    "start_time": "2022-01-17T19:14:46.869Z"
   },
   {
    "duration": 3567,
    "start_time": "2022-01-17T19:14:49.123Z"
   },
   {
    "duration": 3607,
    "start_time": "2022-01-17T19:17:09.421Z"
   },
   {
    "duration": 277,
    "start_time": "2022-01-17T19:17:35.870Z"
   },
   {
    "duration": 3605,
    "start_time": "2022-01-17T19:17:57.993Z"
   },
   {
    "duration": 3596,
    "start_time": "2022-01-17T19:18:22.435Z"
   },
   {
    "duration": 13,
    "start_time": "2022-01-17T19:19:47.686Z"
   },
   {
    "duration": 13,
    "start_time": "2022-01-17T19:20:01.457Z"
   },
   {
    "duration": 13,
    "start_time": "2022-01-17T19:20:04.911Z"
   },
   {
    "duration": 11962,
    "start_time": "2022-01-17T19:20:13.856Z"
   },
   {
    "duration": 3800,
    "start_time": "2022-01-17T19:20:33.984Z"
   },
   {
    "duration": 3735,
    "start_time": "2022-01-17T19:20:56.914Z"
   },
   {
    "duration": 3671,
    "start_time": "2022-01-17T19:21:03.330Z"
   },
   {
    "duration": 12,
    "start_time": "2022-01-17T19:21:10.790Z"
   },
   {
    "duration": 269,
    "start_time": "2022-01-17T19:22:45.511Z"
   },
   {
    "duration": 14,
    "start_time": "2022-01-17T19:22:53.678Z"
   },
   {
    "duration": 19,
    "start_time": "2022-01-17T19:22:57.304Z"
   },
   {
    "duration": 4565,
    "start_time": "2022-01-17T19:23:09.541Z"
   },
   {
    "duration": 2,
    "start_time": "2022-01-17T19:23:30.860Z"
   },
   {
    "duration": 53,
    "start_time": "2022-01-17T19:23:30.864Z"
   },
   {
    "duration": 10,
    "start_time": "2022-01-17T19:23:30.919Z"
   },
   {
    "duration": 12,
    "start_time": "2022-01-17T19:23:30.931Z"
   },
   {
    "duration": 9,
    "start_time": "2022-01-17T19:23:30.944Z"
   },
   {
    "duration": 14,
    "start_time": "2022-01-17T19:23:30.954Z"
   },
   {
    "duration": 19,
    "start_time": "2022-01-17T19:23:30.970Z"
   },
   {
    "duration": 8,
    "start_time": "2022-01-17T19:23:30.990Z"
   },
   {
    "duration": 12,
    "start_time": "2022-01-17T19:23:31.000Z"
   },
   {
    "duration": 15,
    "start_time": "2022-01-17T19:23:31.014Z"
   },
   {
    "duration": 19,
    "start_time": "2022-01-17T19:23:31.031Z"
   },
   {
    "duration": 13,
    "start_time": "2022-01-17T19:23:31.051Z"
   },
   {
    "duration": 367,
    "start_time": "2022-01-17T19:23:33.077Z"
   },
   {
    "duration": 30,
    "start_time": "2022-01-17T19:26:22.502Z"
   },
   {
    "duration": 37,
    "start_time": "2022-01-17T19:27:41.592Z"
   },
   {
    "duration": 4,
    "start_time": "2022-01-17T19:28:00.450Z"
   },
   {
    "duration": 87,
    "start_time": "2022-01-17T19:28:34.748Z"
   },
   {
    "duration": 277,
    "start_time": "2022-01-17T19:28:52.111Z"
   },
   {
    "duration": 268,
    "start_time": "2022-01-17T19:28:58.550Z"
   },
   {
    "duration": 6,
    "start_time": "2022-01-17T19:29:27.676Z"
   },
   {
    "duration": 8,
    "start_time": "2022-01-17T19:29:32.129Z"
   },
   {
    "duration": 3,
    "start_time": "2022-01-17T19:29:42.554Z"
   },
   {
    "duration": 48,
    "start_time": "2022-01-17T19:29:42.558Z"
   },
   {
    "duration": 10,
    "start_time": "2022-01-17T19:29:42.608Z"
   },
   {
    "duration": 11,
    "start_time": "2022-01-17T19:29:42.619Z"
   },
   {
    "duration": 3,
    "start_time": "2022-01-17T19:29:42.631Z"
   },
   {
    "duration": 12,
    "start_time": "2022-01-17T19:29:42.635Z"
   },
   {
    "duration": 10,
    "start_time": "2022-01-17T19:29:42.649Z"
   },
   {
    "duration": 8,
    "start_time": "2022-01-17T19:29:42.660Z"
   },
   {
    "duration": 12,
    "start_time": "2022-01-17T19:29:42.669Z"
   },
   {
    "duration": 6,
    "start_time": "2022-01-17T19:29:42.682Z"
   },
   {
    "duration": 40,
    "start_time": "2022-01-17T19:29:42.690Z"
   },
   {
    "duration": 13,
    "start_time": "2022-01-17T19:29:42.731Z"
   },
   {
    "duration": 33,
    "start_time": "2022-01-17T19:29:42.746Z"
   },
   {
    "duration": 3,
    "start_time": "2022-01-17T19:29:42.780Z"
   },
   {
    "duration": 54,
    "start_time": "2022-01-17T19:29:42.785Z"
   },
   {
    "duration": 3,
    "start_time": "2022-01-17T19:29:42.841Z"
   },
   {
    "duration": 273,
    "start_time": "2022-01-17T19:29:42.845Z"
   },
   {
    "duration": 301,
    "start_time": "2022-01-17T19:30:42.762Z"
   },
   {
    "duration": 27,
    "start_time": "2022-01-17T19:30:56.713Z"
   },
   {
    "duration": 9,
    "start_time": "2022-01-17T19:31:04.689Z"
   },
   {
    "duration": 8,
    "start_time": "2022-01-17T19:31:28.813Z"
   },
   {
    "duration": 11,
    "start_time": "2022-01-17T19:31:37.866Z"
   },
   {
    "duration": 5,
    "start_time": "2022-01-17T19:31:41.174Z"
   },
   {
    "duration": 373,
    "start_time": "2022-01-17T19:34:18.655Z"
   },
   {
    "duration": 7213,
    "start_time": "2022-01-17T19:34:32.740Z"
   },
   {
    "duration": 1830,
    "start_time": "2022-01-17T19:35:04.933Z"
   },
   {
    "duration": -3,
    "start_time": "2022-01-17T19:35:29.034Z"
   },
   {
    "duration": 7,
    "start_time": "2022-01-17T19:35:31.662Z"
   },
   {
    "duration": 274,
    "start_time": "2022-01-17T19:37:44.483Z"
   },
   {
    "duration": 277,
    "start_time": "2022-01-17T19:37:52.273Z"
   },
   {
    "duration": 5301,
    "start_time": "2022-01-17T19:39:14.223Z"
   },
   {
    "duration": 4,
    "start_time": "2022-01-17T19:40:48.312Z"
   },
   {
    "duration": 8,
    "start_time": "2022-01-17T19:40:51.201Z"
   },
   {
    "duration": 7,
    "start_time": "2022-01-17T19:41:13.668Z"
   },
   {
    "duration": 2,
    "start_time": "2022-01-17T19:41:18.363Z"
   },
   {
    "duration": 48,
    "start_time": "2022-01-17T19:41:18.367Z"
   },
   {
    "duration": 10,
    "start_time": "2022-01-17T19:41:18.417Z"
   },
   {
    "duration": 10,
    "start_time": "2022-01-17T19:41:18.445Z"
   },
   {
    "duration": 3,
    "start_time": "2022-01-17T19:41:18.456Z"
   },
   {
    "duration": 11,
    "start_time": "2022-01-17T19:41:18.461Z"
   },
   {
    "duration": 9,
    "start_time": "2022-01-17T19:41:18.474Z"
   },
   {
    "duration": 7,
    "start_time": "2022-01-17T19:41:18.485Z"
   },
   {
    "duration": 11,
    "start_time": "2022-01-17T19:41:18.494Z"
   },
   {
    "duration": 24,
    "start_time": "2022-01-17T19:41:18.507Z"
   },
   {
    "duration": 10,
    "start_time": "2022-01-17T19:41:18.532Z"
   },
   {
    "duration": 14,
    "start_time": "2022-01-17T19:41:18.544Z"
   },
   {
    "duration": 32,
    "start_time": "2022-01-17T19:41:18.559Z"
   },
   {
    "duration": 3,
    "start_time": "2022-01-17T19:41:18.592Z"
   },
   {
    "duration": 50,
    "start_time": "2022-01-17T19:41:18.597Z"
   },
   {
    "duration": 3,
    "start_time": "2022-01-17T19:41:18.649Z"
   },
   {
    "duration": 28,
    "start_time": "2022-01-17T19:41:18.653Z"
   },
   {
    "duration": 26,
    "start_time": "2022-01-17T19:41:20.346Z"
   },
   {
    "duration": 19,
    "start_time": "2022-01-17T19:41:21.166Z"
   },
   {
    "duration": 8,
    "start_time": "2022-01-17T19:41:29.909Z"
   },
   {
    "duration": 9,
    "start_time": "2022-01-17T19:41:39.628Z"
   },
   {
    "duration": 11,
    "start_time": "2022-01-17T19:41:54.976Z"
   },
   {
    "duration": 10,
    "start_time": "2022-01-17T19:42:05.135Z"
   },
   {
    "duration": 15,
    "start_time": "2022-01-17T19:42:59.970Z"
   },
   {
    "duration": 12,
    "start_time": "2022-01-17T19:43:12.199Z"
   },
   {
    "duration": 16,
    "start_time": "2022-01-17T19:43:17.079Z"
   },
   {
    "duration": 11,
    "start_time": "2022-01-17T19:43:28.459Z"
   },
   {
    "duration": 28,
    "start_time": "2022-01-17T19:44:56.962Z"
   },
   {
    "duration": 2,
    "start_time": "2022-01-17T19:45:12.557Z"
   },
   {
    "duration": 49,
    "start_time": "2022-01-17T19:45:12.561Z"
   },
   {
    "duration": 10,
    "start_time": "2022-01-17T19:45:12.611Z"
   },
   {
    "duration": 13,
    "start_time": "2022-01-17T19:45:12.623Z"
   },
   {
    "duration": 3,
    "start_time": "2022-01-17T19:45:12.638Z"
   },
   {
    "duration": 12,
    "start_time": "2022-01-17T19:45:12.642Z"
   },
   {
    "duration": 10,
    "start_time": "2022-01-17T19:45:12.655Z"
   },
   {
    "duration": 8,
    "start_time": "2022-01-17T19:45:12.667Z"
   },
   {
    "duration": 14,
    "start_time": "2022-01-17T19:45:12.678Z"
   },
   {
    "duration": 37,
    "start_time": "2022-01-17T19:45:12.694Z"
   },
   {
    "duration": 12,
    "start_time": "2022-01-17T19:45:12.733Z"
   },
   {
    "duration": 17,
    "start_time": "2022-01-17T19:45:12.746Z"
   },
   {
    "duration": 27,
    "start_time": "2022-01-17T19:45:12.765Z"
   },
   {
    "duration": 35,
    "start_time": "2022-01-17T19:45:12.794Z"
   },
   {
    "duration": 26,
    "start_time": "2022-01-17T19:45:12.831Z"
   },
   {
    "duration": 3,
    "start_time": "2022-01-17T19:45:12.859Z"
   },
   {
    "duration": 28,
    "start_time": "2022-01-17T19:45:12.864Z"
   },
   {
    "duration": 36,
    "start_time": "2022-01-17T19:45:12.894Z"
   },
   {
    "duration": 11,
    "start_time": "2022-01-17T19:45:15.386Z"
   },
   {
    "duration": 15,
    "start_time": "2022-01-17T19:45:25.259Z"
   },
   {
    "duration": 98,
    "start_time": "2022-01-17T19:46:02.734Z"
   },
   {
    "duration": 22,
    "start_time": "2022-01-17T19:46:44.878Z"
   },
   {
    "duration": 18,
    "start_time": "2022-01-17T19:46:46.997Z"
   },
   {
    "duration": 7,
    "start_time": "2022-01-17T19:47:04.336Z"
   },
   {
    "duration": 16,
    "start_time": "2022-01-17T19:47:08.088Z"
   },
   {
    "duration": 2146,
    "start_time": "2022-01-17T19:47:12.074Z"
   },
   {
    "duration": 13,
    "start_time": "2022-01-17T19:47:15.700Z"
   },
   {
    "duration": 6,
    "start_time": "2022-01-17T19:47:28.768Z"
   },
   {
    "duration": 87,
    "start_time": "2022-01-17T19:48:36.265Z"
   },
   {
    "duration": 2,
    "start_time": "2022-01-17T19:48:47.035Z"
   },
   {
    "duration": 5,
    "start_time": "2022-01-17T19:48:48.297Z"
   },
   {
    "duration": 7,
    "start_time": "2022-01-17T19:48:55.808Z"
   },
   {
    "duration": 7,
    "start_time": "2022-01-17T19:49:00.288Z"
   },
   {
    "duration": 4,
    "start_time": "2022-01-17T19:49:14.401Z"
   },
   {
    "duration": 13,
    "start_time": "2022-01-17T19:49:20.927Z"
   },
   {
    "duration": 7,
    "start_time": "2022-01-17T19:49:33.427Z"
   },
   {
    "duration": 10,
    "start_time": "2022-01-17T19:49:42.199Z"
   },
   {
    "duration": 8,
    "start_time": "2022-01-17T19:49:47.990Z"
   },
   {
    "duration": 8,
    "start_time": "2022-01-17T19:49:52.591Z"
   },
   {
    "duration": 19,
    "start_time": "2022-01-17T19:50:11.092Z"
   },
   {
    "duration": 5359,
    "start_time": "2022-01-17T19:51:00.072Z"
   },
   {
    "duration": -83,
    "start_time": "2022-01-17T19:51:19.878Z"
   },
   {
    "duration": -11,
    "start_time": "2022-01-17T19:51:32.532Z"
   },
   {
    "duration": 5985,
    "start_time": "2022-01-17T19:51:45.265Z"
   },
   {
    "duration": 7209,
    "start_time": "2022-01-17T19:52:36.460Z"
   },
   {
    "duration": 16,
    "start_time": "2022-01-17T19:53:01.597Z"
   },
   {
    "duration": 5315,
    "start_time": "2022-01-17T19:53:30.147Z"
   },
   {
    "duration": 15,
    "start_time": "2022-01-17T19:53:43.197Z"
   },
   {
    "duration": 15,
    "start_time": "2022-01-17T20:06:34.370Z"
   },
   {
    "duration": 18,
    "start_time": "2022-01-17T20:06:50.700Z"
   },
   {
    "duration": 7519,
    "start_time": "2022-01-17T20:07:16.334Z"
   },
   {
    "duration": 18,
    "start_time": "2022-01-17T20:07:35.720Z"
   },
   {
    "duration": 21,
    "start_time": "2022-01-17T20:07:50.903Z"
   },
   {
    "duration": 17,
    "start_time": "2022-01-17T20:08:08.491Z"
   },
   {
    "duration": 7193,
    "start_time": "2022-01-17T20:08:22.096Z"
   },
   {
    "duration": -152,
    "start_time": "2022-01-17T20:09:41.042Z"
   },
   {
    "duration": 21,
    "start_time": "2022-01-17T20:09:42.702Z"
   },
   {
    "duration": 2,
    "start_time": "2022-01-17T21:07:16.227Z"
   },
   {
    "duration": 58,
    "start_time": "2022-01-17T21:07:16.232Z"
   },
   {
    "duration": 13,
    "start_time": "2022-01-17T21:07:16.292Z"
   },
   {
    "duration": 20,
    "start_time": "2022-01-17T21:07:16.308Z"
   },
   {
    "duration": 3,
    "start_time": "2022-01-17T21:07:16.331Z"
   },
   {
    "duration": 14,
    "start_time": "2022-01-17T21:07:16.336Z"
   },
   {
    "duration": 12,
    "start_time": "2022-01-17T21:07:16.352Z"
   },
   {
    "duration": 9,
    "start_time": "2022-01-17T21:07:16.366Z"
   },
   {
    "duration": 52,
    "start_time": "2022-01-17T21:07:16.378Z"
   },
   {
    "duration": 9,
    "start_time": "2022-01-17T21:07:16.432Z"
   },
   {
    "duration": 11,
    "start_time": "2022-01-17T21:07:16.444Z"
   },
   {
    "duration": 15,
    "start_time": "2022-01-17T21:07:16.457Z"
   },
   {
    "duration": 57,
    "start_time": "2022-01-17T21:07:16.473Z"
   },
   {
    "duration": 4,
    "start_time": "2022-01-17T21:07:16.531Z"
   },
   {
    "duration": 24,
    "start_time": "2022-01-17T21:07:16.537Z"
   },
   {
    "duration": 4,
    "start_time": "2022-01-17T21:07:16.563Z"
   },
   {
    "duration": 63,
    "start_time": "2022-01-17T21:07:16.569Z"
   },
   {
    "duration": 18,
    "start_time": "2022-01-17T21:07:16.634Z"
   },
   {
    "duration": 24,
    "start_time": "2022-01-17T21:07:16.654Z"
   },
   {
    "duration": 64,
    "start_time": "2022-01-17T21:07:16.680Z"
   },
   {
    "duration": 32,
    "start_time": "2022-01-17T21:07:16.747Z"
   },
   {
    "duration": 28,
    "start_time": "2022-01-17T21:07:16.781Z"
   },
   {
    "duration": 37,
    "start_time": "2022-01-17T21:07:16.811Z"
   },
   {
    "duration": 2610,
    "start_time": "2022-01-17T21:07:16.853Z"
   },
   {
    "duration": 21,
    "start_time": "2022-01-17T21:07:19.466Z"
   },
   {
    "duration": 8,
    "start_time": "2022-01-17T21:07:19.489Z"
   },
   {
    "duration": 2,
    "start_time": "2022-01-17T21:07:19.499Z"
   },
   {
    "duration": 27,
    "start_time": "2022-01-17T21:07:19.503Z"
   },
   {
    "duration": 7,
    "start_time": "2022-01-17T21:07:19.532Z"
   },
   {
    "duration": 9,
    "start_time": "2022-01-17T21:07:19.540Z"
   },
   {
    "duration": 5,
    "start_time": "2022-01-17T21:07:19.550Z"
   },
   {
    "duration": 9,
    "start_time": "2022-01-17T21:07:19.557Z"
   },
   {
    "duration": 10,
    "start_time": "2022-01-17T21:07:19.568Z"
   },
   {
    "duration": 10,
    "start_time": "2022-01-17T21:07:19.580Z"
   },
   {
    "duration": 36,
    "start_time": "2022-01-17T21:07:19.592Z"
   },
   {
    "duration": 8,
    "start_time": "2022-01-17T21:07:19.630Z"
   },
   {
    "duration": 26,
    "start_time": "2022-01-17T21:07:29.000Z"
   },
   {
    "duration": 7675,
    "start_time": "2022-01-17T21:07:52.289Z"
   },
   {
    "duration": 16,
    "start_time": "2022-01-17T21:09:30.677Z"
   },
   {
    "duration": 17,
    "start_time": "2022-01-17T21:09:48.286Z"
   },
   {
    "duration": 17,
    "start_time": "2022-01-17T21:09:52.609Z"
   },
   {
    "duration": 16,
    "start_time": "2022-01-17T21:10:14.914Z"
   },
   {
    "duration": 17,
    "start_time": "2022-01-17T21:10:26.050Z"
   },
   {
    "duration": 17,
    "start_time": "2022-01-17T21:10:36.637Z"
   },
   {
    "duration": 16,
    "start_time": "2022-01-17T21:10:45.075Z"
   },
   {
    "duration": 16,
    "start_time": "2022-01-17T21:11:24.862Z"
   },
   {
    "duration": 18,
    "start_time": "2022-01-17T21:11:33.997Z"
   },
   {
    "duration": 18,
    "start_time": "2022-01-17T21:11:38.873Z"
   },
   {
    "duration": 330,
    "start_time": "2022-01-17T21:13:07.282Z"
   },
   {
    "duration": 349,
    "start_time": "2022-01-17T21:13:19.337Z"
   },
   {
    "duration": 17,
    "start_time": "2022-01-17T21:13:40.841Z"
   },
   {
    "duration": 18,
    "start_time": "2022-01-17T21:18:03.121Z"
   },
   {
    "duration": 132,
    "start_time": "2022-01-17T21:19:22.569Z"
   },
   {
    "duration": 18,
    "start_time": "2022-01-17T21:21:29.352Z"
   },
   {
    "duration": 309,
    "start_time": "2022-01-17T21:21:40.784Z"
   },
   {
    "duration": 18,
    "start_time": "2022-01-17T21:21:43.821Z"
   },
   {
    "duration": 7524,
    "start_time": "2022-01-17T21:29:26.368Z"
   },
   {
    "duration": 7523,
    "start_time": "2022-01-17T21:29:51.365Z"
   },
   {
    "duration": 347,
    "start_time": "2022-01-17T21:31:22.637Z"
   },
   {
    "duration": 18,
    "start_time": "2022-01-17T21:31:29.337Z"
   },
   {
    "duration": 16,
    "start_time": "2022-01-17T21:31:34.760Z"
   },
   {
    "duration": 2,
    "start_time": "2022-01-17T21:31:38.561Z"
   },
   {
    "duration": 54,
    "start_time": "2022-01-17T21:31:38.565Z"
   },
   {
    "duration": 11,
    "start_time": "2022-01-17T21:31:38.621Z"
   },
   {
    "duration": 13,
    "start_time": "2022-01-17T21:31:38.633Z"
   },
   {
    "duration": 3,
    "start_time": "2022-01-17T21:31:38.648Z"
   },
   {
    "duration": 14,
    "start_time": "2022-01-17T21:31:38.652Z"
   },
   {
    "duration": 11,
    "start_time": "2022-01-17T21:31:38.668Z"
   },
   {
    "duration": 9,
    "start_time": "2022-01-17T21:31:38.680Z"
   },
   {
    "duration": 39,
    "start_time": "2022-01-17T21:31:38.692Z"
   },
   {
    "duration": 8,
    "start_time": "2022-01-17T21:31:38.733Z"
   },
   {
    "duration": 12,
    "start_time": "2022-01-17T21:31:38.742Z"
   },
   {
    "duration": 14,
    "start_time": "2022-01-17T21:31:38.755Z"
   },
   {
    "duration": 68,
    "start_time": "2022-01-17T21:31:38.771Z"
   },
   {
    "duration": 4,
    "start_time": "2022-01-17T21:31:38.840Z"
   },
   {
    "duration": 27,
    "start_time": "2022-01-17T21:31:38.845Z"
   },
   {
    "duration": 3,
    "start_time": "2022-01-17T21:31:38.874Z"
   },
   {
    "duration": 53,
    "start_time": "2022-01-17T21:31:38.878Z"
   },
   {
    "duration": 12,
    "start_time": "2022-01-17T21:31:38.933Z"
   },
   {
    "duration": 26,
    "start_time": "2022-01-17T21:31:38.946Z"
   },
   {
    "duration": 26,
    "start_time": "2022-01-17T21:31:38.973Z"
   },
   {
    "duration": 37,
    "start_time": "2022-01-17T21:31:39.001Z"
   },
   {
    "duration": 35,
    "start_time": "2022-01-17T21:31:39.039Z"
   },
   {
    "duration": 18,
    "start_time": "2022-01-17T21:31:39.075Z"
   },
   {
    "duration": 2454,
    "start_time": "2022-01-17T21:31:39.095Z"
   },
   {
    "duration": 15,
    "start_time": "2022-01-17T21:31:41.551Z"
   },
   {
    "duration": 9,
    "start_time": "2022-01-17T21:31:41.567Z"
   },
   {
    "duration": 4,
    "start_time": "2022-01-17T21:31:41.580Z"
   },
   {
    "duration": 13,
    "start_time": "2022-01-17T21:31:41.585Z"
   },
   {
    "duration": 8,
    "start_time": "2022-01-17T21:31:41.599Z"
   },
   {
    "duration": 21,
    "start_time": "2022-01-17T21:31:41.608Z"
   },
   {
    "duration": 4,
    "start_time": "2022-01-17T21:31:41.631Z"
   },
   {
    "duration": 10,
    "start_time": "2022-01-17T21:31:41.636Z"
   },
   {
    "duration": 9,
    "start_time": "2022-01-17T21:31:41.648Z"
   },
   {
    "duration": 8,
    "start_time": "2022-01-17T21:31:41.659Z"
   },
   {
    "duration": 8,
    "start_time": "2022-01-17T21:31:41.669Z"
   },
   {
    "duration": 14,
    "start_time": "2022-01-17T21:31:41.678Z"
   },
   {
    "duration": 59,
    "start_time": "2022-01-17T21:31:41.693Z"
   },
   {
    "duration": 18,
    "start_time": "2022-01-17T21:31:51.863Z"
   },
   {
    "duration": 293,
    "start_time": "2022-01-17T21:32:18.134Z"
   },
   {
    "duration": 92,
    "start_time": "2022-01-17T21:32:27.038Z"
   },
   {
    "duration": 16,
    "start_time": "2022-01-17T21:32:32.849Z"
   },
   {
    "duration": 19,
    "start_time": "2022-01-17T21:33:15.691Z"
   },
   {
    "duration": 5673,
    "start_time": "2022-01-17T21:33:44.575Z"
   },
   {
    "duration": 20,
    "start_time": "2022-01-17T21:34:05.924Z"
   },
   {
    "duration": 4173,
    "start_time": "2022-01-17T21:35:29.392Z"
   },
   {
    "duration": 18,
    "start_time": "2022-01-17T21:36:00.124Z"
   },
   {
    "duration": 311,
    "start_time": "2022-01-17T21:36:44.354Z"
   },
   {
    "duration": 18,
    "start_time": "2022-01-17T21:37:09.245Z"
   },
   {
    "duration": 324,
    "start_time": "2022-01-17T21:37:56.707Z"
   },
   {
    "duration": 18,
    "start_time": "2022-01-17T21:38:13.549Z"
   },
   {
    "duration": 18,
    "start_time": "2022-01-17T21:42:43.500Z"
   },
   {
    "duration": 247,
    "start_time": "2022-01-17T21:45:53.130Z"
   },
   {
    "duration": 106,
    "start_time": "2022-01-17T21:46:04.668Z"
   },
   {
    "duration": 18,
    "start_time": "2022-01-17T21:46:58.528Z"
   },
   {
    "duration": 1153,
    "start_time": "2022-01-17T21:48:33.715Z"
   },
   {
    "duration": 89,
    "start_time": "2022-01-17T21:48:55.367Z"
   },
   {
    "duration": 88,
    "start_time": "2022-01-17T21:48:57.261Z"
   },
   {
    "duration": 18,
    "start_time": "2022-01-17T21:48:59.589Z"
   },
   {
    "duration": 299,
    "start_time": "2022-01-17T21:51:06.346Z"
   },
   {
    "duration": 292,
    "start_time": "2022-01-17T21:53:13.507Z"
   },
   {
    "duration": 312,
    "start_time": "2022-01-17T21:53:19.497Z"
   },
   {
    "duration": 17,
    "start_time": "2022-01-17T21:54:38.944Z"
   },
   {
    "duration": 6,
    "start_time": "2022-01-17T21:54:48.254Z"
   },
   {
    "duration": 17,
    "start_time": "2022-01-17T21:58:13.461Z"
   },
   {
    "duration": 316,
    "start_time": "2022-01-17T21:59:28.125Z"
   },
   {
    "duration": 310,
    "start_time": "2022-01-17T21:59:40.245Z"
   },
   {
    "duration": 300,
    "start_time": "2022-01-17T22:00:31.404Z"
   },
   {
    "duration": 19,
    "start_time": "2022-01-17T22:02:06.198Z"
   },
   {
    "duration": 20,
    "start_time": "2022-01-17T22:02:52.187Z"
   },
   {
    "duration": 292,
    "start_time": "2022-01-17T22:03:06.319Z"
   },
   {
    "duration": 19,
    "start_time": "2022-01-17T22:03:22.444Z"
   },
   {
    "duration": 20,
    "start_time": "2022-01-17T22:04:20.987Z"
   },
   {
    "duration": 19,
    "start_time": "2022-01-17T22:04:27.057Z"
   },
   {
    "duration": 24,
    "start_time": "2022-01-17T22:04:50.113Z"
   },
   {
    "duration": 20,
    "start_time": "2022-01-17T22:04:54.501Z"
   },
   {
    "duration": 20,
    "start_time": "2022-01-17T22:05:22.342Z"
   },
   {
    "duration": 26,
    "start_time": "2022-01-17T22:06:36.325Z"
   },
   {
    "duration": 96,
    "start_time": "2022-01-17T22:08:20.180Z"
   },
   {
    "duration": 21,
    "start_time": "2022-01-17T22:10:37.342Z"
   },
   {
    "duration": 337,
    "start_time": "2022-01-17T22:13:40.504Z"
   },
   {
    "duration": 283,
    "start_time": "2022-01-17T22:13:48.413Z"
   },
   {
    "duration": 15,
    "start_time": "2022-01-17T22:14:14.252Z"
   },
   {
    "duration": 22,
    "start_time": "2022-01-17T22:14:21.390Z"
   },
   {
    "duration": 322,
    "start_time": "2022-01-17T22:14:50.437Z"
   },
   {
    "duration": 356,
    "start_time": "2022-01-17T22:15:06.919Z"
   },
   {
    "duration": 292,
    "start_time": "2022-01-17T22:15:20.754Z"
   },
   {
    "duration": 2,
    "start_time": "2022-01-17T22:15:37.183Z"
   },
   {
    "duration": 68,
    "start_time": "2022-01-17T22:15:37.187Z"
   },
   {
    "duration": 10,
    "start_time": "2022-01-17T22:15:37.256Z"
   },
   {
    "duration": 26,
    "start_time": "2022-01-17T22:15:37.268Z"
   },
   {
    "duration": 4,
    "start_time": "2022-01-17T22:15:37.295Z"
   },
   {
    "duration": 15,
    "start_time": "2022-01-17T22:15:37.301Z"
   },
   {
    "duration": 14,
    "start_time": "2022-01-17T22:15:37.317Z"
   },
   {
    "duration": 7,
    "start_time": "2022-01-17T22:15:37.332Z"
   },
   {
    "duration": 10,
    "start_time": "2022-01-17T22:15:37.342Z"
   },
   {
    "duration": 7,
    "start_time": "2022-01-17T22:15:37.354Z"
   },
   {
    "duration": 12,
    "start_time": "2022-01-17T22:15:37.363Z"
   },
   {
    "duration": 52,
    "start_time": "2022-01-17T22:15:37.376Z"
   },
   {
    "duration": 27,
    "start_time": "2022-01-17T22:15:37.429Z"
   },
   {
    "duration": 3,
    "start_time": "2022-01-17T22:15:37.458Z"
   },
   {
    "duration": 26,
    "start_time": "2022-01-17T22:15:37.462Z"
   },
   {
    "duration": 3,
    "start_time": "2022-01-17T22:15:37.489Z"
   },
   {
    "duration": 51,
    "start_time": "2022-01-17T22:15:37.494Z"
   },
   {
    "duration": 10,
    "start_time": "2022-01-17T22:15:37.546Z"
   },
   {
    "duration": 14,
    "start_time": "2022-01-17T22:15:37.557Z"
   },
   {
    "duration": 20,
    "start_time": "2022-01-17T22:15:37.572Z"
   },
   {
    "duration": 38,
    "start_time": "2022-01-17T22:15:37.593Z"
   },
   {
    "duration": 47,
    "start_time": "2022-01-17T22:15:37.632Z"
   },
   {
    "duration": 16,
    "start_time": "2022-01-17T22:15:37.681Z"
   },
   {
    "duration": 2410,
    "start_time": "2022-01-17T22:15:37.698Z"
   },
   {
    "duration": 13,
    "start_time": "2022-01-17T22:15:40.110Z"
   },
   {
    "duration": 13,
    "start_time": "2022-01-17T22:15:40.127Z"
   },
   {
    "duration": 21,
    "start_time": "2022-01-17T22:15:40.143Z"
   },
   {
    "duration": 34,
    "start_time": "2022-01-17T22:15:40.166Z"
   },
   {
    "duration": 31,
    "start_time": "2022-01-17T22:15:40.202Z"
   },
   {
    "duration": 28,
    "start_time": "2022-01-17T22:15:40.235Z"
   },
   {
    "duration": 34,
    "start_time": "2022-01-17T22:15:40.264Z"
   },
   {
    "duration": 17,
    "start_time": "2022-01-17T22:15:40.300Z"
   },
   {
    "duration": 8,
    "start_time": "2022-01-17T22:15:40.318Z"
   },
   {
    "duration": 11,
    "start_time": "2022-01-17T22:15:40.327Z"
   },
   {
    "duration": 20,
    "start_time": "2022-01-17T22:15:40.339Z"
   },
   {
    "duration": 17,
    "start_time": "2022-01-17T22:15:40.360Z"
   },
   {
    "duration": 35,
    "start_time": "2022-01-17T22:15:40.378Z"
   },
   {
    "duration": 20,
    "start_time": "2022-01-17T22:15:56.316Z"
   },
   {
    "duration": 21,
    "start_time": "2022-01-17T22:16:16.341Z"
   },
   {
    "duration": 22,
    "start_time": "2022-01-17T22:16:28.234Z"
   },
   {
    "duration": 22,
    "start_time": "2022-01-17T22:16:31.723Z"
   },
   {
    "duration": 22,
    "start_time": "2022-01-17T22:16:34.262Z"
   },
   {
    "duration": 21,
    "start_time": "2022-01-17T22:16:55.038Z"
   },
   {
    "duration": 21,
    "start_time": "2022-01-17T22:16:57.620Z"
   },
   {
    "duration": 19,
    "start_time": "2022-01-17T22:17:03.983Z"
   },
   {
    "duration": 22,
    "start_time": "2022-01-17T22:17:14.658Z"
   },
   {
    "duration": 2,
    "start_time": "2022-01-17T22:17:18.194Z"
   },
   {
    "duration": 50,
    "start_time": "2022-01-17T22:17:18.198Z"
   },
   {
    "duration": 10,
    "start_time": "2022-01-17T22:17:18.250Z"
   },
   {
    "duration": 12,
    "start_time": "2022-01-17T22:17:18.261Z"
   },
   {
    "duration": 3,
    "start_time": "2022-01-17T22:17:18.274Z"
   },
   {
    "duration": 14,
    "start_time": "2022-01-17T22:17:18.278Z"
   },
   {
    "duration": 37,
    "start_time": "2022-01-17T22:17:18.294Z"
   },
   {
    "duration": 7,
    "start_time": "2022-01-17T22:17:18.333Z"
   },
   {
    "duration": 10,
    "start_time": "2022-01-17T22:17:18.341Z"
   },
   {
    "duration": 9,
    "start_time": "2022-01-17T22:17:18.353Z"
   },
   {
    "duration": 9,
    "start_time": "2022-01-17T22:17:18.363Z"
   },
   {
    "duration": 21,
    "start_time": "2022-01-17T22:17:18.374Z"
   },
   {
    "duration": 55,
    "start_time": "2022-01-17T22:17:18.397Z"
   },
   {
    "duration": 3,
    "start_time": "2022-01-17T22:17:18.454Z"
   },
   {
    "duration": 38,
    "start_time": "2022-01-17T22:17:18.459Z"
   },
   {
    "duration": 6,
    "start_time": "2022-01-17T22:17:18.499Z"
   },
   {
    "duration": 41,
    "start_time": "2022-01-17T22:17:18.507Z"
   },
   {
    "duration": 12,
    "start_time": "2022-01-17T22:17:18.549Z"
   },
   {
    "duration": 23,
    "start_time": "2022-01-17T22:17:18.565Z"
   },
   {
    "duration": 28,
    "start_time": "2022-01-17T22:17:18.590Z"
   },
   {
    "duration": 19,
    "start_time": "2022-01-17T22:17:18.627Z"
   },
   {
    "duration": 43,
    "start_time": "2022-01-17T22:17:18.647Z"
   },
   {
    "duration": 37,
    "start_time": "2022-01-17T22:17:18.692Z"
   },
   {
    "duration": 2504,
    "start_time": "2022-01-17T22:17:18.731Z"
   },
   {
    "duration": 14,
    "start_time": "2022-01-17T22:17:21.236Z"
   },
   {
    "duration": 8,
    "start_time": "2022-01-17T22:17:21.251Z"
   },
   {
    "duration": 7,
    "start_time": "2022-01-17T22:17:21.260Z"
   },
   {
    "duration": 7,
    "start_time": "2022-01-17T22:17:21.269Z"
   },
   {
    "duration": 7,
    "start_time": "2022-01-17T22:17:21.278Z"
   },
   {
    "duration": 8,
    "start_time": "2022-01-17T22:17:21.286Z"
   },
   {
    "duration": 9,
    "start_time": "2022-01-17T22:17:21.295Z"
   },
   {
    "duration": 8,
    "start_time": "2022-01-17T22:17:21.327Z"
   },
   {
    "duration": 13,
    "start_time": "2022-01-17T22:17:21.337Z"
   },
   {
    "duration": 15,
    "start_time": "2022-01-17T22:17:21.352Z"
   },
   {
    "duration": 13,
    "start_time": "2022-01-17T22:17:21.368Z"
   },
   {
    "duration": 8,
    "start_time": "2022-01-17T22:17:21.382Z"
   },
   {
    "duration": 38,
    "start_time": "2022-01-17T22:17:21.392Z"
   },
   {
    "duration": 22,
    "start_time": "2022-01-17T22:17:21.433Z"
   },
   {
    "duration": 23,
    "start_time": "2022-01-17T22:18:20.685Z"
   },
   {
    "duration": 14,
    "start_time": "2022-01-17T22:19:43.427Z"
   },
   {
    "duration": 287,
    "start_time": "2022-01-17T22:21:15.996Z"
   },
   {
    "duration": 29,
    "start_time": "2022-01-17T22:21:29.652Z"
   },
   {
    "duration": 22,
    "start_time": "2022-01-17T22:27:09.168Z"
   },
   {
    "duration": 91,
    "start_time": "2022-01-17T22:32:24.411Z"
   },
   {
    "duration": 12,
    "start_time": "2022-01-17T22:33:57.885Z"
   },
   {
    "duration": 3,
    "start_time": "2022-01-17T22:38:37.353Z"
   },
   {
    "duration": 51,
    "start_time": "2022-01-17T22:38:37.358Z"
   },
   {
    "duration": 9,
    "start_time": "2022-01-17T22:38:37.411Z"
   },
   {
    "duration": 11,
    "start_time": "2022-01-17T22:38:37.422Z"
   },
   {
    "duration": 2,
    "start_time": "2022-01-17T22:38:37.435Z"
   },
   {
    "duration": 10,
    "start_time": "2022-01-17T22:38:37.439Z"
   },
   {
    "duration": 9,
    "start_time": "2022-01-17T22:38:37.451Z"
   },
   {
    "duration": 7,
    "start_time": "2022-01-17T22:38:37.462Z"
   },
   {
    "duration": 11,
    "start_time": "2022-01-17T22:38:37.471Z"
   },
   {
    "duration": 43,
    "start_time": "2022-01-17T22:38:37.484Z"
   },
   {
    "duration": 10,
    "start_time": "2022-01-17T22:38:37.529Z"
   },
   {
    "duration": 14,
    "start_time": "2022-01-17T22:38:37.541Z"
   },
   {
    "duration": 28,
    "start_time": "2022-01-17T22:38:37.556Z"
   },
   {
    "duration": 5,
    "start_time": "2022-01-17T22:38:37.586Z"
   },
   {
    "duration": 25,
    "start_time": "2022-01-17T22:38:37.627Z"
   },
   {
    "duration": 3,
    "start_time": "2022-01-17T22:38:37.654Z"
   },
   {
    "duration": 25,
    "start_time": "2022-01-17T22:38:37.659Z"
   },
   {
    "duration": 10,
    "start_time": "2022-01-17T22:38:37.685Z"
   },
   {
    "duration": 38,
    "start_time": "2022-01-17T22:38:37.697Z"
   },
   {
    "duration": 23,
    "start_time": "2022-01-17T22:38:37.736Z"
   },
   {
    "duration": 17,
    "start_time": "2022-01-17T22:38:37.760Z"
   },
   {
    "duration": 58,
    "start_time": "2022-01-17T22:38:37.778Z"
   },
   {
    "duration": 16,
    "start_time": "2022-01-17T22:38:37.837Z"
   },
   {
    "duration": 2348,
    "start_time": "2022-01-17T22:38:37.854Z"
   },
   {
    "duration": 14,
    "start_time": "2022-01-17T22:38:40.204Z"
   },
   {
    "duration": 5,
    "start_time": "2022-01-17T22:38:40.227Z"
   },
   {
    "duration": 3,
    "start_time": "2022-01-17T22:38:40.235Z"
   },
   {
    "duration": 9,
    "start_time": "2022-01-17T22:38:40.240Z"
   },
   {
    "duration": 8,
    "start_time": "2022-01-17T22:38:40.250Z"
   },
   {
    "duration": 8,
    "start_time": "2022-01-17T22:38:40.259Z"
   },
   {
    "duration": 5,
    "start_time": "2022-01-17T22:38:40.269Z"
   },
   {
    "duration": 8,
    "start_time": "2022-01-17T22:38:40.276Z"
   },
   {
    "duration": 6,
    "start_time": "2022-01-17T22:38:40.285Z"
   },
   {
    "duration": 38,
    "start_time": "2022-01-17T22:38:40.293Z"
   },
   {
    "duration": 8,
    "start_time": "2022-01-17T22:38:40.332Z"
   },
   {
    "duration": 7,
    "start_time": "2022-01-17T22:38:40.341Z"
   },
   {
    "duration": 27,
    "start_time": "2022-01-17T22:38:40.350Z"
   },
   {
    "duration": 20,
    "start_time": "2022-01-17T22:38:40.378Z"
   },
   {
    "duration": 38,
    "start_time": "2022-01-17T22:38:40.399Z"
   },
   {
    "duration": 18,
    "start_time": "2022-01-17T22:38:40.439Z"
   }
  ],
  "kernelspec": {
   "display_name": "Python 3 (ipykernel)",
   "language": "python",
   "name": "python3"
  },
  "language_info": {
   "codemirror_mode": {
    "name": "ipython",
    "version": 3
   },
   "file_extension": ".py",
   "mimetype": "text/x-python",
   "name": "python",
   "nbconvert_exporter": "python",
   "pygments_lexer": "ipython3",
   "version": "3.9.7"
  },
  "toc": {
   "base_numbering": 1,
   "nav_menu": {
    "height": "220px",
    "width": "460px"
   },
   "number_sections": true,
   "sideBar": true,
   "skip_h1_title": true,
   "title_cell": "Table of Contents",
   "title_sidebar": "Contents",
   "toc_cell": false,
   "toc_position": {},
   "toc_section_display": true,
   "toc_window_display": false
  }
 },
 "nbformat": 4,
 "nbformat_minor": 2
}
