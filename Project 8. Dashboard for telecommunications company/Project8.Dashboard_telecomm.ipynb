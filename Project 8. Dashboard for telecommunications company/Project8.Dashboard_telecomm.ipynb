{
 "cells": [
  {
   "cell_type": "markdown",
   "id": "da0d3ae5",
   "metadata": {},
   "source": [
    "# Исследование текущего уровня потребительской лояльности среди клиентов из России"
   ]
  },
  {
   "cell_type": "markdown",
   "id": "a32aea3d",
   "metadata": {},
   "source": [
    "***Заказчик этого исследования*** — большая телекоммуникационная компания, которая оказывает услуги на территории всего СНГ. Перед компанией стоит задача определить текущий уровень потребительской лояльности, или NPS (от англ. Net Promoter Score), среди клиентов из России.\n",
    "\n",
    "Чтобы определить уровень лояльности, клиентам задавали классический вопрос: «Оцените по шкале от 1 до 10 вероятность того, что вы порекомендуете компанию друзьям и знакомым».\n",
    "\n",
    "Компания провела опрос и попросила вас подготовить дашборд с его итогами. Большую базу данных для такой задачи разворачивать не стали и выгрузили данные в SQLite.\n",
    "\n",
    "Чтобы оценить результаты опроса, оценки обычно делят на три группы:\n",
    "9-10 баллов — «cторонники» (англ. promoters);\n",
    "7-8 баллов — «нейтралы» (англ. passives);\n",
    "0-6 баллов — «критики» (англ. detractors).\n"
   ]
  },
  {
   "cell_type": "markdown",
   "id": "fc537b9e",
   "metadata": {},
   "source": [
    "Для того чтобы выгрузить данные импортируем необходимые библиотеки и подключимся к базе данных."
   ]
  },
  {
   "cell_type": "code",
   "execution_count": 1,
   "id": "c7edf29b",
   "metadata": {
    "tags": [
     "aa81075c-062f-4de0-b5fe-14c73dc7468e"
    ]
   },
   "outputs": [],
   "source": [
    "import pandas as pd\n",
    "import numpy as np\n",
    "\n",
    "from sqlalchemy import create_engine"
   ]
  },
  {
   "cell_type": "code",
   "execution_count": 2,
   "id": "dc20e3e4",
   "metadata": {},
   "outputs": [],
   "source": [
    "path_to_db = '/datasets/telecomm_csi.db'\n",
    "engine = create_engine(f'sqlite:///{path_to_db}', echo = False)"
   ]
  },
  {
   "cell_type": "markdown",
   "id": "3f592188",
   "metadata": {},
   "source": [
    "С помощью запроса выгрузим из базы данных необходимые для анализа таблицы и столбцы. Сразу же в запросе преобразуем столбцы в нужные категории, такие как новые и старые пользователи, и группы пользователей по результатам опроса"
   ]
  },
  {
   "cell_type": "code",
   "execution_count": 3,
   "id": "133a8ba1",
   "metadata": {},
   "outputs": [],
   "source": [
    "query = \"\"\"\n",
    "SELECT u.user_id,\n",
    "       u.lt_day,\n",
    "       CASE\n",
    "          WHEN u.lt_day > 365 THEN 'old'\n",
    "          WHEN u.lt_day <= 365 THEN 'new'\n",
    "       END as is_new,\n",
    "       u.age,\n",
    "       u.gender_segment,\n",
    "       u.os_name,\n",
    "       u.cpe_type_name,\n",
    "       l.country,\n",
    "       l.city,\n",
    "       CASE \n",
    "          WHEN LENGTH(ags.title) > 6 \n",
    "          THEN substr(ags.title,4,5) \n",
    "          ELSE ags.title \n",
    "          END as age_segment,\n",
    "       CASE \n",
    "          WHEN LENGTH(ts.title) > 5 \n",
    "          THEN substr(ts.title,4,5) \n",
    "          ELSE ts.title\n",
    "          END as traffic_segment,\n",
    "       CASE \n",
    "          WHEN LENGTH(ls.title) > 2 \n",
    "          THEN substr(ls.title,4,5) \n",
    "          ELSE ls.title\n",
    "          END as lifetime_segment,\n",
    "       u.nps_score,\n",
    "       CASE \n",
    "          WHEN u.nps_score = 9 or u.nps_score = 10 THEN 'promoters'\n",
    "          WHEN u.nps_score >= 7 and u.nps_score <= 8 THEN 'passives'\n",
    "          WHEN u.nps_score <= 6 THEN 'detractors'\n",
    "       END as nps_group\n",
    "FROM user as u\n",
    "JOIN location as l on u.location_id = l.location_id\n",
    "JOIN age_segment as ags on u.age_gr_id = ags.age_gr_id\n",
    "JOIN traffic_segment as ts on u.tr_gr_id = ts.tr_gr_id\n",
    "JOIN lifetime_segment as ls on u.lt_gr_id = ls.lt_gr_id\n",
    "\"\"\"\n"
   ]
  },
  {
   "cell_type": "markdown",
   "id": "d9c59468",
   "metadata": {},
   "source": [
    "Проверим, что запрос сработал корректно"
   ]
  },
  {
   "cell_type": "code",
   "execution_count": 4,
   "id": "974c4bff",
   "metadata": {},
   "outputs": [
    {
     "data": {
      "text/html": [
       "<div>\n",
       "<style scoped>\n",
       "    .dataframe tbody tr th:only-of-type {\n",
       "        vertical-align: middle;\n",
       "    }\n",
       "\n",
       "    .dataframe tbody tr th {\n",
       "        vertical-align: top;\n",
       "    }\n",
       "\n",
       "    .dataframe thead th {\n",
       "        text-align: right;\n",
       "    }\n",
       "</style>\n",
       "<table border=\"1\" class=\"dataframe\">\n",
       "  <thead>\n",
       "    <tr style=\"text-align: right;\">\n",
       "      <th></th>\n",
       "      <th>user_id</th>\n",
       "      <th>lt_day</th>\n",
       "      <th>is_new</th>\n",
       "      <th>age</th>\n",
       "      <th>gender_segment</th>\n",
       "      <th>os_name</th>\n",
       "      <th>cpe_type_name</th>\n",
       "      <th>country</th>\n",
       "      <th>city</th>\n",
       "      <th>age_segment</th>\n",
       "      <th>traffic_segment</th>\n",
       "      <th>lifetime_segment</th>\n",
       "      <th>nps_score</th>\n",
       "      <th>nps_group</th>\n",
       "    </tr>\n",
       "  </thead>\n",
       "  <tbody>\n",
       "    <tr>\n",
       "      <th>502488</th>\n",
       "      <td>ZZZKLD</td>\n",
       "      <td>1249</td>\n",
       "      <td>old</td>\n",
       "      <td>54.0</td>\n",
       "      <td>1.0</td>\n",
       "      <td>ANDROID</td>\n",
       "      <td>SMARTPHONE</td>\n",
       "      <td>Россия</td>\n",
       "      <td>Москва</td>\n",
       "      <td>45-54</td>\n",
       "      <td>1-5</td>\n",
       "      <td>36+</td>\n",
       "      <td>5</td>\n",
       "      <td>detractors</td>\n",
       "    </tr>\n",
       "    <tr>\n",
       "      <th>502489</th>\n",
       "      <td>ZZZLWY</td>\n",
       "      <td>129</td>\n",
       "      <td>new</td>\n",
       "      <td>31.0</td>\n",
       "      <td>0.0</td>\n",
       "      <td>ANDROID</td>\n",
       "      <td>SMARTPHONE</td>\n",
       "      <td>Россия</td>\n",
       "      <td>Москва</td>\n",
       "      <td>25-34</td>\n",
       "      <td>1-5</td>\n",
       "      <td>4-6</td>\n",
       "      <td>8</td>\n",
       "      <td>passives</td>\n",
       "    </tr>\n",
       "    <tr>\n",
       "      <th>502490</th>\n",
       "      <td>ZZZQ5F</td>\n",
       "      <td>522</td>\n",
       "      <td>old</td>\n",
       "      <td>36.0</td>\n",
       "      <td>0.0</td>\n",
       "      <td>ANDROID</td>\n",
       "      <td>SMARTPHONE</td>\n",
       "      <td>Россия</td>\n",
       "      <td>Сургут</td>\n",
       "      <td>35-44</td>\n",
       "      <td>25-30</td>\n",
       "      <td>13-24</td>\n",
       "      <td>10</td>\n",
       "      <td>promoters</td>\n",
       "    </tr>\n",
       "    <tr>\n",
       "      <th>502491</th>\n",
       "      <td>ZZZQ8E</td>\n",
       "      <td>2936</td>\n",
       "      <td>old</td>\n",
       "      <td>37.0</td>\n",
       "      <td>1.0</td>\n",
       "      <td>ANDROID</td>\n",
       "      <td>SMARTPHONE</td>\n",
       "      <td>Россия</td>\n",
       "      <td>УланУдэ</td>\n",
       "      <td>35-44</td>\n",
       "      <td>65-70</td>\n",
       "      <td>36+</td>\n",
       "      <td>9</td>\n",
       "      <td>promoters</td>\n",
       "    </tr>\n",
       "    <tr>\n",
       "      <th>502492</th>\n",
       "      <td>ZZZYH0</td>\n",
       "      <td>2471</td>\n",
       "      <td>old</td>\n",
       "      <td>37.0</td>\n",
       "      <td>0.0</td>\n",
       "      <td>IOS</td>\n",
       "      <td>SMARTPHONE</td>\n",
       "      <td>Россия</td>\n",
       "      <td>Самара</td>\n",
       "      <td>35-44</td>\n",
       "      <td>10-15</td>\n",
       "      <td>36+</td>\n",
       "      <td>2</td>\n",
       "      <td>detractors</td>\n",
       "    </tr>\n",
       "  </tbody>\n",
       "</table>\n",
       "</div>"
      ],
      "text/plain": [
       "       user_id  lt_day is_new   age  gender_segment  os_name cpe_type_name  \\\n",
       "502488  ZZZKLD    1249    old  54.0             1.0  ANDROID    SMARTPHONE   \n",
       "502489  ZZZLWY     129    new  31.0             0.0  ANDROID    SMARTPHONE   \n",
       "502490  ZZZQ5F     522    old  36.0             0.0  ANDROID    SMARTPHONE   \n",
       "502491  ZZZQ8E    2936    old  37.0             1.0  ANDROID    SMARTPHONE   \n",
       "502492  ZZZYH0    2471    old  37.0             0.0      IOS    SMARTPHONE   \n",
       "\n",
       "       country     city age_segment traffic_segment lifetime_segment  \\\n",
       "502488  Россия   Москва       45-54             1-5              36+   \n",
       "502489  Россия   Москва       25-34             1-5              4-6   \n",
       "502490  Россия   Сургут       35-44           25-30            13-24   \n",
       "502491  Россия  УланУдэ       35-44           65-70              36+   \n",
       "502492  Россия   Самара       35-44           10-15              36+   \n",
       "\n",
       "        nps_score   nps_group  \n",
       "502488          5  detractors  \n",
       "502489          8    passives  \n",
       "502490         10   promoters  \n",
       "502491          9   promoters  \n",
       "502492          2  detractors  "
      ]
     },
     "execution_count": 4,
     "metadata": {},
     "output_type": "execute_result"
    }
   ],
   "source": [
    "user = pd.read_sql(query, engine)\n",
    "user.tail()"
   ]
  },
  {
   "cell_type": "markdown",
   "id": "75b9cd11",
   "metadata": {},
   "source": [
    "Выгружаем файл csv в необходимое нам место"
   ]
  },
  {
   "cell_type": "code",
   "execution_count": 5,
   "id": "d4523a5c",
   "metadata": {},
   "outputs": [],
   "source": [
    "user.to_csv('telecomm_csi_tableau.csv', index=False)"
   ]
  },
  {
   "cell_type": "markdown",
   "id": "44ab15f3",
   "metadata": {},
   "source": [
    "Результаты исследования представлены на дашборде и презентации"
   ]
  },
  {
   "cell_type": "markdown",
   "id": "61bd02af",
   "metadata": {},
   "source": [
    "### Укажите ссылку на дашборд на сайте Tableau Public:"
   ]
  },
  {
   "cell_type": "markdown",
   "id": "bd77194d",
   "metadata": {},
   "source": [
    "https://public.tableau.com/app/profile/eugene8827/viz/Dashboardfortelecommunicationcompany/Dashboard?publish=yes"
   ]
  },
  {
   "cell_type": "markdown",
   "id": "720bd509",
   "metadata": {},
   "source": [
    "### Укажите ссылку на pdf-файл с презентацией:"
   ]
  },
  {
   "cell_type": "markdown",
   "id": "37ad5ce6",
   "metadata": {},
   "source": [
    "https://drive.google.com/file/d/1YOSr4uxjqvFRvKZryy4o5dpdPgzzRd_O/view?usp=sharing"
   ]
  }
 ],
 "metadata": {
  "ExecuteTimeLog": [
   {
    "duration": 752,
    "start_time": "2021-10-03T17:40:52.731Z"
   },
   {
    "duration": 20,
    "start_time": "2021-10-03T17:40:53.486Z"
   },
   {
    "duration": 4,
    "start_time": "2021-10-03T17:41:04.638Z"
   },
   {
    "duration": 461,
    "start_time": "2021-10-03T17:41:04.912Z"
   },
   {
    "duration": 284,
    "start_time": "2021-10-03T17:41:05.376Z"
   },
   {
    "duration": 574,
    "start_time": "2021-10-06T07:55:05.029Z"
   },
   {
    "duration": 6,
    "start_time": "2021-10-06T07:55:05.605Z"
   },
   {
    "duration": 3,
    "start_time": "2021-10-06T07:55:14.685Z"
   },
   {
    "duration": 406,
    "start_time": "2021-10-06T07:55:15.522Z"
   },
   {
    "duration": 67,
    "start_time": "2021-10-06T07:55:15.929Z"
   },
   {
    "duration": 840,
    "start_time": "2021-10-07T07:54:04.647Z"
   },
   {
    "duration": 10,
    "start_time": "2021-10-07T07:54:05.490Z"
   },
   {
    "duration": 4,
    "start_time": "2021-10-07T07:54:05.544Z"
   },
   {
    "duration": 391,
    "start_time": "2021-10-07T07:54:06.237Z"
   },
   {
    "duration": 293,
    "start_time": "2021-10-07T07:54:06.654Z"
   },
   {
    "duration": 465,
    "start_time": "2022-05-12T12:34:12.742Z"
   },
   {
    "duration": 17,
    "start_time": "2022-05-12T12:34:14.215Z"
   },
   {
    "duration": 3,
    "start_time": "2022-05-12T12:34:24.945Z"
   },
   {
    "duration": 167,
    "start_time": "2022-05-12T12:34:26.473Z"
   },
   {
    "duration": 9,
    "start_time": "2022-05-12T12:34:33.724Z"
   },
   {
    "duration": 400,
    "start_time": "2022-05-12T12:35:01.788Z"
   },
   {
    "duration": 150,
    "start_time": "2022-05-12T12:35:34.800Z"
   },
   {
    "duration": 159,
    "start_time": "2022-05-12T12:35:41.163Z"
   },
   {
    "duration": 3,
    "start_time": "2022-05-12T12:38:54.762Z"
   },
   {
    "duration": 2779,
    "start_time": "2022-05-12T12:38:56.000Z"
   },
   {
    "duration": 2569,
    "start_time": "2022-05-12T12:39:13.385Z"
   },
   {
    "duration": 3,
    "start_time": "2022-05-12T12:43:00.251Z"
   },
   {
    "duration": 2070,
    "start_time": "2022-05-12T12:43:01.042Z"
   },
   {
    "duration": 2075,
    "start_time": "2022-05-12T12:43:41.164Z"
   },
   {
    "duration": 3,
    "start_time": "2022-05-12T12:44:21.476Z"
   },
   {
    "duration": 160,
    "start_time": "2022-05-12T12:44:22.079Z"
   },
   {
    "duration": 159,
    "start_time": "2022-05-12T12:44:53.693Z"
   },
   {
    "duration": 165,
    "start_time": "2022-05-12T12:45:24.800Z"
   },
   {
    "duration": 3,
    "start_time": "2022-05-12T12:45:26.921Z"
   },
   {
    "duration": 155,
    "start_time": "2022-05-12T12:45:27.506Z"
   },
   {
    "duration": 3,
    "start_time": "2022-05-12T12:48:15.204Z"
   },
   {
    "duration": 152,
    "start_time": "2022-05-12T12:48:15.753Z"
   },
   {
    "duration": 2,
    "start_time": "2022-05-12T12:50:09.784Z"
   },
   {
    "duration": 165,
    "start_time": "2022-05-12T12:50:10.592Z"
   },
   {
    "duration": 3,
    "start_time": "2022-05-12T13:01:39.975Z"
   },
   {
    "duration": 2095,
    "start_time": "2022-05-12T13:01:40.732Z"
   },
   {
    "duration": 3,
    "start_time": "2022-05-12T13:01:58.370Z"
   },
   {
    "duration": 2241,
    "start_time": "2022-05-12T13:01:59.324Z"
   },
   {
    "duration": 3,
    "start_time": "2022-05-12T13:16:44.878Z"
   },
   {
    "duration": 1752,
    "start_time": "2022-05-12T13:16:46.209Z"
   },
   {
    "duration": 3,
    "start_time": "2022-05-12T13:16:54.488Z"
   },
   {
    "duration": 262,
    "start_time": "2022-05-12T13:16:55.045Z"
   },
   {
    "duration": 3,
    "start_time": "2022-05-12T13:17:12.310Z"
   },
   {
    "duration": 3835,
    "start_time": "2022-05-12T13:17:13.241Z"
   },
   {
    "duration": 3,
    "start_time": "2022-05-12T13:18:24.662Z"
   },
   {
    "duration": 4012,
    "start_time": "2022-05-12T13:18:25.191Z"
   },
   {
    "duration": 4,
    "start_time": "2022-05-12T13:18:50.854Z"
   },
   {
    "duration": 3925,
    "start_time": "2022-05-12T13:18:52.027Z"
   },
   {
    "duration": 3,
    "start_time": "2022-05-12T13:19:54.391Z"
   },
   {
    "duration": 2222,
    "start_time": "2022-05-12T13:19:57.661Z"
   },
   {
    "duration": 3,
    "start_time": "2022-05-12T13:21:35.206Z"
   },
   {
    "duration": 2,
    "start_time": "2022-05-12T13:22:02.171Z"
   },
   {
    "duration": 3,
    "start_time": "2022-05-12T13:22:04.587Z"
   },
   {
    "duration": 2295,
    "start_time": "2022-05-12T13:22:04.976Z"
   },
   {
    "duration": 2,
    "start_time": "2022-05-12T13:29:52.435Z"
   },
   {
    "duration": 170,
    "start_time": "2022-05-12T13:29:53.519Z"
   },
   {
    "duration": 3,
    "start_time": "2022-05-12T13:30:18.138Z"
   },
   {
    "duration": 164,
    "start_time": "2022-05-12T13:30:19.259Z"
   },
   {
    "duration": 3,
    "start_time": "2022-05-12T13:30:49.233Z"
   },
   {
    "duration": 2610,
    "start_time": "2022-05-12T13:30:49.855Z"
   },
   {
    "duration": 3,
    "start_time": "2022-05-12T13:31:07.481Z"
   },
   {
    "duration": 2460,
    "start_time": "2022-05-12T13:31:08.178Z"
   },
   {
    "duration": 3,
    "start_time": "2022-05-12T13:31:30.024Z"
   },
   {
    "duration": 2499,
    "start_time": "2022-05-12T13:31:30.583Z"
   },
   {
    "duration": 3,
    "start_time": "2022-05-12T13:32:58.997Z"
   },
   {
    "duration": 281,
    "start_time": "2022-05-12T13:32:59.904Z"
   },
   {
    "duration": 3,
    "start_time": "2022-05-12T13:33:06.072Z"
   },
   {
    "duration": 2529,
    "start_time": "2022-05-12T13:33:06.471Z"
   },
   {
    "duration": 3,
    "start_time": "2022-05-12T13:33:16.115Z"
   },
   {
    "duration": 2692,
    "start_time": "2022-05-12T13:33:16.479Z"
   },
   {
    "duration": 3,
    "start_time": "2022-05-12T13:48:51.886Z"
   },
   {
    "duration": 260,
    "start_time": "2022-05-12T13:48:52.651Z"
   },
   {
    "duration": 2,
    "start_time": "2022-05-12T13:49:20.495Z"
   },
   {
    "duration": 247,
    "start_time": "2022-05-12T13:49:21.281Z"
   },
   {
    "duration": 3,
    "start_time": "2022-05-12T13:49:27.884Z"
   },
   {
    "duration": 245,
    "start_time": "2022-05-12T13:49:28.670Z"
   },
   {
    "duration": 3,
    "start_time": "2022-05-12T13:49:32.691Z"
   },
   {
    "duration": 243,
    "start_time": "2022-05-12T13:49:33.403Z"
   },
   {
    "duration": 3,
    "start_time": "2022-05-12T13:49:40.608Z"
   },
   {
    "duration": 2525,
    "start_time": "2022-05-12T13:49:41.014Z"
   },
   {
    "duration": 3,
    "start_time": "2022-05-12T13:51:14.081Z"
   },
   {
    "duration": 3030,
    "start_time": "2022-05-12T13:51:14.501Z"
   },
   {
    "duration": 3,
    "start_time": "2022-05-12T13:53:35.848Z"
   },
   {
    "duration": 3553,
    "start_time": "2022-05-12T13:53:36.261Z"
   },
   {
    "duration": 3,
    "start_time": "2022-05-12T13:54:55.674Z"
   },
   {
    "duration": 4066,
    "start_time": "2022-05-12T13:54:56.651Z"
   },
   {
    "duration": 3,
    "start_time": "2022-05-12T13:55:47.123Z"
   },
   {
    "duration": 9,
    "start_time": "2022-05-12T13:56:02.809Z"
   },
   {
    "duration": 42,
    "start_time": "2022-05-12T13:56:03.245Z"
   },
   {
    "duration": 1609,
    "start_time": "2022-05-12T13:56:08.737Z"
   },
   {
    "duration": 21,
    "start_time": "2022-05-12T13:56:10.348Z"
   },
   {
    "duration": 4,
    "start_time": "2022-05-12T13:56:10.371Z"
   },
   {
    "duration": 3573,
    "start_time": "2022-05-12T13:56:11.332Z"
   },
   {
    "duration": 3,
    "start_time": "2022-05-12T13:57:44.016Z"
   },
   {
    "duration": 290,
    "start_time": "2022-05-12T13:57:44.581Z"
   },
   {
    "duration": 2,
    "start_time": "2022-05-12T13:57:51.369Z"
   },
   {
    "duration": 3677,
    "start_time": "2022-05-12T13:57:51.715Z"
   },
   {
    "duration": 3606,
    "start_time": "2022-05-12T14:02:09.085Z"
   },
   {
    "duration": 3574,
    "start_time": "2022-05-12T14:02:30.097Z"
   },
   {
    "duration": 4,
    "start_time": "2022-05-12T14:06:31.399Z"
   },
   {
    "duration": 4148,
    "start_time": "2022-05-12T14:06:31.994Z"
   },
   {
    "duration": 3,
    "start_time": "2022-05-12T14:21:50.687Z"
   },
   {
    "duration": 4410,
    "start_time": "2022-05-12T14:21:52.663Z"
   },
   {
    "duration": 6172,
    "start_time": "2022-05-12T14:22:04.083Z"
   },
   {
    "duration": 4786,
    "start_time": "2022-05-12T14:22:56.288Z"
   },
   {
    "duration": 76,
    "start_time": "2022-05-12T14:24:54.612Z"
   },
   {
    "duration": 124,
    "start_time": "2022-05-12T14:25:03.165Z"
   },
   {
    "duration": 26,
    "start_time": "2022-05-12T14:26:05.503Z"
   },
   {
    "duration": 20,
    "start_time": "2022-05-12T14:26:44.365Z"
   },
   {
    "duration": 118,
    "start_time": "2022-05-15T16:03:52.838Z"
   },
   {
    "duration": 136,
    "start_time": "2022-05-15T16:05:44.202Z"
   },
   {
    "duration": 96,
    "start_time": "2022-05-15T16:06:29.629Z"
   },
   {
    "duration": 103,
    "start_time": "2022-05-15T16:07:03.460Z"
   },
   {
    "duration": 99,
    "start_time": "2022-05-15T16:07:55.454Z"
   },
   {
    "duration": 64,
    "start_time": "2022-05-15T17:00:46.086Z"
   },
   {
    "duration": 11,
    "start_time": "2022-05-15T17:01:20.688Z"
   },
   {
    "duration": 3,
    "start_time": "2022-05-15T17:02:04.410Z"
   },
   {
    "duration": 13,
    "start_time": "2022-05-15T17:02:09.450Z"
   },
   {
    "duration": 6,
    "start_time": "2022-05-15T17:04:44.254Z"
   },
   {
    "duration": 7,
    "start_time": "2022-05-15T17:05:36.933Z"
   },
   {
    "duration": 526,
    "start_time": "2022-05-17T10:39:36.340Z"
   },
   {
    "duration": 10,
    "start_time": "2022-05-17T10:39:36.868Z"
   },
   {
    "duration": 3,
    "start_time": "2022-05-17T10:39:36.880Z"
   },
   {
    "duration": 4806,
    "start_time": "2022-05-17T10:39:36.885Z"
   },
   {
    "duration": 4319,
    "start_time": "2022-05-17T10:39:41.693Z"
   },
   {
    "duration": 667,
    "start_time": "2022-05-19T03:43:41.367Z"
   },
   {
    "duration": 26,
    "start_time": "2022-05-19T03:43:42.037Z"
   },
   {
    "duration": 4,
    "start_time": "2022-05-19T03:43:42.065Z"
   },
   {
    "duration": 6970,
    "start_time": "2022-05-19T03:43:42.071Z"
   },
   {
    "duration": 7029,
    "start_time": "2022-05-19T03:43:49.043Z"
   },
   {
    "duration": 3,
    "start_time": "2022-05-19T04:41:24.766Z"
   },
   {
    "duration": 3,
    "start_time": "2022-05-19T04:41:53.922Z"
   },
   {
    "duration": 834,
    "start_time": "2022-05-19T04:41:54.394Z"
   },
   {
    "duration": 103,
    "start_time": "2022-05-19T04:42:57.723Z"
   },
   {
    "duration": 32,
    "start_time": "2022-05-19T04:43:00.110Z"
   },
   {
    "duration": 636,
    "start_time": "2022-05-19T04:43:06.533Z"
   },
   {
    "duration": 4,
    "start_time": "2022-05-19T04:46:00.654Z"
   },
   {
    "duration": 6129,
    "start_time": "2022-05-19T04:46:02.654Z"
   },
   {
    "duration": 6,
    "start_time": "2022-05-19T04:46:26.513Z"
   },
   {
    "duration": 6470,
    "start_time": "2022-05-19T04:46:28.412Z"
   },
   {
    "duration": 130,
    "start_time": "2022-05-19T04:46:41.308Z"
   },
   {
    "duration": 8,
    "start_time": "2022-05-19T04:47:54.566Z"
   },
   {
    "duration": 7012,
    "start_time": "2022-05-19T04:47:57.223Z"
   },
   {
    "duration": 5,
    "start_time": "2022-05-19T04:48:54.199Z"
   },
   {
    "duration": 6866,
    "start_time": "2022-05-19T04:48:56.104Z"
   },
   {
    "duration": 3,
    "start_time": "2022-05-19T04:49:08.108Z"
   },
   {
    "duration": 6527,
    "start_time": "2022-05-19T04:49:10.383Z"
   },
   {
    "duration": 132,
    "start_time": "2022-05-19T04:49:32.921Z"
   },
   {
    "duration": 24,
    "start_time": "2022-05-19T04:52:36.475Z"
   },
   {
    "duration": 80,
    "start_time": "2022-05-19T04:52:39.421Z"
   },
   {
    "duration": 770,
    "start_time": "2022-05-19T04:52:47.052Z"
   },
   {
    "duration": 11,
    "start_time": "2022-05-19T04:52:47.825Z"
   },
   {
    "duration": 3,
    "start_time": "2022-05-19T04:52:54.454Z"
   },
   {
    "duration": 7632,
    "start_time": "2022-05-19T04:52:55.794Z"
   },
   {
    "duration": 4,
    "start_time": "2022-05-19T04:53:31.694Z"
   },
   {
    "duration": 6308,
    "start_time": "2022-05-19T04:53:32.606Z"
   },
   {
    "duration": 3,
    "start_time": "2022-05-19T04:53:58.895Z"
   },
   {
    "duration": 6659,
    "start_time": "2022-05-19T04:53:59.797Z"
   },
   {
    "duration": 104,
    "start_time": "2022-05-19T04:54:19.966Z"
   },
   {
    "duration": 3,
    "start_time": "2022-05-19T04:54:25.849Z"
   },
   {
    "duration": 6511,
    "start_time": "2022-05-19T04:54:26.613Z"
   },
   {
    "duration": 129,
    "start_time": "2022-05-19T04:54:39.053Z"
   },
   {
    "duration": 28,
    "start_time": "2022-05-21T10:14:00.217Z"
   },
   {
    "duration": 31,
    "start_time": "2022-05-21T10:24:01.180Z"
   },
   {
    "duration": 2,
    "start_time": "2022-05-21T10:25:57.341Z"
   },
   {
    "duration": 11,
    "start_time": "2022-05-21T10:25:57.345Z"
   },
   {
    "duration": 3,
    "start_time": "2022-05-21T10:25:57.364Z"
   },
   {
    "duration": 4886,
    "start_time": "2022-05-21T10:25:57.415Z"
   },
   {
    "duration": 4442,
    "start_time": "2022-05-21T10:26:02.303Z"
   },
   {
    "duration": 525,
    "start_time": "2022-05-22T04:31:03.363Z"
   },
   {
    "duration": 10,
    "start_time": "2022-05-22T04:31:03.890Z"
   },
   {
    "duration": 5,
    "start_time": "2022-05-22T04:31:03.901Z"
   },
   {
    "duration": 5232,
    "start_time": "2022-05-22T04:31:03.908Z"
   },
   {
    "duration": 3979,
    "start_time": "2022-05-22T04:31:09.142Z"
   },
   {
    "duration": 267,
    "start_time": "2022-05-22T04:41:50.664Z"
   },
   {
    "duration": 245,
    "start_time": "2022-05-22T04:42:11.231Z"
   },
   {
    "duration": 272,
    "start_time": "2022-05-22T04:42:32.477Z"
   },
   {
    "duration": 237,
    "start_time": "2022-05-22T04:42:37.629Z"
   },
   {
    "duration": 1105,
    "start_time": "2022-05-22T04:52:05.968Z"
   },
   {
    "duration": 1118,
    "start_time": "2022-05-22T04:53:33.866Z"
   },
   {
    "duration": 1370,
    "start_time": "2022-05-22T04:53:58.546Z"
   }
  ],
  "kernelspec": {
   "display_name": "Python 3 (ipykernel)",
   "language": "python",
   "name": "python3"
  },
  "language_info": {
   "codemirror_mode": {
    "name": "ipython",
    "version": 3
   },
   "file_extension": ".py",
   "mimetype": "text/x-python",
   "name": "python",
   "nbconvert_exporter": "python",
   "pygments_lexer": "ipython3",
   "version": "3.9.7"
  },
  "toc": {
   "base_numbering": 1,
   "nav_menu": {},
   "number_sections": true,
   "sideBar": true,
   "skip_h1_title": true,
   "title_cell": "Table of Contents",
   "title_sidebar": "Contents",
   "toc_cell": false,
   "toc_position": {},
   "toc_section_display": true,
   "toc_window_display": false
  }
 },
 "nbformat": 4,
 "nbformat_minor": 5
}
