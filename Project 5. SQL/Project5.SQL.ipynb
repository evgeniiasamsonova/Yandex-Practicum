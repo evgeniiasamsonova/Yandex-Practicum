{
 "cells": [
  {
   "cell_type": "markdown",
   "id": "ff215640",
   "metadata": {},
   "source": [
    "### Исследование данных об инвестиции венчурных фондов в компании-стартапы"
   ]
  },
  {
   "cell_type": "markdown",
   "id": "4a909e7c",
   "metadata": {},
   "source": [
    "1) Отобразите количество привлечённых средств для новостных компаний США. Используйте данные из таблицы company. Отсортируйте таблицу по убыванию значений в поле funding_total ."
   ]
  },
  {
   "cell_type": "code",
   "execution_count": null,
   "id": "f8b171bd",
   "metadata": {},
   "outputs": [],
   "source": [
    "SELECT funding_total\n",
    "FROM company\n",
    "WHERE category_code LIKE ('news') AND country_code LIKE ('USA')\n",
    "ORDER BY funding_total DESC"
   ]
  },
  {
   "cell_type": "markdown",
   "id": "51ec7744",
   "metadata": {},
   "source": [
    "2) Найдите общую сумму сделок по покупке одних компаний другими в долларах. Отберите сделки, которые осуществлялись только за наличные с 2011 по 2013 год включительно."
   ]
  },
  {
   "cell_type": "code",
   "execution_count": null,
   "id": "65500913",
   "metadata": {},
   "outputs": [],
   "source": [
    "SELECT SUM(price_amount)\n",
    "FROM acquisition\n",
    "WHERE term_code = 'cash' \n",
    "     AND EXTRACT (YEAR FROM CAST(acquired_at AS timestamp)) BETWEEN '2011' AND '2013'"
   ]
  },
  {
   "cell_type": "markdown",
   "id": "db4e12ca",
   "metadata": {},
   "source": [
    "3) Отобразите имя, фамилию и названия аккаунтов людей в твиттере, у которых названия аккаунтов начинаются на 'Silver'."
   ]
  },
  {
   "cell_type": "code",
   "execution_count": null,
   "id": "be4a07b9",
   "metadata": {},
   "outputs": [],
   "source": [
    "SELECT first_name,\n",
    "       last_name,\n",
    "       twitter_username\n",
    "FROM people\n",
    "WHERE twitter_username LIKE ('Silver%')"
   ]
  },
  {
   "cell_type": "markdown",
   "id": "3e264589",
   "metadata": {},
   "source": [
    "4) Для каждой страны отобразите общую сумму привлечённых инвестиций, которые получили компании, зарегистрированные в этой стране. Страну, в которой зарегистрирована компания, можно определить по коду страны. Отсортируйте данные по убыванию суммы."
   ]
  },
  {
   "cell_type": "code",
   "execution_count": null,
   "id": "613adcdd",
   "metadata": {},
   "outputs": [],
   "source": [
    "SELECT country_code,\n",
    "       SUM(funding_total)\n",
    "FROM company \n",
    "GROUP BY country_code\n",
    "ORDER BY SUM(funding_total) DESC"
   ]
  },
  {
   "cell_type": "markdown",
   "id": "6ded8f2a",
   "metadata": {},
   "source": [
    "5) Составьте таблицу, в которую войдёт дата проведения раунда, а также минимальное и максимальное значения суммы инвестиций, привлечённых в эту дату.\n",
    "Оставьте в итоговой таблице только те записи, в которых минимальное значение суммы инвестиций не равно нулю и не равно максимальному значению."
   ]
  },
  {
   "cell_type": "code",
   "execution_count": null,
   "id": "1d6a64de",
   "metadata": {},
   "outputs": [],
   "source": [
    "SELECT funded_at,\n",
    "        MIN(raised_amount) AS min,\n",
    "        MAX(raised_amount) AS max\n",
    "FROM funding_round\n",
    "GROUP BY funded_at\n",
    "HAVING MIN(raised_amount) <> 0 AND (MIN(raised_amount) <> MAX(raised_amount))"
   ]
  },
  {
   "cell_type": "markdown",
   "id": "ddb34a87",
   "metadata": {},
   "source": [
    "6) Создайте поле с категориями:\n",
    "Для фондов, которые инвестируют в 100 и более компаний, назначьте категорию high_activity.\n",
    "Для фондов, которые инвестируют в 20 и более компаний до 100, назначьте категорию middle_activity.\n",
    "Если количество инвестируемых компаний фонда не достигает 20, назначьте категорию low_activity.\n",
    "Отобразите все поля таблицы fund и новое поле с категориями."
   ]
  },
  {
   "cell_type": "code",
   "execution_count": null,
   "id": "091b784b",
   "metadata": {},
   "outputs": [],
   "source": [
    "SELECT *,\n",
    "        CASE \n",
    "          WHEN invested_companies >= 100 THEN 'high_activity'\n",
    "          WHEN invested_companies < 100 AND invested_companies >= 20 THEN 'middle_activity'\n",
    "          WHEN invested_companies < 20 THEN 'low_activity'\n",
    "        END\n",
    "FROM fund"
   ]
  },
  {
   "cell_type": "markdown",
   "id": "493d5a93",
   "metadata": {},
   "source": [
    "7) Для каждой из категорий, назначенных в предыдущем задании, посчитайте округлённое до ближайшего целого числа среднее количество инвестиционных раундов, в которых фонд принимал участие. Выведите на экран категории и среднее число инвестиционных раундов. Отсортируйте таблицу по возрастанию среднего."
   ]
  },
  {
   "cell_type": "code",
   "execution_count": null,
   "id": "41f93762",
   "metadata": {},
   "outputs": [],
   "source": [
    "SELECT CASE\n",
    "           WHEN invested_companies>=100 THEN 'high_activity'\n",
    "           WHEN invested_companies>=20 THEN 'middle_activity'\n",
    "           ELSE 'low_activity'\n",
    "       END AS activity,\n",
    "       ROUND(AVG(investment_rounds)) AS avg\n",
    "FROM fund\n",
    "GROUP BY activity\n",
    "ORDER BY avg "
   ]
  },
  {
   "cell_type": "markdown",
   "id": "76fc2972",
   "metadata": {},
   "source": [
    "8) Выгрузите таблицу с десятью самыми активными инвестирующими странами. Активность страны определите по среднему количеству компаний, в которые инвестируют фонды этой страны.\n",
    "Для каждой страны посчитайте минимальное, максимальное и среднее число компаний, в которые инвестировали фонды, основанные с 2010 по 2012 год включительно.\n",
    "Исключите из таблицы страны с фондами, у которых минимальное число компаний, получивших инвестиции, равно нулю. Отсортируйте таблицу по среднему количеству компаний от большего к меньшему."
   ]
  },
  {
   "cell_type": "code",
   "execution_count": null,
   "id": "ebe7fe41",
   "metadata": {},
   "outputs": [],
   "source": [
    "SELECT country_code,\n",
    "       MIN(invested_companies),\n",
    "       MAX(invested_companies),\n",
    "       AVG(invested_companies)\n",
    "FROM fund\n",
    "WHERE EXTRACT (YEAR FROM CAST(founded_at AS date)) BETWEEN 2010 AND 2012\n",
    "GROUP BY country_code\n",
    "HAVING MIN(invested_companies) <> 0\n",
    "ORDER BY AVG(invested_companies) DESC\n",
    "LIMIT 10"
   ]
  },
  {
   "cell_type": "markdown",
   "id": "f06a5462",
   "metadata": {},
   "source": [
    "9) Отобразите имя и фамилию всех сотрудников стартапов. Добавьте поле с названием учебного заведения, которое окончил сотрудник, если эта информация известна."
   ]
  },
  {
   "cell_type": "code",
   "execution_count": null,
   "id": "e44da887",
   "metadata": {},
   "outputs": [],
   "source": [
    "SELECT p.first_name,\n",
    "       p.last_name,\n",
    "       e.instituition\n",
    "FROM people AS p\n",
    "LEFT OUTER JOIN education AS e ON p.id = e.person_id"
   ]
  },
  {
   "cell_type": "markdown",
   "id": "6bc2b6dc",
   "metadata": {},
   "source": [
    "10) Для каждой компании найдите количество учебных заведений, которые окончили её сотрудники. Выведите название компании и число уникальных названий учебных заведений. Составьте топ-5 компаний по количеству университетов."
   ]
  },
  {
   "cell_type": "code",
   "execution_count": null,
   "id": "5288f7da",
   "metadata": {},
   "outputs": [],
   "source": [
    "SELECT DISTINCT c.name,\n",
    "       COUNT(DISTINCT e.instituition) AS inst\n",
    "FROM company AS c\n",
    "INNER JOIN people AS p ON c.id = p.company_id\n",
    "INNER JOIN education AS e ON p.id = e.person_id\n",
    "GROUP BY c.name\n",
    "ORDER BY inst DESC\n",
    "LIMIT 5"
   ]
  },
  {
   "cell_type": "markdown",
   "id": "e774649b",
   "metadata": {},
   "source": [
    "11) Составьте список с уникальными названиями закрытых компаний, для которых первый раунд финансирования оказался последним."
   ]
  },
  {
   "cell_type": "code",
   "execution_count": null,
   "id": "45dfe2c9",
   "metadata": {},
   "outputs": [],
   "source": [
    "SELECT DISTINCT c.name\n",
    "FROM company AS c\n",
    "JOIN funding_round AS fr ON c.id = fr.company_id\n",
    "WHERE c.status = 'closed' AND fr.is_last_round = 1 AND fr.is_first_round = 1"
   ]
  },
  {
   "cell_type": "markdown",
   "id": "d6ee73b4",
   "metadata": {},
   "source": [
    "12) Составьте список уникальных номеров сотрудников, которые работают в компаниях, отобранных в предыдущем задании."
   ]
  },
  {
   "cell_type": "code",
   "execution_count": null,
   "id": "0ff514e2",
   "metadata": {},
   "outputs": [],
   "source": [
    "SELECT DISTINCT p.id\n",
    "FROM people AS p\n",
    "WHERE p.company_id IN (SELECT DISTINCT c.id\n",
    "                      FROM company AS c\n",
    "                      JOIN funding_round AS fr ON c.id = fr.company_id\n",
    "                      WHERE c.status = 'closed' AND fr.is_last_round = 1 AND fr.is_first_round = 1)\n",
    "\n"
   ]
  },
  {
   "cell_type": "markdown",
   "id": "ae33dae6",
   "metadata": {},
   "source": [
    "13) Составьте таблицу, куда войдут уникальные пары с номерами сотрудников из предыдущей задачи и учебным заведением, которое окончил сотрудник."
   ]
  },
  {
   "cell_type": "code",
   "execution_count": null,
   "id": "1ceafbfa",
   "metadata": {},
   "outputs": [],
   "source": [
    "SELECT DISTINCT p.id,e.instituition\n",
    "FROM people AS p\n",
    "JOIN education AS e ON p.id = e.person_id\n",
    "WHERE p.company_id IN (SELECT DISTINCT c.id\n",
    "                      FROM company AS c\n",
    "                      JOIN funding_round AS fr ON c.id = fr.company_id\n",
    "                      WHERE c.status = 'closed' AND fr.is_last_round = 1 AND fr.is_first_round = 1)"
   ]
  },
  {
   "cell_type": "markdown",
   "id": "bc7c2689",
   "metadata": {},
   "source": [
    "14) Посчитайте количество учебных заведений для каждого сотрудника из предыдущего задания."
   ]
  },
  {
   "cell_type": "code",
   "execution_count": null,
   "id": "7de0c173",
   "metadata": {},
   "outputs": [],
   "source": [
    "SELECT DISTINCT p.id,\n",
    "       COUNT(e.instituition)\n",
    "FROM people AS p\n",
    "JOIN education AS e ON p.id = e.person_id\n",
    "WHERE p.company_id IN (SELECT DISTINCT c.id\n",
    "                      FROM company AS c\n",
    "                      JOIN funding_round AS fr ON c.id = fr.company_id\n",
    "                      WHERE c.status = 'closed' AND fr.is_last_round = 1 AND fr.is_first_round = 1)\n",
    "GROUP BY p.id"
   ]
  },
  {
   "cell_type": "markdown",
   "id": "1b5360f7",
   "metadata": {},
   "source": [
    "15) Дополните предыдущий запрос и выведите среднее число учебных заведений (всех, не только уникальных), которые окончили сотрудники разных компаний. Нужно вывести только одну запись, группировка здесь не понадобится."
   ]
  },
  {
   "cell_type": "code",
   "execution_count": null,
   "id": "9d3ecb08",
   "metadata": {},
   "outputs": [],
   "source": [
    "SELECT AVG(w.count_inst)\n",
    "FROM(SELECT COUNT(e.instituition) AS count_inst\n",
    "    FROM people AS p\n",
    "    JOIN education AS e ON p.id = e.person_id\n",
    "    WHERE p.company_id IN (SELECT DISTINCT c.id\n",
    "                          FROM company AS c\n",
    "                          JOIN funding_round AS fr ON c.id = fr.company_id\n",
    "                          WHERE c.status = 'closed' AND fr.is_last_round = 1 AND fr.is_first_round = 1)\n",
    "    GROUP BY p.id) AS w"
   ]
  },
  {
   "cell_type": "markdown",
   "id": "89487eb6",
   "metadata": {},
   "source": [
    "16) Напишите похожий запрос: выведите среднее число учебных заведений (всех, не только уникальных), которые окончили сотрудники компании Facebook."
   ]
  },
  {
   "cell_type": "code",
   "execution_count": null,
   "id": "be5b2bee",
   "metadata": {},
   "outputs": [],
   "source": [
    "SELECT AVG(w.count_inst)\n",
    "FROM(SELECT COUNT(e.instituition) AS count_inst\n",
    "    FROM people AS p\n",
    "    JOIN education AS e ON p.id = e.person_id\n",
    "    WHERE p.company_id IN (SELECT c.id\n",
    "                          FROM company AS c\n",
    "                          WHERE c.name = 'Facebook')\n",
    "    GROUP BY p.id) AS w"
   ]
  },
  {
   "cell_type": "markdown",
   "id": "f94d25bf",
   "metadata": {},
   "source": [
    "17) Составьте таблицу из полей:\n",
    "name_of_fund — название фонда;\n",
    "name_of_company — название компании;\n",
    "amount — сумма инвестиций, которую привлекла компания в раунде.\n",
    "В таблицу войдут данные о компаниях, в истории которых было больше шести важных этапов, а раунды финансирования проходили с 2012 по 2013 год включительно."
   ]
  },
  {
   "cell_type": "code",
   "execution_count": null,
   "id": "7e1e2a3c",
   "metadata": {},
   "outputs": [],
   "source": [
    "SELECT f.name AS name_of_fund,\n",
    "       c.name AS name_of_company,\n",
    "       fr.raised_amount AS amount\n",
    "FROM investment AS inv\n",
    "LEFT OUTER JOIN company AS c ON inv.company_id = c.id\n",
    "LEFT OUTER JOIN fund AS f ON inv.fund_id = f.id\n",
    "LEFT OUTER JOIN funding_round AS fr ON inv.funding_round_id = fr.id\n",
    "WHERE c.milestones > 6 AND EXTRACT(YEAR FROM fr.funded_at) IN (2012,2013)"
   ]
  },
  {
   "cell_type": "markdown",
   "id": "84c88614",
   "metadata": {},
   "source": [
    "18) Выгрузите таблицу, в которой будут такие поля:\n",
    "название компании-покупателя;\n",
    "сумма сделки;\n",
    "название компании, которую купили;\n",
    "сумма инвестиций, вложенных в купленную компанию;\n",
    "доля, которая отображает, во сколько раз сумма покупки превысила сумму вложенных в компанию инвестиций, округлённая до ближайшего целого числа.\n",
    "Не учитывайте те сделки, в которых сумма покупки равна нулю. Если сумма инвестиций в компанию равна нулю, исключите такую компанию из таблицы.\n",
    "Отсортируйте таблицу по сумме сделки от большей к меньшей, а затем по названию купленной компании в алфавитном порядке. Ограничьте таблицу первыми десятью записями."
   ]
  },
  {
   "cell_type": "code",
   "execution_count": null,
   "id": "aef62733",
   "metadata": {},
   "outputs": [],
   "source": [
    "SELECT c.name,\n",
    "       ac.price_amount,\n",
    "       co.name,\n",
    "       co.funding_total,\n",
    "       ROUND(ac.price_amount/co.funding_total) AS perc\n",
    "FROM acquisition AS ac\n",
    "LEFT OUTER JOIN company AS c ON ac.acquiring_company_id  = c.id \n",
    "LEFT OUTER JOIN company AS co ON ac.acquired_company_id = co.id\n",
    "WHERE co.funding_total <> 0 AND ac.price_amount <> 0\n",
    "ORDER BY ac.price_amount DESC, co.name\n",
    "LIMIT 10"
   ]
  },
  {
   "cell_type": "markdown",
   "id": "adae6be8",
   "metadata": {},
   "source": [
    "19) Выгрузите таблицу, в которую войдут названия компаний из категории social, получившие финансирование с 2010 по 2013 год включительно. Выведите также номер месяца, в котором проходил раунд финансирования."
   ]
  },
  {
   "cell_type": "code",
   "execution_count": null,
   "id": "f91d9b9f",
   "metadata": {},
   "outputs": [],
   "source": [
    "SELECT c.name,\n",
    "       EXTRACT(MONTH FROM fr.funded_at)\n",
    "FROM company AS c\n",
    "LEFT OUTER JOIN funding_round AS fr ON c.id = fr.company_id\n",
    "WHERE c.category_code = 'social' AND \n",
    "      EXTRACT(YEAR FROM fr.funded_at) BETWEEN 2010 AND 2013"
   ]
  },
  {
   "cell_type": "markdown",
   "id": "5b8a0b9a",
   "metadata": {},
   "source": [
    "20) Отберите данные по месяцам с 2010 по 2013 год, когда проходили инвестиционные раунды. Сгруппируйте данные по номеру месяца и получите таблицу, в которой будут поля:\n",
    "номер месяца, в котором проходили раунды;\n",
    "количество уникальных названий фондов из США, которые инвестировали в этом месяце;\n",
    "количество компаний, купленных за этот месяц;\n",
    "общая сумма сделок по покупкам в этом месяце."
   ]
  },
  {
   "cell_type": "code",
   "execution_count": null,
   "id": "288b8621",
   "metadata": {},
   "outputs": [],
   "source": [
    "WITH\n",
    "a AS (SELECT EXTRACT(MONTH FROM acquired_at) AS months,\n",
    "              COUNT(acquired_company_id) AS b_comp,\n",
    "               SUM(price_amount) AS sum_a\n",
    "        FROM acquisition AS a\n",
    "        WHERE EXTRACT(YEAR FROM acquired_at) BETWEEN 2010 AND 2013 \n",
    "        GROUP BY EXTRACT(MONTH FROM acquired_at)),\n",
    "        \n",
    "f AS (SELECT EXTRACT (MONTH FROM fr.funded_at) AS months,\n",
    "       COUNT(DISTINCT f.name) AS dist_funds       \n",
    "FROM funding_round AS fr\n",
    "LEFT OUTER JOIN investment AS i ON fr.id = i.funding_round_id\n",
    "LEFT OUTER JOIN fund AS f ON i.fund_id = f.id\n",
    "WHERE f.country_code = 'USA' AND EXTRACT (YEAR FROM fr.funded_at) BETWEEN 2010 AND 2013\n",
    "GROUP BY months)\n",
    "\n",
    "\n",
    "SELECT f.months,\n",
    "       f.dist_funds,\n",
    "       a.b_comp,\n",
    "       a.sum_a\n",
    "FROM f\n",
    "JOIN a ON f.months = a.months"
   ]
  },
  {
   "cell_type": "markdown",
   "id": "3031cde0",
   "metadata": {},
   "source": [
    "21) Составьте сводную таблицу и выведите среднюю сумму инвестиций для стран, в которых есть стартапы, зарегистрированные в 2011, 2012 и 2013 годах. Данные за каждый год должны быть в отдельном поле. Отсортируйте таблицу по среднему значению инвестиций за 2011 год от большего к меньшему."
   ]
  },
  {
   "cell_type": "code",
   "execution_count": null,
   "id": "d07e4b5e",
   "metadata": {},
   "outputs": [],
   "source": [
    "WITH\n",
    "c_11 AS (SELECT country_code AS country,\n",
    "               AVG(funding_total) AS avg_11\n",
    "        FROM company\n",
    "        WHERE EXTRACT(YEAR FROM founded_at) = 2011\n",
    "        GROUP BY country_code),\n",
    "c_12 AS (SELECT country_code AS country,\n",
    "               AVG(funding_total) AS avg_12\n",
    "        FROM company\n",
    "        WHERE EXTRACT(YEAR FROM founded_at) = 2012\n",
    "        GROUP BY country_code),\n",
    "c_13 AS (SELECT country_code AS country,\n",
    "               AVG(funding_total) AS avg_13\n",
    "        FROM company\n",
    "        WHERE EXTRACT(YEAR FROM founded_at) = 2013\n",
    "        GROUP BY country_code)\n",
    "        \n",
    "SELECT c_11.country,\n",
    "       c_11.avg_11,\n",
    "       c_12.avg_12,\n",
    "       c_13.avg_13\n",
    "FROM c_11\n",
    "JOIN c_12 ON c_11.country = c_12.country\n",
    "JOIN c_13 ON c_12.country = c_13.country\n",
    "ORDER BY c_11.avg_11 DESC"
   ]
  }
 ],
 "metadata": {
  "kernelspec": {
   "display_name": "Python 3 (ipykernel)",
   "language": "python",
   "name": "python3"
  },
  "language_info": {
   "codemirror_mode": {
    "name": "ipython",
    "version": 3
   },
   "file_extension": ".py",
   "mimetype": "text/x-python",
   "name": "python",
   "nbconvert_exporter": "python",
   "pygments_lexer": "ipython3",
   "version": "3.9.7"
  }
 },
 "nbformat": 4,
 "nbformat_minor": 5
}
